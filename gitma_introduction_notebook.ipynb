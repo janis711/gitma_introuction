{
 "cells": [
  {
   "cell_type": "markdown",
   "id": "ff4f4ff2",
   "metadata": {},
   "source": [
    "# Gitma Introduction Notebook \n",
    "\n",
    "In the following Notebook, you will learn how to import and process your CATMA Annotations with the Python package Gitma. \n",
    "\n"
   ]
  },
  {
   "cell_type": "markdown",
   "id": "7f6d17ca",
   "metadata": {},
   "source": [
    "## Table of Contents"
   ]
  },
  {
   "cell_type": "markdown",
   "id": "b73ad6b2",
   "metadata": {},
   "source": [
    "## Get a Catma access token\n",
    "\n",
    "To get access to your annotations on Catma you need to get a personal access Token. You can get this token on the CATMA Website after logging into your account. \n",
    "\n",
    "![Get access token](img/access_token_ui.png)"
   ]
  },
  {
   "cell_type": "markdown",
   "id": "9ae312cd",
   "metadata": {},
   "source": [
    "## Import the `Catma` class and load your CATMA profile"
   ]
  },
  {
   "cell_type": "code",
   "execution_count": 1,
   "id": "51123159",
   "metadata": {},
   "outputs": [
    {
     "ename": "ModuleNotFoundError",
     "evalue": "No module named 'gitma'",
     "output_type": "error",
     "traceback": [
      "\u001b[1;31m---------------------------------------------------------------------------\u001b[0m",
      "\u001b[1;31mModuleNotFoundError\u001b[0m                       Traceback (most recent call last)",
      "Cell \u001b[1;32mIn[1], line 1\u001b[0m\n\u001b[1;32m----> 1\u001b[0m \u001b[38;5;28;01mfrom\u001b[39;00m\u001b[38;5;250m \u001b[39m\u001b[38;5;21;01mgitma\u001b[39;00m\u001b[38;5;250m \u001b[39m\u001b[38;5;28;01mimport\u001b[39;00m Catma\n\u001b[0;32m      3\u001b[0m my_access_token \u001b[38;5;241m=\u001b[39m \u001b[38;5;124m'\u001b[39m\u001b[38;5;124minsert your access token here\u001b[39m\u001b[38;5;124m'\u001b[39m\n\u001b[0;32m      4\u001b[0m my_catma \u001b[38;5;241m=\u001b[39m Catma(gitlab_access_token\u001b[38;5;241m=\u001b[39mmy_access_token)\n",
      "\u001b[1;31mModuleNotFoundError\u001b[0m: No module named 'gitma'"
     ]
    }
   ],
   "source": [
    "\n",
    "from gitma import Catma\n",
    "\n",
    "my_access_token = 'insert your access token here'\n",
    "my_catma = Catma(gitlab_access_token=my_access_token)\n",
    "\n"
   ]
  },
  {
   "cell_type": "markdown",
   "id": "aae96679",
   "metadata": {},
   "source": [
    "First, let's look at your CATMA projects"
   ]
  },
  {
   "cell_type": "code",
   "execution_count": null,
   "id": "9259eb69",
   "metadata": {},
   "outputs": [],
   "source": [
    "my_catma.project_name_list"
   ]
  },
  {
   "cell_type": "markdown",
   "id": "8a430f74",
   "metadata": {},
   "source": [
    "\n",
    "## Clone and load a CATMA project\n",
    "\n",
    "The `Catma` class instance can be used to clone and load a CATMA project. The only neccessary argument is the project's name. Optionally, a different destination directory can be specified.\n"
   ]
  },
  {
   "cell_type": "code",
   "execution_count": 3,
   "id": "e6634110",
   "metadata": {},
   "outputs": [
    {
     "ename": "NameError",
     "evalue": "name 'my_catma' is not defined",
     "output_type": "error",
     "traceback": [
      "\u001b[1;31m---------------------------------------------------------------------------\u001b[0m",
      "\u001b[1;31mNameError\u001b[0m                                 Traceback (most recent call last)",
      "Cell \u001b[1;32mIn[3], line 3\u001b[0m\n\u001b[0;32m      1\u001b[0m my_project_name \u001b[38;5;241m=\u001b[39m \u001b[38;5;124m'\u001b[39m\u001b[38;5;124mGitMA_Demo_Project\u001b[39m\u001b[38;5;124m'\u001b[39m\n\u001b[1;32m----> 3\u001b[0m \u001b[43mmy_catma\u001b[49m\u001b[38;5;241m.\u001b[39mload_project_from_gitlab(\n\u001b[0;32m      4\u001b[0m     project_name\u001b[38;5;241m=\u001b[39mmy_project_name, \n\u001b[0;32m      5\u001b[0m     backup_directory\u001b[38;5;241m=\u001b[39m\u001b[38;5;124m'\u001b[39m\u001b[38;5;124mprojects/\u001b[39m\u001b[38;5;124m'\u001b[39m\n\u001b[0;32m      6\u001b[0m )\n",
      "\u001b[1;31mNameError\u001b[0m: name 'my_catma' is not defined"
     ]
    }
   ],
   "source": [
    "\n",
    "my_project_name = 'GitMA_Demo_Project'\n",
    "\n",
    "my_catma.load_project_from_gitlab(\n",
    "    project_name=my_project_name, \n",
    "    backup_directory='projects/'\n",
    ")"
   ]
  },
  {
   "cell_type": "markdown",
   "id": "6ee5c6da",
   "metadata": {},
   "source": [
    "If a project was previously loaded from CATMA's GitLab backend, and you try to do so again, the operation will fail because the project already exists in the destination directory. If you want to fetch a fresh copy (that is, clone the project again) you need to delete or rename the existing project directory. Once you got your project from GitLab you can load it as a CatmaProject as shown below."
   ]
  },
  {
   "cell_type": "code",
   "execution_count": null,
   "id": "0394fce7",
   "metadata": {},
   "outputs": [],
   "source": [
    "from gitma import CatmaProject\n",
    "\n",
    "my_project = CatmaProject(\n",
    "    projects_directory='catma_projects/',\n",
    "    project_name=my_project_name\n",
    ")"
   ]
  },
  {
   "cell_type": "markdown",
   "id": "9bd4f126",
   "metadata": {},
   "source": [
    "## General project stats\n",
    "\n",
    "The `stats()` method shows you some metadata about your annotation collections."
   ]
  },
  {
   "cell_type": "code",
   "execution_count": null,
   "id": "a9a34561",
   "metadata": {},
   "outputs": [],
   "source": [
    "my_project.stats()"
   ]
  },
  {
   "cell_type": "markdown",
   "id": "99353c66",
   "metadata": {},
   "source": [
    "\n",
    "## Annotation overview for the entire project\n",
    "\n",
    "Using the method `plot_annotations()` the annotations of each annotation collection and each document are plotted as a single subplot.\n",
    "By clicking on the legend entries you can deactivate specific annotation collections within the plot. By hovering over the scatter point every annotation can be explored.\n"
   ]
  },
  {
   "cell_type": "code",
   "execution_count": null,
   "id": "ccb2d706",
   "metadata": {},
   "outputs": [],
   "source": [
    "my_project.plot_annotations()"
   ]
  },
  {
   "cell_type": "markdown",
   "id": "b3fa0476",
   "metadata": {},
   "source": [
    "The plot can be customized by the `color_col` parameter, for example to visualize annotation properties..."
   ]
  },
  {
   "cell_type": "code",
   "execution_count": null,
   "id": "f0d10750",
   "metadata": {},
   "outputs": [],
   "source": [
    "my_project.plot_annotations(color_col='prop:representation_type')"
   ]
  },
  {
   "cell_type": "markdown",
   "id": "cebbb916",
   "metadata": {},
   "source": [
    ".. or the annotators..."
   ]
  },
  {
   "cell_type": "code",
   "execution_count": null,
   "id": "0db38f33",
   "metadata": {},
   "outputs": [],
   "source": [
    "my_project.plot_annotations(color_col='annotator')"
   ]
  },
  {
   "cell_type": "markdown",
   "id": "eeb04748",
   "metadata": {},
   "source": [
    "\n",
    "## Plot annotations for a specified annotation collection\n",
    "\n",
    "For this we need to specify one annotation collection. To get an overview over all annotation collections in our project we can use the `annotation_collections`attribute of the CatmaProject class that contains a list of all annotation collections. We inspect the list as schown below."
   ]
  },
  {
   "cell_type": "code",
   "execution_count": null,
   "id": "d5eea912",
   "metadata": {},
   "outputs": [],
   "source": [
    "for ac in my_project.annotation_collections:\n",
    "    print(ac.name)"
   ]
  },
  {
   "cell_type": "markdown",
   "id": "86151063",
   "metadata": {},
   "source": [
    "We can now specify the annotation collection that we want to inspect. "
   ]
  },
  {
   "cell_type": "code",
   "execution_count": null,
   "id": "f9e9d6db",
   "metadata": {},
   "outputs": [],
   "source": [
    "my_annotation_collection = 'name of your annotation collection'"
   ]
  },
  {
   "cell_type": "markdown",
   "id": "a217d4c0",
   "metadata": {},
   "source": [
    "\n",
    "### Scatter plot\n",
    "\n",
    "The annotations of single annotation collections can be plotted as an interactive Plotly scatter plot, too. The annotations can be explored with respect to:\n",
    "\n",
    "- their tag: y-axis\n",
    "- their text position: x-axis\n",
    "- the annotated text passages: mouse over\n",
    "- their properties: mouse over"
   ]
  },
  {
   "cell_type": "code",
   "execution_count": null,
   "id": "47bbcd95",
   "metadata": {},
   "outputs": [],
   "source": [
    "my_project.ac_dict[my_annotation_collection].plot_annotations()"
   ]
  },
  {
   "cell_type": "markdown",
   "id": "d9fc3f83",
   "metadata": {},
   "source": [
    "You can customize the plot by choosing annotation properties for the y_axis and the scatter color."
   ]
  },
  {
   "cell_type": "code",
   "execution_count": null,
   "id": "301ff9a7",
   "metadata": {},
   "outputs": [],
   "source": [
    "my_project.ac_dict[my_annotation_collection].plot_annotations(y_axis='prop:representation_type')"
   ]
  },
  {
   "cell_type": "code",
   "execution_count": null,
   "id": "7dc73ad2",
   "metadata": {},
   "outputs": [],
   "source": [
    "my_project.ac_dict[my_annotation_collection].plot_annotations(\n",
    "    y_axis='annotator',\n",
    "    color_prop='prop:representation_type'\n",
    ")"
   ]
  },
  {
   "cell_type": "markdown",
   "id": "666db007",
   "metadata": {},
   "source": [
    "### Cooccurrence network\n",
    "\n",
    "An alternative way to visualize annotation collections is using networks. They can be used to get an insight into the cooccurrence of annotations."
   ]
  },
  {
   "cell_type": "code",
   "execution_count": 1,
   "id": "a7490353",
   "metadata": {},
   "outputs": [
    {
     "ename": "NameError",
     "evalue": "name 'my_project' is not defined",
     "output_type": "error",
     "traceback": [
      "\u001b[1;31m---------------------------------------------------------------------------\u001b[0m",
      "\u001b[1;31mNameError\u001b[0m                                 Traceback (most recent call last)",
      "Cell \u001b[1;32mIn[1], line 1\u001b[0m\n\u001b[1;32m----> 1\u001b[0m \u001b[43mmy_project\u001b[49m\u001b[38;5;241m.\u001b[39mac_dict[my_annotation_collection]\u001b[38;5;241m.\u001b[39mcooccurrence_network()\n",
      "\u001b[1;31mNameError\u001b[0m: name 'my_project' is not defined"
     ]
    }
   ],
   "source": [
    "my_project.ac_dict[my_annotation_collection].cooccurrence_network()"
   ]
  },
  {
   "cell_type": "markdown",
   "id": "27bd443e",
   "metadata": {},
   "source": [
    "\n",
    "The networks can be customized by the following optional parameters:\n",
    "\n",
    "    character_distance: the text span within which two annotations are considered to be cooccurrent. The default is 100 characters.\n",
    "    included_tags: a list of tags that are included when drawing the graph\n",
    "    excluded_tags: a list of tags that are excluded when drawing the graph"
   ]
  },
  {
   "cell_type": "code",
   "execution_count": 2,
   "id": "e3e9582c",
   "metadata": {},
   "outputs": [
    {
     "ename": "NameError",
     "evalue": "name 'my_project' is not defined",
     "output_type": "error",
     "traceback": [
      "\u001b[1;31m---------------------------------------------------------------------------\u001b[0m",
      "\u001b[1;31mNameError\u001b[0m                                 Traceback (most recent call last)",
      "Cell \u001b[1;32mIn[2], line 2\u001b[0m\n\u001b[0;32m      1\u001b[0m \u001b[38;5;66;03m# TODO Evtl. an Demo Projekt anpassen \u001b[39;00m\n\u001b[1;32m----> 2\u001b[0m \u001b[43mmy_project\u001b[49m\u001b[38;5;241m.\u001b[39mac_dict[my_annotation_collection]\u001b[38;5;241m.\u001b[39mcooccurrence_network(\n\u001b[0;32m      3\u001b[0m     character_distance\u001b[38;5;241m=\u001b[39m\u001b[38;5;241m50\u001b[39m,\n\u001b[0;32m      4\u001b[0m     included_tags\u001b[38;5;241m=\u001b[39m[\u001b[38;5;124m'\u001b[39m\u001b[38;5;124mprocess_event\u001b[39m\u001b[38;5;124m'\u001b[39m, \u001b[38;5;124m'\u001b[39m\u001b[38;5;124mstative_event\u001b[39m\u001b[38;5;124m'\u001b[39m],\n\u001b[0;32m      5\u001b[0m     excluded_tags\u001b[38;5;241m=\u001b[39m\u001b[38;5;28;01mNone\u001b[39;00m\n\u001b[0;32m      6\u001b[0m )\n",
      "\u001b[1;31mNameError\u001b[0m: name 'my_project' is not defined"
     ]
    }
   ],
   "source": [
    "# TODO Evtl. an Demo Projekt anpassen \n",
    "my_project.ac_dict[my_annotation_collection].cooccurrence_network(\n",
    "    character_distance=50,\n",
    "    included_tags=['process_event', 'stative_event'],\n",
    "    excluded_tags=None\n",
    ")"
   ]
  },
  {
   "cell_type": "markdown",
   "id": "f4cd8bcc",
   "metadata": {},
   "source": [
    "### Annotation collection as Pandas DataFrame"
   ]
  },
  {
   "cell_type": "code",
   "execution_count": null,
   "id": "dfe69180",
   "metadata": {},
   "outputs": [],
   "source": [
    "my_project.ac_dict[my_annotation_collection].df"
   ]
  },
  {
   "cell_type": "markdown",
   "id": "77087a32",
   "metadata": {},
   "source": [
    "## Annotation stats by tags\n",
    "\n",
    "The `tag_stats()` method counts, for each tag:\n",
    "\n",
    "- the number of annotations\n",
    "- the full text span annotated by the tag\n",
    "- the average text span of the annotations\n",
    "- the most frequent tokens (here, it is possible to define a stopword list)"
   ]
  },
  {
   "cell_type": "code",
   "execution_count": null,
   "id": "40b9aa8d",
   "metadata": {},
   "outputs": [],
   "source": [
    "my_project.ac_dict[my_annotation_collection].tag_stats(ranking=5)"
   ]
  },
  {
   "cell_type": "markdown",
   "id": "bf7c289d",
   "metadata": {},
   "source": [
    "Additionally, you can use the method for properties (if you used any in the annotation process) and different annotators:"
   ]
  },
  {
   "cell_type": "code",
   "execution_count": null,
   "id": "30515364",
   "metadata": {},
   "outputs": [],
   "source": [
    "my_project.ac_dict[my_annotation_collection].tag_stats(tag_col='prop:representation_type', ranking=3, stopwords=['a', 'to', 'the'])"
   ]
  },
  {
   "cell_type": "markdown",
   "id": "5994c620",
   "metadata": {},
   "source": [
    "Above, every row shows the data for the different property values."
   ]
  },
  {
   "cell_type": "code",
   "execution_count": null,
   "id": "35ad606a",
   "metadata": {},
   "outputs": [],
   "source": [
    "my_project.ac_dict[my_annotation_collection].tag_stats(tag_col='annotator', ranking=3)"
   ]
  },
  {
   "cell_type": "markdown",
   "id": "f6f5c386",
   "metadata": {},
   "source": [
    "Above, every row shows the data for the different annotators."
   ]
  },
  {
   "cell_type": "markdown",
   "id": "148d3610",
   "metadata": {},
   "source": [
    "## Inter Annotator Agreement (IAA) with gitma"
   ]
  }
 ],
 "metadata": {
  "kernelspec": {
   "display_name": ".venv",
   "language": "python",
   "name": "python3"
  },
  "language_info": {
   "codemirror_mode": {
    "name": "ipython",
    "version": 3
   },
   "file_extension": ".py",
   "mimetype": "text/x-python",
   "name": "python",
   "nbconvert_exporter": "python",
   "pygments_lexer": "ipython3",
   "version": "3.9.13"
  }
 },
 "nbformat": 4,
 "nbformat_minor": 5
}
