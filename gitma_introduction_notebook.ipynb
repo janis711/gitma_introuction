{
 "cells": [
  {
   "cell_type": "markdown",
   "id": "ff4f4ff2",
   "metadata": {},
   "source": [
    "# Inter Annotator Agreement with GitMA\n",
    "\n",
    "In the following Notebook, you will learn how to import and process your CATMA Annotations with the Python package Gitma. The focus lays on calculating Inter Annotator Agreement (IAA) Scores. \n",
    "\n"
   ]
  },
  {
   "cell_type": "markdown",
   "id": "7f6d17ca",
   "metadata": {},
   "source": [
    "## Table of Contents\n",
    "\n",
    "1. [Get a Catma access token](#1-get-a-catma-access-token)\n",
    "2. [Import the `Catma` class and load your CATMA profile](#2-import-the-catma-class-and-load-your-catma-profile)\n",
    "3. [Clone and load a CATMA project](#3-clone-and-load-a-catma-project)\n",
    "4. [General project stats](#4-general-project-stats)\n",
    "5. [Annotation overview for the entire project](#5-annotation-overview-for-the-entire-project)\n",
    "6. [Plot annotations for a specified annotation collection](#6-annotation-stats-by-tags)\n",
    "   1. [Scatter plot](#61-scatter-plot)\n",
    "   2. [Cooccurrence network](#62-cooccurrence-network)\n",
    "   3. [Annotation collection as Pandas DataFrame](#63-annotation-collection-as-pandas-dataframe)\n",
    "7. [Annotation stats by tags](#7-annotation-stats-by-tags)\n",
    "8. [Inter Annotator Agreement (IAA) with gitma](#8-inter-annotator-agreement-iaa-with-gitma)\n",
    "   1. [`get_iaa`](#81-get_iaa)\n",
    "   2. [Filter by tags](#82-filter-by-tags)\n",
    "   3. [Compare annotation properties](#83-compare-annotation-properties)"
   ]
  },
  {
   "cell_type": "markdown",
   "id": "b73ad6b2",
   "metadata": {},
   "source": [
    "## 1. Get a Catma access token\n",
    "\n",
    "To get access to your annotations on Catma you need to get a personal access Token. You can get this token on the CATMA Website after logging into your account. \n",
    "\n",
    "![Get access token](img/access_token_ui.png)"
   ]
  },
  {
   "cell_type": "markdown",
   "id": "9ae312cd",
   "metadata": {},
   "source": [
    "## 2. Import the `Catma` class and load your CATMA profile"
   ]
  },
  {
   "cell_type": "code",
   "execution_count": null,
   "id": "51123159",
   "metadata": {},
   "outputs": [],
   "source": [
    "\n",
    "from gitma import Catma\n",
    "\n",
    "my_access_token = 'insert your access token here'\n",
    "my_catma = Catma(gitlab_access_token=my_access_token)"
   ]
  },
  {
   "cell_type": "markdown",
   "id": "aae96679",
   "metadata": {},
   "source": [
    "First, let's look at your CATMA projects. "
   ]
  },
  {
   "cell_type": "code",
   "execution_count": null,
   "id": "9259eb69",
   "metadata": {},
   "outputs": [],
   "source": [
    "my_catma.project_name_list"
   ]
  },
  {
   "cell_type": "markdown",
   "id": "8a430f74",
   "metadata": {},
   "source": [
    "\n",
    "## 3. Clone and load a CATMA project\n",
    "\n",
    "The `Catma` class instance can be used to clone and load a CATMA project. The only neccessary argument is the project's name. Optionally, a different destination directory can be specified.\n"
   ]
  },
  {
   "cell_type": "code",
   "execution_count": null,
   "id": "e6634110",
   "metadata": {},
   "outputs": [],
   "source": [
    "\n",
    "my_project_name = 'GitMA_Demo_Project' # Replace with the name of your project\n",
    "\n",
    "my_catma.load_project_from_gitlab(\n",
    "    project_name=my_project_name, \n",
    "    backup_directory='projects/'\n",
    ")"
   ]
  },
  {
   "cell_type": "markdown",
   "id": "6ee5c6da",
   "metadata": {},
   "source": [
    "If a project was previously loaded from CATMA's GitLab backend, and you try to do so again, the operation will fail because the project already exists in the destination directory. If you want to fetch a fresh copy (that is, clone the project again) you need to delete or rename the existing project directory. Once you got your project from GitLab you can load it as a CatmaProject as shown below."
   ]
  },
  {
   "cell_type": "code",
   "execution_count": 4,
   "id": "0394fce7",
   "metadata": {},
   "outputs": [
    {
     "name": "stdout",
     "output_type": "stream",
     "text": [
      "Loading tagsets ...\n",
      "\tFound 1 tagset(s).\n",
      "Loading documents ...\n",
      "\tFound 1 document(s).\n",
      "Loading annotation collections ...\n",
      "\tFound 3 annotation collection(s).\n",
      "\tAnnotation collection \"gold_annotation\" for document \"The Metamorphosis\"\n",
      "\t\tAnnotations: 0\n",
      "\tAnnotation collection \"ac_2\" for document \"The Metamorphosis\"\n",
      "\t\tAnnotations: 19\n",
      "\tAnnotation collection \"ac_1\" for document \"The Metamorphosis\"\n",
      "\t\tAnnotations: 20\n"
     ]
    }
   ],
   "source": [
    "from gitma import CatmaProject\n",
    "\n",
    "my_project = CatmaProject(\n",
    "    projects_directory='projects/',\n",
    "    project_name=my_project_name\n",
    ")"
   ]
  },
  {
   "cell_type": "markdown",
   "id": "9bd4f126",
   "metadata": {},
   "source": [
    "## 4. General project stats\n",
    "\n",
    "The `stats()` method shows you some metadata about your annotation collections."
   ]
  },
  {
   "cell_type": "code",
   "execution_count": 5,
   "id": "a9a34561",
   "metadata": {},
   "outputs": [
    {
     "data": {
      "text/html": [
       "<div>\n",
       "<style scoped>\n",
       "    .dataframe tbody tr th:only-of-type {\n",
       "        vertical-align: middle;\n",
       "    }\n",
       "\n",
       "    .dataframe tbody tr th {\n",
       "        vertical-align: top;\n",
       "    }\n",
       "\n",
       "    .dataframe thead th {\n",
       "        text-align: right;\n",
       "    }\n",
       "</style>\n",
       "<table border=\"1\" class=\"dataframe\">\n",
       "  <thead>\n",
       "    <tr style=\"text-align: right;\">\n",
       "      <th></th>\n",
       "      <th>annotation collection</th>\n",
       "      <th>document</th>\n",
       "      <th>annotations</th>\n",
       "      <th>annotator</th>\n",
       "      <th>tag</th>\n",
       "      <th>first_annotation</th>\n",
       "      <th>last_annotation</th>\n",
       "      <th>uuid</th>\n",
       "    </tr>\n",
       "  </thead>\n",
       "  <tbody>\n",
       "    <tr>\n",
       "      <th>0</th>\n",
       "      <td>ac_1</td>\n",
       "      <td>The Metamorphosis</td>\n",
       "      <td>20</td>\n",
       "      <td>{MVauth}</td>\n",
       "      <td>{change_of_state, non_event, process_event, st...</td>\n",
       "      <td>2023-08-02 15:43:57.086000+02:00</td>\n",
       "      <td>2023-08-02 15:55:27.298000+02:00</td>\n",
       "      <td>C_F8552E35-F9BD-4544-A8C5-BD9114C80E43</td>\n",
       "    </tr>\n",
       "    <tr>\n",
       "      <th>1</th>\n",
       "      <td>ac_2</td>\n",
       "      <td>The Metamorphosis</td>\n",
       "      <td>19</td>\n",
       "      <td>{mvgoogle}</td>\n",
       "      <td>{change_of_state, non_event, process_event, st...</td>\n",
       "      <td>2023-08-03 13:29:00.085000+02:00</td>\n",
       "      <td>2023-08-03 13:37:13.986000+02:00</td>\n",
       "      <td>C_D32D3AFF-98A6-4596-9B32-ABDC66445290</td>\n",
       "    </tr>\n",
       "  </tbody>\n",
       "</table>\n",
       "</div>"
      ],
      "text/plain": [
       "  annotation collection           document  annotations   annotator  \\\n",
       "0                  ac_1  The Metamorphosis           20    {MVauth}   \n",
       "1                  ac_2  The Metamorphosis           19  {mvgoogle}   \n",
       "\n",
       "                                                 tag  \\\n",
       "0  {change_of_state, non_event, process_event, st...   \n",
       "1  {change_of_state, non_event, process_event, st...   \n",
       "\n",
       "                  first_annotation                  last_annotation  \\\n",
       "0 2023-08-02 15:43:57.086000+02:00 2023-08-02 15:55:27.298000+02:00   \n",
       "1 2023-08-03 13:29:00.085000+02:00 2023-08-03 13:37:13.986000+02:00   \n",
       "\n",
       "                                     uuid  \n",
       "0  C_F8552E35-F9BD-4544-A8C5-BD9114C80E43  \n",
       "1  C_D32D3AFF-98A6-4596-9B32-ABDC66445290  "
      ]
     },
     "execution_count": 5,
     "metadata": {},
     "output_type": "execute_result"
    }
   ],
   "source": [
    "my_project.stats()"
   ]
  },
  {
   "cell_type": "markdown",
   "id": "99353c66",
   "metadata": {},
   "source": [
    "\n",
    "## 5. A few examples on how to look at your annotations\n",
    "\n",
    "Using the method `plot_annotations()` the annotations of each annotation collection and each document are plotted as a single subplot.\n",
    "By clicking on the legend entries you can deactivate specific annotation collections within the plot. By hovering over the scatter point every annotation can be explored.\n"
   ]
  },
  {
   "cell_type": "markdown",
   "id": "c8f253c4",
   "metadata": {},
   "source": [
    "### 5.1 Plot all annotations\n",
    "\n",
    "Using the method `plot_annotations()` the annotations of each annotation collection and each document are plotted as a single subplot.\n",
    "By clicking on the legend entries you can deactivate specific annotation collections within the plot. By hovering over the scatter point every annotation can be explored."
   ]
  },
  {
   "cell_type": "code",
   "execution_count": 6,
   "id": "ccb2d706",
   "metadata": {},
   "outputs": [
    {
     "data": {
      "application/vnd.plotly.v1+json": {
       "config": {
        "plotlyServerURL": "https://plot.ly"
       },
       "data": [
        {
         "customdata": [
          [
           "<I><br>One morning, as Gregor Samsa was waking up from anxious<br>dreams<br></I>"
          ],
          [
           "<I><br>he discovered that in bed he had been changed into<br>a monstrous verminous bug<br></I>"
          ],
          [
           "<I><br>He lay on his armour-hard back<br></I>"
          ],
          [
           "<I><br>and saw his brown, arched abdomen divided up into rigid<br>bow-like sections<br></I>"
          ],
          [
           "<I><br>as he lifted his head up a little<br></I>"
          ],
          [
           "<I><br>From this height the blanket, just about ready to slide<br>off completely, could hardly stay in place<br></I>"
          ],
          [
           "<I><br>His numerous legs, pitifully thin in comparison to the rest<br>of his circumference, flickered helplessly before his eyes<br></I>"
          ],
          [
           "<I><br>What's happened to me<br></I>"
          ],
          [
           "<I><br>he thought<br></I>"
          ],
          [
           "<I><br>It was no dream<br></I>"
          ],
          [
           "<I><br>His room, a proper room for a human being, only<br>somewhat too small, lay quietly between the four well-known walls<br></I>"
          ],
          [
           "<I><br>Above the table, on which an unpacked collection of sample<br>cloth goods was spread out hung the picture<br></I>"
          ],
          [
           "<I><br>Samsa was a travelling salesman<br></I>"
          ],
          [
           "<I><br>which he had cut out of an illustrated magazine a<br>little while ago<br></I>"
          ],
          [
           "<I><br>and set in a pretty gilt frame<br></I>"
          ],
          [
           "<I><br>It was a picture of a woman with a fur<br>hat and a fur boa<br></I>"
          ],
          [
           "<I><br>She sat erect there<br></I>"
          ],
          [
           "<I><br>lifting up in the direction of the viewer a solid<br>fur muff<br></I>"
          ],
          [
           "<I><br>into which her entire forearm had disappeared<br></I>"
          ]
         ],
         "hovertemplate": "annotation collection=ac_2<br>document=The Metamorphosis<br>start_point=%{x}<br>tag=%{y}<br>ANNOTATION=%{customdata[0]}<extra></extra>",
         "legendgroup": "ac_2",
         "marker": {
          "color": "#093658",
          "symbol": "circle"
         },
         "mode": "markers",
         "name": "ac_2",
         "orientation": "h",
         "showlegend": true,
         "type": "scatter",
         "x": {
          "bdata": "AABAAI4ArQC2ABwBgAH6ARICHgIvAqIC+AIpA2wDjAPGA9sDFgQ=",
          "dtype": "i2"
         },
         "xaxis": "x",
         "y": [
          "process_event",
          "change_of_state",
          "stative_event",
          "process_event",
          "process_event",
          "stative_event",
          "stative_event",
          "non_event",
          "process_event",
          "non_event",
          "stative_event",
          "stative_event",
          "stative_event",
          "process_event",
          "process_event",
          "stative_event",
          "stative_event",
          "stative_event",
          "stative_event"
         ],
         "yaxis": "y"
        },
        {
         "customdata": [
          [
           "<I><br>One morning, as Gregor Samsa was waking up from anxious<br>dreams<br></I>"
          ],
          [
           "<I><br>he discovered that in bed he had been changed into<br>a monstrous verminous bug<br></I>"
          ],
          [
           "<I><br>He lay on his armour-hard back<br></I>"
          ],
          [
           "<I><br>and saw his brown, arched abdomen divided up into rigid<br>bow-like sections<br></I>"
          ],
          [
           "<I><br>as he lifted his head up a little<br></I>"
          ],
          [
           "<I><br>From this height the blanket, just about ready to slide<br>off completely, could hardly stay in place<br></I>"
          ],
          [
           "<I><br>His numerous legs, pitifully thin in comparison to the rest<br>of his circumference, flickered helplessly before his eyes<br></I>"
          ],
          [
           "<I><br>What's happened to me<br></I>"
          ],
          [
           "<I><br>he thought<br></I>"
          ],
          [
           "<I><br>It was no dream<br></I>"
          ],
          [
           "<I><br>His room, a proper room for a human being, only<br>somewhat too small, lay quietly between the four well-known walls<br></I>"
          ],
          [
           "<I><br>Above the table hung the picture<br></I>"
          ],
          [
           "<I><br>on which an unpacked collection of sample cloth goods was<br>spread out<br></I>"
          ],
          [
           "<I><br>Samsa was a travelling salesman<br></I>"
          ],
          [
           "<I><br>which he had cut out of an illustrated magazine a<br>little while ago<br></I>"
          ],
          [
           "<I><br>and set in a pretty gilt frame<br></I>"
          ],
          [
           "<I><br>It was a picture of a woman with a fur<br>hat and a fur boa<br></I>"
          ],
          [
           "<I><br>She sat erect there<br></I>"
          ],
          [
           "<I><br>lifting up in the direction of the viewer a solid<br>fur muff<br></I>"
          ],
          [
           "<I><br>into which her entire forearm had disappeared<br></I>"
          ]
         ],
         "hovertemplate": "annotation collection=ac_1<br>document=The Metamorphosis<br>start_point=%{x}<br>tag=%{y}<br>ANNOTATION=%{customdata[0]}<extra></extra>",
         "legendgroup": "ac_1",
         "marker": {
          "color": "#A64B21",
          "symbol": "circle"
         },
         "mode": "markers",
         "name": "ac_1",
         "orientation": "h",
         "showlegend": true,
         "type": "scatter",
         "x": {
          "bdata": "AABAAI4ArQC2ABwBgAH6ARICHgIvAqICswL4AikDbAOMA8YD2wMWBA==",
          "dtype": "i2"
         },
         "xaxis": "x",
         "y": [
          "change_of_state",
          "process_event",
          "stative_event",
          "process_event",
          "process_event",
          "stative_event",
          "process_event",
          "non_event",
          "process_event",
          "non_event",
          "stative_event",
          "stative_event",
          "stative_event",
          "stative_event",
          "process_event",
          "process_event",
          "stative_event",
          "stative_event",
          "stative_event",
          "stative_event"
         ],
         "yaxis": "y"
        }
       ],
       "layout": {
        "annotations": [
         {
          "font": {},
          "showarrow": false,
          "text": "document=The Metamorphosis",
          "textangle": 90,
          "x": 0.98,
          "xanchor": "left",
          "xref": "paper",
          "y": 0.5,
          "yanchor": "middle",
          "yref": "paper"
         }
        ],
        "height": 360,
        "legend": {
         "font": {
          "color": "#5A98A1",
          "size": 10
         },
         "orientation": "h",
         "title": {
          "text": "annotation collection"
         },
         "tracegroupgap": 0,
         "x": 1,
         "xanchor": "right",
         "y": 1.02,
         "yanchor": "bottom"
        },
        "margin": {
         "t": 60
        },
        "template": {
         "data": {
          "bar": [
           {
            "error_x": {
             "color": "#2a3f5f"
            },
            "error_y": {
             "color": "#2a3f5f"
            },
            "marker": {
             "line": {
              "color": "white",
              "width": 0.5
             },
             "pattern": {
              "fillmode": "overlay",
              "size": 10,
              "solidity": 0.2
             }
            },
            "type": "bar"
           }
          ],
          "barpolar": [
           {
            "marker": {
             "line": {
              "color": "white",
              "width": 0.5
             },
             "pattern": {
              "fillmode": "overlay",
              "size": 10,
              "solidity": 0.2
             }
            },
            "type": "barpolar"
           }
          ],
          "carpet": [
           {
            "aaxis": {
             "endlinecolor": "#2a3f5f",
             "gridcolor": "#C8D4E3",
             "linecolor": "#C8D4E3",
             "minorgridcolor": "#C8D4E3",
             "startlinecolor": "#2a3f5f"
            },
            "baxis": {
             "endlinecolor": "#2a3f5f",
             "gridcolor": "#C8D4E3",
             "linecolor": "#C8D4E3",
             "minorgridcolor": "#C8D4E3",
             "startlinecolor": "#2a3f5f"
            },
            "type": "carpet"
           }
          ],
          "choropleth": [
           {
            "colorbar": {
             "outlinewidth": 0,
             "ticks": ""
            },
            "type": "choropleth"
           }
          ],
          "contour": [
           {
            "colorbar": {
             "outlinewidth": 0,
             "ticks": ""
            },
            "colorscale": [
             [
              0,
              "#0d0887"
             ],
             [
              0.1111111111111111,
              "#46039f"
             ],
             [
              0.2222222222222222,
              "#7201a8"
             ],
             [
              0.3333333333333333,
              "#9c179e"
             ],
             [
              0.4444444444444444,
              "#bd3786"
             ],
             [
              0.5555555555555556,
              "#d8576b"
             ],
             [
              0.6666666666666666,
              "#ed7953"
             ],
             [
              0.7777777777777778,
              "#fb9f3a"
             ],
             [
              0.8888888888888888,
              "#fdca26"
             ],
             [
              1,
              "#f0f921"
             ]
            ],
            "type": "contour"
           }
          ],
          "contourcarpet": [
           {
            "colorbar": {
             "outlinewidth": 0,
             "ticks": ""
            },
            "type": "contourcarpet"
           }
          ],
          "heatmap": [
           {
            "colorbar": {
             "outlinewidth": 0,
             "ticks": ""
            },
            "colorscale": [
             [
              0,
              "#0d0887"
             ],
             [
              0.1111111111111111,
              "#46039f"
             ],
             [
              0.2222222222222222,
              "#7201a8"
             ],
             [
              0.3333333333333333,
              "#9c179e"
             ],
             [
              0.4444444444444444,
              "#bd3786"
             ],
             [
              0.5555555555555556,
              "#d8576b"
             ],
             [
              0.6666666666666666,
              "#ed7953"
             ],
             [
              0.7777777777777778,
              "#fb9f3a"
             ],
             [
              0.8888888888888888,
              "#fdca26"
             ],
             [
              1,
              "#f0f921"
             ]
            ],
            "type": "heatmap"
           }
          ],
          "histogram": [
           {
            "marker": {
             "pattern": {
              "fillmode": "overlay",
              "size": 10,
              "solidity": 0.2
             }
            },
            "type": "histogram"
           }
          ],
          "histogram2d": [
           {
            "colorbar": {
             "outlinewidth": 0,
             "ticks": ""
            },
            "colorscale": [
             [
              0,
              "#0d0887"
             ],
             [
              0.1111111111111111,
              "#46039f"
             ],
             [
              0.2222222222222222,
              "#7201a8"
             ],
             [
              0.3333333333333333,
              "#9c179e"
             ],
             [
              0.4444444444444444,
              "#bd3786"
             ],
             [
              0.5555555555555556,
              "#d8576b"
             ],
             [
              0.6666666666666666,
              "#ed7953"
             ],
             [
              0.7777777777777778,
              "#fb9f3a"
             ],
             [
              0.8888888888888888,
              "#fdca26"
             ],
             [
              1,
              "#f0f921"
             ]
            ],
            "type": "histogram2d"
           }
          ],
          "histogram2dcontour": [
           {
            "colorbar": {
             "outlinewidth": 0,
             "ticks": ""
            },
            "colorscale": [
             [
              0,
              "#0d0887"
             ],
             [
              0.1111111111111111,
              "#46039f"
             ],
             [
              0.2222222222222222,
              "#7201a8"
             ],
             [
              0.3333333333333333,
              "#9c179e"
             ],
             [
              0.4444444444444444,
              "#bd3786"
             ],
             [
              0.5555555555555556,
              "#d8576b"
             ],
             [
              0.6666666666666666,
              "#ed7953"
             ],
             [
              0.7777777777777778,
              "#fb9f3a"
             ],
             [
              0.8888888888888888,
              "#fdca26"
             ],
             [
              1,
              "#f0f921"
             ]
            ],
            "type": "histogram2dcontour"
           }
          ],
          "mesh3d": [
           {
            "colorbar": {
             "outlinewidth": 0,
             "ticks": ""
            },
            "type": "mesh3d"
           }
          ],
          "parcoords": [
           {
            "line": {
             "colorbar": {
              "outlinewidth": 0,
              "ticks": ""
             }
            },
            "type": "parcoords"
           }
          ],
          "pie": [
           {
            "automargin": true,
            "type": "pie"
           }
          ],
          "scatter": [
           {
            "fillpattern": {
             "fillmode": "overlay",
             "size": 10,
             "solidity": 0.2
            },
            "type": "scatter"
           }
          ],
          "scatter3d": [
           {
            "line": {
             "colorbar": {
              "outlinewidth": 0,
              "ticks": ""
             }
            },
            "marker": {
             "colorbar": {
              "outlinewidth": 0,
              "ticks": ""
             }
            },
            "type": "scatter3d"
           }
          ],
          "scattercarpet": [
           {
            "marker": {
             "colorbar": {
              "outlinewidth": 0,
              "ticks": ""
             }
            },
            "type": "scattercarpet"
           }
          ],
          "scattergeo": [
           {
            "marker": {
             "colorbar": {
              "outlinewidth": 0,
              "ticks": ""
             }
            },
            "type": "scattergeo"
           }
          ],
          "scattergl": [
           {
            "marker": {
             "colorbar": {
              "outlinewidth": 0,
              "ticks": ""
             }
            },
            "type": "scattergl"
           }
          ],
          "scattermap": [
           {
            "marker": {
             "colorbar": {
              "outlinewidth": 0,
              "ticks": ""
             }
            },
            "type": "scattermap"
           }
          ],
          "scattermapbox": [
           {
            "marker": {
             "colorbar": {
              "outlinewidth": 0,
              "ticks": ""
             }
            },
            "type": "scattermapbox"
           }
          ],
          "scatterpolar": [
           {
            "marker": {
             "colorbar": {
              "outlinewidth": 0,
              "ticks": ""
             }
            },
            "type": "scatterpolar"
           }
          ],
          "scatterpolargl": [
           {
            "marker": {
             "colorbar": {
              "outlinewidth": 0,
              "ticks": ""
             }
            },
            "type": "scatterpolargl"
           }
          ],
          "scatterternary": [
           {
            "marker": {
             "colorbar": {
              "outlinewidth": 0,
              "ticks": ""
             }
            },
            "type": "scatterternary"
           }
          ],
          "surface": [
           {
            "colorbar": {
             "outlinewidth": 0,
             "ticks": ""
            },
            "colorscale": [
             [
              0,
              "#0d0887"
             ],
             [
              0.1111111111111111,
              "#46039f"
             ],
             [
              0.2222222222222222,
              "#7201a8"
             ],
             [
              0.3333333333333333,
              "#9c179e"
             ],
             [
              0.4444444444444444,
              "#bd3786"
             ],
             [
              0.5555555555555556,
              "#d8576b"
             ],
             [
              0.6666666666666666,
              "#ed7953"
             ],
             [
              0.7777777777777778,
              "#fb9f3a"
             ],
             [
              0.8888888888888888,
              "#fdca26"
             ],
             [
              1,
              "#f0f921"
             ]
            ],
            "type": "surface"
           }
          ],
          "table": [
           {
            "cells": {
             "fill": {
              "color": "#EBF0F8"
             },
             "line": {
              "color": "white"
             }
            },
            "header": {
             "fill": {
              "color": "#C8D4E3"
             },
             "line": {
              "color": "white"
             }
            },
            "type": "table"
           }
          ]
         },
         "layout": {
          "annotationdefaults": {
           "arrowcolor": "#2a3f5f",
           "arrowhead": 0,
           "arrowwidth": 1
          },
          "autotypenumbers": "strict",
          "coloraxis": {
           "colorbar": {
            "outlinewidth": 0,
            "ticks": ""
           }
          },
          "colorscale": {
           "diverging": [
            [
             0,
             "#8e0152"
            ],
            [
             0.1,
             "#c51b7d"
            ],
            [
             0.2,
             "#de77ae"
            ],
            [
             0.3,
             "#f1b6da"
            ],
            [
             0.4,
             "#fde0ef"
            ],
            [
             0.5,
             "#f7f7f7"
            ],
            [
             0.6,
             "#e6f5d0"
            ],
            [
             0.7,
             "#b8e186"
            ],
            [
             0.8,
             "#7fbc41"
            ],
            [
             0.9,
             "#4d9221"
            ],
            [
             1,
             "#276419"
            ]
           ],
           "sequential": [
            [
             0,
             "#0d0887"
            ],
            [
             0.1111111111111111,
             "#46039f"
            ],
            [
             0.2222222222222222,
             "#7201a8"
            ],
            [
             0.3333333333333333,
             "#9c179e"
            ],
            [
             0.4444444444444444,
             "#bd3786"
            ],
            [
             0.5555555555555556,
             "#d8576b"
            ],
            [
             0.6666666666666666,
             "#ed7953"
            ],
            [
             0.7777777777777778,
             "#fb9f3a"
            ],
            [
             0.8888888888888888,
             "#fdca26"
            ],
            [
             1,
             "#f0f921"
            ]
           ],
           "sequentialminus": [
            [
             0,
             "#0d0887"
            ],
            [
             0.1111111111111111,
             "#46039f"
            ],
            [
             0.2222222222222222,
             "#7201a8"
            ],
            [
             0.3333333333333333,
             "#9c179e"
            ],
            [
             0.4444444444444444,
             "#bd3786"
            ],
            [
             0.5555555555555556,
             "#d8576b"
            ],
            [
             0.6666666666666666,
             "#ed7953"
            ],
            [
             0.7777777777777778,
             "#fb9f3a"
            ],
            [
             0.8888888888888888,
             "#fdca26"
            ],
            [
             1,
             "#f0f921"
            ]
           ]
          },
          "colorway": [
           "#636efa",
           "#EF553B",
           "#00cc96",
           "#ab63fa",
           "#FFA15A",
           "#19d3f3",
           "#FF6692",
           "#B6E880",
           "#FF97FF",
           "#FECB52"
          ],
          "font": {
           "color": "#2a3f5f"
          },
          "geo": {
           "bgcolor": "white",
           "lakecolor": "white",
           "landcolor": "white",
           "showlakes": true,
           "showland": true,
           "subunitcolor": "#C8D4E3"
          },
          "hoverlabel": {
           "align": "left"
          },
          "hovermode": "closest",
          "mapbox": {
           "style": "light"
          },
          "paper_bgcolor": "white",
          "plot_bgcolor": "white",
          "polar": {
           "angularaxis": {
            "gridcolor": "#EBF0F8",
            "linecolor": "#EBF0F8",
            "ticks": ""
           },
           "bgcolor": "white",
           "radialaxis": {
            "gridcolor": "#EBF0F8",
            "linecolor": "#EBF0F8",
            "ticks": ""
           }
          },
          "scene": {
           "xaxis": {
            "backgroundcolor": "white",
            "gridcolor": "#DFE8F3",
            "gridwidth": 2,
            "linecolor": "#EBF0F8",
            "showbackground": true,
            "ticks": "",
            "zerolinecolor": "#EBF0F8"
           },
           "yaxis": {
            "backgroundcolor": "white",
            "gridcolor": "#DFE8F3",
            "gridwidth": 2,
            "linecolor": "#EBF0F8",
            "showbackground": true,
            "ticks": "",
            "zerolinecolor": "#EBF0F8"
           },
           "zaxis": {
            "backgroundcolor": "white",
            "gridcolor": "#DFE8F3",
            "gridwidth": 2,
            "linecolor": "#EBF0F8",
            "showbackground": true,
            "ticks": "",
            "zerolinecolor": "#EBF0F8"
           }
          },
          "shapedefaults": {
           "line": {
            "color": "#2a3f5f"
           }
          },
          "ternary": {
           "aaxis": {
            "gridcolor": "#DFE8F3",
            "linecolor": "#A2B1C6",
            "ticks": ""
           },
           "baxis": {
            "gridcolor": "#DFE8F3",
            "linecolor": "#A2B1C6",
            "ticks": ""
           },
           "bgcolor": "white",
           "caxis": {
            "gridcolor": "#DFE8F3",
            "linecolor": "#A2B1C6",
            "ticks": ""
           }
          },
          "title": {
           "x": 0.05
          },
          "xaxis": {
           "automargin": true,
           "gridcolor": "#EBF0F8",
           "linecolor": "#EBF0F8",
           "ticks": "",
           "title": {
            "standoff": 15
           },
           "zerolinecolor": "#EBF0F8",
           "zerolinewidth": 2
          },
          "yaxis": {
           "automargin": true,
           "gridcolor": "#EBF0F8",
           "linecolor": "#EBF0F8",
           "ticks": "",
           "title": {
            "standoff": 15
           },
           "zerolinecolor": "#EBF0F8",
           "zerolinewidth": 2
          }
         }
        },
        "xaxis": {
         "anchor": "y",
         "domain": [
          0,
          0.98
         ],
         "showticklabels": true,
         "title": {
          "text": "start_point"
         }
        },
        "yaxis": {
         "anchor": "x",
         "domain": [
          0,
          1
         ],
         "title": {
          "text": "tag"
         }
        }
       }
      }
     },
     "metadata": {},
     "output_type": "display_data"
    }
   ],
   "source": [
    "my_project.plot_annotations()"
   ]
  },
  {
   "cell_type": "markdown",
   "id": "eeb04748",
   "metadata": {},
   "source": [
    "\n",
    "### 5.2 Plot annotations for a specified annotation collection\n",
    "\n",
    "For this we need to specify one annotation collection. To get an overview over all annotation collections in our project we can use the `annotation_collections`attribute of the CatmaProject class that contains a list of all annotation collections. We inspect the list as schown below."
   ]
  },
  {
   "cell_type": "code",
   "execution_count": null,
   "id": "d5eea912",
   "metadata": {},
   "outputs": [],
   "source": [
    "for ac in my_project.annotation_collections:\n",
    "    print(ac.name)"
   ]
  },
  {
   "cell_type": "markdown",
   "id": "86151063",
   "metadata": {},
   "source": [
    "We can now specify the annotation collection that we want to inspect... "
   ]
  },
  {
   "cell_type": "code",
   "execution_count": 9,
   "id": "f9e9d6db",
   "metadata": {},
   "outputs": [],
   "source": [
    "my_annotation_collection = 'ac_2'"
   ]
  },
  {
   "cell_type": "markdown",
   "id": "e3d157ba",
   "metadata": {},
   "source": [
    "... and plot it (e.g. as a scatter plot)."
   ]
  },
  {
   "cell_type": "code",
   "execution_count": null,
   "id": "38ee37ec",
   "metadata": {},
   "outputs": [],
   "source": [
    "my_project.ac_dict[my_annotation_collection].plot_annotations()"
   ]
  },
  {
   "cell_type": "markdown",
   "id": "666db007",
   "metadata": {},
   "source": [
    "### 5.3 Cooccurrence network\n",
    "\n",
    "An alternative way to visualize annotation collections is using networks. They can be used to get an insight into the cooccurrence of annotations."
   ]
  },
  {
   "cell_type": "code",
   "execution_count": null,
   "id": "a7490353",
   "metadata": {},
   "outputs": [],
   "source": [
    "my_project.ac_dict[my_annotation_collection].cooccurrence_network()"
   ]
  },
  {
   "cell_type": "code",
   "execution_count": null,
   "id": "e3e9582c",
   "metadata": {},
   "outputs": [
    {
     "data": {
      "application/vnd.plotly.v1+json": {
       "config": {
        "plotlyServerURL": "https://plot.ly"
       },
       "data": [
        {
         "legendgroup": "edges",
         "line": {
          "color": "grey",
          "width": 4.947368421052632
         },
         "mode": "lines",
         "name": "Edges",
         "opacity": 0.5,
         "showlegend": true,
         "type": "scatter",
         "x": [
          0.6732588433521884,
          -0.3413765912174914
         ],
         "y": [
          -0.19796254575985356,
          0.714762388741712
         ]
        },
        {
         "legendgroup": "edges",
         "line": {
          "color": "grey",
          "width": 12.842105263157896
         },
         "mode": "lines",
         "name": "Edges",
         "opacity": 0.5,
         "showlegend": false,
         "type": "scatter",
         "x": [
          0.6732588433521884,
          -0.7010671229770371
         ],
         "y": [
          -0.19796254575985356,
          0.48320015701814156
         ]
        },
        {
         "legendgroup": "edges",
         "line": {
          "color": "grey",
          "width": 3.6315789473684212
         },
         "mode": "lines",
         "name": "Edges",
         "opacity": 0.5,
         "showlegend": false,
         "type": "scatter",
         "x": [
          0.6732588433521884,
          0.3691848708423401
         ],
         "y": [
          -0.19796254575985356,
          -1
         ]
        },
        {
         "legendgroup": "edges",
         "line": {
          "color": "grey",
          "width": 4.947368421052632
         },
         "mode": "lines",
         "name": "Edges",
         "opacity": 0.5,
         "showlegend": false,
         "type": "scatter",
         "x": [
          -0.3413765912174914,
          0.6732588433521884
         ],
         "y": [
          0.714762388741712,
          -0.19796254575985356
         ]
        },
        {
         "legendgroup": "edges",
         "line": {
          "color": "grey",
          "width": 2.3157894736842106
         },
         "mode": "lines",
         "name": "Edges",
         "opacity": 0.5,
         "showlegend": false,
         "type": "scatter",
         "x": [
          -0.3413765912174914,
          -0.7010671229770371
         ],
         "y": [
          0.714762388741712,
          0.48320015701814156
         ]
        },
        {
         "legendgroup": "edges",
         "line": {
          "color": "grey",
          "width": 12.842105263157896
         },
         "mode": "lines",
         "name": "Edges",
         "opacity": 0.5,
         "showlegend": false,
         "type": "scatter",
         "x": [
          -0.7010671229770371,
          0.6732588433521884
         ],
         "y": [
          0.48320015701814156,
          -0.19796254575985356
         ]
        },
        {
         "legendgroup": "edges",
         "line": {
          "color": "grey",
          "width": 2.3157894736842106
         },
         "mode": "lines",
         "name": "Edges",
         "opacity": 0.5,
         "showlegend": false,
         "type": "scatter",
         "x": [
          -0.7010671229770371,
          -0.3413765912174914
         ],
         "y": [
          0.48320015701814156,
          0.714762388741712
         ]
        },
        {
         "legendgroup": "edges",
         "line": {
          "color": "grey",
          "width": 6.2631578947368425
         },
         "mode": "lines",
         "name": "Edges",
         "opacity": 0.5,
         "showlegend": false,
         "type": "scatter",
         "x": [
          -0.7010671229770371,
          0.3691848708423401
         ],
         "y": [
          0.48320015701814156,
          -1
         ]
        },
        {
         "legendgroup": "edges",
         "line": {
          "color": "grey",
          "width": 3.6315789473684212
         },
         "mode": "lines",
         "name": "Edges",
         "opacity": 0.5,
         "showlegend": false,
         "type": "scatter",
         "x": [
          0.3691848708423401,
          0.6732588433521884
         ],
         "y": [
          -1,
          -0.19796254575985356
         ]
        },
        {
         "legendgroup": "edges",
         "line": {
          "color": "grey",
          "width": 6.2631578947368425
         },
         "mode": "lines",
         "name": "Edges",
         "opacity": 0.5,
         "showlegend": false,
         "type": "scatter",
         "x": [
          0.3691848708423401,
          -0.7010671229770371
         ],
         "y": [
          -1,
          0.48320015701814156
         ]
        },
        {
         "hoverinfo": "text",
         "marker": {
          "color": [
           "#093658",
           "#A68500",
           "#A64B21",
           "#843AF2"
          ],
          "opacity": 0.65,
          "size": [
           51.84210526315789,
           51.84210526315789,
           25.526315789473685,
           30.789473684210527
          ]
         },
         "mode": "markers+text",
         "showlegend": false,
         "text": [
          "process_event",
          "stative_event",
          "change_of_state",
          "non_event"
         ],
         "textfont": {
          "size": [
           25.921052631578945,
           25.921052631578945,
           12.763157894736842,
           15.394736842105264
          ]
         },
         "textposition": "top center",
         "type": "scatter",
         "x": [
          0.6732588433521884,
          -0.7010671229770371,
          -0.3413765912174914,
          0.3691848708423401
         ],
         "y": [
          -0.19796254575985356,
          0.48320015701814156,
          0.714762388741712,
          -1
         ]
        }
       ],
       "layout": {
        "template": {
         "data": {
          "bar": [
           {
            "error_x": {
             "color": "rgb(36,36,36)"
            },
            "error_y": {
             "color": "rgb(36,36,36)"
            },
            "marker": {
             "line": {
              "color": "white",
              "width": 0.5
             },
             "pattern": {
              "fillmode": "overlay",
              "size": 10,
              "solidity": 0.2
             }
            },
            "type": "bar"
           }
          ],
          "barpolar": [
           {
            "marker": {
             "line": {
              "color": "white",
              "width": 0.5
             },
             "pattern": {
              "fillmode": "overlay",
              "size": 10,
              "solidity": 0.2
             }
            },
            "type": "barpolar"
           }
          ],
          "carpet": [
           {
            "aaxis": {
             "endlinecolor": "rgb(36,36,36)",
             "gridcolor": "white",
             "linecolor": "white",
             "minorgridcolor": "white",
             "startlinecolor": "rgb(36,36,36)"
            },
            "baxis": {
             "endlinecolor": "rgb(36,36,36)",
             "gridcolor": "white",
             "linecolor": "white",
             "minorgridcolor": "white",
             "startlinecolor": "rgb(36,36,36)"
            },
            "type": "carpet"
           }
          ],
          "choropleth": [
           {
            "colorbar": {
             "outlinewidth": 1,
             "tickcolor": "rgb(36,36,36)",
             "ticks": "outside"
            },
            "type": "choropleth"
           }
          ],
          "contour": [
           {
            "colorbar": {
             "outlinewidth": 1,
             "tickcolor": "rgb(36,36,36)",
             "ticks": "outside"
            },
            "colorscale": [
             [
              0,
              "#440154"
             ],
             [
              0.1111111111111111,
              "#482878"
             ],
             [
              0.2222222222222222,
              "#3e4989"
             ],
             [
              0.3333333333333333,
              "#31688e"
             ],
             [
              0.4444444444444444,
              "#26828e"
             ],
             [
              0.5555555555555556,
              "#1f9e89"
             ],
             [
              0.6666666666666666,
              "#35b779"
             ],
             [
              0.7777777777777778,
              "#6ece58"
             ],
             [
              0.8888888888888888,
              "#b5de2b"
             ],
             [
              1,
              "#fde725"
             ]
            ],
            "type": "contour"
           }
          ],
          "contourcarpet": [
           {
            "colorbar": {
             "outlinewidth": 1,
             "tickcolor": "rgb(36,36,36)",
             "ticks": "outside"
            },
            "type": "contourcarpet"
           }
          ],
          "heatmap": [
           {
            "colorbar": {
             "outlinewidth": 1,
             "tickcolor": "rgb(36,36,36)",
             "ticks": "outside"
            },
            "colorscale": [
             [
              0,
              "#440154"
             ],
             [
              0.1111111111111111,
              "#482878"
             ],
             [
              0.2222222222222222,
              "#3e4989"
             ],
             [
              0.3333333333333333,
              "#31688e"
             ],
             [
              0.4444444444444444,
              "#26828e"
             ],
             [
              0.5555555555555556,
              "#1f9e89"
             ],
             [
              0.6666666666666666,
              "#35b779"
             ],
             [
              0.7777777777777778,
              "#6ece58"
             ],
             [
              0.8888888888888888,
              "#b5de2b"
             ],
             [
              1,
              "#fde725"
             ]
            ],
            "type": "heatmap"
           }
          ],
          "histogram": [
           {
            "marker": {
             "line": {
              "color": "white",
              "width": 0.6
             }
            },
            "type": "histogram"
           }
          ],
          "histogram2d": [
           {
            "colorbar": {
             "outlinewidth": 1,
             "tickcolor": "rgb(36,36,36)",
             "ticks": "outside"
            },
            "colorscale": [
             [
              0,
              "#440154"
             ],
             [
              0.1111111111111111,
              "#482878"
             ],
             [
              0.2222222222222222,
              "#3e4989"
             ],
             [
              0.3333333333333333,
              "#31688e"
             ],
             [
              0.4444444444444444,
              "#26828e"
             ],
             [
              0.5555555555555556,
              "#1f9e89"
             ],
             [
              0.6666666666666666,
              "#35b779"
             ],
             [
              0.7777777777777778,
              "#6ece58"
             ],
             [
              0.8888888888888888,
              "#b5de2b"
             ],
             [
              1,
              "#fde725"
             ]
            ],
            "type": "histogram2d"
           }
          ],
          "histogram2dcontour": [
           {
            "colorbar": {
             "outlinewidth": 1,
             "tickcolor": "rgb(36,36,36)",
             "ticks": "outside"
            },
            "colorscale": [
             [
              0,
              "#440154"
             ],
             [
              0.1111111111111111,
              "#482878"
             ],
             [
              0.2222222222222222,
              "#3e4989"
             ],
             [
              0.3333333333333333,
              "#31688e"
             ],
             [
              0.4444444444444444,
              "#26828e"
             ],
             [
              0.5555555555555556,
              "#1f9e89"
             ],
             [
              0.6666666666666666,
              "#35b779"
             ],
             [
              0.7777777777777778,
              "#6ece58"
             ],
             [
              0.8888888888888888,
              "#b5de2b"
             ],
             [
              1,
              "#fde725"
             ]
            ],
            "type": "histogram2dcontour"
           }
          ],
          "mesh3d": [
           {
            "colorbar": {
             "outlinewidth": 1,
             "tickcolor": "rgb(36,36,36)",
             "ticks": "outside"
            },
            "type": "mesh3d"
           }
          ],
          "parcoords": [
           {
            "line": {
             "colorbar": {
              "outlinewidth": 1,
              "tickcolor": "rgb(36,36,36)",
              "ticks": "outside"
             }
            },
            "type": "parcoords"
           }
          ],
          "pie": [
           {
            "automargin": true,
            "type": "pie"
           }
          ],
          "scatter": [
           {
            "fillpattern": {
             "fillmode": "overlay",
             "size": 10,
             "solidity": 0.2
            },
            "type": "scatter"
           }
          ],
          "scatter3d": [
           {
            "line": {
             "colorbar": {
              "outlinewidth": 1,
              "tickcolor": "rgb(36,36,36)",
              "ticks": "outside"
             }
            },
            "marker": {
             "colorbar": {
              "outlinewidth": 1,
              "tickcolor": "rgb(36,36,36)",
              "ticks": "outside"
             }
            },
            "type": "scatter3d"
           }
          ],
          "scattercarpet": [
           {
            "marker": {
             "colorbar": {
              "outlinewidth": 1,
              "tickcolor": "rgb(36,36,36)",
              "ticks": "outside"
             }
            },
            "type": "scattercarpet"
           }
          ],
          "scattergeo": [
           {
            "marker": {
             "colorbar": {
              "outlinewidth": 1,
              "tickcolor": "rgb(36,36,36)",
              "ticks": "outside"
             }
            },
            "type": "scattergeo"
           }
          ],
          "scattergl": [
           {
            "marker": {
             "colorbar": {
              "outlinewidth": 1,
              "tickcolor": "rgb(36,36,36)",
              "ticks": "outside"
             }
            },
            "type": "scattergl"
           }
          ],
          "scattermap": [
           {
            "marker": {
             "colorbar": {
              "outlinewidth": 1,
              "tickcolor": "rgb(36,36,36)",
              "ticks": "outside"
             }
            },
            "type": "scattermap"
           }
          ],
          "scattermapbox": [
           {
            "marker": {
             "colorbar": {
              "outlinewidth": 1,
              "tickcolor": "rgb(36,36,36)",
              "ticks": "outside"
             }
            },
            "type": "scattermapbox"
           }
          ],
          "scatterpolar": [
           {
            "marker": {
             "colorbar": {
              "outlinewidth": 1,
              "tickcolor": "rgb(36,36,36)",
              "ticks": "outside"
             }
            },
            "type": "scatterpolar"
           }
          ],
          "scatterpolargl": [
           {
            "marker": {
             "colorbar": {
              "outlinewidth": 1,
              "tickcolor": "rgb(36,36,36)",
              "ticks": "outside"
             }
            },
            "type": "scatterpolargl"
           }
          ],
          "scatterternary": [
           {
            "marker": {
             "colorbar": {
              "outlinewidth": 1,
              "tickcolor": "rgb(36,36,36)",
              "ticks": "outside"
             }
            },
            "type": "scatterternary"
           }
          ],
          "surface": [
           {
            "colorbar": {
             "outlinewidth": 1,
             "tickcolor": "rgb(36,36,36)",
             "ticks": "outside"
            },
            "colorscale": [
             [
              0,
              "#440154"
             ],
             [
              0.1111111111111111,
              "#482878"
             ],
             [
              0.2222222222222222,
              "#3e4989"
             ],
             [
              0.3333333333333333,
              "#31688e"
             ],
             [
              0.4444444444444444,
              "#26828e"
             ],
             [
              0.5555555555555556,
              "#1f9e89"
             ],
             [
              0.6666666666666666,
              "#35b779"
             ],
             [
              0.7777777777777778,
              "#6ece58"
             ],
             [
              0.8888888888888888,
              "#b5de2b"
             ],
             [
              1,
              "#fde725"
             ]
            ],
            "type": "surface"
           }
          ],
          "table": [
           {
            "cells": {
             "fill": {
              "color": "rgb(237,237,237)"
             },
             "line": {
              "color": "white"
             }
            },
            "header": {
             "fill": {
              "color": "rgb(217,217,217)"
             },
             "line": {
              "color": "white"
             }
            },
            "type": "table"
           }
          ]
         },
         "layout": {
          "annotationdefaults": {
           "arrowhead": 0,
           "arrowwidth": 1
          },
          "autotypenumbers": "strict",
          "coloraxis": {
           "colorbar": {
            "outlinewidth": 1,
            "tickcolor": "rgb(36,36,36)",
            "ticks": "outside"
           }
          },
          "colorscale": {
           "diverging": [
            [
             0,
             "rgb(103,0,31)"
            ],
            [
             0.1,
             "rgb(178,24,43)"
            ],
            [
             0.2,
             "rgb(214,96,77)"
            ],
            [
             0.3,
             "rgb(244,165,130)"
            ],
            [
             0.4,
             "rgb(253,219,199)"
            ],
            [
             0.5,
             "rgb(247,247,247)"
            ],
            [
             0.6,
             "rgb(209,229,240)"
            ],
            [
             0.7,
             "rgb(146,197,222)"
            ],
            [
             0.8,
             "rgb(67,147,195)"
            ],
            [
             0.9,
             "rgb(33,102,172)"
            ],
            [
             1,
             "rgb(5,48,97)"
            ]
           ],
           "sequential": [
            [
             0,
             "#440154"
            ],
            [
             0.1111111111111111,
             "#482878"
            ],
            [
             0.2222222222222222,
             "#3e4989"
            ],
            [
             0.3333333333333333,
             "#31688e"
            ],
            [
             0.4444444444444444,
             "#26828e"
            ],
            [
             0.5555555555555556,
             "#1f9e89"
            ],
            [
             0.6666666666666666,
             "#35b779"
            ],
            [
             0.7777777777777778,
             "#6ece58"
            ],
            [
             0.8888888888888888,
             "#b5de2b"
            ],
            [
             1,
             "#fde725"
            ]
           ],
           "sequentialminus": [
            [
             0,
             "#440154"
            ],
            [
             0.1111111111111111,
             "#482878"
            ],
            [
             0.2222222222222222,
             "#3e4989"
            ],
            [
             0.3333333333333333,
             "#31688e"
            ],
            [
             0.4444444444444444,
             "#26828e"
            ],
            [
             0.5555555555555556,
             "#1f9e89"
            ],
            [
             0.6666666666666666,
             "#35b779"
            ],
            [
             0.7777777777777778,
             "#6ece58"
            ],
            [
             0.8888888888888888,
             "#b5de2b"
            ],
            [
             1,
             "#fde725"
            ]
           ]
          },
          "colorway": [
           "#1F77B4",
           "#FF7F0E",
           "#2CA02C",
           "#D62728",
           "#9467BD",
           "#8C564B",
           "#E377C2",
           "#7F7F7F",
           "#BCBD22",
           "#17BECF"
          ],
          "font": {
           "color": "rgb(36,36,36)"
          },
          "geo": {
           "bgcolor": "white",
           "lakecolor": "white",
           "landcolor": "white",
           "showlakes": true,
           "showland": true,
           "subunitcolor": "white"
          },
          "hoverlabel": {
           "align": "left"
          },
          "hovermode": "closest",
          "mapbox": {
           "style": "light"
          },
          "paper_bgcolor": "white",
          "plot_bgcolor": "white",
          "polar": {
           "angularaxis": {
            "gridcolor": "rgb(232,232,232)",
            "linecolor": "rgb(36,36,36)",
            "showgrid": false,
            "showline": true,
            "ticks": "outside"
           },
           "bgcolor": "white",
           "radialaxis": {
            "gridcolor": "rgb(232,232,232)",
            "linecolor": "rgb(36,36,36)",
            "showgrid": false,
            "showline": true,
            "ticks": "outside"
           }
          },
          "scene": {
           "xaxis": {
            "backgroundcolor": "white",
            "gridcolor": "rgb(232,232,232)",
            "gridwidth": 2,
            "linecolor": "rgb(36,36,36)",
            "showbackground": true,
            "showgrid": false,
            "showline": true,
            "ticks": "outside",
            "zeroline": false,
            "zerolinecolor": "rgb(36,36,36)"
           },
           "yaxis": {
            "backgroundcolor": "white",
            "gridcolor": "rgb(232,232,232)",
            "gridwidth": 2,
            "linecolor": "rgb(36,36,36)",
            "showbackground": true,
            "showgrid": false,
            "showline": true,
            "ticks": "outside",
            "zeroline": false,
            "zerolinecolor": "rgb(36,36,36)"
           },
           "zaxis": {
            "backgroundcolor": "white",
            "gridcolor": "rgb(232,232,232)",
            "gridwidth": 2,
            "linecolor": "rgb(36,36,36)",
            "showbackground": true,
            "showgrid": false,
            "showline": true,
            "ticks": "outside",
            "zeroline": false,
            "zerolinecolor": "rgb(36,36,36)"
           }
          },
          "shapedefaults": {
           "fillcolor": "black",
           "line": {
            "width": 0
           },
           "opacity": 0.3
          },
          "ternary": {
           "aaxis": {
            "gridcolor": "rgb(232,232,232)",
            "linecolor": "rgb(36,36,36)",
            "showgrid": false,
            "showline": true,
            "ticks": "outside"
           },
           "baxis": {
            "gridcolor": "rgb(232,232,232)",
            "linecolor": "rgb(36,36,36)",
            "showgrid": false,
            "showline": true,
            "ticks": "outside"
           },
           "bgcolor": "white",
           "caxis": {
            "gridcolor": "rgb(232,232,232)",
            "linecolor": "rgb(36,36,36)",
            "showgrid": false,
            "showline": true,
            "ticks": "outside"
           }
          },
          "title": {
           "x": 0.05
          },
          "xaxis": {
           "automargin": true,
           "gridcolor": "rgb(232,232,232)",
           "linecolor": "rgb(36,36,36)",
           "showgrid": false,
           "showline": true,
           "ticks": "outside",
           "title": {
            "standoff": 15
           },
           "zeroline": false,
           "zerolinecolor": "rgb(36,36,36)"
          },
          "yaxis": {
           "automargin": true,
           "gridcolor": "rgb(232,232,232)",
           "linecolor": "rgb(36,36,36)",
           "showgrid": false,
           "showline": true,
           "ticks": "outside",
           "title": {
            "standoff": 15
           },
           "zeroline": false,
           "zerolinecolor": "rgb(36,36,36)"
          }
         }
        },
        "title": {
         "text": "Cooccurence Network for TAG"
        },
        "xaxis": {
         "range": [
          -1.0376965446531314,
          1.0098882650282826
         ],
         "showgrid": false,
         "showticklabels": false,
         "ticks": "",
         "visible": false
        },
        "yaxis": {
         "range": [
          -1.357381194370856,
          1.2150960608609105
         ],
         "showgrid": false,
         "showticklabels": false,
         "ticks": "",
         "visible": false
        }
       }
      }
     },
     "metadata": {},
     "output_type": "display_data"
    }
   ],
   "source": [
    "my_project.ac_dict[my_annotation_collection].cooccurrence_network(\n",
    "    character_distance=50,\n",
    ")"
   ]
  },
  {
   "cell_type": "markdown",
   "id": "f4cd8bcc",
   "metadata": {},
   "source": [
    "### 5.4 Annotation collection as Pandas DataFrame"
   ]
  },
  {
   "cell_type": "code",
   "execution_count": null,
   "id": "dfe69180",
   "metadata": {},
   "outputs": [],
   "source": [
    "my_project.ac_dict[my_annotation_collection].df"
   ]
  },
  {
   "cell_type": "markdown",
   "id": "148d3610",
   "metadata": {},
   "source": [
    "## 8. Inter Annotator Agreement (IAA) with gitma\n",
    "\n",
    "### 8.1 Set annotation collcections\n",
    "\n",
    "First we need to specify the two annotation collections for wich the inter annotator agreement should be calculated. For this we first take a look at alle annotation collections in our project. \n"
   ]
  },
  {
   "cell_type": "code",
   "execution_count": 11,
   "id": "f1dc6694",
   "metadata": {},
   "outputs": [
    {
     "name": "stdout",
     "output_type": "stream",
     "text": [
      "gold_annotation\n",
      "ac_2\n",
      "ac_1\n"
     ]
    }
   ],
   "source": [
    "for ac in my_project.annotation_collections:\n",
    "    print(ac.name)"
   ]
  },
  {
   "cell_type": "markdown",
   "id": "be6a9da9",
   "metadata": {},
   "source": [
    "Now we can choose the two annotation collections and place their names in the following two variables. "
   ]
  },
  {
   "cell_type": "code",
   "execution_count": 12,
   "id": "02ef9202",
   "metadata": {},
   "outputs": [],
   "source": [
    "annotation_collection_1 ='ac_1' # 'Name of the first collection'\n",
    "annotation_collection_2 ='ac_2' # 'Name of the second collection'"
   ]
  },
  {
   "cell_type": "markdown",
   "id": "a0323429",
   "metadata": {},
   "source": [
    "\n",
    "### 8.1 `get_iaa`\n",
    "\n",
    "For every annotation in annotation collection 1 the get_iaa method searches for the best matching annotation in annotation collection 2 with respect to its annotation text span."
   ]
  },
  {
   "cell_type": "code",
   "execution_count": 13,
   "id": "adb2e1f2",
   "metadata": {},
   "outputs": [
    {
     "name": "stdout",
     "output_type": "stream",
     "text": [
      "\n",
      "==============================================\n",
      "==============================================\n",
      "Finished search for matching annotations in:\n",
      "- ac_1\n",
      "- ac_2\n",
      "20 annotation(s) could be matched.\n",
      "Average overlap is 97.54%.\n",
      "Couldn't match 0 annotation(s) in the first annotation collection.\n",
      "\n",
      "\n",
      "Results for \"tag\"\n",
      "-----------------\n",
      "Scott's Pi:          0.7525773195876289\n",
      "Cohen's Kappa:       0.7530864197530864\n",
      "Krippendorf's Alpha: 0.7587628865979381\n",
      "===============================================\n",
      "\n",
      "Confusion Matrix\n",
      "                    -------\n",
      "\n"
     ]
    },
    {
     "data": {
      "text/html": [
       "<div>\n",
       "<style scoped>\n",
       "    .dataframe tbody tr th:only-of-type {\n",
       "        vertical-align: middle;\n",
       "    }\n",
       "\n",
       "    .dataframe tbody tr th {\n",
       "        vertical-align: top;\n",
       "    }\n",
       "\n",
       "    .dataframe thead th {\n",
       "        text-align: right;\n",
       "    }\n",
       "</style>\n",
       "<table border=\"1\" class=\"dataframe\">\n",
       "  <thead>\n",
       "    <tr style=\"text-align: right;\">\n",
       "      <th></th>\n",
       "      <th>change_of_state</th>\n",
       "      <th>non_event</th>\n",
       "      <th>process_event</th>\n",
       "      <th>stative_event</th>\n",
       "    </tr>\n",
       "  </thead>\n",
       "  <tbody>\n",
       "    <tr>\n",
       "      <th>change_of_state</th>\n",
       "      <td>0</td>\n",
       "      <td>0</td>\n",
       "      <td>1</td>\n",
       "      <td>0</td>\n",
       "    </tr>\n",
       "    <tr>\n",
       "      <th>non_event</th>\n",
       "      <td>0</td>\n",
       "      <td>2</td>\n",
       "      <td>0</td>\n",
       "      <td>0</td>\n",
       "    </tr>\n",
       "    <tr>\n",
       "      <th>process_event</th>\n",
       "      <td>1</td>\n",
       "      <td>0</td>\n",
       "      <td>5</td>\n",
       "      <td>0</td>\n",
       "    </tr>\n",
       "    <tr>\n",
       "      <th>stative_event</th>\n",
       "      <td>0</td>\n",
       "      <td>0</td>\n",
       "      <td>1</td>\n",
       "      <td>10</td>\n",
       "    </tr>\n",
       "  </tbody>\n",
       "</table>\n",
       "</div>"
      ],
      "text/plain": [
       "                 change_of_state  non_event  process_event  stative_event\n",
       "change_of_state                0          0              1              0\n",
       "non_event                      0          2              0              0\n",
       "process_event                  1          0              5              0\n",
       "stative_event                  0          0              1             10"
      ]
     },
     "execution_count": 13,
     "metadata": {},
     "output_type": "execute_result"
    }
   ],
   "source": [
    "my_project.get_iaa(\n",
    "    ac1_name_or_inst=annotation_collection_1,\n",
    "    ac2_name_or_inst=annotation_collection_2\n",
    ")"
   ]
  },
  {
   "cell_type": "markdown",
   "id": "cefbba6b",
   "metadata": {},
   "source": [
    "The get_iaa method not only returns 3 different agreement scores, but also reports the number of annotation pairs considered when computing the IAA scores and the average overlap of the annotation pairs. Additionally, the method returns a confusion matrix to give an insight into the relation between the tags. "
   ]
  },
  {
   "cell_type": "markdown",
   "id": "8d419d5b",
   "metadata": {},
   "source": [
    "### 8.2 Filter by tags\n",
    "\n",
    "There may occur cases in which you don't want to include all annotations in the computing of the IAA scores. In those cases just use the tag_filter parameter, which expects a list of tag names. "
   ]
  },
  {
   "cell_type": "code",
   "execution_count": 17,
   "id": "6202efd0",
   "metadata": {},
   "outputs": [
    {
     "name": "stdout",
     "output_type": "stream",
     "text": [
      "\n",
      "==============================================\n",
      "==============================================\n",
      "Finished search for matching annotations in:\n",
      "- ac_1\n",
      "- ac_2\n",
      "10 annotation(s) could be matched.\n",
      "Average overlap is 95.07%.\n",
      "Couldn't match 0 annotation(s) in the first annotation collection.\n",
      "\n",
      "Couldn't compute IAA for level 'tag' due to missing matching annotations with the given settings.\n",
      "\n",
      "Results for \"tag\"\n",
      "-----------------\n",
      "Scott's Pi:          0\n",
      "Cohen's Kappa:       0\n",
      "Krippendorf's Alpha: 0\n",
      "===============================================\n",
      "\n",
      "Confusion Matrix\n",
      "                    -------\n",
      "\n"
     ]
    },
    {
     "data": {
      "text/html": [
       "<div>\n",
       "<style scoped>\n",
       "    .dataframe tbody tr th:only-of-type {\n",
       "        vertical-align: middle;\n",
       "    }\n",
       "\n",
       "    .dataframe tbody tr th {\n",
       "        vertical-align: top;\n",
       "    }\n",
       "\n",
       "    .dataframe thead th {\n",
       "        text-align: right;\n",
       "    }\n",
       "</style>\n",
       "<table border=\"1\" class=\"dataframe\">\n",
       "  <thead>\n",
       "    <tr style=\"text-align: right;\">\n",
       "      <th></th>\n",
       "      <th>stative_event</th>\n",
       "    </tr>\n",
       "  </thead>\n",
       "  <tbody>\n",
       "    <tr>\n",
       "      <th>stative_event</th>\n",
       "      <td>10</td>\n",
       "    </tr>\n",
       "  </tbody>\n",
       "</table>\n",
       "</div>"
      ],
      "text/plain": [
       "               stative_event\n",
       "stative_event             10"
      ]
     },
     "execution_count": 17,
     "metadata": {},
     "output_type": "execute_result"
    }
   ],
   "source": [
    "my_project.get_iaa(\n",
    "    ac1_name_or_inst=annotation_collection_1,\n",
    "    ac2_name_or_inst=annotation_collection_2,\n",
    "    tag_filter=['stative_event'] # Put the tag names to include in the IAA calculation in this list\n",
    ")"
   ]
  },
  {
   "cell_type": "markdown",
   "id": "569fbf62",
   "metadata": {},
   "source": [
    "### 8.3 Compare annotation properties\n",
    "\n",
    "The tag is only one level of CATMA annotations. If you want to compare annotations by their properties this is possible too. To compute the agreement of annotation properties you just need to use the level parameter:"
   ]
  },
  {
   "cell_type": "code",
   "execution_count": 19,
   "id": "d47ce1f9",
   "metadata": {},
   "outputs": [
    {
     "name": "stdout",
     "output_type": "stream",
     "text": [
      "\n",
      "==============================================\n",
      "==============================================\n",
      "Finished search for matching annotations in:\n",
      "- ac_1\n",
      "- ac_2\n",
      "20 annotation(s) could be matched.\n",
      "Average overlap is 97.54%.\n",
      "Couldn't match 0 annotation(s) in the first annotation collection.\n",
      "\n",
      "\n",
      "Results for \"prop:representation_type\"\n",
      "--------------------------------------\n",
      "Scott's Pi:          0.4805194805194798\n",
      "Cohen's Kappa:       0.4871794871794869\n",
      "Krippendorf's Alpha: 0.49350649350649345\n",
      "===============================================\n",
      "\n",
      "Confusion Matrix\n",
      "                    -------\n",
      "\n"
     ]
    },
    {
     "data": {
      "text/html": [
       "<div>\n",
       "<style scoped>\n",
       "    .dataframe tbody tr th:only-of-type {\n",
       "        vertical-align: middle;\n",
       "    }\n",
       "\n",
       "    .dataframe tbody tr th {\n",
       "        vertical-align: top;\n",
       "    }\n",
       "\n",
       "    .dataframe thead th {\n",
       "        text-align: right;\n",
       "    }\n",
       "</style>\n",
       "<table border=\"1\" class=\"dataframe\">\n",
       "  <thead>\n",
       "    <tr style=\"text-align: right;\">\n",
       "      <th></th>\n",
       "      <th>character_speech</th>\n",
       "      <th>thought_representation</th>\n",
       "      <th>narrator_speech</th>\n",
       "    </tr>\n",
       "  </thead>\n",
       "  <tbody>\n",
       "    <tr>\n",
       "      <th>character_speech</th>\n",
       "      <td>0</td>\n",
       "      <td>0</td>\n",
       "      <td>0</td>\n",
       "    </tr>\n",
       "    <tr>\n",
       "      <th>thought_representation</th>\n",
       "      <td>1</td>\n",
       "      <td>0</td>\n",
       "      <td>0</td>\n",
       "    </tr>\n",
       "    <tr>\n",
       "      <th>narrator_speech</th>\n",
       "      <td>0</td>\n",
       "      <td>0</td>\n",
       "      <td>19</td>\n",
       "    </tr>\n",
       "  </tbody>\n",
       "</table>\n",
       "</div>"
      ],
      "text/plain": [
       "                        character_speech  thought_representation  \\\n",
       "character_speech                       0                       0   \n",
       "thought_representation                 1                       0   \n",
       "narrator_speech                        0                       0   \n",
       "\n",
       "                        narrator_speech  \n",
       "character_speech                      0  \n",
       "thought_representation                0  \n",
       "narrator_speech                      19  "
      ]
     },
     "execution_count": 19,
     "metadata": {},
     "output_type": "execute_result"
    }
   ],
   "source": [
    "my_project.get_iaa(\n",
    "    ac1_name_or_inst='ac_1',\n",
    "    ac2_name_or_inst='ac_2',\n",
    "    level='prop:representation_type'\n",
    ")"
   ]
  },
  {
   "cell_type": "markdown",
   "id": "76fa60d0",
   "metadata": {},
   "source": [
    "### 8.4 Gamma Agreement\n",
    "\n",
    "To compute the gamma agreement, in addition to the annotation collections, 5 further parameters have to be defined. The alpha, beta and delta_empty parameters are necessary to compute the CombinedCategoricalDissimilarity. The n_samples and the precision_level values are used in the `compute_gamma()` method."
   ]
  },
  {
   "cell_type": "code",
   "execution_count": 20,
   "id": "5bc3ce62",
   "metadata": {},
   "outputs": [
    {
     "name": "stderr",
     "output_type": "stream",
     "text": [
      "WARNING:root:CBC solver not installed. Using GLPK.\n",
      "WARNING:root:CBC solver not installed. Using GLPK.\n",
      "WARNING:root:CBC solver not installed. Using GLPK.\n",
      "WARNING:root:CBC solver not installed. Using GLPK.\n",
      "WARNING:root:CBC solver not installed. Using GLPK.\n",
      "WARNING:root:CBC solver not installed. Using GLPK.\n",
      "WARNING:root:CBC solver not installed. Using GLPK.\n",
      "WARNING:root:CBC solver not installed. Using GLPK.\n",
      "WARNING:root:CBC solver not installed. Using GLPK.\n",
      "WARNING:root:CBC solver not installed. Using GLPK.\n",
      "WARNING:root:CBC solver not installed. Using GLPK.\n",
      "WARNING:root:CBC solver not installed. Using GLPK.\n",
      "WARNING:root:CBC solver not installed. Using GLPK.\n",
      "WARNING:root:CBC solver not installed. Using GLPK.\n",
      "WARNING:root:CBC solver not installed. Using GLPK.\n",
      "WARNING:root:CBC solver not installed. Using GLPK.\n",
      "WARNING:root:CBC solver not installed. Using GLPK.\n",
      "WARNING:root:CBC solver not installed. Using GLPK.\n",
      "WARNING:root:CBC solver not installed. Using GLPK.\n",
      "WARNING:root:CBC solver not installed. Using GLPK.\n",
      "WARNING:root:CBC solver not installed. Using GLPK.\n",
      "WARNING:root:CBC solver not installed. Using GLPK.\n",
      "WARNING:root:CBC solver not installed. Using GLPK.\n",
      "WARNING:root:CBC solver not installed. Using GLPK.\n",
      "WARNING:root:CBC solver not installed. Using GLPK.\n",
      "WARNING:root:CBC solver not installed. Using GLPK.\n",
      "WARNING:root:CBC solver not installed. Using GLPK.\n",
      "WARNING:root:CBC solver not installed. Using GLPK.\n",
      "WARNING:root:CBC solver not installed. Using GLPK.\n",
      "WARNING:root:CBC solver not installed. Using GLPK.\n",
      "WARNING:root:CBC solver not installed. Using GLPK.\n",
      "WARNING:root:CBC solver not installed. Using GLPK.\n",
      "WARNING:root:CBC solver not installed. Using GLPK.\n",
      "WARNING:root:CBC solver not installed. Using GLPK.\n",
      "WARNING:root:CBC solver not installed. Using GLPK.\n",
      "WARNING:root:CBC solver not installed. Using GLPK.\n",
      "WARNING:root:CBC solver not installed. Using GLPK.\n",
      "WARNING:root:CBC solver not installed. Using GLPK.\n",
      "WARNING:root:CBC solver not installed. Using GLPK.\n",
      "WARNING:root:CBC solver not installed. Using GLPK.\n",
      "WARNING:root:CBC solver not installed. Using GLPK.\n",
      "WARNING:root:CBC solver not installed. Using GLPK.\n",
      "WARNING:root:CBC solver not installed. Using GLPK.\n",
      "WARNING:root:CBC solver not installed. Using GLPK.\n",
      "WARNING:root:CBC solver not installed. Using GLPK.\n",
      "WARNING:root:CBC solver not installed. Using GLPK.\n",
      "WARNING:root:CBC solver not installed. Using GLPK.\n",
      "WARNING:root:CBC solver not installed. Using GLPK.\n",
      "WARNING:root:CBC solver not installed. Using GLPK.\n",
      "WARNING:root:CBC solver not installed. Using GLPK.\n",
      "WARNING:root:CBC solver not installed. Using GLPK.\n",
      "WARNING:root:CBC solver not installed. Using GLPK.\n",
      "WARNING:root:CBC solver not installed. Using GLPK.\n",
      "WARNING:root:CBC solver not installed. Using GLPK.\n",
      "WARNING:root:CBC solver not installed. Using GLPK.\n",
      "WARNING:root:CBC solver not installed. Using GLPK.\n",
      "WARNING:root:CBC solver not installed. Using GLPK.\n",
      "WARNING:root:CBC solver not installed. Using GLPK.\n",
      "WARNING:root:CBC solver not installed. Using GLPK.\n",
      "WARNING:root:CBC solver not installed. Using GLPK.\n",
      "WARNING:root:CBC solver not installed. Using GLPK.\n",
      "WARNING:root:CBC solver not installed. Using GLPK.\n",
      "WARNING:root:CBC solver not installed. Using GLPK.\n",
      "WARNING:root:CBC solver not installed. Using GLPK.\n",
      "WARNING:root:CBC solver not installed. Using GLPK.\n",
      "WARNING:root:CBC solver not installed. Using GLPK.\n",
      "WARNING:root:CBC solver not installed. Using GLPK.\n",
      "WARNING:root:CBC solver not installed. Using GLPK.\n",
      "WARNING:root:CBC solver not installed. Using GLPK.\n",
      "WARNING:root:CBC solver not installed. Using GLPK.\n",
      "WARNING:root:CBC solver not installed. Using GLPK.\n",
      "WARNING:root:CBC solver not installed. Using GLPK.\n",
      "WARNING:root:CBC solver not installed. Using GLPK.\n",
      "WARNING:root:CBC solver not installed. Using GLPK.\n",
      "WARNING:root:CBC solver not installed. Using GLPK.\n",
      "WARNING:root:CBC solver not installed. Using GLPK.\n",
      "WARNING:root:CBC solver not installed. Using GLPK.\n",
      "WARNING:root:CBC solver not installed. Using GLPK.\n",
      "WARNING:root:CBC solver not installed. Using GLPK.\n",
      "WARNING:root:CBC solver not installed. Using GLPK.\n",
      "WARNING:root:CBC solver not installed. Using GLPK.\n",
      "WARNING:root:CBC solver not installed. Using GLPK.\n",
      "WARNING:root:CBC solver not installed. Using GLPK.\n",
      "WARNING:root:CBC solver not installed. Using GLPK.\n",
      "WARNING:root:CBC solver not installed. Using GLPK.\n",
      "WARNING:root:CBC solver not installed. Using GLPK.\n",
      "WARNING:root:CBC solver not installed. Using GLPK.\n",
      "WARNING:root:CBC solver not installed. Using GLPK.\n",
      "WARNING:root:CBC solver not installed. Using GLPK.\n",
      "WARNING:root:CBC solver not installed. Using GLPK.\n",
      "WARNING:root:CBC solver not installed. Using GLPK.\n",
      "WARNING:root:CBC solver not installed. Using GLPK.\n",
      "WARNING:root:CBC solver not installed. Using GLPK.\n",
      "WARNING:root:CBC solver not installed. Using GLPK.\n",
      "WARNING:root:CBC solver not installed. Using GLPK.\n",
      "WARNING:root:CBC solver not installed. Using GLPK.\n",
      "WARNING:root:CBC solver not installed. Using GLPK.\n",
      "WARNING:root:CBC solver not installed. Using GLPK.\n",
      "WARNING:root:CBC solver not installed. Using GLPK.\n",
      "WARNING:root:CBC solver not installed. Using GLPK.\n",
      "WARNING:root:CBC solver not installed. Using GLPK.\n",
      "WARNING:root:CBC solver not installed. Using GLPK.\n",
      "WARNING:root:CBC solver not installed. Using GLPK.\n",
      "WARNING:root:CBC solver not installed. Using GLPK.\n",
      "WARNING:root:CBC solver not installed. Using GLPK.\n",
      "WARNING:root:CBC solver not installed. Using GLPK.\n",
      "WARNING:root:CBC solver not installed. Using GLPK.\n",
      "WARNING:root:CBC solver not installed. Using GLPK.\n",
      "WARNING:root:CBC solver not installed. Using GLPK.\n",
      "WARNING:root:CBC solver not installed. Using GLPK.\n",
      "WARNING:root:CBC solver not installed. Using GLPK.\n",
      "WARNING:root:CBC solver not installed. Using GLPK.\n",
      "WARNING:root:CBC solver not installed. Using GLPK.\n",
      "WARNING:root:CBC solver not installed. Using GLPK.\n",
      "WARNING:root:CBC solver not installed. Using GLPK.\n",
      "WARNING:root:CBC solver not installed. Using GLPK.\n",
      "WARNING:root:CBC solver not installed. Using GLPK.\n",
      "WARNING:root:CBC solver not installed. Using GLPK.\n",
      "WARNING:root:CBC solver not installed. Using GLPK.\n",
      "WARNING:root:CBC solver not installed. Using GLPK.\n",
      "WARNING:root:CBC solver not installed. Using GLPK.\n",
      "WARNING:root:CBC solver not installed. Using GLPK.\n",
      "WARNING:root:CBC solver not installed. Using GLPK.\n",
      "WARNING:root:CBC solver not installed. Using GLPK.\n",
      "WARNING:root:CBC solver not installed. Using GLPK.\n",
      "WARNING:root:CBC solver not installed. Using GLPK.\n",
      "WARNING:root:CBC solver not installed. Using GLPK.\n",
      "WARNING:root:CBC solver not installed. Using GLPK.\n",
      "WARNING:root:CBC solver not installed. Using GLPK.\n",
      "WARNING:root:CBC solver not installed. Using GLPK.\n",
      "WARNING:root:CBC solver not installed. Using GLPK.\n",
      "WARNING:root:CBC solver not installed. Using GLPK.\n",
      "WARNING:root:CBC solver not installed. Using GLPK.\n",
      "WARNING:root:CBC solver not installed. Using GLPK.\n",
      "WARNING:root:CBC solver not installed. Using GLPK.\n",
      "WARNING:root:CBC solver not installed. Using GLPK.\n",
      "WARNING:root:CBC solver not installed. Using GLPK.\n",
      "WARNING:root:CBC solver not installed. Using GLPK.\n",
      "WARNING:root:CBC solver not installed. Using GLPK.\n",
      "WARNING:root:CBC solver not installed. Using GLPK.\n",
      "WARNING:root:CBC solver not installed. Using GLPK.\n",
      "WARNING:root:CBC solver not installed. Using GLPK.\n",
      "WARNING:root:CBC solver not installed. Using GLPK.\n",
      "WARNING:root:CBC solver not installed. Using GLPK.\n",
      "WARNING:root:CBC solver not installed. Using GLPK.\n",
      "WARNING:root:CBC solver not installed. Using GLPK.\n",
      "WARNING:root:CBC solver not installed. Using GLPK.\n",
      "WARNING:root:CBC solver not installed. Using GLPK.\n",
      "WARNING:root:CBC solver not installed. Using GLPK.\n",
      "WARNING:root:CBC solver not installed. Using GLPK.\n",
      "WARNING:root:CBC solver not installed. Using GLPK.\n",
      "WARNING:root:CBC solver not installed. Using GLPK.\n",
      "WARNING:root:CBC solver not installed. Using GLPK.\n",
      "WARNING:root:CBC solver not installed. Using GLPK.\n",
      "WARNING:root:CBC solver not installed. Using GLPK.\n",
      "WARNING:root:CBC solver not installed. Using GLPK.\n",
      "WARNING:root:CBC solver not installed. Using GLPK.\n",
      "WARNING:root:CBC solver not installed. Using GLPK.\n",
      "WARNING:root:CBC solver not installed. Using GLPK.\n",
      "WARNING:root:CBC solver not installed. Using GLPK.\n",
      "WARNING:root:CBC solver not installed. Using GLPK.\n",
      "WARNING:root:CBC solver not installed. Using GLPK.\n",
      "WARNING:root:CBC solver not installed. Using GLPK.\n",
      "WARNING:root:CBC solver not installed. Using GLPK.\n",
      "WARNING:root:CBC solver not installed. Using GLPK.\n",
      "WARNING:root:CBC solver not installed. Using GLPK.\n",
      "WARNING:root:CBC solver not installed. Using GLPK.\n",
      "WARNING:root:CBC solver not installed. Using GLPK.\n",
      "WARNING:root:CBC solver not installed. Using GLPK.\n",
      "WARNING:root:CBC solver not installed. Using GLPK.\n",
      "WARNING:root:CBC solver not installed. Using GLPK.\n",
      "WARNING:root:CBC solver not installed. Using GLPK.\n",
      "WARNING:root:CBC solver not installed. Using GLPK.\n",
      "WARNING:root:CBC solver not installed. Using GLPK.\n",
      "WARNING:root:CBC solver not installed. Using GLPK.\n",
      "WARNING:root:CBC solver not installed. Using GLPK.\n",
      "WARNING:root:CBC solver not installed. Using GLPK.\n",
      "WARNING:root:CBC solver not installed. Using GLPK.\n",
      "WARNING:root:CBC solver not installed. Using GLPK.\n",
      "WARNING:root:CBC solver not installed. Using GLPK.\n",
      "WARNING:root:CBC solver not installed. Using GLPK.\n",
      "WARNING:root:CBC solver not installed. Using GLPK.\n",
      "WARNING:root:CBC solver not installed. Using GLPK.\n",
      "WARNING:root:CBC solver not installed. Using GLPK.\n",
      "WARNING:root:CBC solver not installed. Using GLPK.\n",
      "WARNING:root:CBC solver not installed. Using GLPK.\n",
      "WARNING:root:CBC solver not installed. Using GLPK.\n",
      "WARNING:root:CBC solver not installed. Using GLPK.\n",
      "WARNING:root:CBC solver not installed. Using GLPK.\n",
      "WARNING:root:CBC solver not installed. Using GLPK.\n",
      "WARNING:root:CBC solver not installed. Using GLPK.\n",
      "WARNING:root:CBC solver not installed. Using GLPK.\n",
      "WARNING:root:CBC solver not installed. Using GLPK.\n",
      "WARNING:root:CBC solver not installed. Using GLPK.\n",
      "WARNING:root:CBC solver not installed. Using GLPK.\n",
      "WARNING:root:CBC solver not installed. Using GLPK.\n",
      "WARNING:root:CBC solver not installed. Using GLPK.\n",
      "WARNING:root:CBC solver not installed. Using GLPK.\n",
      "WARNING:root:CBC solver not installed. Using GLPK.\n",
      "WARNING:root:CBC solver not installed. Using GLPK.\n",
      "WARNING:root:CBC solver not installed. Using GLPK.\n",
      "WARNING:root:CBC solver not installed. Using GLPK.\n",
      "WARNING:root:CBC solver not installed. Using GLPK.\n",
      "WARNING:root:CBC solver not installed. Using GLPK.\n",
      "WARNING:root:CBC solver not installed. Using GLPK.\n",
      "WARNING:root:CBC solver not installed. Using GLPK.\n",
      "WARNING:root:CBC solver not installed. Using GLPK.\n",
      "WARNING:root:CBC solver not installed. Using GLPK.\n",
      "WARNING:root:CBC solver not installed. Using GLPK.\n",
      "WARNING:root:CBC solver not installed. Using GLPK.\n",
      "WARNING:root:CBC solver not installed. Using GLPK.\n",
      "WARNING:root:CBC solver not installed. Using GLPK.\n",
      "WARNING:root:CBC solver not installed. Using GLPK.\n",
      "WARNING:root:CBC solver not installed. Using GLPK.\n",
      "WARNING:root:CBC solver not installed. Using GLPK.\n",
      "WARNING:root:CBC solver not installed. Using GLPK.\n",
      "WARNING:root:CBC solver not installed. Using GLPK.\n",
      "WARNING:root:CBC solver not installed. Using GLPK.\n",
      "WARNING:root:CBC solver not installed. Using GLPK.\n",
      "WARNING:root:CBC solver not installed. Using GLPK.\n",
      "WARNING:root:CBC solver not installed. Using GLPK.\n",
      "WARNING:root:CBC solver not installed. Using GLPK.\n",
      "WARNING:root:CBC solver not installed. Using GLPK.\n",
      "WARNING:root:CBC solver not installed. Using GLPK.\n",
      "WARNING:root:CBC solver not installed. Using GLPK.\n",
      "WARNING:root:CBC solver not installed. Using GLPK.\n",
      "WARNING:root:CBC solver not installed. Using GLPK.\n",
      "WARNING:root:CBC solver not installed. Using GLPK.\n",
      "WARNING:root:CBC solver not installed. Using GLPK.\n",
      "WARNING:root:CBC solver not installed. Using GLPK.\n",
      "WARNING:root:CBC solver not installed. Using GLPK.\n",
      "WARNING:root:CBC solver not installed. Using GLPK.\n",
      "WARNING:root:CBC solver not installed. Using GLPK.\n",
      "WARNING:root:CBC solver not installed. Using GLPK.\n",
      "WARNING:root:CBC solver not installed. Using GLPK.\n",
      "WARNING:root:CBC solver not installed. Using GLPK.\n",
      "WARNING:root:CBC solver not installed. Using GLPK.\n",
      "WARNING:root:CBC solver not installed. Using GLPK.\n",
      "WARNING:root:CBC solver not installed. Using GLPK.\n",
      "WARNING:root:CBC solver not installed. Using GLPK.\n",
      "WARNING:root:CBC solver not installed. Using GLPK.\n",
      "WARNING:root:CBC solver not installed. Using GLPK.\n",
      "WARNING:root:CBC solver not installed. Using GLPK.\n",
      "WARNING:root:CBC solver not installed. Using GLPK.\n",
      "WARNING:root:CBC solver not installed. Using GLPK.\n",
      "WARNING:root:CBC solver not installed. Using GLPK.\n",
      "WARNING:root:CBC solver not installed. Using GLPK.\n",
      "WARNING:root:CBC solver not installed. Using GLPK.\n",
      "WARNING:root:CBC solver not installed. Using GLPK.\n",
      "WARNING:root:CBC solver not installed. Using GLPK.\n",
      "WARNING:root:CBC solver not installed. Using GLPK.\n",
      "WARNING:root:CBC solver not installed. Using GLPK.\n",
      "WARNING:root:CBC solver not installed. Using GLPK.\n",
      "WARNING:root:CBC solver not installed. Using GLPK.\n",
      "WARNING:root:CBC solver not installed. Using GLPK.\n",
      "WARNING:root:CBC solver not installed. Using GLPK.\n",
      "WARNING:root:CBC solver not installed. Using GLPK.\n",
      "WARNING:root:CBC solver not installed. Using GLPK.\n",
      "WARNING:root:CBC solver not installed. Using GLPK.\n",
      "WARNING:root:CBC solver not installed. Using GLPK.\n",
      "WARNING:root:CBC solver not installed. Using GLPK.\n",
      "WARNING:root:CBC solver not installed. Using GLPK.\n",
      "WARNING:root:CBC solver not installed. Using GLPK.\n",
      "WARNING:root:CBC solver not installed. Using GLPK.\n",
      "WARNING:root:CBC solver not installed. Using GLPK.\n",
      "WARNING:root:CBC solver not installed. Using GLPK.\n",
      "WARNING:root:CBC solver not installed. Using GLPK.\n",
      "WARNING:root:CBC solver not installed. Using GLPK.\n",
      "WARNING:root:CBC solver not installed. Using GLPK.\n",
      "WARNING:root:CBC solver not installed. Using GLPK.\n",
      "WARNING:root:CBC solver not installed. Using GLPK.\n",
      "WARNING:root:CBC solver not installed. Using GLPK.\n",
      "WARNING:root:CBC solver not installed. Using GLPK.\n",
      "WARNING:root:CBC solver not installed. Using GLPK.\n",
      "WARNING:root:CBC solver not installed. Using GLPK.\n",
      "WARNING:root:CBC solver not installed. Using GLPK.\n",
      "WARNING:root:CBC solver not installed. Using GLPK.\n",
      "WARNING:root:CBC solver not installed. Using GLPK.\n",
      "WARNING:root:CBC solver not installed. Using GLPK.\n",
      "WARNING:root:CBC solver not installed. Using GLPK.\n",
      "WARNING:root:CBC solver not installed. Using GLPK.\n",
      "WARNING:root:CBC solver not installed. Using GLPK.\n",
      "WARNING:root:CBC solver not installed. Using GLPK.\n",
      "WARNING:root:CBC solver not installed. Using GLPK.\n",
      "WARNING:root:CBC solver not installed. Using GLPK.\n",
      "WARNING:root:CBC solver not installed. Using GLPK.\n",
      "WARNING:root:CBC solver not installed. Using GLPK.\n",
      "WARNING:root:CBC solver not installed. Using GLPK.\n",
      "WARNING:root:CBC solver not installed. Using GLPK.\n",
      "WARNING:root:CBC solver not installed. Using GLPK.\n",
      "WARNING:root:CBC solver not installed. Using GLPK.\n",
      "WARNING:root:CBC solver not installed. Using GLPK.\n",
      "WARNING:root:CBC solver not installed. Using GLPK.\n",
      "WARNING:root:CBC solver not installed. Using GLPK.\n",
      "WARNING:root:CBC solver not installed. Using GLPK.\n",
      "WARNING:root:CBC solver not installed. Using GLPK.\n",
      "WARNING:root:CBC solver not installed. Using GLPK.\n",
      "WARNING:root:CBC solver not installed. Using GLPK.\n",
      "WARNING:root:CBC solver not installed. Using GLPK.\n",
      "WARNING:root:CBC solver not installed. Using GLPK.\n",
      "WARNING:root:CBC solver not installed. Using GLPK.\n",
      "WARNING:root:CBC solver not installed. Using GLPK.\n",
      "WARNING:root:CBC solver not installed. Using GLPK.\n",
      "WARNING:root:CBC solver not installed. Using GLPK.\n",
      "WARNING:root:CBC solver not installed. Using GLPK.\n",
      "WARNING:root:CBC solver not installed. Using GLPK.\n",
      "WARNING:root:CBC solver not installed. Using GLPK.\n",
      "WARNING:root:CBC solver not installed. Using GLPK.\n",
      "WARNING:root:CBC solver not installed. Using GLPK.\n",
      "WARNING:root:CBC solver not installed. Using GLPK.\n",
      "WARNING:root:CBC solver not installed. Using GLPK.\n",
      "WARNING:root:CBC solver not installed. Using GLPK.\n",
      "WARNING:root:CBC solver not installed. Using GLPK.\n",
      "WARNING:root:CBC solver not installed. Using GLPK.\n",
      "WARNING:root:CBC solver not installed. Using GLPK.\n",
      "WARNING:root:CBC solver not installed. Using GLPK.\n",
      "WARNING:root:CBC solver not installed. Using GLPK.\n",
      "WARNING:root:CBC solver not installed. Using GLPK.\n",
      "WARNING:root:CBC solver not installed. Using GLPK.\n",
      "WARNING:root:CBC solver not installed. Using GLPK.\n",
      "WARNING:root:CBC solver not installed. Using GLPK.\n",
      "WARNING:root:CBC solver not installed. Using GLPK.\n",
      "WARNING:root:CBC solver not installed. Using GLPK.\n",
      "WARNING:root:CBC solver not installed. Using GLPK.\n",
      "WARNING:root:CBC solver not installed. Using GLPK.\n",
      "WARNING:root:CBC solver not installed. Using GLPK.\n",
      "WARNING:root:CBC solver not installed. Using GLPK.\n",
      "WARNING:root:CBC solver not installed. Using GLPK.\n",
      "WARNING:root:CBC solver not installed. Using GLPK.\n",
      "WARNING:root:CBC solver not installed. Using GLPK.\n",
      "WARNING:root:CBC solver not installed. Using GLPK.\n",
      "WARNING:root:CBC solver not installed. Using GLPK.\n",
      "WARNING:root:CBC solver not installed. Using GLPK.\n",
      "WARNING:root:CBC solver not installed. Using GLPK.\n",
      "WARNING:root:CBC solver not installed. Using GLPK.\n",
      "WARNING:root:CBC solver not installed. Using GLPK.\n",
      "WARNING:root:CBC solver not installed. Using GLPK.\n",
      "WARNING:root:CBC solver not installed. Using GLPK.\n",
      "WARNING:root:CBC solver not installed. Using GLPK.\n",
      "WARNING:root:CBC solver not installed. Using GLPK.\n",
      "WARNING:root:CBC solver not installed. Using GLPK.\n",
      "WARNING:root:CBC solver not installed. Using GLPK.\n",
      "WARNING:root:CBC solver not installed. Using GLPK.\n",
      "WARNING:root:CBC solver not installed. Using GLPK.\n",
      "WARNING:root:CBC solver not installed. Using GLPK.\n",
      "WARNING:root:CBC solver not installed. Using GLPK.\n",
      "WARNING:root:CBC solver not installed. Using GLPK.\n",
      "WARNING:root:CBC solver not installed. Using GLPK.\n",
      "WARNING:root:CBC solver not installed. Using GLPK.\n",
      "WARNING:root:CBC solver not installed. Using GLPK.\n",
      "WARNING:root:CBC solver not installed. Using GLPK.\n",
      "WARNING:root:CBC solver not installed. Using GLPK.\n",
      "WARNING:root:CBC solver not installed. Using GLPK.\n",
      "WARNING:root:CBC solver not installed. Using GLPK.\n",
      "WARNING:root:CBC solver not installed. Using GLPK.\n",
      "WARNING:root:CBC solver not installed. Using GLPK.\n",
      "WARNING:root:CBC solver not installed. Using GLPK.\n",
      "WARNING:root:CBC solver not installed. Using GLPK.\n",
      "WARNING:root:CBC solver not installed. Using GLPK.\n",
      "WARNING:root:CBC solver not installed. Using GLPK.\n",
      "WARNING:root:CBC solver not installed. Using GLPK.\n",
      "WARNING:root:CBC solver not installed. Using GLPK.\n",
      "WARNING:root:CBC solver not installed. Using GLPK.\n",
      "WARNING:root:CBC solver not installed. Using GLPK.\n",
      "WARNING:root:CBC solver not installed. Using GLPK.\n",
      "WARNING:root:CBC solver not installed. Using GLPK.\n",
      "WARNING:root:CBC solver not installed. Using GLPK.\n",
      "WARNING:root:CBC solver not installed. Using GLPK.\n",
      "WARNING:root:CBC solver not installed. Using GLPK.\n",
      "WARNING:root:CBC solver not installed. Using GLPK.\n",
      "WARNING:root:CBC solver not installed. Using GLPK.\n",
      "WARNING:root:CBC solver not installed. Using GLPK.\n",
      "WARNING:root:CBC solver not installed. Using GLPK.\n",
      "WARNING:root:CBC solver not installed. Using GLPK.\n",
      "WARNING:root:CBC solver not installed. Using GLPK.\n",
      "WARNING:root:CBC solver not installed. Using GLPK.\n",
      "WARNING:root:CBC solver not installed. Using GLPK.\n",
      "WARNING:root:CBC solver not installed. Using GLPK.\n",
      "WARNING:root:CBC solver not installed. Using GLPK.\n",
      "WARNING:root:CBC solver not installed. Using GLPK.\n",
      "WARNING:root:CBC solver not installed. Using GLPK.\n",
      "WARNING:root:CBC solver not installed. Using GLPK.\n",
      "WARNING:root:CBC solver not installed. Using GLPK.\n",
      "WARNING:root:CBC solver not installed. Using GLPK.\n",
      "WARNING:root:CBC solver not installed. Using GLPK.\n",
      "WARNING:root:CBC solver not installed. Using GLPK.\n",
      "WARNING:root:CBC solver not installed. Using GLPK.\n",
      "WARNING:root:CBC solver not installed. Using GLPK.\n",
      "WARNING:root:CBC solver not installed. Using GLPK.\n",
      "WARNING:root:CBC solver not installed. Using GLPK.\n",
      "WARNING:root:CBC solver not installed. Using GLPK.\n",
      "WARNING:root:CBC solver not installed. Using GLPK.\n",
      "WARNING:root:CBC solver not installed. Using GLPK.\n",
      "WARNING:root:CBC solver not installed. Using GLPK.\n",
      "WARNING:root:CBC solver not installed. Using GLPK.\n",
      "WARNING:root:CBC solver not installed. Using GLPK.\n",
      "WARNING:root:CBC solver not installed. Using GLPK.\n",
      "WARNING:root:CBC solver not installed. Using GLPK.\n"
     ]
    },
    {
     "name": "stdout",
     "output_type": "stream",
     "text": [
      "The gamma agreement is 0.7639100376330488\n"
     ]
    }
   ],
   "source": [
    "# gamma agreement with default settings\n",
    "my_project.gamma_agreement(\n",
    "    annotation_collections=[annotation_collection_1, annotation_collection_2],\n",
    "    alpha=3,\n",
    "    beta=1,\n",
    "    delta_empty=0.01,\n",
    "    n_samples=30,\n",
    "    precision_level=0.01\n",
    ")"
   ]
  }
 ],
 "metadata": {
  "kernelspec": {
   "display_name": ".venv",
   "language": "python",
   "name": "python3"
  },
  "language_info": {
   "codemirror_mode": {
    "name": "ipython",
    "version": 3
   },
   "file_extension": ".py",
   "mimetype": "text/x-python",
   "name": "python",
   "nbconvert_exporter": "python",
   "pygments_lexer": "ipython3",
   "version": "3.9.13"
  }
 },
 "nbformat": 4,
 "nbformat_minor": 5
}
