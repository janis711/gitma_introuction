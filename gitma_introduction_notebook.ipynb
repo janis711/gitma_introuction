{
 "cells": [
  {
   "cell_type": "markdown",
   "id": "ff4f4ff2",
   "metadata": {},
   "source": [
    "# Gitma Introduction Notebook \n",
    "\n",
    "In the following Notebook, you will learn how to import and process your CATMA Annotations with the Python package Gitma. \n",
    "\n"
   ]
  },
  {
   "cell_type": "markdown",
   "id": "7f6d17ca",
   "metadata": {},
   "source": [
    "## Table of Contents\n",
    "\n",
    "1. [Get a Catma access token](#1-get-a-catma-access-token)\n",
    "2. [Import the `Catma` class and load your CATMA profile](#2-import-the-catma-class-and-load-your-catma-profile)\n",
    "3. [Clone and load a CATMA project](#3-clone-and-load-a-catma-project)\n",
    "4. [General project stats](#4-general-project-stats)\n",
    "5. [Annotation overview for the entire project](#5-annotation-overview-for-the-entire-project)\n",
    "6. [Plot annotations for a specified annotation collection](#6-annotation-stats-by-tags)\n",
    "   1. [Scatter plot](#61-scatter-plot)\n",
    "   2. [Cooccurrence network](#62-cooccurrence-network)\n",
    "   3. [Annotation collection as Pandas DataFrame](#63-annotation-collection-as-pandas-dataframe)\n",
    "7. [Annotation stats by tags](#7-annotation-stats-by-tags)\n",
    "8. [Inter Annotator Agreement (IAA) with gitma](#8-inter-annotator-agreement-iaa-with-gitma)\n",
    "   1. [`get_iaa`](#81-get_iaa)\n",
    "   2. [Filter by tags](#82-filter-by-tags)\n",
    "   3. [Compare annotation properties](#83-compare-annotation-properties)"
   ]
  },
  {
   "cell_type": "markdown",
   "id": "b73ad6b2",
   "metadata": {},
   "source": [
    "## 1. Get a Catma access token\n",
    "\n",
    "To get access to your annotations on Catma you need to get a personal access Token. You can get this token on the CATMA Website after logging into your account. \n",
    "\n",
    "![Get access token](img/access_token_ui.png)"
   ]
  },
  {
   "cell_type": "markdown",
   "id": "9ae312cd",
   "metadata": {},
   "source": [
    "## 2. Import the `Catma` class and load your CATMA profile"
   ]
  },
  {
   "cell_type": "code",
   "execution_count": null,
   "id": "51123159",
   "metadata": {},
   "outputs": [],
   "source": [
    "\n",
    "from gitma import Catma\n",
    "\n",
    "# my_access_token = 'insert your access token here'\n",
    "# my_catma = Catma(gitlab_access_token=my_access_token)\n",
    "\n"
   ]
  },
  {
   "cell_type": "markdown",
   "id": "aae96679",
   "metadata": {},
   "source": [
    "First, let's look at your CATMA projects"
   ]
  },
  {
   "cell_type": "code",
   "execution_count": null,
   "id": "9259eb69",
   "metadata": {},
   "outputs": [],
   "source": [
    "# my_catma.project_name_list"
   ]
  },
  {
   "cell_type": "markdown",
   "id": "8a430f74",
   "metadata": {},
   "source": [
    "\n",
    "## 3. Clone and load a CATMA project\n",
    "\n",
    "The `Catma` class instance can be used to clone and load a CATMA project. The only neccessary argument is the project's name. Optionally, a different destination directory can be specified.\n"
   ]
  },
  {
   "cell_type": "code",
   "execution_count": null,
   "id": "e6634110",
   "metadata": {},
   "outputs": [],
   "source": [
    "\n",
    "my_project_name = 'GitMA_Demo_Project'\n",
    "\n",
    "# my_catma.load_project_from_gitlab(\n",
    "#     project_name=my_project_name, \n",
    "#     backup_directory='projects/'\n",
    "# )"
   ]
  },
  {
   "cell_type": "markdown",
   "id": "6ee5c6da",
   "metadata": {},
   "source": [
    "If a project was previously loaded from CATMA's GitLab backend, and you try to do so again, the operation will fail because the project already exists in the destination directory. If you want to fetch a fresh copy (that is, clone the project again) you need to delete or rename the existing project directory. Once you got your project from GitLab you can load it as a CatmaProject as shown below."
   ]
  },
  {
   "cell_type": "code",
   "execution_count": null,
   "id": "0394fce7",
   "metadata": {},
   "outputs": [],
   "source": [
    "from gitma import CatmaProject\n",
    "\n",
    "my_project = CatmaProject(\n",
    "    projects_directory='projects/',\n",
    "    project_name=my_project_name\n",
    ")"
   ]
  },
  {
   "cell_type": "markdown",
   "id": "9bd4f126",
   "metadata": {},
   "source": [
    "## 4. General project stats\n",
    "\n",
    "The `stats()` method shows you some metadata about your annotation collections."
   ]
  },
  {
   "cell_type": "code",
   "execution_count": null,
   "id": "a9a34561",
   "metadata": {},
   "outputs": [],
   "source": [
    "my_project.stats()"
   ]
  },
  {
   "cell_type": "markdown",
   "id": "99353c66",
   "metadata": {},
   "source": [
    "\n",
    "## 5. Annotation overview for the entire project\n",
    "\n",
    "Using the method `plot_annotations()` the annotations of each annotation collection and each document are plotted as a single subplot.\n",
    "By clicking on the legend entries you can deactivate specific annotation collections within the plot. By hovering over the scatter point every annotation can be explored.\n"
   ]
  },
  {
   "cell_type": "code",
   "execution_count": null,
   "id": "ccb2d706",
   "metadata": {},
   "outputs": [],
   "source": [
    "my_project.plot_annotations()"
   ]
  },
  {
   "cell_type": "markdown",
   "id": "b3fa0476",
   "metadata": {},
   "source": [
    "The plot can be customized by the `color_col` parameter, for example to visualize annotation properties..."
   ]
  },
  {
   "cell_type": "code",
   "execution_count": null,
   "id": "f0d10750",
   "metadata": {},
   "outputs": [],
   "source": [
    "my_project.plot_annotations(color_col='prop:representation_type')"
   ]
  },
  {
   "cell_type": "markdown",
   "id": "cebbb916",
   "metadata": {},
   "source": [
    ".. or the annotators..."
   ]
  },
  {
   "cell_type": "code",
   "execution_count": null,
   "id": "0db38f33",
   "metadata": {},
   "outputs": [],
   "source": [
    "my_project.plot_annotations(color_col='annotator')"
   ]
  },
  {
   "cell_type": "markdown",
   "id": "eeb04748",
   "metadata": {},
   "source": [
    "\n",
    "## 6. Plot annotations for a specified annotation collection\n",
    "\n",
    "For this we need to specify one annotation collection. To get an overview over all annotation collections in our project we can use the `annotation_collections`attribute of the CatmaProject class that contains a list of all annotation collections. We inspect the list as schown below."
   ]
  },
  {
   "cell_type": "code",
   "execution_count": null,
   "id": "d5eea912",
   "metadata": {},
   "outputs": [],
   "source": [
    "for ac in my_project.annotation_collections:\n",
    "    print(ac.name)"
   ]
  },
  {
   "cell_type": "markdown",
   "id": "86151063",
   "metadata": {},
   "source": [
    "We can now specify the annotation collection that we want to inspect. "
   ]
  },
  {
   "cell_type": "code",
   "execution_count": null,
   "id": "f9e9d6db",
   "metadata": {},
   "outputs": [],
   "source": [
    "my_annotation_collection = 'ac_2'"
   ]
  },
  {
   "cell_type": "markdown",
   "id": "a217d4c0",
   "metadata": {},
   "source": [
    "\n",
    "### 6.1 Scatter plot\n",
    "\n",
    "The annotations of single annotation collections can be plotted as an interactive Plotly scatter plot, too. The annotations can be explored with respect to:\n",
    "\n",
    "- their tag: y-axis\n",
    "- their text position: x-axis\n",
    "- the annotated text passages: mouse over\n",
    "- their properties: mouse over"
   ]
  },
  {
   "cell_type": "code",
   "execution_count": null,
   "id": "47bbcd95",
   "metadata": {},
   "outputs": [],
   "source": [
    "my_project.ac_dict[my_annotation_collection].plot_annotations()"
   ]
  },
  {
   "cell_type": "markdown",
   "id": "d9fc3f83",
   "metadata": {},
   "source": [
    "You can customize the plot by choosing annotation properties for the y_axis and the scatter color."
   ]
  },
  {
   "cell_type": "code",
   "execution_count": null,
   "id": "301ff9a7",
   "metadata": {},
   "outputs": [],
   "source": [
    "my_project.ac_dict[my_annotation_collection].plot_annotations(y_axis='prop:representation_type')"
   ]
  },
  {
   "cell_type": "code",
   "execution_count": null,
   "id": "7dc73ad2",
   "metadata": {},
   "outputs": [],
   "source": [
    "my_project.ac_dict[my_annotation_collection].plot_annotations(\n",
    "    y_axis='annotator',\n",
    "    color_prop='prop:representation_type'\n",
    ")"
   ]
  },
  {
   "cell_type": "markdown",
   "id": "666db007",
   "metadata": {},
   "source": [
    "### 6.2 Cooccurrence network\n",
    "\n",
    "An alternative way to visualize annotation collections is using networks. They can be used to get an insight into the cooccurrence of annotations."
   ]
  },
  {
   "cell_type": "code",
   "execution_count": null,
   "id": "a7490353",
   "metadata": {},
   "outputs": [],
   "source": [
    "my_project.ac_dict[my_annotation_collection].cooccurrence_network()"
   ]
  },
  {
   "cell_type": "markdown",
   "id": "27bd443e",
   "metadata": {},
   "source": [
    "\n",
    "The networks can be customized by the following optional parameters:\n",
    "\n",
    "    character_distance: the text span within which two annotations are considered to be cooccurrent. The default is 100 characters.\n",
    "    included_tags: a list of tags that are included when drawing the graph\n",
    "    excluded_tags: a list of tags that are excluded when drawing the graph"
   ]
  },
  {
   "cell_type": "code",
   "execution_count": null,
   "id": "e3e9582c",
   "metadata": {},
   "outputs": [],
   "source": [
    "# TODO Evtl. an Demo Projekt anpassen \n",
    "my_project.ac_dict[my_annotation_collection].cooccurrence_network(\n",
    "    character_distance=50,\n",
    "    included_tags=['process_event', 'stative_event'],\n",
    "    excluded_tags=None\n",
    ")"
   ]
  },
  {
   "cell_type": "markdown",
   "id": "f4cd8bcc",
   "metadata": {},
   "source": [
    "### 6.3 Annotation collection as Pandas DataFrame"
   ]
  },
  {
   "cell_type": "code",
   "execution_count": null,
   "id": "dfe69180",
   "metadata": {},
   "outputs": [],
   "source": [
    "my_project.ac_dict[my_annotation_collection].df"
   ]
  },
  {
   "cell_type": "markdown",
   "id": "77087a32",
   "metadata": {},
   "source": [
    "## 7. Annotation stats by tags\n",
    "\n",
    "The `tag_stats()` method counts, for each tag:\n",
    "\n",
    "- the number of annotations\n",
    "- the full text span annotated by the tag\n",
    "- the average text span of the annotations\n",
    "- the most frequent tokens (here, it is possible to define a stopword list)"
   ]
  },
  {
   "cell_type": "code",
   "execution_count": null,
   "id": "40b9aa8d",
   "metadata": {},
   "outputs": [],
   "source": [
    "my_project.ac_dict[my_annotation_collection].tag_stats(ranking=5)"
   ]
  },
  {
   "cell_type": "markdown",
   "id": "bf7c289d",
   "metadata": {},
   "source": [
    "Additionally, you can use the method for properties (if you used any in the annotation process) and different annotators:"
   ]
  },
  {
   "cell_type": "code",
   "execution_count": null,
   "id": "30515364",
   "metadata": {},
   "outputs": [],
   "source": [
    "my_project.ac_dict[my_annotation_collection].tag_stats(tag_col='prop:representation_type', ranking=3, stopwords=['a', 'to', 'the'])"
   ]
  },
  {
   "cell_type": "markdown",
   "id": "5994c620",
   "metadata": {},
   "source": [
    "Above, every row shows the data for the different property values."
   ]
  },
  {
   "cell_type": "code",
   "execution_count": null,
   "id": "35ad606a",
   "metadata": {},
   "outputs": [],
   "source": [
    "my_project.ac_dict[my_annotation_collection].tag_stats(tag_col='annotator', ranking=3)"
   ]
  },
  {
   "cell_type": "markdown",
   "id": "f6f5c386",
   "metadata": {},
   "source": [
    "Above, every row shows the data for the different annotators."
   ]
  },
  {
   "cell_type": "markdown",
   "id": "148d3610",
   "metadata": {},
   "source": [
    "## 8. Inter Annotator Agreement (IAA) with gitma\n",
    "\n",
    "### 8.1 `get_iaa`\n",
    "\n",
    "For every annotation in annotation collection 1 (ac1_name_or_inst) the get_iaa method searches for the best matching annotation in annotation collection 2 (ac2_name_or_inst) with respect to its annotation text span.\n",
    "\n",
    "First, we will take look at both annotation collections by comparing the annotation spans."
   ]
  },
  {
   "cell_type": "code",
   "execution_count": null,
   "id": "0011516b",
   "metadata": {},
   "outputs": [],
   "source": [
    "# compare the annotation collections by start point\n",
    "my_project.compare_annotation_collections(\n",
    "    annotation_collections=['ac_1', 'ac_2']\n",
    ")"
   ]
  },
  {
   "cell_type": "markdown",
   "id": "0e44d04a",
   "metadata": {},
   "source": [
    "As the line plot shows, every annotation in annotation collection 'ac_1' has a matching annotation in annotation collection 'ac_2'.\n",
    "\n",
    "Now, let's compute the IAA for all matching annotations:"
   ]
  },
  {
   "cell_type": "code",
   "execution_count": null,
   "id": "adb2e1f2",
   "metadata": {},
   "outputs": [],
   "source": [
    "my_project.get_iaa(\n",
    "    ac1_name_or_inst='ac_1',\n",
    "    ac2_name_or_inst='ac_2'\n",
    ")"
   ]
  },
  {
   "cell_type": "markdown",
   "id": "cefbba6b",
   "metadata": {},
   "source": [
    "The get_iaa method not only returns 3 different agreement scores, but also reports the number of annotation pairs considered when computing the IAA scores and the average overlap of the annotation pairs. Additionally, the method returns a confusion matrix to give an insight into the relation between the tags. As you can see in the matrix, in 2 cases an annotation with the tag 'non_event' in annotation collection 1 has a best match in annotation collection 2 with the same tag. Compare this with the line plot above."
   ]
  },
  {
   "cell_type": "markdown",
   "id": "8d419d5b",
   "metadata": {},
   "source": [
    "### 8.2 Filter by tags\n",
    "\n",
    "There may occur cases in which you don't want to include all annotations in the computing of the IAA scores. In those cases just use the tag_filter parameter, which expects a list of tag names."
   ]
  },
  {
   "cell_type": "code",
   "execution_count": null,
   "id": "6202efd0",
   "metadata": {},
   "outputs": [],
   "source": [
    "my_project.get_iaa(\n",
    "    ac1_name_or_inst='ac_1',\n",
    "    ac2_name_or_inst='ac_2',\n",
    "    tag_filter=['process_event']\n",
    ")"
   ]
  },
  {
   "cell_type": "markdown",
   "id": "569fbf62",
   "metadata": {},
   "source": [
    "### 8.3 Compare annotation properties\n",
    "\n",
    "The tag is only one level of CATMA annotations. If you want to compare annotations by their properties this is possible too. In the demo project the annotations have the property 'representation_type' to evaluate if a speech or mental event is referenced in the text:"
   ]
  },
  {
   "cell_type": "code",
   "execution_count": null,
   "id": "95b9d9ec",
   "metadata": {},
   "outputs": [],
   "source": [
    "my_project.compare_annotation_collections(\n",
    "    annotation_collections=['ac_1', 'ac_2'],\n",
    "    color_col='prop:representation_type'\n",
    ")"
   ]
  },
  {
   "cell_type": "markdown",
   "id": "8bd57d9c",
   "metadata": {},
   "source": [
    "To compute the agreement of annotation properties you just need to use the level parameter:"
   ]
  },
  {
   "cell_type": "code",
   "execution_count": null,
   "id": "d47ce1f9",
   "metadata": {},
   "outputs": [],
   "source": [
    "my_project.get_iaa(\n",
    "    ac1_name_or_inst='ac_1',\n",
    "    ac2_name_or_inst='ac_2',\n",
    "    level='prop:representation_type'\n",
    ")"
   ]
  }
 ],
 "metadata": {
  "kernelspec": {
   "display_name": ".venv",
   "language": "python",
   "name": "python3"
  },
  "language_info": {
   "codemirror_mode": {
    "name": "ipython",
    "version": 3
   },
   "file_extension": ".py",
   "mimetype": "text/x-python",
   "name": "python",
   "nbconvert_exporter": "python",
   "pygments_lexer": "ipython3",
   "version": "3.9.13"
  }
 },
 "nbformat": 4,
 "nbformat_minor": 5
}
