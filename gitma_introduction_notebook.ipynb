{
 "cells": [
  {
   "cell_type": "markdown",
   "id": "ff4f4ff2",
   "metadata": {},
   "source": [
    "# Gitma Introduction Notebook \n",
    "\n",
    "In the following Notebook, you will learn how to import and process your CATMA Annotations with the Python package Gitma. \n",
    "\n"
   ]
  },
  {
   "cell_type": "markdown",
   "id": "7f6d17ca",
   "metadata": {},
   "source": [
    "## Table of Contents"
   ]
  },
  {
   "cell_type": "markdown",
   "id": "b73ad6b2",
   "metadata": {},
   "source": [
    "## Get a Catma access token\n",
    "\n",
    "To get access to your annotations on Catma you need to get a personal access Token. You can get this token on the CATMA Website after logging into your account. \n",
    "\n",
    "![Get access token](img/access_token_ui.png)"
   ]
  },
  {
   "cell_type": "markdown",
   "id": "9ae312cd",
   "metadata": {},
   "source": [
    "## Import the `Catma` class and load your CATMA profile"
   ]
  },
  {
   "cell_type": "code",
   "execution_count": 3,
   "id": "51123159",
   "metadata": {},
   "outputs": [],
   "source": [
    "\n",
    "from gitma import Catma\n",
    "\n",
    "# my_access_token = 'insert your access token here'\n",
    "# my_catma = Catma(gitlab_access_token=my_access_token)\n",
    "\n"
   ]
  },
  {
   "cell_type": "markdown",
   "id": "aae96679",
   "metadata": {},
   "source": [
    "First, let's look at your CATMA projects"
   ]
  },
  {
   "cell_type": "code",
   "execution_count": 4,
   "id": "9259eb69",
   "metadata": {},
   "outputs": [],
   "source": [
    "# my_catma.project_name_list"
   ]
  },
  {
   "cell_type": "markdown",
   "id": "8a430f74",
   "metadata": {},
   "source": [
    "\n",
    "## Clone and load a CATMA project\n",
    "\n",
    "The `Catma` class instance can be used to clone and load a CATMA project. The only neccessary argument is the project's name. Optionally, a different destination directory can be specified.\n"
   ]
  },
  {
   "cell_type": "code",
   "execution_count": 5,
   "id": "e6634110",
   "metadata": {},
   "outputs": [],
   "source": [
    "\n",
    "my_project_name = 'GitMA_Demo_Project'\n",
    "\n",
    "# my_catma.load_project_from_gitlab(\n",
    "#     project_name=my_project_name, \n",
    "#     backup_directory='projects/'\n",
    "# )"
   ]
  },
  {
   "cell_type": "markdown",
   "id": "6ee5c6da",
   "metadata": {},
   "source": [
    "If a project was previously loaded from CATMA's GitLab backend, and you try to do so again, the operation will fail because the project already exists in the destination directory. If you want to fetch a fresh copy (that is, clone the project again) you need to delete or rename the existing project directory. Once you got your project from GitLab you can load it as a CatmaProject as shown below."
   ]
  },
  {
   "cell_type": "code",
   "execution_count": 6,
   "id": "0394fce7",
   "metadata": {},
   "outputs": [
    {
     "name": "stdout",
     "output_type": "stream",
     "text": [
      "Loading tagsets ...\n",
      "\tFound 1 tagset(s).\n",
      "Loading documents ...\n",
      "\tFound 1 document(s).\n",
      "Loading annotation collections ...\n",
      "\tFound 3 annotation collection(s).\n",
      "\tAnnotation collection \"gold_annotation\" for document \"The Metamorphosis\"\n",
      "\t\tAnnotations: 0\n",
      "\tAnnotation collection \"ac_2\" for document \"The Metamorphosis\"\n",
      "\t\tAnnotations: 19\n",
      "\tAnnotation collection \"ac_1\" for document \"The Metamorphosis\"\n",
      "\t\tAnnotations: 20\n"
     ]
    }
   ],
   "source": [
    "from gitma import CatmaProject\n",
    "\n",
    "my_project = CatmaProject(\n",
    "    projects_directory='projects/',\n",
    "    project_name=my_project_name\n",
    ")"
   ]
  },
  {
   "cell_type": "markdown",
   "id": "9bd4f126",
   "metadata": {},
   "source": [
    "## General project stats\n",
    "\n",
    "The `stats()` method shows you some metadata about your annotation collections."
   ]
  },
  {
   "cell_type": "code",
   "execution_count": 7,
   "id": "a9a34561",
   "metadata": {},
   "outputs": [
    {
     "data": {
      "text/html": [
       "<div>\n",
       "<style scoped>\n",
       "    .dataframe tbody tr th:only-of-type {\n",
       "        vertical-align: middle;\n",
       "    }\n",
       "\n",
       "    .dataframe tbody tr th {\n",
       "        vertical-align: top;\n",
       "    }\n",
       "\n",
       "    .dataframe thead th {\n",
       "        text-align: right;\n",
       "    }\n",
       "</style>\n",
       "<table border=\"1\" class=\"dataframe\">\n",
       "  <thead>\n",
       "    <tr style=\"text-align: right;\">\n",
       "      <th></th>\n",
       "      <th>annotation collection</th>\n",
       "      <th>document</th>\n",
       "      <th>annotations</th>\n",
       "      <th>annotator</th>\n",
       "      <th>tag</th>\n",
       "      <th>first_annotation</th>\n",
       "      <th>last_annotation</th>\n",
       "      <th>uuid</th>\n",
       "    </tr>\n",
       "  </thead>\n",
       "  <tbody>\n",
       "    <tr>\n",
       "      <th>0</th>\n",
       "      <td>ac_1</td>\n",
       "      <td>The Metamorphosis</td>\n",
       "      <td>20</td>\n",
       "      <td>{MVauth}</td>\n",
       "      <td>{change_of_state, process_event, stative_event...</td>\n",
       "      <td>2023-08-02 15:43:57.086000+02:00</td>\n",
       "      <td>2023-08-02 15:55:27.298000+02:00</td>\n",
       "      <td>C_F8552E35-F9BD-4544-A8C5-BD9114C80E43</td>\n",
       "    </tr>\n",
       "    <tr>\n",
       "      <th>1</th>\n",
       "      <td>ac_2</td>\n",
       "      <td>The Metamorphosis</td>\n",
       "      <td>19</td>\n",
       "      <td>{mvgoogle}</td>\n",
       "      <td>{change_of_state, process_event, stative_event...</td>\n",
       "      <td>2023-08-03 13:29:00.085000+02:00</td>\n",
       "      <td>2023-08-03 13:37:13.986000+02:00</td>\n",
       "      <td>C_D32D3AFF-98A6-4596-9B32-ABDC66445290</td>\n",
       "    </tr>\n",
       "  </tbody>\n",
       "</table>\n",
       "</div>"
      ],
      "text/plain": [
       "  annotation collection           document  annotations   annotator  \\\n",
       "0                  ac_1  The Metamorphosis           20    {MVauth}   \n",
       "1                  ac_2  The Metamorphosis           19  {mvgoogle}   \n",
       "\n",
       "                                                 tag  \\\n",
       "0  {change_of_state, process_event, stative_event...   \n",
       "1  {change_of_state, process_event, stative_event...   \n",
       "\n",
       "                  first_annotation                  last_annotation  \\\n",
       "0 2023-08-02 15:43:57.086000+02:00 2023-08-02 15:55:27.298000+02:00   \n",
       "1 2023-08-03 13:29:00.085000+02:00 2023-08-03 13:37:13.986000+02:00   \n",
       "\n",
       "                                     uuid  \n",
       "0  C_F8552E35-F9BD-4544-A8C5-BD9114C80E43  \n",
       "1  C_D32D3AFF-98A6-4596-9B32-ABDC66445290  "
      ]
     },
     "execution_count": 7,
     "metadata": {},
     "output_type": "execute_result"
    }
   ],
   "source": [
    "my_project.stats()"
   ]
  },
  {
   "cell_type": "markdown",
   "id": "99353c66",
   "metadata": {},
   "source": [
    "\n",
    "## Annotation overview for the entire project\n",
    "\n",
    "Using the method `plot_annotations()` the annotations of each annotation collection and each document are plotted as a single subplot.\n",
    "By clicking on the legend entries you can deactivate specific annotation collections within the plot. By hovering over the scatter point every annotation can be explored.\n"
   ]
  },
  {
   "cell_type": "code",
   "execution_count": 8,
   "id": "ccb2d706",
   "metadata": {},
   "outputs": [
    {
     "data": {
      "application/vnd.plotly.v1+json": {
       "config": {
        "plotlyServerURL": "https://plot.ly"
       },
       "data": [
        {
         "customdata": [
          [
           "<I><br>One morning, as Gregor Samsa was waking up from anxious<br>dreams<br></I>"
          ],
          [
           "<I><br>he discovered that in bed he had been changed into<br>a monstrous verminous bug<br></I>"
          ],
          [
           "<I><br>He lay on his armour-hard back<br></I>"
          ],
          [
           "<I><br>and saw his brown, arched abdomen divided up into rigid<br>bow-like sections<br></I>"
          ],
          [
           "<I><br>as he lifted his head up a little<br></I>"
          ],
          [
           "<I><br>From this height the blanket, just about ready to slide<br>off completely, could hardly stay in place<br></I>"
          ],
          [
           "<I><br>His numerous legs, pitifully thin in comparison to the rest<br>of his circumference, flickered helplessly before his eyes<br></I>"
          ],
          [
           "<I><br>What's happened to me<br></I>"
          ],
          [
           "<I><br>he thought<br></I>"
          ],
          [
           "<I><br>It was no dream<br></I>"
          ],
          [
           "<I><br>His room, a proper room for a human being, only<br>somewhat too small, lay quietly between the four well-known walls<br></I>"
          ],
          [
           "<I><br>Above the table, on which an unpacked collection of sample<br>cloth goods was spread out hung the picture<br></I>"
          ],
          [
           "<I><br>Samsa was a travelling salesman<br></I>"
          ],
          [
           "<I><br>which he had cut out of an illustrated magazine a<br>little while ago<br></I>"
          ],
          [
           "<I><br>and set in a pretty gilt frame<br></I>"
          ],
          [
           "<I><br>It was a picture of a woman with a fur<br>hat and a fur boa<br></I>"
          ],
          [
           "<I><br>She sat erect there<br></I>"
          ],
          [
           "<I><br>lifting up in the direction of the viewer a solid<br>fur muff<br></I>"
          ],
          [
           "<I><br>into which her entire forearm had disappeared<br></I>"
          ]
         ],
         "hovertemplate": "annotation collection=ac_2<br>document=The Metamorphosis<br>start_point=%{x}<br>tag=%{y}<br>ANNOTATION=%{customdata[0]}<extra></extra>",
         "legendgroup": "ac_2",
         "marker": {
          "color": "#093658",
          "symbol": "circle"
         },
         "mode": "markers",
         "name": "ac_2",
         "orientation": "h",
         "showlegend": true,
         "type": "scatter",
         "x": {
          "bdata": "AABAAI4ArQC2ABwBgAH6ARICHgIvAqIC+AIpA2wDjAPGA9sDFgQ=",
          "dtype": "i2"
         },
         "xaxis": "x",
         "y": [
          "process_event",
          "change_of_state",
          "stative_event",
          "process_event",
          "process_event",
          "stative_event",
          "stative_event",
          "non_event",
          "process_event",
          "non_event",
          "stative_event",
          "stative_event",
          "stative_event",
          "process_event",
          "process_event",
          "stative_event",
          "stative_event",
          "stative_event",
          "stative_event"
         ],
         "yaxis": "y"
        },
        {
         "customdata": [
          [
           "<I><br>One morning, as Gregor Samsa was waking up from anxious<br>dreams<br></I>"
          ],
          [
           "<I><br>he discovered that in bed he had been changed into<br>a monstrous verminous bug<br></I>"
          ],
          [
           "<I><br>He lay on his armour-hard back<br></I>"
          ],
          [
           "<I><br>and saw his brown, arched abdomen divided up into rigid<br>bow-like sections<br></I>"
          ],
          [
           "<I><br>as he lifted his head up a little<br></I>"
          ],
          [
           "<I><br>From this height the blanket, just about ready to slide<br>off completely, could hardly stay in place<br></I>"
          ],
          [
           "<I><br>His numerous legs, pitifully thin in comparison to the rest<br>of his circumference, flickered helplessly before his eyes<br></I>"
          ],
          [
           "<I><br>What's happened to me<br></I>"
          ],
          [
           "<I><br>he thought<br></I>"
          ],
          [
           "<I><br>It was no dream<br></I>"
          ],
          [
           "<I><br>His room, a proper room for a human being, only<br>somewhat too small, lay quietly between the four well-known walls<br></I>"
          ],
          [
           "<I><br>Above the table hung the picture<br></I>"
          ],
          [
           "<I><br>on which an unpacked collection of sample cloth goods was<br>spread out<br></I>"
          ],
          [
           "<I><br>Samsa was a travelling salesman<br></I>"
          ],
          [
           "<I><br>which he had cut out of an illustrated magazine a<br>little while ago<br></I>"
          ],
          [
           "<I><br>and set in a pretty gilt frame<br></I>"
          ],
          [
           "<I><br>It was a picture of a woman with a fur<br>hat and a fur boa<br></I>"
          ],
          [
           "<I><br>She sat erect there<br></I>"
          ],
          [
           "<I><br>lifting up in the direction of the viewer a solid<br>fur muff<br></I>"
          ],
          [
           "<I><br>into which her entire forearm had disappeared<br></I>"
          ]
         ],
         "hovertemplate": "annotation collection=ac_1<br>document=The Metamorphosis<br>start_point=%{x}<br>tag=%{y}<br>ANNOTATION=%{customdata[0]}<extra></extra>",
         "legendgroup": "ac_1",
         "marker": {
          "color": "#A64B21",
          "symbol": "circle"
         },
         "mode": "markers",
         "name": "ac_1",
         "orientation": "h",
         "showlegend": true,
         "type": "scatter",
         "x": {
          "bdata": "AABAAI4ArQC2ABwBgAH6ARICHgIvAqICswL4AikDbAOMA8YD2wMWBA==",
          "dtype": "i2"
         },
         "xaxis": "x",
         "y": [
          "change_of_state",
          "process_event",
          "stative_event",
          "process_event",
          "process_event",
          "stative_event",
          "process_event",
          "non_event",
          "process_event",
          "non_event",
          "stative_event",
          "stative_event",
          "stative_event",
          "stative_event",
          "process_event",
          "process_event",
          "stative_event",
          "stative_event",
          "stative_event",
          "stative_event"
         ],
         "yaxis": "y"
        }
       ],
       "layout": {
        "annotations": [
         {
          "font": {},
          "showarrow": false,
          "text": "document=The Metamorphosis",
          "textangle": 90,
          "x": 0.98,
          "xanchor": "left",
          "xref": "paper",
          "y": 0.5,
          "yanchor": "middle",
          "yref": "paper"
         }
        ],
        "height": 360,
        "legend": {
         "font": {
          "color": "#5A98A1",
          "size": 10
         },
         "orientation": "h",
         "title": {
          "text": "annotation collection"
         },
         "tracegroupgap": 0,
         "x": 1,
         "xanchor": "right",
         "y": 1.02,
         "yanchor": "bottom"
        },
        "margin": {
         "t": 60
        },
        "template": {
         "data": {
          "bar": [
           {
            "error_x": {
             "color": "#2a3f5f"
            },
            "error_y": {
             "color": "#2a3f5f"
            },
            "marker": {
             "line": {
              "color": "white",
              "width": 0.5
             },
             "pattern": {
              "fillmode": "overlay",
              "size": 10,
              "solidity": 0.2
             }
            },
            "type": "bar"
           }
          ],
          "barpolar": [
           {
            "marker": {
             "line": {
              "color": "white",
              "width": 0.5
             },
             "pattern": {
              "fillmode": "overlay",
              "size": 10,
              "solidity": 0.2
             }
            },
            "type": "barpolar"
           }
          ],
          "carpet": [
           {
            "aaxis": {
             "endlinecolor": "#2a3f5f",
             "gridcolor": "#C8D4E3",
             "linecolor": "#C8D4E3",
             "minorgridcolor": "#C8D4E3",
             "startlinecolor": "#2a3f5f"
            },
            "baxis": {
             "endlinecolor": "#2a3f5f",
             "gridcolor": "#C8D4E3",
             "linecolor": "#C8D4E3",
             "minorgridcolor": "#C8D4E3",
             "startlinecolor": "#2a3f5f"
            },
            "type": "carpet"
           }
          ],
          "choropleth": [
           {
            "colorbar": {
             "outlinewidth": 0,
             "ticks": ""
            },
            "type": "choropleth"
           }
          ],
          "contour": [
           {
            "colorbar": {
             "outlinewidth": 0,
             "ticks": ""
            },
            "colorscale": [
             [
              0,
              "#0d0887"
             ],
             [
              0.1111111111111111,
              "#46039f"
             ],
             [
              0.2222222222222222,
              "#7201a8"
             ],
             [
              0.3333333333333333,
              "#9c179e"
             ],
             [
              0.4444444444444444,
              "#bd3786"
             ],
             [
              0.5555555555555556,
              "#d8576b"
             ],
             [
              0.6666666666666666,
              "#ed7953"
             ],
             [
              0.7777777777777778,
              "#fb9f3a"
             ],
             [
              0.8888888888888888,
              "#fdca26"
             ],
             [
              1,
              "#f0f921"
             ]
            ],
            "type": "contour"
           }
          ],
          "contourcarpet": [
           {
            "colorbar": {
             "outlinewidth": 0,
             "ticks": ""
            },
            "type": "contourcarpet"
           }
          ],
          "heatmap": [
           {
            "colorbar": {
             "outlinewidth": 0,
             "ticks": ""
            },
            "colorscale": [
             [
              0,
              "#0d0887"
             ],
             [
              0.1111111111111111,
              "#46039f"
             ],
             [
              0.2222222222222222,
              "#7201a8"
             ],
             [
              0.3333333333333333,
              "#9c179e"
             ],
             [
              0.4444444444444444,
              "#bd3786"
             ],
             [
              0.5555555555555556,
              "#d8576b"
             ],
             [
              0.6666666666666666,
              "#ed7953"
             ],
             [
              0.7777777777777778,
              "#fb9f3a"
             ],
             [
              0.8888888888888888,
              "#fdca26"
             ],
             [
              1,
              "#f0f921"
             ]
            ],
            "type": "heatmap"
           }
          ],
          "histogram": [
           {
            "marker": {
             "pattern": {
              "fillmode": "overlay",
              "size": 10,
              "solidity": 0.2
             }
            },
            "type": "histogram"
           }
          ],
          "histogram2d": [
           {
            "colorbar": {
             "outlinewidth": 0,
             "ticks": ""
            },
            "colorscale": [
             [
              0,
              "#0d0887"
             ],
             [
              0.1111111111111111,
              "#46039f"
             ],
             [
              0.2222222222222222,
              "#7201a8"
             ],
             [
              0.3333333333333333,
              "#9c179e"
             ],
             [
              0.4444444444444444,
              "#bd3786"
             ],
             [
              0.5555555555555556,
              "#d8576b"
             ],
             [
              0.6666666666666666,
              "#ed7953"
             ],
             [
              0.7777777777777778,
              "#fb9f3a"
             ],
             [
              0.8888888888888888,
              "#fdca26"
             ],
             [
              1,
              "#f0f921"
             ]
            ],
            "type": "histogram2d"
           }
          ],
          "histogram2dcontour": [
           {
            "colorbar": {
             "outlinewidth": 0,
             "ticks": ""
            },
            "colorscale": [
             [
              0,
              "#0d0887"
             ],
             [
              0.1111111111111111,
              "#46039f"
             ],
             [
              0.2222222222222222,
              "#7201a8"
             ],
             [
              0.3333333333333333,
              "#9c179e"
             ],
             [
              0.4444444444444444,
              "#bd3786"
             ],
             [
              0.5555555555555556,
              "#d8576b"
             ],
             [
              0.6666666666666666,
              "#ed7953"
             ],
             [
              0.7777777777777778,
              "#fb9f3a"
             ],
             [
              0.8888888888888888,
              "#fdca26"
             ],
             [
              1,
              "#f0f921"
             ]
            ],
            "type": "histogram2dcontour"
           }
          ],
          "mesh3d": [
           {
            "colorbar": {
             "outlinewidth": 0,
             "ticks": ""
            },
            "type": "mesh3d"
           }
          ],
          "parcoords": [
           {
            "line": {
             "colorbar": {
              "outlinewidth": 0,
              "ticks": ""
             }
            },
            "type": "parcoords"
           }
          ],
          "pie": [
           {
            "automargin": true,
            "type": "pie"
           }
          ],
          "scatter": [
           {
            "fillpattern": {
             "fillmode": "overlay",
             "size": 10,
             "solidity": 0.2
            },
            "type": "scatter"
           }
          ],
          "scatter3d": [
           {
            "line": {
             "colorbar": {
              "outlinewidth": 0,
              "ticks": ""
             }
            },
            "marker": {
             "colorbar": {
              "outlinewidth": 0,
              "ticks": ""
             }
            },
            "type": "scatter3d"
           }
          ],
          "scattercarpet": [
           {
            "marker": {
             "colorbar": {
              "outlinewidth": 0,
              "ticks": ""
             }
            },
            "type": "scattercarpet"
           }
          ],
          "scattergeo": [
           {
            "marker": {
             "colorbar": {
              "outlinewidth": 0,
              "ticks": ""
             }
            },
            "type": "scattergeo"
           }
          ],
          "scattergl": [
           {
            "marker": {
             "colorbar": {
              "outlinewidth": 0,
              "ticks": ""
             }
            },
            "type": "scattergl"
           }
          ],
          "scattermap": [
           {
            "marker": {
             "colorbar": {
              "outlinewidth": 0,
              "ticks": ""
             }
            },
            "type": "scattermap"
           }
          ],
          "scattermapbox": [
           {
            "marker": {
             "colorbar": {
              "outlinewidth": 0,
              "ticks": ""
             }
            },
            "type": "scattermapbox"
           }
          ],
          "scatterpolar": [
           {
            "marker": {
             "colorbar": {
              "outlinewidth": 0,
              "ticks": ""
             }
            },
            "type": "scatterpolar"
           }
          ],
          "scatterpolargl": [
           {
            "marker": {
             "colorbar": {
              "outlinewidth": 0,
              "ticks": ""
             }
            },
            "type": "scatterpolargl"
           }
          ],
          "scatterternary": [
           {
            "marker": {
             "colorbar": {
              "outlinewidth": 0,
              "ticks": ""
             }
            },
            "type": "scatterternary"
           }
          ],
          "surface": [
           {
            "colorbar": {
             "outlinewidth": 0,
             "ticks": ""
            },
            "colorscale": [
             [
              0,
              "#0d0887"
             ],
             [
              0.1111111111111111,
              "#46039f"
             ],
             [
              0.2222222222222222,
              "#7201a8"
             ],
             [
              0.3333333333333333,
              "#9c179e"
             ],
             [
              0.4444444444444444,
              "#bd3786"
             ],
             [
              0.5555555555555556,
              "#d8576b"
             ],
             [
              0.6666666666666666,
              "#ed7953"
             ],
             [
              0.7777777777777778,
              "#fb9f3a"
             ],
             [
              0.8888888888888888,
              "#fdca26"
             ],
             [
              1,
              "#f0f921"
             ]
            ],
            "type": "surface"
           }
          ],
          "table": [
           {
            "cells": {
             "fill": {
              "color": "#EBF0F8"
             },
             "line": {
              "color": "white"
             }
            },
            "header": {
             "fill": {
              "color": "#C8D4E3"
             },
             "line": {
              "color": "white"
             }
            },
            "type": "table"
           }
          ]
         },
         "layout": {
          "annotationdefaults": {
           "arrowcolor": "#2a3f5f",
           "arrowhead": 0,
           "arrowwidth": 1
          },
          "autotypenumbers": "strict",
          "coloraxis": {
           "colorbar": {
            "outlinewidth": 0,
            "ticks": ""
           }
          },
          "colorscale": {
           "diverging": [
            [
             0,
             "#8e0152"
            ],
            [
             0.1,
             "#c51b7d"
            ],
            [
             0.2,
             "#de77ae"
            ],
            [
             0.3,
             "#f1b6da"
            ],
            [
             0.4,
             "#fde0ef"
            ],
            [
             0.5,
             "#f7f7f7"
            ],
            [
             0.6,
             "#e6f5d0"
            ],
            [
             0.7,
             "#b8e186"
            ],
            [
             0.8,
             "#7fbc41"
            ],
            [
             0.9,
             "#4d9221"
            ],
            [
             1,
             "#276419"
            ]
           ],
           "sequential": [
            [
             0,
             "#0d0887"
            ],
            [
             0.1111111111111111,
             "#46039f"
            ],
            [
             0.2222222222222222,
             "#7201a8"
            ],
            [
             0.3333333333333333,
             "#9c179e"
            ],
            [
             0.4444444444444444,
             "#bd3786"
            ],
            [
             0.5555555555555556,
             "#d8576b"
            ],
            [
             0.6666666666666666,
             "#ed7953"
            ],
            [
             0.7777777777777778,
             "#fb9f3a"
            ],
            [
             0.8888888888888888,
             "#fdca26"
            ],
            [
             1,
             "#f0f921"
            ]
           ],
           "sequentialminus": [
            [
             0,
             "#0d0887"
            ],
            [
             0.1111111111111111,
             "#46039f"
            ],
            [
             0.2222222222222222,
             "#7201a8"
            ],
            [
             0.3333333333333333,
             "#9c179e"
            ],
            [
             0.4444444444444444,
             "#bd3786"
            ],
            [
             0.5555555555555556,
             "#d8576b"
            ],
            [
             0.6666666666666666,
             "#ed7953"
            ],
            [
             0.7777777777777778,
             "#fb9f3a"
            ],
            [
             0.8888888888888888,
             "#fdca26"
            ],
            [
             1,
             "#f0f921"
            ]
           ]
          },
          "colorway": [
           "#636efa",
           "#EF553B",
           "#00cc96",
           "#ab63fa",
           "#FFA15A",
           "#19d3f3",
           "#FF6692",
           "#B6E880",
           "#FF97FF",
           "#FECB52"
          ],
          "font": {
           "color": "#2a3f5f"
          },
          "geo": {
           "bgcolor": "white",
           "lakecolor": "white",
           "landcolor": "white",
           "showlakes": true,
           "showland": true,
           "subunitcolor": "#C8D4E3"
          },
          "hoverlabel": {
           "align": "left"
          },
          "hovermode": "closest",
          "mapbox": {
           "style": "light"
          },
          "paper_bgcolor": "white",
          "plot_bgcolor": "white",
          "polar": {
           "angularaxis": {
            "gridcolor": "#EBF0F8",
            "linecolor": "#EBF0F8",
            "ticks": ""
           },
           "bgcolor": "white",
           "radialaxis": {
            "gridcolor": "#EBF0F8",
            "linecolor": "#EBF0F8",
            "ticks": ""
           }
          },
          "scene": {
           "xaxis": {
            "backgroundcolor": "white",
            "gridcolor": "#DFE8F3",
            "gridwidth": 2,
            "linecolor": "#EBF0F8",
            "showbackground": true,
            "ticks": "",
            "zerolinecolor": "#EBF0F8"
           },
           "yaxis": {
            "backgroundcolor": "white",
            "gridcolor": "#DFE8F3",
            "gridwidth": 2,
            "linecolor": "#EBF0F8",
            "showbackground": true,
            "ticks": "",
            "zerolinecolor": "#EBF0F8"
           },
           "zaxis": {
            "backgroundcolor": "white",
            "gridcolor": "#DFE8F3",
            "gridwidth": 2,
            "linecolor": "#EBF0F8",
            "showbackground": true,
            "ticks": "",
            "zerolinecolor": "#EBF0F8"
           }
          },
          "shapedefaults": {
           "line": {
            "color": "#2a3f5f"
           }
          },
          "ternary": {
           "aaxis": {
            "gridcolor": "#DFE8F3",
            "linecolor": "#A2B1C6",
            "ticks": ""
           },
           "baxis": {
            "gridcolor": "#DFE8F3",
            "linecolor": "#A2B1C6",
            "ticks": ""
           },
           "bgcolor": "white",
           "caxis": {
            "gridcolor": "#DFE8F3",
            "linecolor": "#A2B1C6",
            "ticks": ""
           }
          },
          "title": {
           "x": 0.05
          },
          "xaxis": {
           "automargin": true,
           "gridcolor": "#EBF0F8",
           "linecolor": "#EBF0F8",
           "ticks": "",
           "title": {
            "standoff": 15
           },
           "zerolinecolor": "#EBF0F8",
           "zerolinewidth": 2
          },
          "yaxis": {
           "automargin": true,
           "gridcolor": "#EBF0F8",
           "linecolor": "#EBF0F8",
           "ticks": "",
           "title": {
            "standoff": 15
           },
           "zerolinecolor": "#EBF0F8",
           "zerolinewidth": 2
          }
         }
        },
        "xaxis": {
         "anchor": "y",
         "domain": [
          0,
          0.98
         ],
         "showticklabels": true,
         "title": {
          "text": "start_point"
         }
        },
        "yaxis": {
         "anchor": "x",
         "domain": [
          0,
          1
         ],
         "title": {
          "text": "tag"
         }
        }
       }
      }
     },
     "metadata": {},
     "output_type": "display_data"
    }
   ],
   "source": [
    "my_project.plot_annotations()"
   ]
  },
  {
   "cell_type": "markdown",
   "id": "b3fa0476",
   "metadata": {},
   "source": [
    "The plot can be customized by the `color_col` parameter, for example to visualize annotation properties..."
   ]
  },
  {
   "cell_type": "code",
   "execution_count": 9,
   "id": "f0d10750",
   "metadata": {},
   "outputs": [
    {
     "data": {
      "application/vnd.plotly.v1+json": {
       "config": {
        "plotlyServerURL": "https://plot.ly"
       },
       "data": [
        {
         "customdata": [
          [
           "<I><br>One morning, as Gregor Samsa was waking up from anxious<br>dreams<br></I>"
          ],
          [
           "<I><br>he discovered that in bed he had been changed into<br>a monstrous verminous bug<br></I>"
          ],
          [
           "<I><br>He lay on his armour-hard back<br></I>"
          ],
          [
           "<I><br>and saw his brown, arched abdomen divided up into rigid<br>bow-like sections<br></I>"
          ],
          [
           "<I><br>as he lifted his head up a little<br></I>"
          ],
          [
           "<I><br>From this height the blanket, just about ready to slide<br>off completely, could hardly stay in place<br></I>"
          ],
          [
           "<I><br>His numerous legs, pitifully thin in comparison to the rest<br>of his circumference, flickered helplessly before his eyes<br></I>"
          ],
          [
           "<I><br>he thought<br></I>"
          ],
          [
           "<I><br>It was no dream<br></I>"
          ],
          [
           "<I><br>His room, a proper room for a human being, only<br>somewhat too small, lay quietly between the four well-known walls<br></I>"
          ],
          [
           "<I><br>Above the table, on which an unpacked collection of sample<br>cloth goods was spread out hung the picture<br></I>"
          ],
          [
           "<I><br>Samsa was a travelling salesman<br></I>"
          ],
          [
           "<I><br>which he had cut out of an illustrated magazine a<br>little while ago<br></I>"
          ],
          [
           "<I><br>and set in a pretty gilt frame<br></I>"
          ],
          [
           "<I><br>It was a picture of a woman with a fur<br>hat and a fur boa<br></I>"
          ],
          [
           "<I><br>She sat erect there<br></I>"
          ],
          [
           "<I><br>lifting up in the direction of the viewer a solid<br>fur muff<br></I>"
          ],
          [
           "<I><br>into which her entire forearm had disappeared<br></I>"
          ],
          [
           "<I><br>One morning, as Gregor Samsa was waking up from anxious<br>dreams<br></I>"
          ],
          [
           "<I><br>he discovered that in bed he had been changed into<br>a monstrous verminous bug<br></I>"
          ],
          [
           "<I><br>He lay on his armour-hard back<br></I>"
          ],
          [
           "<I><br>and saw his brown, arched abdomen divided up into rigid<br>bow-like sections<br></I>"
          ],
          [
           "<I><br>as he lifted his head up a little<br></I>"
          ],
          [
           "<I><br>From this height the blanket, just about ready to slide<br>off completely, could hardly stay in place<br></I>"
          ],
          [
           "<I><br>His numerous legs, pitifully thin in comparison to the rest<br>of his circumference, flickered helplessly before his eyes<br></I>"
          ],
          [
           "<I><br>he thought<br></I>"
          ],
          [
           "<I><br>It was no dream<br></I>"
          ],
          [
           "<I><br>His room, a proper room for a human being, only<br>somewhat too small, lay quietly between the four well-known walls<br></I>"
          ],
          [
           "<I><br>Above the table hung the picture<br></I>"
          ],
          [
           "<I><br>on which an unpacked collection of sample cloth goods was<br>spread out<br></I>"
          ],
          [
           "<I><br>Samsa was a travelling salesman<br></I>"
          ],
          [
           "<I><br>which he had cut out of an illustrated magazine a<br>little while ago<br></I>"
          ],
          [
           "<I><br>and set in a pretty gilt frame<br></I>"
          ],
          [
           "<I><br>It was a picture of a woman with a fur<br>hat and a fur boa<br></I>"
          ],
          [
           "<I><br>She sat erect there<br></I>"
          ],
          [
           "<I><br>lifting up in the direction of the viewer a solid<br>fur muff<br></I>"
          ],
          [
           "<I><br>into which her entire forearm had disappeared<br></I>"
          ]
         ],
         "hovertemplate": "prop:representation_type=narrator_speech<br>document=The Metamorphosis<br>start_point=%{x}<br>tag=%{y}<br>ANNOTATION=%{customdata[0]}<extra></extra>",
         "legendgroup": "narrator_speech",
         "marker": {
          "color": "#093658",
          "symbol": "circle"
         },
         "mode": "markers",
         "name": "narrator_speech",
         "orientation": "h",
         "showlegend": true,
         "type": "scatter",
         "x": {
          "bdata": "AABAAI4ArQC2ABwBgAESAh4CLwKiAvgCKQNsA4wDxgPbAxYEAABAAI4ArQC2ABwBgAESAh4CLwKiArMC+AIpA2wDjAPGA9sDFgQ=",
          "dtype": "i2"
         },
         "xaxis": "x",
         "y": [
          "process_event",
          "change_of_state",
          "stative_event",
          "process_event",
          "process_event",
          "stative_event",
          "stative_event",
          "process_event",
          "non_event",
          "stative_event",
          "stative_event",
          "stative_event",
          "process_event",
          "process_event",
          "stative_event",
          "stative_event",
          "stative_event",
          "stative_event",
          "change_of_state",
          "process_event",
          "stative_event",
          "process_event",
          "process_event",
          "stative_event",
          "process_event",
          "process_event",
          "non_event",
          "stative_event",
          "stative_event",
          "stative_event",
          "stative_event",
          "process_event",
          "process_event",
          "stative_event",
          "stative_event",
          "stative_event",
          "stative_event"
         ],
         "yaxis": "y"
        },
        {
         "customdata": [
          [
           "<I><br>What's happened to me<br></I>"
          ],
          [
           "<I><br>It was no dream<br></I>"
          ]
         ],
         "hovertemplate": "prop:representation_type=thought_representation<br>document=The Metamorphosis<br>start_point=%{x}<br>tag=%{y}<br>ANNOTATION=%{customdata[0]}<extra></extra>",
         "legendgroup": "thought_representation",
         "marker": {
          "color": "#A64B21",
          "symbol": "circle"
         },
         "mode": "markers",
         "name": "thought_representation",
         "orientation": "h",
         "showlegend": true,
         "type": "scatter",
         "x": {
          "bdata": "+gEeAg==",
          "dtype": "i2"
         },
         "xaxis": "x",
         "y": [
          "non_event",
          "non_event"
         ],
         "yaxis": "y"
        },
        {
         "customdata": [
          [
           "<I><br>What's happened to me<br></I>"
          ]
         ],
         "hovertemplate": "prop:representation_type=character_speech<br>document=The Metamorphosis<br>start_point=%{x}<br>tag=%{y}<br>ANNOTATION=%{customdata[0]}<extra></extra>",
         "legendgroup": "character_speech",
         "marker": {
          "color": "#A68500",
          "symbol": "circle"
         },
         "mode": "markers",
         "name": "character_speech",
         "orientation": "h",
         "showlegend": true,
         "type": "scatter",
         "x": {
          "bdata": "+gE=",
          "dtype": "i2"
         },
         "xaxis": "x",
         "y": [
          "non_event"
         ],
         "yaxis": "y"
        }
       ],
       "layout": {
        "annotations": [
         {
          "font": {},
          "showarrow": false,
          "text": "document=The Metamorphosis",
          "textangle": 90,
          "x": 0.98,
          "xanchor": "left",
          "xref": "paper",
          "y": 0.5,
          "yanchor": "middle",
          "yref": "paper"
         }
        ],
        "height": 360,
        "legend": {
         "font": {
          "color": "#5A98A1",
          "size": 10
         },
         "orientation": "h",
         "title": {
          "text": "prop:representation_type"
         },
         "tracegroupgap": 0,
         "x": 1,
         "xanchor": "right",
         "y": 1.02,
         "yanchor": "bottom"
        },
        "margin": {
         "t": 60
        },
        "template": {
         "data": {
          "bar": [
           {
            "error_x": {
             "color": "#2a3f5f"
            },
            "error_y": {
             "color": "#2a3f5f"
            },
            "marker": {
             "line": {
              "color": "white",
              "width": 0.5
             },
             "pattern": {
              "fillmode": "overlay",
              "size": 10,
              "solidity": 0.2
             }
            },
            "type": "bar"
           }
          ],
          "barpolar": [
           {
            "marker": {
             "line": {
              "color": "white",
              "width": 0.5
             },
             "pattern": {
              "fillmode": "overlay",
              "size": 10,
              "solidity": 0.2
             }
            },
            "type": "barpolar"
           }
          ],
          "carpet": [
           {
            "aaxis": {
             "endlinecolor": "#2a3f5f",
             "gridcolor": "#C8D4E3",
             "linecolor": "#C8D4E3",
             "minorgridcolor": "#C8D4E3",
             "startlinecolor": "#2a3f5f"
            },
            "baxis": {
             "endlinecolor": "#2a3f5f",
             "gridcolor": "#C8D4E3",
             "linecolor": "#C8D4E3",
             "minorgridcolor": "#C8D4E3",
             "startlinecolor": "#2a3f5f"
            },
            "type": "carpet"
           }
          ],
          "choropleth": [
           {
            "colorbar": {
             "outlinewidth": 0,
             "ticks": ""
            },
            "type": "choropleth"
           }
          ],
          "contour": [
           {
            "colorbar": {
             "outlinewidth": 0,
             "ticks": ""
            },
            "colorscale": [
             [
              0,
              "#0d0887"
             ],
             [
              0.1111111111111111,
              "#46039f"
             ],
             [
              0.2222222222222222,
              "#7201a8"
             ],
             [
              0.3333333333333333,
              "#9c179e"
             ],
             [
              0.4444444444444444,
              "#bd3786"
             ],
             [
              0.5555555555555556,
              "#d8576b"
             ],
             [
              0.6666666666666666,
              "#ed7953"
             ],
             [
              0.7777777777777778,
              "#fb9f3a"
             ],
             [
              0.8888888888888888,
              "#fdca26"
             ],
             [
              1,
              "#f0f921"
             ]
            ],
            "type": "contour"
           }
          ],
          "contourcarpet": [
           {
            "colorbar": {
             "outlinewidth": 0,
             "ticks": ""
            },
            "type": "contourcarpet"
           }
          ],
          "heatmap": [
           {
            "colorbar": {
             "outlinewidth": 0,
             "ticks": ""
            },
            "colorscale": [
             [
              0,
              "#0d0887"
             ],
             [
              0.1111111111111111,
              "#46039f"
             ],
             [
              0.2222222222222222,
              "#7201a8"
             ],
             [
              0.3333333333333333,
              "#9c179e"
             ],
             [
              0.4444444444444444,
              "#bd3786"
             ],
             [
              0.5555555555555556,
              "#d8576b"
             ],
             [
              0.6666666666666666,
              "#ed7953"
             ],
             [
              0.7777777777777778,
              "#fb9f3a"
             ],
             [
              0.8888888888888888,
              "#fdca26"
             ],
             [
              1,
              "#f0f921"
             ]
            ],
            "type": "heatmap"
           }
          ],
          "histogram": [
           {
            "marker": {
             "pattern": {
              "fillmode": "overlay",
              "size": 10,
              "solidity": 0.2
             }
            },
            "type": "histogram"
           }
          ],
          "histogram2d": [
           {
            "colorbar": {
             "outlinewidth": 0,
             "ticks": ""
            },
            "colorscale": [
             [
              0,
              "#0d0887"
             ],
             [
              0.1111111111111111,
              "#46039f"
             ],
             [
              0.2222222222222222,
              "#7201a8"
             ],
             [
              0.3333333333333333,
              "#9c179e"
             ],
             [
              0.4444444444444444,
              "#bd3786"
             ],
             [
              0.5555555555555556,
              "#d8576b"
             ],
             [
              0.6666666666666666,
              "#ed7953"
             ],
             [
              0.7777777777777778,
              "#fb9f3a"
             ],
             [
              0.8888888888888888,
              "#fdca26"
             ],
             [
              1,
              "#f0f921"
             ]
            ],
            "type": "histogram2d"
           }
          ],
          "histogram2dcontour": [
           {
            "colorbar": {
             "outlinewidth": 0,
             "ticks": ""
            },
            "colorscale": [
             [
              0,
              "#0d0887"
             ],
             [
              0.1111111111111111,
              "#46039f"
             ],
             [
              0.2222222222222222,
              "#7201a8"
             ],
             [
              0.3333333333333333,
              "#9c179e"
             ],
             [
              0.4444444444444444,
              "#bd3786"
             ],
             [
              0.5555555555555556,
              "#d8576b"
             ],
             [
              0.6666666666666666,
              "#ed7953"
             ],
             [
              0.7777777777777778,
              "#fb9f3a"
             ],
             [
              0.8888888888888888,
              "#fdca26"
             ],
             [
              1,
              "#f0f921"
             ]
            ],
            "type": "histogram2dcontour"
           }
          ],
          "mesh3d": [
           {
            "colorbar": {
             "outlinewidth": 0,
             "ticks": ""
            },
            "type": "mesh3d"
           }
          ],
          "parcoords": [
           {
            "line": {
             "colorbar": {
              "outlinewidth": 0,
              "ticks": ""
             }
            },
            "type": "parcoords"
           }
          ],
          "pie": [
           {
            "automargin": true,
            "type": "pie"
           }
          ],
          "scatter": [
           {
            "fillpattern": {
             "fillmode": "overlay",
             "size": 10,
             "solidity": 0.2
            },
            "type": "scatter"
           }
          ],
          "scatter3d": [
           {
            "line": {
             "colorbar": {
              "outlinewidth": 0,
              "ticks": ""
             }
            },
            "marker": {
             "colorbar": {
              "outlinewidth": 0,
              "ticks": ""
             }
            },
            "type": "scatter3d"
           }
          ],
          "scattercarpet": [
           {
            "marker": {
             "colorbar": {
              "outlinewidth": 0,
              "ticks": ""
             }
            },
            "type": "scattercarpet"
           }
          ],
          "scattergeo": [
           {
            "marker": {
             "colorbar": {
              "outlinewidth": 0,
              "ticks": ""
             }
            },
            "type": "scattergeo"
           }
          ],
          "scattergl": [
           {
            "marker": {
             "colorbar": {
              "outlinewidth": 0,
              "ticks": ""
             }
            },
            "type": "scattergl"
           }
          ],
          "scattermap": [
           {
            "marker": {
             "colorbar": {
              "outlinewidth": 0,
              "ticks": ""
             }
            },
            "type": "scattermap"
           }
          ],
          "scattermapbox": [
           {
            "marker": {
             "colorbar": {
              "outlinewidth": 0,
              "ticks": ""
             }
            },
            "type": "scattermapbox"
           }
          ],
          "scatterpolar": [
           {
            "marker": {
             "colorbar": {
              "outlinewidth": 0,
              "ticks": ""
             }
            },
            "type": "scatterpolar"
           }
          ],
          "scatterpolargl": [
           {
            "marker": {
             "colorbar": {
              "outlinewidth": 0,
              "ticks": ""
             }
            },
            "type": "scatterpolargl"
           }
          ],
          "scatterternary": [
           {
            "marker": {
             "colorbar": {
              "outlinewidth": 0,
              "ticks": ""
             }
            },
            "type": "scatterternary"
           }
          ],
          "surface": [
           {
            "colorbar": {
             "outlinewidth": 0,
             "ticks": ""
            },
            "colorscale": [
             [
              0,
              "#0d0887"
             ],
             [
              0.1111111111111111,
              "#46039f"
             ],
             [
              0.2222222222222222,
              "#7201a8"
             ],
             [
              0.3333333333333333,
              "#9c179e"
             ],
             [
              0.4444444444444444,
              "#bd3786"
             ],
             [
              0.5555555555555556,
              "#d8576b"
             ],
             [
              0.6666666666666666,
              "#ed7953"
             ],
             [
              0.7777777777777778,
              "#fb9f3a"
             ],
             [
              0.8888888888888888,
              "#fdca26"
             ],
             [
              1,
              "#f0f921"
             ]
            ],
            "type": "surface"
           }
          ],
          "table": [
           {
            "cells": {
             "fill": {
              "color": "#EBF0F8"
             },
             "line": {
              "color": "white"
             }
            },
            "header": {
             "fill": {
              "color": "#C8D4E3"
             },
             "line": {
              "color": "white"
             }
            },
            "type": "table"
           }
          ]
         },
         "layout": {
          "annotationdefaults": {
           "arrowcolor": "#2a3f5f",
           "arrowhead": 0,
           "arrowwidth": 1
          },
          "autotypenumbers": "strict",
          "coloraxis": {
           "colorbar": {
            "outlinewidth": 0,
            "ticks": ""
           }
          },
          "colorscale": {
           "diverging": [
            [
             0,
             "#8e0152"
            ],
            [
             0.1,
             "#c51b7d"
            ],
            [
             0.2,
             "#de77ae"
            ],
            [
             0.3,
             "#f1b6da"
            ],
            [
             0.4,
             "#fde0ef"
            ],
            [
             0.5,
             "#f7f7f7"
            ],
            [
             0.6,
             "#e6f5d0"
            ],
            [
             0.7,
             "#b8e186"
            ],
            [
             0.8,
             "#7fbc41"
            ],
            [
             0.9,
             "#4d9221"
            ],
            [
             1,
             "#276419"
            ]
           ],
           "sequential": [
            [
             0,
             "#0d0887"
            ],
            [
             0.1111111111111111,
             "#46039f"
            ],
            [
             0.2222222222222222,
             "#7201a8"
            ],
            [
             0.3333333333333333,
             "#9c179e"
            ],
            [
             0.4444444444444444,
             "#bd3786"
            ],
            [
             0.5555555555555556,
             "#d8576b"
            ],
            [
             0.6666666666666666,
             "#ed7953"
            ],
            [
             0.7777777777777778,
             "#fb9f3a"
            ],
            [
             0.8888888888888888,
             "#fdca26"
            ],
            [
             1,
             "#f0f921"
            ]
           ],
           "sequentialminus": [
            [
             0,
             "#0d0887"
            ],
            [
             0.1111111111111111,
             "#46039f"
            ],
            [
             0.2222222222222222,
             "#7201a8"
            ],
            [
             0.3333333333333333,
             "#9c179e"
            ],
            [
             0.4444444444444444,
             "#bd3786"
            ],
            [
             0.5555555555555556,
             "#d8576b"
            ],
            [
             0.6666666666666666,
             "#ed7953"
            ],
            [
             0.7777777777777778,
             "#fb9f3a"
            ],
            [
             0.8888888888888888,
             "#fdca26"
            ],
            [
             1,
             "#f0f921"
            ]
           ]
          },
          "colorway": [
           "#636efa",
           "#EF553B",
           "#00cc96",
           "#ab63fa",
           "#FFA15A",
           "#19d3f3",
           "#FF6692",
           "#B6E880",
           "#FF97FF",
           "#FECB52"
          ],
          "font": {
           "color": "#2a3f5f"
          },
          "geo": {
           "bgcolor": "white",
           "lakecolor": "white",
           "landcolor": "white",
           "showlakes": true,
           "showland": true,
           "subunitcolor": "#C8D4E3"
          },
          "hoverlabel": {
           "align": "left"
          },
          "hovermode": "closest",
          "mapbox": {
           "style": "light"
          },
          "paper_bgcolor": "white",
          "plot_bgcolor": "white",
          "polar": {
           "angularaxis": {
            "gridcolor": "#EBF0F8",
            "linecolor": "#EBF0F8",
            "ticks": ""
           },
           "bgcolor": "white",
           "radialaxis": {
            "gridcolor": "#EBF0F8",
            "linecolor": "#EBF0F8",
            "ticks": ""
           }
          },
          "scene": {
           "xaxis": {
            "backgroundcolor": "white",
            "gridcolor": "#DFE8F3",
            "gridwidth": 2,
            "linecolor": "#EBF0F8",
            "showbackground": true,
            "ticks": "",
            "zerolinecolor": "#EBF0F8"
           },
           "yaxis": {
            "backgroundcolor": "white",
            "gridcolor": "#DFE8F3",
            "gridwidth": 2,
            "linecolor": "#EBF0F8",
            "showbackground": true,
            "ticks": "",
            "zerolinecolor": "#EBF0F8"
           },
           "zaxis": {
            "backgroundcolor": "white",
            "gridcolor": "#DFE8F3",
            "gridwidth": 2,
            "linecolor": "#EBF0F8",
            "showbackground": true,
            "ticks": "",
            "zerolinecolor": "#EBF0F8"
           }
          },
          "shapedefaults": {
           "line": {
            "color": "#2a3f5f"
           }
          },
          "ternary": {
           "aaxis": {
            "gridcolor": "#DFE8F3",
            "linecolor": "#A2B1C6",
            "ticks": ""
           },
           "baxis": {
            "gridcolor": "#DFE8F3",
            "linecolor": "#A2B1C6",
            "ticks": ""
           },
           "bgcolor": "white",
           "caxis": {
            "gridcolor": "#DFE8F3",
            "linecolor": "#A2B1C6",
            "ticks": ""
           }
          },
          "title": {
           "x": 0.05
          },
          "xaxis": {
           "automargin": true,
           "gridcolor": "#EBF0F8",
           "linecolor": "#EBF0F8",
           "ticks": "",
           "title": {
            "standoff": 15
           },
           "zerolinecolor": "#EBF0F8",
           "zerolinewidth": 2
          },
          "yaxis": {
           "automargin": true,
           "gridcolor": "#EBF0F8",
           "linecolor": "#EBF0F8",
           "ticks": "",
           "title": {
            "standoff": 15
           },
           "zerolinecolor": "#EBF0F8",
           "zerolinewidth": 2
          }
         }
        },
        "xaxis": {
         "anchor": "y",
         "domain": [
          0,
          0.98
         ],
         "showticklabels": true,
         "title": {
          "text": "start_point"
         }
        },
        "yaxis": {
         "anchor": "x",
         "domain": [
          0,
          1
         ],
         "title": {
          "text": "tag"
         }
        }
       }
      }
     },
     "metadata": {},
     "output_type": "display_data"
    }
   ],
   "source": [
    "my_project.plot_annotations(color_col='prop:representation_type')"
   ]
  },
  {
   "cell_type": "markdown",
   "id": "cebbb916",
   "metadata": {},
   "source": [
    ".. or the annotators..."
   ]
  },
  {
   "cell_type": "code",
   "execution_count": 10,
   "id": "0db38f33",
   "metadata": {},
   "outputs": [
    {
     "data": {
      "application/vnd.plotly.v1+json": {
       "config": {
        "plotlyServerURL": "https://plot.ly"
       },
       "data": [
        {
         "customdata": [
          [
           "<I><br>One morning, as Gregor Samsa was waking up from anxious<br>dreams<br></I>"
          ],
          [
           "<I><br>he discovered that in bed he had been changed into<br>a monstrous verminous bug<br></I>"
          ],
          [
           "<I><br>He lay on his armour-hard back<br></I>"
          ],
          [
           "<I><br>and saw his brown, arched abdomen divided up into rigid<br>bow-like sections<br></I>"
          ],
          [
           "<I><br>as he lifted his head up a little<br></I>"
          ],
          [
           "<I><br>From this height the blanket, just about ready to slide<br>off completely, could hardly stay in place<br></I>"
          ],
          [
           "<I><br>His numerous legs, pitifully thin in comparison to the rest<br>of his circumference, flickered helplessly before his eyes<br></I>"
          ],
          [
           "<I><br>What's happened to me<br></I>"
          ],
          [
           "<I><br>he thought<br></I>"
          ],
          [
           "<I><br>It was no dream<br></I>"
          ],
          [
           "<I><br>His room, a proper room for a human being, only<br>somewhat too small, lay quietly between the four well-known walls<br></I>"
          ],
          [
           "<I><br>Above the table, on which an unpacked collection of sample<br>cloth goods was spread out hung the picture<br></I>"
          ],
          [
           "<I><br>Samsa was a travelling salesman<br></I>"
          ],
          [
           "<I><br>which he had cut out of an illustrated magazine a<br>little while ago<br></I>"
          ],
          [
           "<I><br>and set in a pretty gilt frame<br></I>"
          ],
          [
           "<I><br>It was a picture of a woman with a fur<br>hat and a fur boa<br></I>"
          ],
          [
           "<I><br>She sat erect there<br></I>"
          ],
          [
           "<I><br>lifting up in the direction of the viewer a solid<br>fur muff<br></I>"
          ],
          [
           "<I><br>into which her entire forearm had disappeared<br></I>"
          ]
         ],
         "hovertemplate": "annotator=mvgoogle<br>document=The Metamorphosis<br>start_point=%{x}<br>tag=%{y}<br>ANNOTATION=%{customdata[0]}<extra></extra>",
         "legendgroup": "mvgoogle",
         "marker": {
          "color": "#093658",
          "symbol": "circle"
         },
         "mode": "markers",
         "name": "mvgoogle",
         "orientation": "h",
         "showlegend": true,
         "type": "scatter",
         "x": {
          "bdata": "AABAAI4ArQC2ABwBgAH6ARICHgIvAqIC+AIpA2wDjAPGA9sDFgQ=",
          "dtype": "i2"
         },
         "xaxis": "x",
         "y": [
          "process_event",
          "change_of_state",
          "stative_event",
          "process_event",
          "process_event",
          "stative_event",
          "stative_event",
          "non_event",
          "process_event",
          "non_event",
          "stative_event",
          "stative_event",
          "stative_event",
          "process_event",
          "process_event",
          "stative_event",
          "stative_event",
          "stative_event",
          "stative_event"
         ],
         "yaxis": "y"
        },
        {
         "customdata": [
          [
           "<I><br>One morning, as Gregor Samsa was waking up from anxious<br>dreams<br></I>"
          ],
          [
           "<I><br>he discovered that in bed he had been changed into<br>a monstrous verminous bug<br></I>"
          ],
          [
           "<I><br>He lay on his armour-hard back<br></I>"
          ],
          [
           "<I><br>and saw his brown, arched abdomen divided up into rigid<br>bow-like sections<br></I>"
          ],
          [
           "<I><br>as he lifted his head up a little<br></I>"
          ],
          [
           "<I><br>From this height the blanket, just about ready to slide<br>off completely, could hardly stay in place<br></I>"
          ],
          [
           "<I><br>His numerous legs, pitifully thin in comparison to the rest<br>of his circumference, flickered helplessly before his eyes<br></I>"
          ],
          [
           "<I><br>What's happened to me<br></I>"
          ],
          [
           "<I><br>he thought<br></I>"
          ],
          [
           "<I><br>It was no dream<br></I>"
          ],
          [
           "<I><br>His room, a proper room for a human being, only<br>somewhat too small, lay quietly between the four well-known walls<br></I>"
          ],
          [
           "<I><br>Above the table hung the picture<br></I>"
          ],
          [
           "<I><br>on which an unpacked collection of sample cloth goods was<br>spread out<br></I>"
          ],
          [
           "<I><br>Samsa was a travelling salesman<br></I>"
          ],
          [
           "<I><br>which he had cut out of an illustrated magazine a<br>little while ago<br></I>"
          ],
          [
           "<I><br>and set in a pretty gilt frame<br></I>"
          ],
          [
           "<I><br>It was a picture of a woman with a fur<br>hat and a fur boa<br></I>"
          ],
          [
           "<I><br>She sat erect there<br></I>"
          ],
          [
           "<I><br>lifting up in the direction of the viewer a solid<br>fur muff<br></I>"
          ],
          [
           "<I><br>into which her entire forearm had disappeared<br></I>"
          ]
         ],
         "hovertemplate": "annotator=MVauth<br>document=The Metamorphosis<br>start_point=%{x}<br>tag=%{y}<br>ANNOTATION=%{customdata[0]}<extra></extra>",
         "legendgroup": "MVauth",
         "marker": {
          "color": "#A64B21",
          "symbol": "circle"
         },
         "mode": "markers",
         "name": "MVauth",
         "orientation": "h",
         "showlegend": true,
         "type": "scatter",
         "x": {
          "bdata": "AABAAI4ArQC2ABwBgAH6ARICHgIvAqICswL4AikDbAOMA8YD2wMWBA==",
          "dtype": "i2"
         },
         "xaxis": "x",
         "y": [
          "change_of_state",
          "process_event",
          "stative_event",
          "process_event",
          "process_event",
          "stative_event",
          "process_event",
          "non_event",
          "process_event",
          "non_event",
          "stative_event",
          "stative_event",
          "stative_event",
          "stative_event",
          "process_event",
          "process_event",
          "stative_event",
          "stative_event",
          "stative_event",
          "stative_event"
         ],
         "yaxis": "y"
        }
       ],
       "layout": {
        "annotations": [
         {
          "font": {},
          "showarrow": false,
          "text": "document=The Metamorphosis",
          "textangle": 90,
          "x": 0.98,
          "xanchor": "left",
          "xref": "paper",
          "y": 0.5,
          "yanchor": "middle",
          "yref": "paper"
         }
        ],
        "height": 360,
        "legend": {
         "font": {
          "color": "#5A98A1",
          "size": 10
         },
         "orientation": "h",
         "title": {
          "text": "annotator"
         },
         "tracegroupgap": 0,
         "x": 1,
         "xanchor": "right",
         "y": 1.02,
         "yanchor": "bottom"
        },
        "margin": {
         "t": 60
        },
        "template": {
         "data": {
          "bar": [
           {
            "error_x": {
             "color": "#2a3f5f"
            },
            "error_y": {
             "color": "#2a3f5f"
            },
            "marker": {
             "line": {
              "color": "white",
              "width": 0.5
             },
             "pattern": {
              "fillmode": "overlay",
              "size": 10,
              "solidity": 0.2
             }
            },
            "type": "bar"
           }
          ],
          "barpolar": [
           {
            "marker": {
             "line": {
              "color": "white",
              "width": 0.5
             },
             "pattern": {
              "fillmode": "overlay",
              "size": 10,
              "solidity": 0.2
             }
            },
            "type": "barpolar"
           }
          ],
          "carpet": [
           {
            "aaxis": {
             "endlinecolor": "#2a3f5f",
             "gridcolor": "#C8D4E3",
             "linecolor": "#C8D4E3",
             "minorgridcolor": "#C8D4E3",
             "startlinecolor": "#2a3f5f"
            },
            "baxis": {
             "endlinecolor": "#2a3f5f",
             "gridcolor": "#C8D4E3",
             "linecolor": "#C8D4E3",
             "minorgridcolor": "#C8D4E3",
             "startlinecolor": "#2a3f5f"
            },
            "type": "carpet"
           }
          ],
          "choropleth": [
           {
            "colorbar": {
             "outlinewidth": 0,
             "ticks": ""
            },
            "type": "choropleth"
           }
          ],
          "contour": [
           {
            "colorbar": {
             "outlinewidth": 0,
             "ticks": ""
            },
            "colorscale": [
             [
              0,
              "#0d0887"
             ],
             [
              0.1111111111111111,
              "#46039f"
             ],
             [
              0.2222222222222222,
              "#7201a8"
             ],
             [
              0.3333333333333333,
              "#9c179e"
             ],
             [
              0.4444444444444444,
              "#bd3786"
             ],
             [
              0.5555555555555556,
              "#d8576b"
             ],
             [
              0.6666666666666666,
              "#ed7953"
             ],
             [
              0.7777777777777778,
              "#fb9f3a"
             ],
             [
              0.8888888888888888,
              "#fdca26"
             ],
             [
              1,
              "#f0f921"
             ]
            ],
            "type": "contour"
           }
          ],
          "contourcarpet": [
           {
            "colorbar": {
             "outlinewidth": 0,
             "ticks": ""
            },
            "type": "contourcarpet"
           }
          ],
          "heatmap": [
           {
            "colorbar": {
             "outlinewidth": 0,
             "ticks": ""
            },
            "colorscale": [
             [
              0,
              "#0d0887"
             ],
             [
              0.1111111111111111,
              "#46039f"
             ],
             [
              0.2222222222222222,
              "#7201a8"
             ],
             [
              0.3333333333333333,
              "#9c179e"
             ],
             [
              0.4444444444444444,
              "#bd3786"
             ],
             [
              0.5555555555555556,
              "#d8576b"
             ],
             [
              0.6666666666666666,
              "#ed7953"
             ],
             [
              0.7777777777777778,
              "#fb9f3a"
             ],
             [
              0.8888888888888888,
              "#fdca26"
             ],
             [
              1,
              "#f0f921"
             ]
            ],
            "type": "heatmap"
           }
          ],
          "histogram": [
           {
            "marker": {
             "pattern": {
              "fillmode": "overlay",
              "size": 10,
              "solidity": 0.2
             }
            },
            "type": "histogram"
           }
          ],
          "histogram2d": [
           {
            "colorbar": {
             "outlinewidth": 0,
             "ticks": ""
            },
            "colorscale": [
             [
              0,
              "#0d0887"
             ],
             [
              0.1111111111111111,
              "#46039f"
             ],
             [
              0.2222222222222222,
              "#7201a8"
             ],
             [
              0.3333333333333333,
              "#9c179e"
             ],
             [
              0.4444444444444444,
              "#bd3786"
             ],
             [
              0.5555555555555556,
              "#d8576b"
             ],
             [
              0.6666666666666666,
              "#ed7953"
             ],
             [
              0.7777777777777778,
              "#fb9f3a"
             ],
             [
              0.8888888888888888,
              "#fdca26"
             ],
             [
              1,
              "#f0f921"
             ]
            ],
            "type": "histogram2d"
           }
          ],
          "histogram2dcontour": [
           {
            "colorbar": {
             "outlinewidth": 0,
             "ticks": ""
            },
            "colorscale": [
             [
              0,
              "#0d0887"
             ],
             [
              0.1111111111111111,
              "#46039f"
             ],
             [
              0.2222222222222222,
              "#7201a8"
             ],
             [
              0.3333333333333333,
              "#9c179e"
             ],
             [
              0.4444444444444444,
              "#bd3786"
             ],
             [
              0.5555555555555556,
              "#d8576b"
             ],
             [
              0.6666666666666666,
              "#ed7953"
             ],
             [
              0.7777777777777778,
              "#fb9f3a"
             ],
             [
              0.8888888888888888,
              "#fdca26"
             ],
             [
              1,
              "#f0f921"
             ]
            ],
            "type": "histogram2dcontour"
           }
          ],
          "mesh3d": [
           {
            "colorbar": {
             "outlinewidth": 0,
             "ticks": ""
            },
            "type": "mesh3d"
           }
          ],
          "parcoords": [
           {
            "line": {
             "colorbar": {
              "outlinewidth": 0,
              "ticks": ""
             }
            },
            "type": "parcoords"
           }
          ],
          "pie": [
           {
            "automargin": true,
            "type": "pie"
           }
          ],
          "scatter": [
           {
            "fillpattern": {
             "fillmode": "overlay",
             "size": 10,
             "solidity": 0.2
            },
            "type": "scatter"
           }
          ],
          "scatter3d": [
           {
            "line": {
             "colorbar": {
              "outlinewidth": 0,
              "ticks": ""
             }
            },
            "marker": {
             "colorbar": {
              "outlinewidth": 0,
              "ticks": ""
             }
            },
            "type": "scatter3d"
           }
          ],
          "scattercarpet": [
           {
            "marker": {
             "colorbar": {
              "outlinewidth": 0,
              "ticks": ""
             }
            },
            "type": "scattercarpet"
           }
          ],
          "scattergeo": [
           {
            "marker": {
             "colorbar": {
              "outlinewidth": 0,
              "ticks": ""
             }
            },
            "type": "scattergeo"
           }
          ],
          "scattergl": [
           {
            "marker": {
             "colorbar": {
              "outlinewidth": 0,
              "ticks": ""
             }
            },
            "type": "scattergl"
           }
          ],
          "scattermap": [
           {
            "marker": {
             "colorbar": {
              "outlinewidth": 0,
              "ticks": ""
             }
            },
            "type": "scattermap"
           }
          ],
          "scattermapbox": [
           {
            "marker": {
             "colorbar": {
              "outlinewidth": 0,
              "ticks": ""
             }
            },
            "type": "scattermapbox"
           }
          ],
          "scatterpolar": [
           {
            "marker": {
             "colorbar": {
              "outlinewidth": 0,
              "ticks": ""
             }
            },
            "type": "scatterpolar"
           }
          ],
          "scatterpolargl": [
           {
            "marker": {
             "colorbar": {
              "outlinewidth": 0,
              "ticks": ""
             }
            },
            "type": "scatterpolargl"
           }
          ],
          "scatterternary": [
           {
            "marker": {
             "colorbar": {
              "outlinewidth": 0,
              "ticks": ""
             }
            },
            "type": "scatterternary"
           }
          ],
          "surface": [
           {
            "colorbar": {
             "outlinewidth": 0,
             "ticks": ""
            },
            "colorscale": [
             [
              0,
              "#0d0887"
             ],
             [
              0.1111111111111111,
              "#46039f"
             ],
             [
              0.2222222222222222,
              "#7201a8"
             ],
             [
              0.3333333333333333,
              "#9c179e"
             ],
             [
              0.4444444444444444,
              "#bd3786"
             ],
             [
              0.5555555555555556,
              "#d8576b"
             ],
             [
              0.6666666666666666,
              "#ed7953"
             ],
             [
              0.7777777777777778,
              "#fb9f3a"
             ],
             [
              0.8888888888888888,
              "#fdca26"
             ],
             [
              1,
              "#f0f921"
             ]
            ],
            "type": "surface"
           }
          ],
          "table": [
           {
            "cells": {
             "fill": {
              "color": "#EBF0F8"
             },
             "line": {
              "color": "white"
             }
            },
            "header": {
             "fill": {
              "color": "#C8D4E3"
             },
             "line": {
              "color": "white"
             }
            },
            "type": "table"
           }
          ]
         },
         "layout": {
          "annotationdefaults": {
           "arrowcolor": "#2a3f5f",
           "arrowhead": 0,
           "arrowwidth": 1
          },
          "autotypenumbers": "strict",
          "coloraxis": {
           "colorbar": {
            "outlinewidth": 0,
            "ticks": ""
           }
          },
          "colorscale": {
           "diverging": [
            [
             0,
             "#8e0152"
            ],
            [
             0.1,
             "#c51b7d"
            ],
            [
             0.2,
             "#de77ae"
            ],
            [
             0.3,
             "#f1b6da"
            ],
            [
             0.4,
             "#fde0ef"
            ],
            [
             0.5,
             "#f7f7f7"
            ],
            [
             0.6,
             "#e6f5d0"
            ],
            [
             0.7,
             "#b8e186"
            ],
            [
             0.8,
             "#7fbc41"
            ],
            [
             0.9,
             "#4d9221"
            ],
            [
             1,
             "#276419"
            ]
           ],
           "sequential": [
            [
             0,
             "#0d0887"
            ],
            [
             0.1111111111111111,
             "#46039f"
            ],
            [
             0.2222222222222222,
             "#7201a8"
            ],
            [
             0.3333333333333333,
             "#9c179e"
            ],
            [
             0.4444444444444444,
             "#bd3786"
            ],
            [
             0.5555555555555556,
             "#d8576b"
            ],
            [
             0.6666666666666666,
             "#ed7953"
            ],
            [
             0.7777777777777778,
             "#fb9f3a"
            ],
            [
             0.8888888888888888,
             "#fdca26"
            ],
            [
             1,
             "#f0f921"
            ]
           ],
           "sequentialminus": [
            [
             0,
             "#0d0887"
            ],
            [
             0.1111111111111111,
             "#46039f"
            ],
            [
             0.2222222222222222,
             "#7201a8"
            ],
            [
             0.3333333333333333,
             "#9c179e"
            ],
            [
             0.4444444444444444,
             "#bd3786"
            ],
            [
             0.5555555555555556,
             "#d8576b"
            ],
            [
             0.6666666666666666,
             "#ed7953"
            ],
            [
             0.7777777777777778,
             "#fb9f3a"
            ],
            [
             0.8888888888888888,
             "#fdca26"
            ],
            [
             1,
             "#f0f921"
            ]
           ]
          },
          "colorway": [
           "#636efa",
           "#EF553B",
           "#00cc96",
           "#ab63fa",
           "#FFA15A",
           "#19d3f3",
           "#FF6692",
           "#B6E880",
           "#FF97FF",
           "#FECB52"
          ],
          "font": {
           "color": "#2a3f5f"
          },
          "geo": {
           "bgcolor": "white",
           "lakecolor": "white",
           "landcolor": "white",
           "showlakes": true,
           "showland": true,
           "subunitcolor": "#C8D4E3"
          },
          "hoverlabel": {
           "align": "left"
          },
          "hovermode": "closest",
          "mapbox": {
           "style": "light"
          },
          "paper_bgcolor": "white",
          "plot_bgcolor": "white",
          "polar": {
           "angularaxis": {
            "gridcolor": "#EBF0F8",
            "linecolor": "#EBF0F8",
            "ticks": ""
           },
           "bgcolor": "white",
           "radialaxis": {
            "gridcolor": "#EBF0F8",
            "linecolor": "#EBF0F8",
            "ticks": ""
           }
          },
          "scene": {
           "xaxis": {
            "backgroundcolor": "white",
            "gridcolor": "#DFE8F3",
            "gridwidth": 2,
            "linecolor": "#EBF0F8",
            "showbackground": true,
            "ticks": "",
            "zerolinecolor": "#EBF0F8"
           },
           "yaxis": {
            "backgroundcolor": "white",
            "gridcolor": "#DFE8F3",
            "gridwidth": 2,
            "linecolor": "#EBF0F8",
            "showbackground": true,
            "ticks": "",
            "zerolinecolor": "#EBF0F8"
           },
           "zaxis": {
            "backgroundcolor": "white",
            "gridcolor": "#DFE8F3",
            "gridwidth": 2,
            "linecolor": "#EBF0F8",
            "showbackground": true,
            "ticks": "",
            "zerolinecolor": "#EBF0F8"
           }
          },
          "shapedefaults": {
           "line": {
            "color": "#2a3f5f"
           }
          },
          "ternary": {
           "aaxis": {
            "gridcolor": "#DFE8F3",
            "linecolor": "#A2B1C6",
            "ticks": ""
           },
           "baxis": {
            "gridcolor": "#DFE8F3",
            "linecolor": "#A2B1C6",
            "ticks": ""
           },
           "bgcolor": "white",
           "caxis": {
            "gridcolor": "#DFE8F3",
            "linecolor": "#A2B1C6",
            "ticks": ""
           }
          },
          "title": {
           "x": 0.05
          },
          "xaxis": {
           "automargin": true,
           "gridcolor": "#EBF0F8",
           "linecolor": "#EBF0F8",
           "ticks": "",
           "title": {
            "standoff": 15
           },
           "zerolinecolor": "#EBF0F8",
           "zerolinewidth": 2
          },
          "yaxis": {
           "automargin": true,
           "gridcolor": "#EBF0F8",
           "linecolor": "#EBF0F8",
           "ticks": "",
           "title": {
            "standoff": 15
           },
           "zerolinecolor": "#EBF0F8",
           "zerolinewidth": 2
          }
         }
        },
        "xaxis": {
         "anchor": "y",
         "domain": [
          0,
          0.98
         ],
         "showticklabels": true,
         "title": {
          "text": "start_point"
         }
        },
        "yaxis": {
         "anchor": "x",
         "domain": [
          0,
          1
         ],
         "title": {
          "text": "tag"
         }
        }
       }
      }
     },
     "metadata": {},
     "output_type": "display_data"
    }
   ],
   "source": [
    "my_project.plot_annotations(color_col='annotator')"
   ]
  },
  {
   "cell_type": "markdown",
   "id": "eeb04748",
   "metadata": {},
   "source": [
    "\n",
    "## Plot annotations for a specified annotation collection\n",
    "\n",
    "For this we need to specify one annotation collection. To get an overview over all annotation collections in our project we can use the `annotation_collections`attribute of the CatmaProject class that contains a list of all annotation collections. We inspect the list as schown below."
   ]
  },
  {
   "cell_type": "code",
   "execution_count": 11,
   "id": "d5eea912",
   "metadata": {},
   "outputs": [
    {
     "name": "stdout",
     "output_type": "stream",
     "text": [
      "gold_annotation\n",
      "ac_2\n",
      "ac_1\n"
     ]
    }
   ],
   "source": [
    "for ac in my_project.annotation_collections:\n",
    "    print(ac.name)"
   ]
  },
  {
   "cell_type": "markdown",
   "id": "86151063",
   "metadata": {},
   "source": [
    "We can now specify the annotation collection that we want to inspect. "
   ]
  },
  {
   "cell_type": "code",
   "execution_count": 12,
   "id": "f9e9d6db",
   "metadata": {},
   "outputs": [],
   "source": [
    "my_annotation_collection = 'ac_2'"
   ]
  },
  {
   "cell_type": "markdown",
   "id": "a217d4c0",
   "metadata": {},
   "source": [
    "\n",
    "### Scatter plot\n",
    "\n",
    "The annotations of single annotation collections can be plotted as an interactive Plotly scatter plot, too. The annotations can be explored with respect to:\n",
    "\n",
    "- their tag: y-axis\n",
    "- their text position: x-axis\n",
    "- the annotated text passages: mouse over\n",
    "- their properties: mouse over"
   ]
  },
  {
   "cell_type": "code",
   "execution_count": 13,
   "id": "47bbcd95",
   "metadata": {},
   "outputs": [
    {
     "data": {
      "application/vnd.plotly.v1+json": {
       "config": {
        "plotlyServerURL": "https://plot.ly"
       },
       "data": [
        {
         "customdata": [
          [
           "<I><br>One morning, as Gregor Samsa was waking up from anxious<br>dreams<br></I>",
           [
            "narrator_speech"
           ]
          ],
          [
           "<I><br>and saw his brown, arched abdomen divided up into rigid<br>bow-like sections<br></I>",
           [
            "narrator_speech"
           ]
          ],
          [
           "<I><br>as he lifted his head up a little<br></I>",
           [
            "narrator_speech"
           ]
          ],
          [
           "<I><br>he thought<br></I>",
           [
            "narrator_speech"
           ]
          ],
          [
           "<I><br>which he had cut out of an illustrated magazine a<br>little while ago<br></I>",
           [
            "narrator_speech"
           ]
          ],
          [
           "<I><br>and set in a pretty gilt frame<br></I>",
           [
            "narrator_speech"
           ]
          ]
         ],
         "hovertemplate": "tag=%{y}<br>start_point=%{x}<br>size=%{marker.size}<br>ANNOTATION=%{customdata[0]}<br>prop:representation_type=%{customdata[1]}<extra></extra>",
         "legendgroup": "process_event",
         "marker": {
          "color": "#093658",
          "opacity": 0.7,
          "size": {
           "bdata": "Pm0hCkIe",
           "dtype": "i1"
          },
          "sizemode": "area",
          "sizeref": 1.34,
          "symbol": "circle"
         },
         "mode": "markers",
         "name": "process_event",
         "orientation": "h",
         "showlegend": true,
         "type": "scatter",
         "x": {
          "bdata": "AACtALYAEgIpA2wD",
          "dtype": "i2"
         },
         "xaxis": "x",
         "y": [
          "process_event",
          "process_event",
          "process_event",
          "process_event",
          "process_event",
          "process_event"
         ],
         "yaxis": "y"
        },
        {
         "bingroup": "x",
         "hovertemplate": "tag=process_event<br>start_point=%{x}<br>count=%{y}<extra></extra>",
         "legendgroup": "process_event",
         "marker": {
          "color": "#093658"
         },
         "name": "process_event",
         "opacity": 0.5,
         "showlegend": false,
         "type": "histogram",
         "x": {
          "bdata": "AACtALYAEgIpA2wD",
          "dtype": "i2"
         },
         "xaxis": "x2",
         "yaxis": "y2"
        },
        {
         "customdata": [
          [
           "<I><br>he discovered that in bed he had been changed into<br>a monstrous verminous bug<br></I>",
           [
            "narrator_speech"
           ]
          ]
         ],
         "hovertemplate": "tag=%{y}<br>start_point=%{x}<br>size=%{marker.size}<br>ANNOTATION=%{customdata[0]}<br>prop:representation_type=%{customdata[1]}<extra></extra>",
         "legendgroup": "change_of_state",
         "marker": {
          "color": "#A64B21",
          "opacity": 0.7,
          "size": {
           "bdata": "TA==",
           "dtype": "i1"
          },
          "sizemode": "area",
          "sizeref": 1.34,
          "symbol": "circle"
         },
         "mode": "markers",
         "name": "change_of_state",
         "orientation": "h",
         "showlegend": true,
         "type": "scatter",
         "x": {
          "bdata": "QA==",
          "dtype": "i1"
         },
         "xaxis": "x",
         "y": [
          "change_of_state"
         ],
         "yaxis": "y"
        },
        {
         "bingroup": "x",
         "hovertemplate": "tag=change_of_state<br>start_point=%{x}<br>count=%{y}<extra></extra>",
         "legendgroup": "change_of_state",
         "marker": {
          "color": "#A64B21"
         },
         "name": "change_of_state",
         "opacity": 0.5,
         "showlegend": false,
         "type": "histogram",
         "x": {
          "bdata": "QA==",
          "dtype": "i1"
         },
         "xaxis": "x2",
         "yaxis": "y2"
        },
        {
         "customdata": [
          [
           "<I><br>He lay on his armour-hard back<br></I>",
           [
            "narrator_speech"
           ]
          ],
          [
           "<I><br>From this height the blanket, just about ready to slide<br>off completely, could hardly stay in place<br></I>",
           [
            "narrator_speech"
           ]
          ],
          [
           "<I><br>His numerous legs, pitifully thin in comparison to the rest<br>of his circumference, flickered helplessly before his eyes<br></I>",
           [
            "narrator_speech"
           ]
          ],
          [
           "<I><br>His room, a proper room for a human being, only<br>somewhat too small, lay quietly between the four well-known walls<br></I>",
           [
            "narrator_speech"
           ]
          ],
          [
           "<I><br>Above the table, on which an unpacked collection of sample<br>cloth goods was spread out hung the picture<br></I>",
           [
            "narrator_speech"
           ]
          ],
          [
           "<I><br>Samsa was a travelling salesman<br></I>",
           [
            "narrator_speech"
           ]
          ],
          [
           "<I><br>It was a picture of a woman with a fur<br>hat and a fur boa<br></I>",
           [
            "narrator_speech"
           ]
          ],
          [
           "<I><br>She sat erect there<br></I>",
           [
            "narrator_speech"
           ]
          ],
          [
           "<I><br>lifting up in the direction of the viewer a solid<br>fur muff<br></I>",
           [
            "narrator_speech"
           ]
          ],
          [
           "<I><br>into which her entire forearm had disappeared<br></I>",
           [
            "narrator_speech"
           ]
          ]
         ],
         "hovertemplate": "tag=%{y}<br>start_point=%{x}<br>size=%{marker.size}<br>ANNOTATION=%{customdata[0]}<br>prop:representation_type=%{customdata[1]}<extra></extra>",
         "legendgroup": "stative_event",
         "marker": {
          "color": "#A68500",
          "opacity": 0.7,
          "size": {
           "bdata": "HgBiAHYAcQCGAB8AOAATADoALQA=",
           "dtype": "i2"
          },
          "sizemode": "area",
          "sizeref": 1.34,
          "symbol": "circle"
         },
         "mode": "markers",
         "name": "stative_event",
         "orientation": "h",
         "showlegend": true,
         "type": "scatter",
         "x": {
          "bdata": "jgAcAYABLwKiAvgCjAPGA9sDFgQ=",
          "dtype": "i2"
         },
         "xaxis": "x",
         "y": [
          "stative_event",
          "stative_event",
          "stative_event",
          "stative_event",
          "stative_event",
          "stative_event",
          "stative_event",
          "stative_event",
          "stative_event",
          "stative_event"
         ],
         "yaxis": "y"
        },
        {
         "bingroup": "x",
         "hovertemplate": "tag=stative_event<br>start_point=%{x}<br>count=%{y}<extra></extra>",
         "legendgroup": "stative_event",
         "marker": {
          "color": "#A68500"
         },
         "name": "stative_event",
         "opacity": 0.5,
         "showlegend": false,
         "type": "histogram",
         "x": {
          "bdata": "jgAcAYABLwKiAvgCjAPGA9sDFgQ=",
          "dtype": "i2"
         },
         "xaxis": "x2",
         "yaxis": "y2"
        },
        {
         "customdata": [
          [
           "<I><br>What's happened to me<br></I>",
           [
            "thought_representation"
           ]
          ],
          [
           "<I><br>It was no dream<br></I>",
           [
            "narrator_speech"
           ]
          ]
         ],
         "hovertemplate": "tag=%{y}<br>start_point=%{x}<br>size=%{marker.size}<br>ANNOTATION=%{customdata[0]}<br>prop:representation_type=%{customdata[1]}<extra></extra>",
         "legendgroup": "non_event",
         "marker": {
          "color": "#843AF2",
          "opacity": 0.7,
          "size": {
           "bdata": "FQ8=",
           "dtype": "i1"
          },
          "sizemode": "area",
          "sizeref": 1.34,
          "symbol": "circle"
         },
         "mode": "markers",
         "name": "non_event",
         "orientation": "h",
         "showlegend": true,
         "type": "scatter",
         "x": {
          "bdata": "+gEeAg==",
          "dtype": "i2"
         },
         "xaxis": "x",
         "y": [
          "non_event",
          "non_event"
         ],
         "yaxis": "y"
        },
        {
         "bingroup": "x",
         "hovertemplate": "tag=non_event<br>start_point=%{x}<br>count=%{y}<extra></extra>",
         "legendgroup": "non_event",
         "marker": {
          "color": "#843AF2"
         },
         "name": "non_event",
         "opacity": 0.5,
         "showlegend": false,
         "type": "histogram",
         "x": {
          "bdata": "+gEeAg==",
          "dtype": "i2"
         },
         "xaxis": "x2",
         "yaxis": "y2"
        }
       ],
       "layout": {
        "barmode": "overlay",
        "legend": {
         "font": {
          "color": "#5A98A1",
          "size": 10
         },
         "itemsizing": "constant",
         "orientation": "h",
         "title": {
          "text": "tag"
         },
         "tracegroupgap": 0,
         "x": 1,
         "xanchor": "right",
         "y": 1.02,
         "yanchor": "bottom"
        },
        "margin": {
         "t": 60
        },
        "template": {
         "data": {
          "bar": [
           {
            "error_x": {
             "color": "#2a3f5f"
            },
            "error_y": {
             "color": "#2a3f5f"
            },
            "marker": {
             "line": {
              "color": "white",
              "width": 0.5
             },
             "pattern": {
              "fillmode": "overlay",
              "size": 10,
              "solidity": 0.2
             }
            },
            "type": "bar"
           }
          ],
          "barpolar": [
           {
            "marker": {
             "line": {
              "color": "white",
              "width": 0.5
             },
             "pattern": {
              "fillmode": "overlay",
              "size": 10,
              "solidity": 0.2
             }
            },
            "type": "barpolar"
           }
          ],
          "carpet": [
           {
            "aaxis": {
             "endlinecolor": "#2a3f5f",
             "gridcolor": "#C8D4E3",
             "linecolor": "#C8D4E3",
             "minorgridcolor": "#C8D4E3",
             "startlinecolor": "#2a3f5f"
            },
            "baxis": {
             "endlinecolor": "#2a3f5f",
             "gridcolor": "#C8D4E3",
             "linecolor": "#C8D4E3",
             "minorgridcolor": "#C8D4E3",
             "startlinecolor": "#2a3f5f"
            },
            "type": "carpet"
           }
          ],
          "choropleth": [
           {
            "colorbar": {
             "outlinewidth": 0,
             "ticks": ""
            },
            "type": "choropleth"
           }
          ],
          "contour": [
           {
            "colorbar": {
             "outlinewidth": 0,
             "ticks": ""
            },
            "colorscale": [
             [
              0,
              "#0d0887"
             ],
             [
              0.1111111111111111,
              "#46039f"
             ],
             [
              0.2222222222222222,
              "#7201a8"
             ],
             [
              0.3333333333333333,
              "#9c179e"
             ],
             [
              0.4444444444444444,
              "#bd3786"
             ],
             [
              0.5555555555555556,
              "#d8576b"
             ],
             [
              0.6666666666666666,
              "#ed7953"
             ],
             [
              0.7777777777777778,
              "#fb9f3a"
             ],
             [
              0.8888888888888888,
              "#fdca26"
             ],
             [
              1,
              "#f0f921"
             ]
            ],
            "type": "contour"
           }
          ],
          "contourcarpet": [
           {
            "colorbar": {
             "outlinewidth": 0,
             "ticks": ""
            },
            "type": "contourcarpet"
           }
          ],
          "heatmap": [
           {
            "colorbar": {
             "outlinewidth": 0,
             "ticks": ""
            },
            "colorscale": [
             [
              0,
              "#0d0887"
             ],
             [
              0.1111111111111111,
              "#46039f"
             ],
             [
              0.2222222222222222,
              "#7201a8"
             ],
             [
              0.3333333333333333,
              "#9c179e"
             ],
             [
              0.4444444444444444,
              "#bd3786"
             ],
             [
              0.5555555555555556,
              "#d8576b"
             ],
             [
              0.6666666666666666,
              "#ed7953"
             ],
             [
              0.7777777777777778,
              "#fb9f3a"
             ],
             [
              0.8888888888888888,
              "#fdca26"
             ],
             [
              1,
              "#f0f921"
             ]
            ],
            "type": "heatmap"
           }
          ],
          "histogram": [
           {
            "marker": {
             "pattern": {
              "fillmode": "overlay",
              "size": 10,
              "solidity": 0.2
             }
            },
            "type": "histogram"
           }
          ],
          "histogram2d": [
           {
            "colorbar": {
             "outlinewidth": 0,
             "ticks": ""
            },
            "colorscale": [
             [
              0,
              "#0d0887"
             ],
             [
              0.1111111111111111,
              "#46039f"
             ],
             [
              0.2222222222222222,
              "#7201a8"
             ],
             [
              0.3333333333333333,
              "#9c179e"
             ],
             [
              0.4444444444444444,
              "#bd3786"
             ],
             [
              0.5555555555555556,
              "#d8576b"
             ],
             [
              0.6666666666666666,
              "#ed7953"
             ],
             [
              0.7777777777777778,
              "#fb9f3a"
             ],
             [
              0.8888888888888888,
              "#fdca26"
             ],
             [
              1,
              "#f0f921"
             ]
            ],
            "type": "histogram2d"
           }
          ],
          "histogram2dcontour": [
           {
            "colorbar": {
             "outlinewidth": 0,
             "ticks": ""
            },
            "colorscale": [
             [
              0,
              "#0d0887"
             ],
             [
              0.1111111111111111,
              "#46039f"
             ],
             [
              0.2222222222222222,
              "#7201a8"
             ],
             [
              0.3333333333333333,
              "#9c179e"
             ],
             [
              0.4444444444444444,
              "#bd3786"
             ],
             [
              0.5555555555555556,
              "#d8576b"
             ],
             [
              0.6666666666666666,
              "#ed7953"
             ],
             [
              0.7777777777777778,
              "#fb9f3a"
             ],
             [
              0.8888888888888888,
              "#fdca26"
             ],
             [
              1,
              "#f0f921"
             ]
            ],
            "type": "histogram2dcontour"
           }
          ],
          "mesh3d": [
           {
            "colorbar": {
             "outlinewidth": 0,
             "ticks": ""
            },
            "type": "mesh3d"
           }
          ],
          "parcoords": [
           {
            "line": {
             "colorbar": {
              "outlinewidth": 0,
              "ticks": ""
             }
            },
            "type": "parcoords"
           }
          ],
          "pie": [
           {
            "automargin": true,
            "type": "pie"
           }
          ],
          "scatter": [
           {
            "fillpattern": {
             "fillmode": "overlay",
             "size": 10,
             "solidity": 0.2
            },
            "type": "scatter"
           }
          ],
          "scatter3d": [
           {
            "line": {
             "colorbar": {
              "outlinewidth": 0,
              "ticks": ""
             }
            },
            "marker": {
             "colorbar": {
              "outlinewidth": 0,
              "ticks": ""
             }
            },
            "type": "scatter3d"
           }
          ],
          "scattercarpet": [
           {
            "marker": {
             "colorbar": {
              "outlinewidth": 0,
              "ticks": ""
             }
            },
            "type": "scattercarpet"
           }
          ],
          "scattergeo": [
           {
            "marker": {
             "colorbar": {
              "outlinewidth": 0,
              "ticks": ""
             }
            },
            "type": "scattergeo"
           }
          ],
          "scattergl": [
           {
            "marker": {
             "colorbar": {
              "outlinewidth": 0,
              "ticks": ""
             }
            },
            "type": "scattergl"
           }
          ],
          "scattermap": [
           {
            "marker": {
             "colorbar": {
              "outlinewidth": 0,
              "ticks": ""
             }
            },
            "type": "scattermap"
           }
          ],
          "scattermapbox": [
           {
            "marker": {
             "colorbar": {
              "outlinewidth": 0,
              "ticks": ""
             }
            },
            "type": "scattermapbox"
           }
          ],
          "scatterpolar": [
           {
            "marker": {
             "colorbar": {
              "outlinewidth": 0,
              "ticks": ""
             }
            },
            "type": "scatterpolar"
           }
          ],
          "scatterpolargl": [
           {
            "marker": {
             "colorbar": {
              "outlinewidth": 0,
              "ticks": ""
             }
            },
            "type": "scatterpolargl"
           }
          ],
          "scatterternary": [
           {
            "marker": {
             "colorbar": {
              "outlinewidth": 0,
              "ticks": ""
             }
            },
            "type": "scatterternary"
           }
          ],
          "surface": [
           {
            "colorbar": {
             "outlinewidth": 0,
             "ticks": ""
            },
            "colorscale": [
             [
              0,
              "#0d0887"
             ],
             [
              0.1111111111111111,
              "#46039f"
             ],
             [
              0.2222222222222222,
              "#7201a8"
             ],
             [
              0.3333333333333333,
              "#9c179e"
             ],
             [
              0.4444444444444444,
              "#bd3786"
             ],
             [
              0.5555555555555556,
              "#d8576b"
             ],
             [
              0.6666666666666666,
              "#ed7953"
             ],
             [
              0.7777777777777778,
              "#fb9f3a"
             ],
             [
              0.8888888888888888,
              "#fdca26"
             ],
             [
              1,
              "#f0f921"
             ]
            ],
            "type": "surface"
           }
          ],
          "table": [
           {
            "cells": {
             "fill": {
              "color": "#EBF0F8"
             },
             "line": {
              "color": "white"
             }
            },
            "header": {
             "fill": {
              "color": "#C8D4E3"
             },
             "line": {
              "color": "white"
             }
            },
            "type": "table"
           }
          ]
         },
         "layout": {
          "annotationdefaults": {
           "arrowcolor": "#2a3f5f",
           "arrowhead": 0,
           "arrowwidth": 1
          },
          "autotypenumbers": "strict",
          "coloraxis": {
           "colorbar": {
            "outlinewidth": 0,
            "ticks": ""
           }
          },
          "colorscale": {
           "diverging": [
            [
             0,
             "#8e0152"
            ],
            [
             0.1,
             "#c51b7d"
            ],
            [
             0.2,
             "#de77ae"
            ],
            [
             0.3,
             "#f1b6da"
            ],
            [
             0.4,
             "#fde0ef"
            ],
            [
             0.5,
             "#f7f7f7"
            ],
            [
             0.6,
             "#e6f5d0"
            ],
            [
             0.7,
             "#b8e186"
            ],
            [
             0.8,
             "#7fbc41"
            ],
            [
             0.9,
             "#4d9221"
            ],
            [
             1,
             "#276419"
            ]
           ],
           "sequential": [
            [
             0,
             "#0d0887"
            ],
            [
             0.1111111111111111,
             "#46039f"
            ],
            [
             0.2222222222222222,
             "#7201a8"
            ],
            [
             0.3333333333333333,
             "#9c179e"
            ],
            [
             0.4444444444444444,
             "#bd3786"
            ],
            [
             0.5555555555555556,
             "#d8576b"
            ],
            [
             0.6666666666666666,
             "#ed7953"
            ],
            [
             0.7777777777777778,
             "#fb9f3a"
            ],
            [
             0.8888888888888888,
             "#fdca26"
            ],
            [
             1,
             "#f0f921"
            ]
           ],
           "sequentialminus": [
            [
             0,
             "#0d0887"
            ],
            [
             0.1111111111111111,
             "#46039f"
            ],
            [
             0.2222222222222222,
             "#7201a8"
            ],
            [
             0.3333333333333333,
             "#9c179e"
            ],
            [
             0.4444444444444444,
             "#bd3786"
            ],
            [
             0.5555555555555556,
             "#d8576b"
            ],
            [
             0.6666666666666666,
             "#ed7953"
            ],
            [
             0.7777777777777778,
             "#fb9f3a"
            ],
            [
             0.8888888888888888,
             "#fdca26"
            ],
            [
             1,
             "#f0f921"
            ]
           ]
          },
          "colorway": [
           "#636efa",
           "#EF553B",
           "#00cc96",
           "#ab63fa",
           "#FFA15A",
           "#19d3f3",
           "#FF6692",
           "#B6E880",
           "#FF97FF",
           "#FECB52"
          ],
          "font": {
           "color": "#2a3f5f"
          },
          "geo": {
           "bgcolor": "white",
           "lakecolor": "white",
           "landcolor": "white",
           "showlakes": true,
           "showland": true,
           "subunitcolor": "#C8D4E3"
          },
          "hoverlabel": {
           "align": "left"
          },
          "hovermode": "closest",
          "mapbox": {
           "style": "light"
          },
          "paper_bgcolor": "white",
          "plot_bgcolor": "white",
          "polar": {
           "angularaxis": {
            "gridcolor": "#EBF0F8",
            "linecolor": "#EBF0F8",
            "ticks": ""
           },
           "bgcolor": "white",
           "radialaxis": {
            "gridcolor": "#EBF0F8",
            "linecolor": "#EBF0F8",
            "ticks": ""
           }
          },
          "scene": {
           "xaxis": {
            "backgroundcolor": "white",
            "gridcolor": "#DFE8F3",
            "gridwidth": 2,
            "linecolor": "#EBF0F8",
            "showbackground": true,
            "ticks": "",
            "zerolinecolor": "#EBF0F8"
           },
           "yaxis": {
            "backgroundcolor": "white",
            "gridcolor": "#DFE8F3",
            "gridwidth": 2,
            "linecolor": "#EBF0F8",
            "showbackground": true,
            "ticks": "",
            "zerolinecolor": "#EBF0F8"
           },
           "zaxis": {
            "backgroundcolor": "white",
            "gridcolor": "#DFE8F3",
            "gridwidth": 2,
            "linecolor": "#EBF0F8",
            "showbackground": true,
            "ticks": "",
            "zerolinecolor": "#EBF0F8"
           }
          },
          "shapedefaults": {
           "line": {
            "color": "#2a3f5f"
           }
          },
          "ternary": {
           "aaxis": {
            "gridcolor": "#DFE8F3",
            "linecolor": "#A2B1C6",
            "ticks": ""
           },
           "baxis": {
            "gridcolor": "#DFE8F3",
            "linecolor": "#A2B1C6",
            "ticks": ""
           },
           "bgcolor": "white",
           "caxis": {
            "gridcolor": "#DFE8F3",
            "linecolor": "#A2B1C6",
            "ticks": ""
           }
          },
          "title": {
           "x": 0.05
          },
          "xaxis": {
           "automargin": true,
           "gridcolor": "#EBF0F8",
           "linecolor": "#EBF0F8",
           "ticks": "",
           "title": {
            "standoff": 15
           },
           "zerolinecolor": "#EBF0F8",
           "zerolinewidth": 2
          },
          "yaxis": {
           "automargin": true,
           "gridcolor": "#EBF0F8",
           "linecolor": "#EBF0F8",
           "ticks": "",
           "title": {
            "standoff": 15
           },
           "zerolinecolor": "#EBF0F8",
           "zerolinewidth": 2
          }
         }
        },
        "xaxis": {
         "anchor": "y",
         "domain": [
          0,
          1
         ],
         "title": {
          "text": "start_point"
         }
        },
        "xaxis2": {
         "anchor": "y2",
         "domain": [
          0,
          1
         ],
         "showgrid": true,
         "showticklabels": false
        },
        "yaxis": {
         "anchor": "x",
         "categoryarray": [
          "non_event",
          "stative_event",
          "change_of_state",
          "process_event"
         ],
         "categoryorder": "array",
         "domain": [
          0,
          0.7326
         ],
         "title": {
          "text": "tag"
         }
        },
        "yaxis2": {
         "anchor": "x2",
         "categoryarray": [
          "non_event",
          "stative_event",
          "change_of_state",
          "process_event"
         ],
         "categoryorder": "array",
         "domain": [
          0.7426,
          1
         ],
         "matches": "y2",
         "showgrid": true,
         "showline": false,
         "showticklabels": false,
         "ticks": ""
        }
       }
      }
     },
     "metadata": {},
     "output_type": "display_data"
    }
   ],
   "source": [
    "my_project.ac_dict[my_annotation_collection].plot_annotations()"
   ]
  },
  {
   "cell_type": "markdown",
   "id": "d9fc3f83",
   "metadata": {},
   "source": [
    "You can customize the plot by choosing annotation properties for the y_axis and the scatter color."
   ]
  },
  {
   "cell_type": "code",
   "execution_count": 14,
   "id": "301ff9a7",
   "metadata": {},
   "outputs": [
    {
     "data": {
      "application/vnd.plotly.v1+json": {
       "config": {
        "plotlyServerURL": "https://plot.ly"
       },
       "data": [
        {
         "customdata": [
          [
           "<I><br>One morning, as Gregor Samsa was waking up from anxious<br>dreams<br></I>"
          ],
          [
           "<I><br>and saw his brown, arched abdomen divided up into rigid<br>bow-like sections<br></I>"
          ],
          [
           "<I><br>as he lifted his head up a little<br></I>"
          ],
          [
           "<I><br>he thought<br></I>"
          ],
          [
           "<I><br>which he had cut out of an illustrated magazine a<br>little while ago<br></I>"
          ],
          [
           "<I><br>and set in a pretty gilt frame<br></I>"
          ]
         ],
         "hovertemplate": "tag=process_event<br>start_point=%{x}<br>prop:representation_type=%{y}<br>size=%{marker.size}<br>ANNOTATION=%{customdata[0]}<extra></extra>",
         "legendgroup": "process_event",
         "marker": {
          "color": "#093658",
          "opacity": 0.7,
          "size": {
           "bdata": "Pm0hCkIe",
           "dtype": "i1"
          },
          "sizemode": "area",
          "sizeref": 1.34,
          "symbol": "circle"
         },
         "mode": "markers",
         "name": "process_event",
         "orientation": "h",
         "showlegend": true,
         "type": "scatter",
         "x": {
          "bdata": "AACtALYAEgIpA2wD",
          "dtype": "i2"
         },
         "xaxis": "x",
         "y": [
          "narrator_speech",
          "narrator_speech",
          "narrator_speech",
          "narrator_speech",
          "narrator_speech",
          "narrator_speech"
         ],
         "yaxis": "y"
        },
        {
         "bingroup": "x",
         "hovertemplate": "tag=process_event<br>start_point=%{x}<br>count=%{y}<extra></extra>",
         "legendgroup": "process_event",
         "marker": {
          "color": "#093658"
         },
         "name": "process_event",
         "opacity": 0.5,
         "showlegend": false,
         "type": "histogram",
         "x": {
          "bdata": "AACtALYAEgIpA2wD",
          "dtype": "i2"
         },
         "xaxis": "x2",
         "yaxis": "y2"
        },
        {
         "customdata": [
          [
           "<I><br>he discovered that in bed he had been changed into<br>a monstrous verminous bug<br></I>"
          ]
         ],
         "hovertemplate": "tag=change_of_state<br>start_point=%{x}<br>prop:representation_type=%{y}<br>size=%{marker.size}<br>ANNOTATION=%{customdata[0]}<extra></extra>",
         "legendgroup": "change_of_state",
         "marker": {
          "color": "#A64B21",
          "opacity": 0.7,
          "size": {
           "bdata": "TA==",
           "dtype": "i1"
          },
          "sizemode": "area",
          "sizeref": 1.34,
          "symbol": "circle"
         },
         "mode": "markers",
         "name": "change_of_state",
         "orientation": "h",
         "showlegend": true,
         "type": "scatter",
         "x": {
          "bdata": "QA==",
          "dtype": "i1"
         },
         "xaxis": "x",
         "y": [
          "narrator_speech"
         ],
         "yaxis": "y"
        },
        {
         "bingroup": "x",
         "hovertemplate": "tag=change_of_state<br>start_point=%{x}<br>count=%{y}<extra></extra>",
         "legendgroup": "change_of_state",
         "marker": {
          "color": "#A64B21"
         },
         "name": "change_of_state",
         "opacity": 0.5,
         "showlegend": false,
         "type": "histogram",
         "x": {
          "bdata": "QA==",
          "dtype": "i1"
         },
         "xaxis": "x2",
         "yaxis": "y2"
        },
        {
         "customdata": [
          [
           "<I><br>He lay on his armour-hard back<br></I>"
          ],
          [
           "<I><br>From this height the blanket, just about ready to slide<br>off completely, could hardly stay in place<br></I>"
          ],
          [
           "<I><br>His numerous legs, pitifully thin in comparison to the rest<br>of his circumference, flickered helplessly before his eyes<br></I>"
          ],
          [
           "<I><br>His room, a proper room for a human being, only<br>somewhat too small, lay quietly between the four well-known walls<br></I>"
          ],
          [
           "<I><br>Above the table, on which an unpacked collection of sample<br>cloth goods was spread out hung the picture<br></I>"
          ],
          [
           "<I><br>Samsa was a travelling salesman<br></I>"
          ],
          [
           "<I><br>It was a picture of a woman with a fur<br>hat and a fur boa<br></I>"
          ],
          [
           "<I><br>She sat erect there<br></I>"
          ],
          [
           "<I><br>lifting up in the direction of the viewer a solid<br>fur muff<br></I>"
          ],
          [
           "<I><br>into which her entire forearm had disappeared<br></I>"
          ]
         ],
         "hovertemplate": "tag=stative_event<br>start_point=%{x}<br>prop:representation_type=%{y}<br>size=%{marker.size}<br>ANNOTATION=%{customdata[0]}<extra></extra>",
         "legendgroup": "stative_event",
         "marker": {
          "color": "#A68500",
          "opacity": 0.7,
          "size": {
           "bdata": "HgBiAHYAcQCGAB8AOAATADoALQA=",
           "dtype": "i2"
          },
          "sizemode": "area",
          "sizeref": 1.34,
          "symbol": "circle"
         },
         "mode": "markers",
         "name": "stative_event",
         "orientation": "h",
         "showlegend": true,
         "type": "scatter",
         "x": {
          "bdata": "jgAcAYABLwKiAvgCjAPGA9sDFgQ=",
          "dtype": "i2"
         },
         "xaxis": "x",
         "y": [
          "narrator_speech",
          "narrator_speech",
          "narrator_speech",
          "narrator_speech",
          "narrator_speech",
          "narrator_speech",
          "narrator_speech",
          "narrator_speech",
          "narrator_speech",
          "narrator_speech"
         ],
         "yaxis": "y"
        },
        {
         "bingroup": "x",
         "hovertemplate": "tag=stative_event<br>start_point=%{x}<br>count=%{y}<extra></extra>",
         "legendgroup": "stative_event",
         "marker": {
          "color": "#A68500"
         },
         "name": "stative_event",
         "opacity": 0.5,
         "showlegend": false,
         "type": "histogram",
         "x": {
          "bdata": "jgAcAYABLwKiAvgCjAPGA9sDFgQ=",
          "dtype": "i2"
         },
         "xaxis": "x2",
         "yaxis": "y2"
        },
        {
         "customdata": [
          [
           "<I><br>What's happened to me<br></I>"
          ],
          [
           "<I><br>It was no dream<br></I>"
          ]
         ],
         "hovertemplate": "tag=non_event<br>start_point=%{x}<br>prop:representation_type=%{y}<br>size=%{marker.size}<br>ANNOTATION=%{customdata[0]}<extra></extra>",
         "legendgroup": "non_event",
         "marker": {
          "color": "#843AF2",
          "opacity": 0.7,
          "size": {
           "bdata": "FQ8=",
           "dtype": "i1"
          },
          "sizemode": "area",
          "sizeref": 1.34,
          "symbol": "circle"
         },
         "mode": "markers",
         "name": "non_event",
         "orientation": "h",
         "showlegend": true,
         "type": "scatter",
         "x": {
          "bdata": "+gEeAg==",
          "dtype": "i2"
         },
         "xaxis": "x",
         "y": [
          "thought_representation",
          "narrator_speech"
         ],
         "yaxis": "y"
        },
        {
         "bingroup": "x",
         "hovertemplate": "tag=non_event<br>start_point=%{x}<br>count=%{y}<extra></extra>",
         "legendgroup": "non_event",
         "marker": {
          "color": "#843AF2"
         },
         "name": "non_event",
         "opacity": 0.5,
         "showlegend": false,
         "type": "histogram",
         "x": {
          "bdata": "+gEeAg==",
          "dtype": "i2"
         },
         "xaxis": "x2",
         "yaxis": "y2"
        }
       ],
       "layout": {
        "barmode": "overlay",
        "legend": {
         "font": {
          "color": "#5A98A1",
          "size": 10
         },
         "itemsizing": "constant",
         "orientation": "h",
         "title": {
          "text": "tag"
         },
         "tracegroupgap": 0,
         "x": 1,
         "xanchor": "right",
         "y": 1.02,
         "yanchor": "bottom"
        },
        "margin": {
         "t": 60
        },
        "template": {
         "data": {
          "bar": [
           {
            "error_x": {
             "color": "#2a3f5f"
            },
            "error_y": {
             "color": "#2a3f5f"
            },
            "marker": {
             "line": {
              "color": "white",
              "width": 0.5
             },
             "pattern": {
              "fillmode": "overlay",
              "size": 10,
              "solidity": 0.2
             }
            },
            "type": "bar"
           }
          ],
          "barpolar": [
           {
            "marker": {
             "line": {
              "color": "white",
              "width": 0.5
             },
             "pattern": {
              "fillmode": "overlay",
              "size": 10,
              "solidity": 0.2
             }
            },
            "type": "barpolar"
           }
          ],
          "carpet": [
           {
            "aaxis": {
             "endlinecolor": "#2a3f5f",
             "gridcolor": "#C8D4E3",
             "linecolor": "#C8D4E3",
             "minorgridcolor": "#C8D4E3",
             "startlinecolor": "#2a3f5f"
            },
            "baxis": {
             "endlinecolor": "#2a3f5f",
             "gridcolor": "#C8D4E3",
             "linecolor": "#C8D4E3",
             "minorgridcolor": "#C8D4E3",
             "startlinecolor": "#2a3f5f"
            },
            "type": "carpet"
           }
          ],
          "choropleth": [
           {
            "colorbar": {
             "outlinewidth": 0,
             "ticks": ""
            },
            "type": "choropleth"
           }
          ],
          "contour": [
           {
            "colorbar": {
             "outlinewidth": 0,
             "ticks": ""
            },
            "colorscale": [
             [
              0,
              "#0d0887"
             ],
             [
              0.1111111111111111,
              "#46039f"
             ],
             [
              0.2222222222222222,
              "#7201a8"
             ],
             [
              0.3333333333333333,
              "#9c179e"
             ],
             [
              0.4444444444444444,
              "#bd3786"
             ],
             [
              0.5555555555555556,
              "#d8576b"
             ],
             [
              0.6666666666666666,
              "#ed7953"
             ],
             [
              0.7777777777777778,
              "#fb9f3a"
             ],
             [
              0.8888888888888888,
              "#fdca26"
             ],
             [
              1,
              "#f0f921"
             ]
            ],
            "type": "contour"
           }
          ],
          "contourcarpet": [
           {
            "colorbar": {
             "outlinewidth": 0,
             "ticks": ""
            },
            "type": "contourcarpet"
           }
          ],
          "heatmap": [
           {
            "colorbar": {
             "outlinewidth": 0,
             "ticks": ""
            },
            "colorscale": [
             [
              0,
              "#0d0887"
             ],
             [
              0.1111111111111111,
              "#46039f"
             ],
             [
              0.2222222222222222,
              "#7201a8"
             ],
             [
              0.3333333333333333,
              "#9c179e"
             ],
             [
              0.4444444444444444,
              "#bd3786"
             ],
             [
              0.5555555555555556,
              "#d8576b"
             ],
             [
              0.6666666666666666,
              "#ed7953"
             ],
             [
              0.7777777777777778,
              "#fb9f3a"
             ],
             [
              0.8888888888888888,
              "#fdca26"
             ],
             [
              1,
              "#f0f921"
             ]
            ],
            "type": "heatmap"
           }
          ],
          "histogram": [
           {
            "marker": {
             "pattern": {
              "fillmode": "overlay",
              "size": 10,
              "solidity": 0.2
             }
            },
            "type": "histogram"
           }
          ],
          "histogram2d": [
           {
            "colorbar": {
             "outlinewidth": 0,
             "ticks": ""
            },
            "colorscale": [
             [
              0,
              "#0d0887"
             ],
             [
              0.1111111111111111,
              "#46039f"
             ],
             [
              0.2222222222222222,
              "#7201a8"
             ],
             [
              0.3333333333333333,
              "#9c179e"
             ],
             [
              0.4444444444444444,
              "#bd3786"
             ],
             [
              0.5555555555555556,
              "#d8576b"
             ],
             [
              0.6666666666666666,
              "#ed7953"
             ],
             [
              0.7777777777777778,
              "#fb9f3a"
             ],
             [
              0.8888888888888888,
              "#fdca26"
             ],
             [
              1,
              "#f0f921"
             ]
            ],
            "type": "histogram2d"
           }
          ],
          "histogram2dcontour": [
           {
            "colorbar": {
             "outlinewidth": 0,
             "ticks": ""
            },
            "colorscale": [
             [
              0,
              "#0d0887"
             ],
             [
              0.1111111111111111,
              "#46039f"
             ],
             [
              0.2222222222222222,
              "#7201a8"
             ],
             [
              0.3333333333333333,
              "#9c179e"
             ],
             [
              0.4444444444444444,
              "#bd3786"
             ],
             [
              0.5555555555555556,
              "#d8576b"
             ],
             [
              0.6666666666666666,
              "#ed7953"
             ],
             [
              0.7777777777777778,
              "#fb9f3a"
             ],
             [
              0.8888888888888888,
              "#fdca26"
             ],
             [
              1,
              "#f0f921"
             ]
            ],
            "type": "histogram2dcontour"
           }
          ],
          "mesh3d": [
           {
            "colorbar": {
             "outlinewidth": 0,
             "ticks": ""
            },
            "type": "mesh3d"
           }
          ],
          "parcoords": [
           {
            "line": {
             "colorbar": {
              "outlinewidth": 0,
              "ticks": ""
             }
            },
            "type": "parcoords"
           }
          ],
          "pie": [
           {
            "automargin": true,
            "type": "pie"
           }
          ],
          "scatter": [
           {
            "fillpattern": {
             "fillmode": "overlay",
             "size": 10,
             "solidity": 0.2
            },
            "type": "scatter"
           }
          ],
          "scatter3d": [
           {
            "line": {
             "colorbar": {
              "outlinewidth": 0,
              "ticks": ""
             }
            },
            "marker": {
             "colorbar": {
              "outlinewidth": 0,
              "ticks": ""
             }
            },
            "type": "scatter3d"
           }
          ],
          "scattercarpet": [
           {
            "marker": {
             "colorbar": {
              "outlinewidth": 0,
              "ticks": ""
             }
            },
            "type": "scattercarpet"
           }
          ],
          "scattergeo": [
           {
            "marker": {
             "colorbar": {
              "outlinewidth": 0,
              "ticks": ""
             }
            },
            "type": "scattergeo"
           }
          ],
          "scattergl": [
           {
            "marker": {
             "colorbar": {
              "outlinewidth": 0,
              "ticks": ""
             }
            },
            "type": "scattergl"
           }
          ],
          "scattermap": [
           {
            "marker": {
             "colorbar": {
              "outlinewidth": 0,
              "ticks": ""
             }
            },
            "type": "scattermap"
           }
          ],
          "scattermapbox": [
           {
            "marker": {
             "colorbar": {
              "outlinewidth": 0,
              "ticks": ""
             }
            },
            "type": "scattermapbox"
           }
          ],
          "scatterpolar": [
           {
            "marker": {
             "colorbar": {
              "outlinewidth": 0,
              "ticks": ""
             }
            },
            "type": "scatterpolar"
           }
          ],
          "scatterpolargl": [
           {
            "marker": {
             "colorbar": {
              "outlinewidth": 0,
              "ticks": ""
             }
            },
            "type": "scatterpolargl"
           }
          ],
          "scatterternary": [
           {
            "marker": {
             "colorbar": {
              "outlinewidth": 0,
              "ticks": ""
             }
            },
            "type": "scatterternary"
           }
          ],
          "surface": [
           {
            "colorbar": {
             "outlinewidth": 0,
             "ticks": ""
            },
            "colorscale": [
             [
              0,
              "#0d0887"
             ],
             [
              0.1111111111111111,
              "#46039f"
             ],
             [
              0.2222222222222222,
              "#7201a8"
             ],
             [
              0.3333333333333333,
              "#9c179e"
             ],
             [
              0.4444444444444444,
              "#bd3786"
             ],
             [
              0.5555555555555556,
              "#d8576b"
             ],
             [
              0.6666666666666666,
              "#ed7953"
             ],
             [
              0.7777777777777778,
              "#fb9f3a"
             ],
             [
              0.8888888888888888,
              "#fdca26"
             ],
             [
              1,
              "#f0f921"
             ]
            ],
            "type": "surface"
           }
          ],
          "table": [
           {
            "cells": {
             "fill": {
              "color": "#EBF0F8"
             },
             "line": {
              "color": "white"
             }
            },
            "header": {
             "fill": {
              "color": "#C8D4E3"
             },
             "line": {
              "color": "white"
             }
            },
            "type": "table"
           }
          ]
         },
         "layout": {
          "annotationdefaults": {
           "arrowcolor": "#2a3f5f",
           "arrowhead": 0,
           "arrowwidth": 1
          },
          "autotypenumbers": "strict",
          "coloraxis": {
           "colorbar": {
            "outlinewidth": 0,
            "ticks": ""
           }
          },
          "colorscale": {
           "diverging": [
            [
             0,
             "#8e0152"
            ],
            [
             0.1,
             "#c51b7d"
            ],
            [
             0.2,
             "#de77ae"
            ],
            [
             0.3,
             "#f1b6da"
            ],
            [
             0.4,
             "#fde0ef"
            ],
            [
             0.5,
             "#f7f7f7"
            ],
            [
             0.6,
             "#e6f5d0"
            ],
            [
             0.7,
             "#b8e186"
            ],
            [
             0.8,
             "#7fbc41"
            ],
            [
             0.9,
             "#4d9221"
            ],
            [
             1,
             "#276419"
            ]
           ],
           "sequential": [
            [
             0,
             "#0d0887"
            ],
            [
             0.1111111111111111,
             "#46039f"
            ],
            [
             0.2222222222222222,
             "#7201a8"
            ],
            [
             0.3333333333333333,
             "#9c179e"
            ],
            [
             0.4444444444444444,
             "#bd3786"
            ],
            [
             0.5555555555555556,
             "#d8576b"
            ],
            [
             0.6666666666666666,
             "#ed7953"
            ],
            [
             0.7777777777777778,
             "#fb9f3a"
            ],
            [
             0.8888888888888888,
             "#fdca26"
            ],
            [
             1,
             "#f0f921"
            ]
           ],
           "sequentialminus": [
            [
             0,
             "#0d0887"
            ],
            [
             0.1111111111111111,
             "#46039f"
            ],
            [
             0.2222222222222222,
             "#7201a8"
            ],
            [
             0.3333333333333333,
             "#9c179e"
            ],
            [
             0.4444444444444444,
             "#bd3786"
            ],
            [
             0.5555555555555556,
             "#d8576b"
            ],
            [
             0.6666666666666666,
             "#ed7953"
            ],
            [
             0.7777777777777778,
             "#fb9f3a"
            ],
            [
             0.8888888888888888,
             "#fdca26"
            ],
            [
             1,
             "#f0f921"
            ]
           ]
          },
          "colorway": [
           "#636efa",
           "#EF553B",
           "#00cc96",
           "#ab63fa",
           "#FFA15A",
           "#19d3f3",
           "#FF6692",
           "#B6E880",
           "#FF97FF",
           "#FECB52"
          ],
          "font": {
           "color": "#2a3f5f"
          },
          "geo": {
           "bgcolor": "white",
           "lakecolor": "white",
           "landcolor": "white",
           "showlakes": true,
           "showland": true,
           "subunitcolor": "#C8D4E3"
          },
          "hoverlabel": {
           "align": "left"
          },
          "hovermode": "closest",
          "mapbox": {
           "style": "light"
          },
          "paper_bgcolor": "white",
          "plot_bgcolor": "white",
          "polar": {
           "angularaxis": {
            "gridcolor": "#EBF0F8",
            "linecolor": "#EBF0F8",
            "ticks": ""
           },
           "bgcolor": "white",
           "radialaxis": {
            "gridcolor": "#EBF0F8",
            "linecolor": "#EBF0F8",
            "ticks": ""
           }
          },
          "scene": {
           "xaxis": {
            "backgroundcolor": "white",
            "gridcolor": "#DFE8F3",
            "gridwidth": 2,
            "linecolor": "#EBF0F8",
            "showbackground": true,
            "ticks": "",
            "zerolinecolor": "#EBF0F8"
           },
           "yaxis": {
            "backgroundcolor": "white",
            "gridcolor": "#DFE8F3",
            "gridwidth": 2,
            "linecolor": "#EBF0F8",
            "showbackground": true,
            "ticks": "",
            "zerolinecolor": "#EBF0F8"
           },
           "zaxis": {
            "backgroundcolor": "white",
            "gridcolor": "#DFE8F3",
            "gridwidth": 2,
            "linecolor": "#EBF0F8",
            "showbackground": true,
            "ticks": "",
            "zerolinecolor": "#EBF0F8"
           }
          },
          "shapedefaults": {
           "line": {
            "color": "#2a3f5f"
           }
          },
          "ternary": {
           "aaxis": {
            "gridcolor": "#DFE8F3",
            "linecolor": "#A2B1C6",
            "ticks": ""
           },
           "baxis": {
            "gridcolor": "#DFE8F3",
            "linecolor": "#A2B1C6",
            "ticks": ""
           },
           "bgcolor": "white",
           "caxis": {
            "gridcolor": "#DFE8F3",
            "linecolor": "#A2B1C6",
            "ticks": ""
           }
          },
          "title": {
           "x": 0.05
          },
          "xaxis": {
           "automargin": true,
           "gridcolor": "#EBF0F8",
           "linecolor": "#EBF0F8",
           "ticks": "",
           "title": {
            "standoff": 15
           },
           "zerolinecolor": "#EBF0F8",
           "zerolinewidth": 2
          },
          "yaxis": {
           "automargin": true,
           "gridcolor": "#EBF0F8",
           "linecolor": "#EBF0F8",
           "ticks": "",
           "title": {
            "standoff": 15
           },
           "zerolinecolor": "#EBF0F8",
           "zerolinewidth": 2
          }
         }
        },
        "xaxis": {
         "anchor": "y",
         "domain": [
          0,
          1
         ],
         "title": {
          "text": "start_point"
         }
        },
        "xaxis2": {
         "anchor": "y2",
         "domain": [
          0,
          1
         ],
         "showgrid": true,
         "showticklabels": false
        },
        "yaxis": {
         "anchor": "x",
         "domain": [
          0,
          0.7326
         ],
         "title": {
          "text": "prop:representation_type"
         }
        },
        "yaxis2": {
         "anchor": "x2",
         "domain": [
          0.7426,
          1
         ],
         "matches": "y2",
         "showgrid": true,
         "showline": false,
         "showticklabels": false,
         "ticks": ""
        }
       }
      }
     },
     "metadata": {},
     "output_type": "display_data"
    }
   ],
   "source": [
    "my_project.ac_dict[my_annotation_collection].plot_annotations(y_axis='prop:representation_type')"
   ]
  },
  {
   "cell_type": "code",
   "execution_count": 15,
   "id": "7dc73ad2",
   "metadata": {},
   "outputs": [
    {
     "data": {
      "application/vnd.plotly.v1+json": {
       "config": {
        "plotlyServerURL": "https://plot.ly"
       },
       "data": [
        {
         "customdata": [
          [
           "<I><br>One morning, as Gregor Samsa was waking up from anxious<br>dreams<br></I>",
           "narrator_speech"
          ],
          [
           "<I><br>he discovered that in bed he had been changed into<br>a monstrous verminous bug<br></I>",
           "narrator_speech"
          ],
          [
           "<I><br>He lay on his armour-hard back<br></I>",
           "narrator_speech"
          ],
          [
           "<I><br>and saw his brown, arched abdomen divided up into rigid<br>bow-like sections<br></I>",
           "narrator_speech"
          ],
          [
           "<I><br>as he lifted his head up a little<br></I>",
           "narrator_speech"
          ],
          [
           "<I><br>From this height the blanket, just about ready to slide<br>off completely, could hardly stay in place<br></I>",
           "narrator_speech"
          ],
          [
           "<I><br>His numerous legs, pitifully thin in comparison to the rest<br>of his circumference, flickered helplessly before his eyes<br></I>",
           "narrator_speech"
          ],
          [
           "<I><br>he thought<br></I>",
           "narrator_speech"
          ],
          [
           "<I><br>It was no dream<br></I>",
           "narrator_speech"
          ],
          [
           "<I><br>His room, a proper room for a human being, only<br>somewhat too small, lay quietly between the four well-known walls<br></I>",
           "narrator_speech"
          ],
          [
           "<I><br>Above the table, on which an unpacked collection of sample<br>cloth goods was spread out hung the picture<br></I>",
           "narrator_speech"
          ],
          [
           "<I><br>Samsa was a travelling salesman<br></I>",
           "narrator_speech"
          ],
          [
           "<I><br>which he had cut out of an illustrated magazine a<br>little while ago<br></I>",
           "narrator_speech"
          ],
          [
           "<I><br>and set in a pretty gilt frame<br></I>",
           "narrator_speech"
          ],
          [
           "<I><br>It was a picture of a woman with a fur<br>hat and a fur boa<br></I>",
           "narrator_speech"
          ],
          [
           "<I><br>She sat erect there<br></I>",
           "narrator_speech"
          ],
          [
           "<I><br>lifting up in the direction of the viewer a solid<br>fur muff<br></I>",
           "narrator_speech"
          ],
          [
           "<I><br>into which her entire forearm had disappeared<br></I>",
           "narrator_speech"
          ]
         ],
         "hovertemplate": "prop:representation_type=%{customdata[1]}<br>start_point=%{x}<br>annotator=%{y}<br>size=%{marker.size}<br>ANNOTATION=%{customdata[0]}<extra></extra>",
         "legendgroup": "narrator_speech",
         "marker": {
          "color": "#093658",
          "opacity": 0.7,
          "size": {
           "bdata": "PgBMAB4AbQAhAGIAdgAKAA8AcQCGAB8AQgAeADgAEwA6AC0A",
           "dtype": "i2"
          },
          "sizemode": "area",
          "sizeref": 1.34,
          "symbol": "circle"
         },
         "mode": "markers",
         "name": "narrator_speech",
         "orientation": "h",
         "showlegend": true,
         "type": "scatter",
         "x": {
          "bdata": "AABAAI4ArQC2ABwBgAESAh4CLwKiAvgCKQNsA4wDxgPbAxYE",
          "dtype": "i2"
         },
         "xaxis": "x",
         "y": [
          "mvgoogle",
          "mvgoogle",
          "mvgoogle",
          "mvgoogle",
          "mvgoogle",
          "mvgoogle",
          "mvgoogle",
          "mvgoogle",
          "mvgoogle",
          "mvgoogle",
          "mvgoogle",
          "mvgoogle",
          "mvgoogle",
          "mvgoogle",
          "mvgoogle",
          "mvgoogle",
          "mvgoogle",
          "mvgoogle"
         ],
         "yaxis": "y"
        },
        {
         "bingroup": "x",
         "hovertemplate": "prop:representation_type=narrator_speech<br>start_point=%{x}<br>count=%{y}<extra></extra>",
         "legendgroup": "narrator_speech",
         "marker": {
          "color": "#093658"
         },
         "name": "narrator_speech",
         "opacity": 0.5,
         "showlegend": false,
         "type": "histogram",
         "x": {
          "bdata": "AABAAI4ArQC2ABwBgAESAh4CLwKiAvgCKQNsA4wDxgPbAxYE",
          "dtype": "i2"
         },
         "xaxis": "x2",
         "yaxis": "y2"
        },
        {
         "customdata": [
          [
           "<I><br>What's happened to me<br></I>",
           "thought_representation"
          ]
         ],
         "hovertemplate": "prop:representation_type=%{customdata[1]}<br>start_point=%{x}<br>annotator=%{y}<br>size=%{marker.size}<br>ANNOTATION=%{customdata[0]}<extra></extra>",
         "legendgroup": "thought_representation",
         "marker": {
          "color": "#A64B21",
          "opacity": 0.7,
          "size": {
           "bdata": "FQ==",
           "dtype": "i1"
          },
          "sizemode": "area",
          "sizeref": 1.34,
          "symbol": "circle"
         },
         "mode": "markers",
         "name": "thought_representation",
         "orientation": "h",
         "showlegend": true,
         "type": "scatter",
         "x": {
          "bdata": "+gE=",
          "dtype": "i2"
         },
         "xaxis": "x",
         "y": [
          "mvgoogle"
         ],
         "yaxis": "y"
        },
        {
         "bingroup": "x",
         "hovertemplate": "prop:representation_type=thought_representation<br>start_point=%{x}<br>count=%{y}<extra></extra>",
         "legendgroup": "thought_representation",
         "marker": {
          "color": "#A64B21"
         },
         "name": "thought_representation",
         "opacity": 0.5,
         "showlegend": false,
         "type": "histogram",
         "x": {
          "bdata": "+gE=",
          "dtype": "i2"
         },
         "xaxis": "x2",
         "yaxis": "y2"
        }
       ],
       "layout": {
        "barmode": "overlay",
        "legend": {
         "font": {
          "color": "#5A98A1",
          "size": 10
         },
         "itemsizing": "constant",
         "orientation": "h",
         "title": {
          "text": "prop:representation_type"
         },
         "tracegroupgap": 0,
         "x": 1,
         "xanchor": "right",
         "y": 1.02,
         "yanchor": "bottom"
        },
        "margin": {
         "t": 60
        },
        "template": {
         "data": {
          "bar": [
           {
            "error_x": {
             "color": "#2a3f5f"
            },
            "error_y": {
             "color": "#2a3f5f"
            },
            "marker": {
             "line": {
              "color": "white",
              "width": 0.5
             },
             "pattern": {
              "fillmode": "overlay",
              "size": 10,
              "solidity": 0.2
             }
            },
            "type": "bar"
           }
          ],
          "barpolar": [
           {
            "marker": {
             "line": {
              "color": "white",
              "width": 0.5
             },
             "pattern": {
              "fillmode": "overlay",
              "size": 10,
              "solidity": 0.2
             }
            },
            "type": "barpolar"
           }
          ],
          "carpet": [
           {
            "aaxis": {
             "endlinecolor": "#2a3f5f",
             "gridcolor": "#C8D4E3",
             "linecolor": "#C8D4E3",
             "minorgridcolor": "#C8D4E3",
             "startlinecolor": "#2a3f5f"
            },
            "baxis": {
             "endlinecolor": "#2a3f5f",
             "gridcolor": "#C8D4E3",
             "linecolor": "#C8D4E3",
             "minorgridcolor": "#C8D4E3",
             "startlinecolor": "#2a3f5f"
            },
            "type": "carpet"
           }
          ],
          "choropleth": [
           {
            "colorbar": {
             "outlinewidth": 0,
             "ticks": ""
            },
            "type": "choropleth"
           }
          ],
          "contour": [
           {
            "colorbar": {
             "outlinewidth": 0,
             "ticks": ""
            },
            "colorscale": [
             [
              0,
              "#0d0887"
             ],
             [
              0.1111111111111111,
              "#46039f"
             ],
             [
              0.2222222222222222,
              "#7201a8"
             ],
             [
              0.3333333333333333,
              "#9c179e"
             ],
             [
              0.4444444444444444,
              "#bd3786"
             ],
             [
              0.5555555555555556,
              "#d8576b"
             ],
             [
              0.6666666666666666,
              "#ed7953"
             ],
             [
              0.7777777777777778,
              "#fb9f3a"
             ],
             [
              0.8888888888888888,
              "#fdca26"
             ],
             [
              1,
              "#f0f921"
             ]
            ],
            "type": "contour"
           }
          ],
          "contourcarpet": [
           {
            "colorbar": {
             "outlinewidth": 0,
             "ticks": ""
            },
            "type": "contourcarpet"
           }
          ],
          "heatmap": [
           {
            "colorbar": {
             "outlinewidth": 0,
             "ticks": ""
            },
            "colorscale": [
             [
              0,
              "#0d0887"
             ],
             [
              0.1111111111111111,
              "#46039f"
             ],
             [
              0.2222222222222222,
              "#7201a8"
             ],
             [
              0.3333333333333333,
              "#9c179e"
             ],
             [
              0.4444444444444444,
              "#bd3786"
             ],
             [
              0.5555555555555556,
              "#d8576b"
             ],
             [
              0.6666666666666666,
              "#ed7953"
             ],
             [
              0.7777777777777778,
              "#fb9f3a"
             ],
             [
              0.8888888888888888,
              "#fdca26"
             ],
             [
              1,
              "#f0f921"
             ]
            ],
            "type": "heatmap"
           }
          ],
          "histogram": [
           {
            "marker": {
             "pattern": {
              "fillmode": "overlay",
              "size": 10,
              "solidity": 0.2
             }
            },
            "type": "histogram"
           }
          ],
          "histogram2d": [
           {
            "colorbar": {
             "outlinewidth": 0,
             "ticks": ""
            },
            "colorscale": [
             [
              0,
              "#0d0887"
             ],
             [
              0.1111111111111111,
              "#46039f"
             ],
             [
              0.2222222222222222,
              "#7201a8"
             ],
             [
              0.3333333333333333,
              "#9c179e"
             ],
             [
              0.4444444444444444,
              "#bd3786"
             ],
             [
              0.5555555555555556,
              "#d8576b"
             ],
             [
              0.6666666666666666,
              "#ed7953"
             ],
             [
              0.7777777777777778,
              "#fb9f3a"
             ],
             [
              0.8888888888888888,
              "#fdca26"
             ],
             [
              1,
              "#f0f921"
             ]
            ],
            "type": "histogram2d"
           }
          ],
          "histogram2dcontour": [
           {
            "colorbar": {
             "outlinewidth": 0,
             "ticks": ""
            },
            "colorscale": [
             [
              0,
              "#0d0887"
             ],
             [
              0.1111111111111111,
              "#46039f"
             ],
             [
              0.2222222222222222,
              "#7201a8"
             ],
             [
              0.3333333333333333,
              "#9c179e"
             ],
             [
              0.4444444444444444,
              "#bd3786"
             ],
             [
              0.5555555555555556,
              "#d8576b"
             ],
             [
              0.6666666666666666,
              "#ed7953"
             ],
             [
              0.7777777777777778,
              "#fb9f3a"
             ],
             [
              0.8888888888888888,
              "#fdca26"
             ],
             [
              1,
              "#f0f921"
             ]
            ],
            "type": "histogram2dcontour"
           }
          ],
          "mesh3d": [
           {
            "colorbar": {
             "outlinewidth": 0,
             "ticks": ""
            },
            "type": "mesh3d"
           }
          ],
          "parcoords": [
           {
            "line": {
             "colorbar": {
              "outlinewidth": 0,
              "ticks": ""
             }
            },
            "type": "parcoords"
           }
          ],
          "pie": [
           {
            "automargin": true,
            "type": "pie"
           }
          ],
          "scatter": [
           {
            "fillpattern": {
             "fillmode": "overlay",
             "size": 10,
             "solidity": 0.2
            },
            "type": "scatter"
           }
          ],
          "scatter3d": [
           {
            "line": {
             "colorbar": {
              "outlinewidth": 0,
              "ticks": ""
             }
            },
            "marker": {
             "colorbar": {
              "outlinewidth": 0,
              "ticks": ""
             }
            },
            "type": "scatter3d"
           }
          ],
          "scattercarpet": [
           {
            "marker": {
             "colorbar": {
              "outlinewidth": 0,
              "ticks": ""
             }
            },
            "type": "scattercarpet"
           }
          ],
          "scattergeo": [
           {
            "marker": {
             "colorbar": {
              "outlinewidth": 0,
              "ticks": ""
             }
            },
            "type": "scattergeo"
           }
          ],
          "scattergl": [
           {
            "marker": {
             "colorbar": {
              "outlinewidth": 0,
              "ticks": ""
             }
            },
            "type": "scattergl"
           }
          ],
          "scattermap": [
           {
            "marker": {
             "colorbar": {
              "outlinewidth": 0,
              "ticks": ""
             }
            },
            "type": "scattermap"
           }
          ],
          "scattermapbox": [
           {
            "marker": {
             "colorbar": {
              "outlinewidth": 0,
              "ticks": ""
             }
            },
            "type": "scattermapbox"
           }
          ],
          "scatterpolar": [
           {
            "marker": {
             "colorbar": {
              "outlinewidth": 0,
              "ticks": ""
             }
            },
            "type": "scatterpolar"
           }
          ],
          "scatterpolargl": [
           {
            "marker": {
             "colorbar": {
              "outlinewidth": 0,
              "ticks": ""
             }
            },
            "type": "scatterpolargl"
           }
          ],
          "scatterternary": [
           {
            "marker": {
             "colorbar": {
              "outlinewidth": 0,
              "ticks": ""
             }
            },
            "type": "scatterternary"
           }
          ],
          "surface": [
           {
            "colorbar": {
             "outlinewidth": 0,
             "ticks": ""
            },
            "colorscale": [
             [
              0,
              "#0d0887"
             ],
             [
              0.1111111111111111,
              "#46039f"
             ],
             [
              0.2222222222222222,
              "#7201a8"
             ],
             [
              0.3333333333333333,
              "#9c179e"
             ],
             [
              0.4444444444444444,
              "#bd3786"
             ],
             [
              0.5555555555555556,
              "#d8576b"
             ],
             [
              0.6666666666666666,
              "#ed7953"
             ],
             [
              0.7777777777777778,
              "#fb9f3a"
             ],
             [
              0.8888888888888888,
              "#fdca26"
             ],
             [
              1,
              "#f0f921"
             ]
            ],
            "type": "surface"
           }
          ],
          "table": [
           {
            "cells": {
             "fill": {
              "color": "#EBF0F8"
             },
             "line": {
              "color": "white"
             }
            },
            "header": {
             "fill": {
              "color": "#C8D4E3"
             },
             "line": {
              "color": "white"
             }
            },
            "type": "table"
           }
          ]
         },
         "layout": {
          "annotationdefaults": {
           "arrowcolor": "#2a3f5f",
           "arrowhead": 0,
           "arrowwidth": 1
          },
          "autotypenumbers": "strict",
          "coloraxis": {
           "colorbar": {
            "outlinewidth": 0,
            "ticks": ""
           }
          },
          "colorscale": {
           "diverging": [
            [
             0,
             "#8e0152"
            ],
            [
             0.1,
             "#c51b7d"
            ],
            [
             0.2,
             "#de77ae"
            ],
            [
             0.3,
             "#f1b6da"
            ],
            [
             0.4,
             "#fde0ef"
            ],
            [
             0.5,
             "#f7f7f7"
            ],
            [
             0.6,
             "#e6f5d0"
            ],
            [
             0.7,
             "#b8e186"
            ],
            [
             0.8,
             "#7fbc41"
            ],
            [
             0.9,
             "#4d9221"
            ],
            [
             1,
             "#276419"
            ]
           ],
           "sequential": [
            [
             0,
             "#0d0887"
            ],
            [
             0.1111111111111111,
             "#46039f"
            ],
            [
             0.2222222222222222,
             "#7201a8"
            ],
            [
             0.3333333333333333,
             "#9c179e"
            ],
            [
             0.4444444444444444,
             "#bd3786"
            ],
            [
             0.5555555555555556,
             "#d8576b"
            ],
            [
             0.6666666666666666,
             "#ed7953"
            ],
            [
             0.7777777777777778,
             "#fb9f3a"
            ],
            [
             0.8888888888888888,
             "#fdca26"
            ],
            [
             1,
             "#f0f921"
            ]
           ],
           "sequentialminus": [
            [
             0,
             "#0d0887"
            ],
            [
             0.1111111111111111,
             "#46039f"
            ],
            [
             0.2222222222222222,
             "#7201a8"
            ],
            [
             0.3333333333333333,
             "#9c179e"
            ],
            [
             0.4444444444444444,
             "#bd3786"
            ],
            [
             0.5555555555555556,
             "#d8576b"
            ],
            [
             0.6666666666666666,
             "#ed7953"
            ],
            [
             0.7777777777777778,
             "#fb9f3a"
            ],
            [
             0.8888888888888888,
             "#fdca26"
            ],
            [
             1,
             "#f0f921"
            ]
           ]
          },
          "colorway": [
           "#636efa",
           "#EF553B",
           "#00cc96",
           "#ab63fa",
           "#FFA15A",
           "#19d3f3",
           "#FF6692",
           "#B6E880",
           "#FF97FF",
           "#FECB52"
          ],
          "font": {
           "color": "#2a3f5f"
          },
          "geo": {
           "bgcolor": "white",
           "lakecolor": "white",
           "landcolor": "white",
           "showlakes": true,
           "showland": true,
           "subunitcolor": "#C8D4E3"
          },
          "hoverlabel": {
           "align": "left"
          },
          "hovermode": "closest",
          "mapbox": {
           "style": "light"
          },
          "paper_bgcolor": "white",
          "plot_bgcolor": "white",
          "polar": {
           "angularaxis": {
            "gridcolor": "#EBF0F8",
            "linecolor": "#EBF0F8",
            "ticks": ""
           },
           "bgcolor": "white",
           "radialaxis": {
            "gridcolor": "#EBF0F8",
            "linecolor": "#EBF0F8",
            "ticks": ""
           }
          },
          "scene": {
           "xaxis": {
            "backgroundcolor": "white",
            "gridcolor": "#DFE8F3",
            "gridwidth": 2,
            "linecolor": "#EBF0F8",
            "showbackground": true,
            "ticks": "",
            "zerolinecolor": "#EBF0F8"
           },
           "yaxis": {
            "backgroundcolor": "white",
            "gridcolor": "#DFE8F3",
            "gridwidth": 2,
            "linecolor": "#EBF0F8",
            "showbackground": true,
            "ticks": "",
            "zerolinecolor": "#EBF0F8"
           },
           "zaxis": {
            "backgroundcolor": "white",
            "gridcolor": "#DFE8F3",
            "gridwidth": 2,
            "linecolor": "#EBF0F8",
            "showbackground": true,
            "ticks": "",
            "zerolinecolor": "#EBF0F8"
           }
          },
          "shapedefaults": {
           "line": {
            "color": "#2a3f5f"
           }
          },
          "ternary": {
           "aaxis": {
            "gridcolor": "#DFE8F3",
            "linecolor": "#A2B1C6",
            "ticks": ""
           },
           "baxis": {
            "gridcolor": "#DFE8F3",
            "linecolor": "#A2B1C6",
            "ticks": ""
           },
           "bgcolor": "white",
           "caxis": {
            "gridcolor": "#DFE8F3",
            "linecolor": "#A2B1C6",
            "ticks": ""
           }
          },
          "title": {
           "x": 0.05
          },
          "xaxis": {
           "automargin": true,
           "gridcolor": "#EBF0F8",
           "linecolor": "#EBF0F8",
           "ticks": "",
           "title": {
            "standoff": 15
           },
           "zerolinecolor": "#EBF0F8",
           "zerolinewidth": 2
          },
          "yaxis": {
           "automargin": true,
           "gridcolor": "#EBF0F8",
           "linecolor": "#EBF0F8",
           "ticks": "",
           "title": {
            "standoff": 15
           },
           "zerolinecolor": "#EBF0F8",
           "zerolinewidth": 2
          }
         }
        },
        "xaxis": {
         "anchor": "y",
         "domain": [
          0,
          1
         ],
         "title": {
          "text": "start_point"
         }
        },
        "xaxis2": {
         "anchor": "y2",
         "domain": [
          0,
          1
         ],
         "showgrid": true,
         "showticklabels": false
        },
        "yaxis": {
         "anchor": "x",
         "domain": [
          0,
          0.7326
         ],
         "title": {
          "text": "annotator"
         }
        },
        "yaxis2": {
         "anchor": "x2",
         "domain": [
          0.7426,
          1
         ],
         "matches": "y2",
         "showgrid": true,
         "showline": false,
         "showticklabels": false,
         "ticks": ""
        }
       }
      }
     },
     "metadata": {},
     "output_type": "display_data"
    }
   ],
   "source": [
    "my_project.ac_dict[my_annotation_collection].plot_annotations(\n",
    "    y_axis='annotator',\n",
    "    color_prop='prop:representation_type'\n",
    ")"
   ]
  },
  {
   "cell_type": "markdown",
   "id": "666db007",
   "metadata": {},
   "source": [
    "### Cooccurrence network\n",
    "\n",
    "An alternative way to visualize annotation collections is using networks. They can be used to get an insight into the cooccurrence of annotations."
   ]
  },
  {
   "cell_type": "code",
   "execution_count": 16,
   "id": "a7490353",
   "metadata": {},
   "outputs": [
    {
     "data": {
      "application/vnd.plotly.v1+json": {
       "config": {
        "plotlyServerURL": "https://plot.ly"
       },
       "data": [
        {
         "legendgroup": "edges",
         "line": {
          "color": "grey",
          "width": 3.8846153846153846
         },
         "mode": "lines",
         "name": "Edges",
         "opacity": 0.5,
         "showlegend": true,
         "type": "scatter",
         "x": [
          0.6732588433521884,
          -0.3413765912174914
         ],
         "y": [
          -0.19796254575985356,
          0.714762388741712
         ]
        },
        {
         "legendgroup": "edges",
         "line": {
          "color": "grey",
          "width": 16.384615384615387
         },
         "mode": "lines",
         "name": "Edges",
         "opacity": 0.5,
         "showlegend": false,
         "type": "scatter",
         "x": [
          0.6732588433521884,
          -0.7010671229770371
         ],
         "y": [
          -0.19796254575985356,
          0.48320015701814156
         ]
        },
        {
         "legendgroup": "edges",
         "line": {
          "color": "grey",
          "width": 2.9230769230769234
         },
         "mode": "lines",
         "name": "Edges",
         "opacity": 0.5,
         "showlegend": false,
         "type": "scatter",
         "x": [
          0.6732588433521884,
          0.3691848708423401
         ],
         "y": [
          -0.19796254575985356,
          -1
         ]
        },
        {
         "legendgroup": "edges",
         "line": {
          "color": "grey",
          "width": 3.8846153846153846
         },
         "mode": "lines",
         "name": "Edges",
         "opacity": 0.5,
         "showlegend": false,
         "type": "scatter",
         "x": [
          -0.3413765912174914,
          0.6732588433521884
         ],
         "y": [
          0.714762388741712,
          -0.19796254575985356
         ]
        },
        {
         "legendgroup": "edges",
         "line": {
          "color": "grey",
          "width": 1.9615384615384617
         },
         "mode": "lines",
         "name": "Edges",
         "opacity": 0.5,
         "showlegend": false,
         "type": "scatter",
         "x": [
          -0.3413765912174914,
          -0.7010671229770371
         ],
         "y": [
          0.714762388741712,
          0.48320015701814156
         ]
        },
        {
         "legendgroup": "edges",
         "line": {
          "color": "grey",
          "width": 16.384615384615387
         },
         "mode": "lines",
         "name": "Edges",
         "opacity": 0.5,
         "showlegend": false,
         "type": "scatter",
         "x": [
          -0.7010671229770371,
          0.6732588433521884
         ],
         "y": [
          0.48320015701814156,
          -0.19796254575985356
         ]
        },
        {
         "legendgroup": "edges",
         "line": {
          "color": "grey",
          "width": 1.9615384615384617
         },
         "mode": "lines",
         "name": "Edges",
         "opacity": 0.5,
         "showlegend": false,
         "type": "scatter",
         "x": [
          -0.7010671229770371,
          -0.3413765912174914
         ],
         "y": [
          0.48320015701814156,
          0.714762388741712
         ]
        },
        {
         "legendgroup": "edges",
         "line": {
          "color": "grey",
          "width": 4.846153846153847
         },
         "mode": "lines",
         "name": "Edges",
         "opacity": 0.5,
         "showlegend": false,
         "type": "scatter",
         "x": [
          -0.7010671229770371,
          0.3691848708423401
         ],
         "y": [
          0.48320015701814156,
          -1
         ]
        },
        {
         "legendgroup": "edges",
         "line": {
          "color": "grey",
          "width": 2.9230769230769234
         },
         "mode": "lines",
         "name": "Edges",
         "opacity": 0.5,
         "showlegend": false,
         "type": "scatter",
         "x": [
          0.3691848708423401,
          0.6732588433521884
         ],
         "y": [
          -1,
          -0.19796254575985356
         ]
        },
        {
         "legendgroup": "edges",
         "line": {
          "color": "grey",
          "width": 4.846153846153847
         },
         "mode": "lines",
         "name": "Edges",
         "opacity": 0.5,
         "showlegend": false,
         "type": "scatter",
         "x": [
          0.3691848708423401,
          -0.7010671229770371
         ],
         "y": [
          -1,
          0.48320015701814156
         ]
        },
        {
         "hoverinfo": "text",
         "marker": {
          "color": [
           "#093658",
           "#A68500",
           "#A64B21",
           "#843AF2"
          ],
          "opacity": 0.65,
          "size": [
           55.38461538461539,
           55.38461538461539,
           22.692307692307693,
           26.53846153846154
          ]
         },
         "mode": "markers+text",
         "showlegend": false,
         "text": [
          "process_event",
          "stative_event",
          "change_of_state",
          "non_event"
         ],
         "textfont": {
          "size": [
           27.692307692307693,
           27.692307692307693,
           11.346153846153847,
           13.26923076923077
          ]
         },
         "textposition": "top center",
         "type": "scatter",
         "x": [
          0.6732588433521884,
          -0.7010671229770371,
          -0.3413765912174914,
          0.3691848708423401
         ],
         "y": [
          -0.19796254575985356,
          0.48320015701814156,
          0.714762388741712,
          -1
         ]
        }
       ],
       "layout": {
        "template": {
         "data": {
          "bar": [
           {
            "error_x": {
             "color": "rgb(36,36,36)"
            },
            "error_y": {
             "color": "rgb(36,36,36)"
            },
            "marker": {
             "line": {
              "color": "white",
              "width": 0.5
             },
             "pattern": {
              "fillmode": "overlay",
              "size": 10,
              "solidity": 0.2
             }
            },
            "type": "bar"
           }
          ],
          "barpolar": [
           {
            "marker": {
             "line": {
              "color": "white",
              "width": 0.5
             },
             "pattern": {
              "fillmode": "overlay",
              "size": 10,
              "solidity": 0.2
             }
            },
            "type": "barpolar"
           }
          ],
          "carpet": [
           {
            "aaxis": {
             "endlinecolor": "rgb(36,36,36)",
             "gridcolor": "white",
             "linecolor": "white",
             "minorgridcolor": "white",
             "startlinecolor": "rgb(36,36,36)"
            },
            "baxis": {
             "endlinecolor": "rgb(36,36,36)",
             "gridcolor": "white",
             "linecolor": "white",
             "minorgridcolor": "white",
             "startlinecolor": "rgb(36,36,36)"
            },
            "type": "carpet"
           }
          ],
          "choropleth": [
           {
            "colorbar": {
             "outlinewidth": 1,
             "tickcolor": "rgb(36,36,36)",
             "ticks": "outside"
            },
            "type": "choropleth"
           }
          ],
          "contour": [
           {
            "colorbar": {
             "outlinewidth": 1,
             "tickcolor": "rgb(36,36,36)",
             "ticks": "outside"
            },
            "colorscale": [
             [
              0,
              "#440154"
             ],
             [
              0.1111111111111111,
              "#482878"
             ],
             [
              0.2222222222222222,
              "#3e4989"
             ],
             [
              0.3333333333333333,
              "#31688e"
             ],
             [
              0.4444444444444444,
              "#26828e"
             ],
             [
              0.5555555555555556,
              "#1f9e89"
             ],
             [
              0.6666666666666666,
              "#35b779"
             ],
             [
              0.7777777777777778,
              "#6ece58"
             ],
             [
              0.8888888888888888,
              "#b5de2b"
             ],
             [
              1,
              "#fde725"
             ]
            ],
            "type": "contour"
           }
          ],
          "contourcarpet": [
           {
            "colorbar": {
             "outlinewidth": 1,
             "tickcolor": "rgb(36,36,36)",
             "ticks": "outside"
            },
            "type": "contourcarpet"
           }
          ],
          "heatmap": [
           {
            "colorbar": {
             "outlinewidth": 1,
             "tickcolor": "rgb(36,36,36)",
             "ticks": "outside"
            },
            "colorscale": [
             [
              0,
              "#440154"
             ],
             [
              0.1111111111111111,
              "#482878"
             ],
             [
              0.2222222222222222,
              "#3e4989"
             ],
             [
              0.3333333333333333,
              "#31688e"
             ],
             [
              0.4444444444444444,
              "#26828e"
             ],
             [
              0.5555555555555556,
              "#1f9e89"
             ],
             [
              0.6666666666666666,
              "#35b779"
             ],
             [
              0.7777777777777778,
              "#6ece58"
             ],
             [
              0.8888888888888888,
              "#b5de2b"
             ],
             [
              1,
              "#fde725"
             ]
            ],
            "type": "heatmap"
           }
          ],
          "histogram": [
           {
            "marker": {
             "line": {
              "color": "white",
              "width": 0.6
             }
            },
            "type": "histogram"
           }
          ],
          "histogram2d": [
           {
            "colorbar": {
             "outlinewidth": 1,
             "tickcolor": "rgb(36,36,36)",
             "ticks": "outside"
            },
            "colorscale": [
             [
              0,
              "#440154"
             ],
             [
              0.1111111111111111,
              "#482878"
             ],
             [
              0.2222222222222222,
              "#3e4989"
             ],
             [
              0.3333333333333333,
              "#31688e"
             ],
             [
              0.4444444444444444,
              "#26828e"
             ],
             [
              0.5555555555555556,
              "#1f9e89"
             ],
             [
              0.6666666666666666,
              "#35b779"
             ],
             [
              0.7777777777777778,
              "#6ece58"
             ],
             [
              0.8888888888888888,
              "#b5de2b"
             ],
             [
              1,
              "#fde725"
             ]
            ],
            "type": "histogram2d"
           }
          ],
          "histogram2dcontour": [
           {
            "colorbar": {
             "outlinewidth": 1,
             "tickcolor": "rgb(36,36,36)",
             "ticks": "outside"
            },
            "colorscale": [
             [
              0,
              "#440154"
             ],
             [
              0.1111111111111111,
              "#482878"
             ],
             [
              0.2222222222222222,
              "#3e4989"
             ],
             [
              0.3333333333333333,
              "#31688e"
             ],
             [
              0.4444444444444444,
              "#26828e"
             ],
             [
              0.5555555555555556,
              "#1f9e89"
             ],
             [
              0.6666666666666666,
              "#35b779"
             ],
             [
              0.7777777777777778,
              "#6ece58"
             ],
             [
              0.8888888888888888,
              "#b5de2b"
             ],
             [
              1,
              "#fde725"
             ]
            ],
            "type": "histogram2dcontour"
           }
          ],
          "mesh3d": [
           {
            "colorbar": {
             "outlinewidth": 1,
             "tickcolor": "rgb(36,36,36)",
             "ticks": "outside"
            },
            "type": "mesh3d"
           }
          ],
          "parcoords": [
           {
            "line": {
             "colorbar": {
              "outlinewidth": 1,
              "tickcolor": "rgb(36,36,36)",
              "ticks": "outside"
             }
            },
            "type": "parcoords"
           }
          ],
          "pie": [
           {
            "automargin": true,
            "type": "pie"
           }
          ],
          "scatter": [
           {
            "fillpattern": {
             "fillmode": "overlay",
             "size": 10,
             "solidity": 0.2
            },
            "type": "scatter"
           }
          ],
          "scatter3d": [
           {
            "line": {
             "colorbar": {
              "outlinewidth": 1,
              "tickcolor": "rgb(36,36,36)",
              "ticks": "outside"
             }
            },
            "marker": {
             "colorbar": {
              "outlinewidth": 1,
              "tickcolor": "rgb(36,36,36)",
              "ticks": "outside"
             }
            },
            "type": "scatter3d"
           }
          ],
          "scattercarpet": [
           {
            "marker": {
             "colorbar": {
              "outlinewidth": 1,
              "tickcolor": "rgb(36,36,36)",
              "ticks": "outside"
             }
            },
            "type": "scattercarpet"
           }
          ],
          "scattergeo": [
           {
            "marker": {
             "colorbar": {
              "outlinewidth": 1,
              "tickcolor": "rgb(36,36,36)",
              "ticks": "outside"
             }
            },
            "type": "scattergeo"
           }
          ],
          "scattergl": [
           {
            "marker": {
             "colorbar": {
              "outlinewidth": 1,
              "tickcolor": "rgb(36,36,36)",
              "ticks": "outside"
             }
            },
            "type": "scattergl"
           }
          ],
          "scattermap": [
           {
            "marker": {
             "colorbar": {
              "outlinewidth": 1,
              "tickcolor": "rgb(36,36,36)",
              "ticks": "outside"
             }
            },
            "type": "scattermap"
           }
          ],
          "scattermapbox": [
           {
            "marker": {
             "colorbar": {
              "outlinewidth": 1,
              "tickcolor": "rgb(36,36,36)",
              "ticks": "outside"
             }
            },
            "type": "scattermapbox"
           }
          ],
          "scatterpolar": [
           {
            "marker": {
             "colorbar": {
              "outlinewidth": 1,
              "tickcolor": "rgb(36,36,36)",
              "ticks": "outside"
             }
            },
            "type": "scatterpolar"
           }
          ],
          "scatterpolargl": [
           {
            "marker": {
             "colorbar": {
              "outlinewidth": 1,
              "tickcolor": "rgb(36,36,36)",
              "ticks": "outside"
             }
            },
            "type": "scatterpolargl"
           }
          ],
          "scatterternary": [
           {
            "marker": {
             "colorbar": {
              "outlinewidth": 1,
              "tickcolor": "rgb(36,36,36)",
              "ticks": "outside"
             }
            },
            "type": "scatterternary"
           }
          ],
          "surface": [
           {
            "colorbar": {
             "outlinewidth": 1,
             "tickcolor": "rgb(36,36,36)",
             "ticks": "outside"
            },
            "colorscale": [
             [
              0,
              "#440154"
             ],
             [
              0.1111111111111111,
              "#482878"
             ],
             [
              0.2222222222222222,
              "#3e4989"
             ],
             [
              0.3333333333333333,
              "#31688e"
             ],
             [
              0.4444444444444444,
              "#26828e"
             ],
             [
              0.5555555555555556,
              "#1f9e89"
             ],
             [
              0.6666666666666666,
              "#35b779"
             ],
             [
              0.7777777777777778,
              "#6ece58"
             ],
             [
              0.8888888888888888,
              "#b5de2b"
             ],
             [
              1,
              "#fde725"
             ]
            ],
            "type": "surface"
           }
          ],
          "table": [
           {
            "cells": {
             "fill": {
              "color": "rgb(237,237,237)"
             },
             "line": {
              "color": "white"
             }
            },
            "header": {
             "fill": {
              "color": "rgb(217,217,217)"
             },
             "line": {
              "color": "white"
             }
            },
            "type": "table"
           }
          ]
         },
         "layout": {
          "annotationdefaults": {
           "arrowhead": 0,
           "arrowwidth": 1
          },
          "autotypenumbers": "strict",
          "coloraxis": {
           "colorbar": {
            "outlinewidth": 1,
            "tickcolor": "rgb(36,36,36)",
            "ticks": "outside"
           }
          },
          "colorscale": {
           "diverging": [
            [
             0,
             "rgb(103,0,31)"
            ],
            [
             0.1,
             "rgb(178,24,43)"
            ],
            [
             0.2,
             "rgb(214,96,77)"
            ],
            [
             0.3,
             "rgb(244,165,130)"
            ],
            [
             0.4,
             "rgb(253,219,199)"
            ],
            [
             0.5,
             "rgb(247,247,247)"
            ],
            [
             0.6,
             "rgb(209,229,240)"
            ],
            [
             0.7,
             "rgb(146,197,222)"
            ],
            [
             0.8,
             "rgb(67,147,195)"
            ],
            [
             0.9,
             "rgb(33,102,172)"
            ],
            [
             1,
             "rgb(5,48,97)"
            ]
           ],
           "sequential": [
            [
             0,
             "#440154"
            ],
            [
             0.1111111111111111,
             "#482878"
            ],
            [
             0.2222222222222222,
             "#3e4989"
            ],
            [
             0.3333333333333333,
             "#31688e"
            ],
            [
             0.4444444444444444,
             "#26828e"
            ],
            [
             0.5555555555555556,
             "#1f9e89"
            ],
            [
             0.6666666666666666,
             "#35b779"
            ],
            [
             0.7777777777777778,
             "#6ece58"
            ],
            [
             0.8888888888888888,
             "#b5de2b"
            ],
            [
             1,
             "#fde725"
            ]
           ],
           "sequentialminus": [
            [
             0,
             "#440154"
            ],
            [
             0.1111111111111111,
             "#482878"
            ],
            [
             0.2222222222222222,
             "#3e4989"
            ],
            [
             0.3333333333333333,
             "#31688e"
            ],
            [
             0.4444444444444444,
             "#26828e"
            ],
            [
             0.5555555555555556,
             "#1f9e89"
            ],
            [
             0.6666666666666666,
             "#35b779"
            ],
            [
             0.7777777777777778,
             "#6ece58"
            ],
            [
             0.8888888888888888,
             "#b5de2b"
            ],
            [
             1,
             "#fde725"
            ]
           ]
          },
          "colorway": [
           "#1F77B4",
           "#FF7F0E",
           "#2CA02C",
           "#D62728",
           "#9467BD",
           "#8C564B",
           "#E377C2",
           "#7F7F7F",
           "#BCBD22",
           "#17BECF"
          ],
          "font": {
           "color": "rgb(36,36,36)"
          },
          "geo": {
           "bgcolor": "white",
           "lakecolor": "white",
           "landcolor": "white",
           "showlakes": true,
           "showland": true,
           "subunitcolor": "white"
          },
          "hoverlabel": {
           "align": "left"
          },
          "hovermode": "closest",
          "mapbox": {
           "style": "light"
          },
          "paper_bgcolor": "white",
          "plot_bgcolor": "white",
          "polar": {
           "angularaxis": {
            "gridcolor": "rgb(232,232,232)",
            "linecolor": "rgb(36,36,36)",
            "showgrid": false,
            "showline": true,
            "ticks": "outside"
           },
           "bgcolor": "white",
           "radialaxis": {
            "gridcolor": "rgb(232,232,232)",
            "linecolor": "rgb(36,36,36)",
            "showgrid": false,
            "showline": true,
            "ticks": "outside"
           }
          },
          "scene": {
           "xaxis": {
            "backgroundcolor": "white",
            "gridcolor": "rgb(232,232,232)",
            "gridwidth": 2,
            "linecolor": "rgb(36,36,36)",
            "showbackground": true,
            "showgrid": false,
            "showline": true,
            "ticks": "outside",
            "zeroline": false,
            "zerolinecolor": "rgb(36,36,36)"
           },
           "yaxis": {
            "backgroundcolor": "white",
            "gridcolor": "rgb(232,232,232)",
            "gridwidth": 2,
            "linecolor": "rgb(36,36,36)",
            "showbackground": true,
            "showgrid": false,
            "showline": true,
            "ticks": "outside",
            "zeroline": false,
            "zerolinecolor": "rgb(36,36,36)"
           },
           "zaxis": {
            "backgroundcolor": "white",
            "gridcolor": "rgb(232,232,232)",
            "gridwidth": 2,
            "linecolor": "rgb(36,36,36)",
            "showbackground": true,
            "showgrid": false,
            "showline": true,
            "ticks": "outside",
            "zeroline": false,
            "zerolinecolor": "rgb(36,36,36)"
           }
          },
          "shapedefaults": {
           "fillcolor": "black",
           "line": {
            "width": 0
           },
           "opacity": 0.3
          },
          "ternary": {
           "aaxis": {
            "gridcolor": "rgb(232,232,232)",
            "linecolor": "rgb(36,36,36)",
            "showgrid": false,
            "showline": true,
            "ticks": "outside"
           },
           "baxis": {
            "gridcolor": "rgb(232,232,232)",
            "linecolor": "rgb(36,36,36)",
            "showgrid": false,
            "showline": true,
            "ticks": "outside"
           },
           "bgcolor": "white",
           "caxis": {
            "gridcolor": "rgb(232,232,232)",
            "linecolor": "rgb(36,36,36)",
            "showgrid": false,
            "showline": true,
            "ticks": "outside"
           }
          },
          "title": {
           "x": 0.05
          },
          "xaxis": {
           "automargin": true,
           "gridcolor": "rgb(232,232,232)",
           "linecolor": "rgb(36,36,36)",
           "showgrid": false,
           "showline": true,
           "ticks": "outside",
           "title": {
            "standoff": 15
           },
           "zeroline": false,
           "zerolinecolor": "rgb(36,36,36)"
          },
          "yaxis": {
           "automargin": true,
           "gridcolor": "rgb(232,232,232)",
           "linecolor": "rgb(36,36,36)",
           "showgrid": false,
           "showline": true,
           "ticks": "outside",
           "title": {
            "standoff": 15
           },
           "zeroline": false,
           "zerolinecolor": "rgb(36,36,36)"
          }
         }
        },
        "title": {
         "text": "Cooccurence Network for TAG"
        },
        "xaxis": {
         "range": [
          -1.0376965446531314,
          1.0098882650282826
         ],
         "showgrid": false,
         "showticklabels": false,
         "ticks": "",
         "visible": false
        },
        "yaxis": {
         "range": [
          -1.357381194370856,
          1.2150960608609105
         ],
         "showgrid": false,
         "showticklabels": false,
         "ticks": "",
         "visible": false
        }
       }
      }
     },
     "metadata": {},
     "output_type": "display_data"
    }
   ],
   "source": [
    "my_project.ac_dict[my_annotation_collection].cooccurrence_network()"
   ]
  },
  {
   "cell_type": "markdown",
   "id": "27bd443e",
   "metadata": {},
   "source": [
    "\n",
    "The networks can be customized by the following optional parameters:\n",
    "\n",
    "    character_distance: the text span within which two annotations are considered to be cooccurrent. The default is 100 characters.\n",
    "    included_tags: a list of tags that are included when drawing the graph\n",
    "    excluded_tags: a list of tags that are excluded when drawing the graph"
   ]
  },
  {
   "cell_type": "code",
   "execution_count": 17,
   "id": "e3e9582c",
   "metadata": {},
   "outputs": [
    {
     "data": {
      "application/vnd.plotly.v1+json": {
       "config": {
        "plotlyServerURL": "https://plot.ly"
       },
       "data": [
        {
         "legendgroup": "edges",
         "line": {
          "color": "grey",
          "width": 26
         },
         "mode": "lines",
         "name": "Edges",
         "opacity": 0.5,
         "showlegend": true,
         "type": "scatter",
         "x": [
          1,
          -1
         ],
         "y": [
          4.371138828673789e-8,
          -4.371138828673789e-8
         ]
        },
        {
         "legendgroup": "edges",
         "line": {
          "color": "grey",
          "width": 26
         },
         "mode": "lines",
         "name": "Edges",
         "opacity": 0.5,
         "showlegend": false,
         "type": "scatter",
         "x": [
          -1,
          1
         ],
         "y": [
          -4.371138828673789e-8,
          4.371138828673789e-8
         ]
        },
        {
         "hoverinfo": "text",
         "marker": {
          "color": [
           "#093658",
           "#A64B21"
          ],
          "opacity": 0.65,
          "size": [
           65,
           65
          ]
         },
         "mode": "markers+text",
         "showlegend": false,
         "text": [
          "process_event",
          "stative_event"
         ],
         "textfont": {
          "size": [
           32.5,
           32.5
          ]
         },
         "textposition": "top center",
         "type": "scatter",
         "x": [
          1,
          -1
         ],
         "y": [
          4.371138828673789e-8,
          -4.371138828673789e-8
         ]
        }
       ],
       "layout": {
        "template": {
         "data": {
          "bar": [
           {
            "error_x": {
             "color": "rgb(36,36,36)"
            },
            "error_y": {
             "color": "rgb(36,36,36)"
            },
            "marker": {
             "line": {
              "color": "white",
              "width": 0.5
             },
             "pattern": {
              "fillmode": "overlay",
              "size": 10,
              "solidity": 0.2
             }
            },
            "type": "bar"
           }
          ],
          "barpolar": [
           {
            "marker": {
             "line": {
              "color": "white",
              "width": 0.5
             },
             "pattern": {
              "fillmode": "overlay",
              "size": 10,
              "solidity": 0.2
             }
            },
            "type": "barpolar"
           }
          ],
          "carpet": [
           {
            "aaxis": {
             "endlinecolor": "rgb(36,36,36)",
             "gridcolor": "white",
             "linecolor": "white",
             "minorgridcolor": "white",
             "startlinecolor": "rgb(36,36,36)"
            },
            "baxis": {
             "endlinecolor": "rgb(36,36,36)",
             "gridcolor": "white",
             "linecolor": "white",
             "minorgridcolor": "white",
             "startlinecolor": "rgb(36,36,36)"
            },
            "type": "carpet"
           }
          ],
          "choropleth": [
           {
            "colorbar": {
             "outlinewidth": 1,
             "tickcolor": "rgb(36,36,36)",
             "ticks": "outside"
            },
            "type": "choropleth"
           }
          ],
          "contour": [
           {
            "colorbar": {
             "outlinewidth": 1,
             "tickcolor": "rgb(36,36,36)",
             "ticks": "outside"
            },
            "colorscale": [
             [
              0,
              "#440154"
             ],
             [
              0.1111111111111111,
              "#482878"
             ],
             [
              0.2222222222222222,
              "#3e4989"
             ],
             [
              0.3333333333333333,
              "#31688e"
             ],
             [
              0.4444444444444444,
              "#26828e"
             ],
             [
              0.5555555555555556,
              "#1f9e89"
             ],
             [
              0.6666666666666666,
              "#35b779"
             ],
             [
              0.7777777777777778,
              "#6ece58"
             ],
             [
              0.8888888888888888,
              "#b5de2b"
             ],
             [
              1,
              "#fde725"
             ]
            ],
            "type": "contour"
           }
          ],
          "contourcarpet": [
           {
            "colorbar": {
             "outlinewidth": 1,
             "tickcolor": "rgb(36,36,36)",
             "ticks": "outside"
            },
            "type": "contourcarpet"
           }
          ],
          "heatmap": [
           {
            "colorbar": {
             "outlinewidth": 1,
             "tickcolor": "rgb(36,36,36)",
             "ticks": "outside"
            },
            "colorscale": [
             [
              0,
              "#440154"
             ],
             [
              0.1111111111111111,
              "#482878"
             ],
             [
              0.2222222222222222,
              "#3e4989"
             ],
             [
              0.3333333333333333,
              "#31688e"
             ],
             [
              0.4444444444444444,
              "#26828e"
             ],
             [
              0.5555555555555556,
              "#1f9e89"
             ],
             [
              0.6666666666666666,
              "#35b779"
             ],
             [
              0.7777777777777778,
              "#6ece58"
             ],
             [
              0.8888888888888888,
              "#b5de2b"
             ],
             [
              1,
              "#fde725"
             ]
            ],
            "type": "heatmap"
           }
          ],
          "histogram": [
           {
            "marker": {
             "line": {
              "color": "white",
              "width": 0.6
             }
            },
            "type": "histogram"
           }
          ],
          "histogram2d": [
           {
            "colorbar": {
             "outlinewidth": 1,
             "tickcolor": "rgb(36,36,36)",
             "ticks": "outside"
            },
            "colorscale": [
             [
              0,
              "#440154"
             ],
             [
              0.1111111111111111,
              "#482878"
             ],
             [
              0.2222222222222222,
              "#3e4989"
             ],
             [
              0.3333333333333333,
              "#31688e"
             ],
             [
              0.4444444444444444,
              "#26828e"
             ],
             [
              0.5555555555555556,
              "#1f9e89"
             ],
             [
              0.6666666666666666,
              "#35b779"
             ],
             [
              0.7777777777777778,
              "#6ece58"
             ],
             [
              0.8888888888888888,
              "#b5de2b"
             ],
             [
              1,
              "#fde725"
             ]
            ],
            "type": "histogram2d"
           }
          ],
          "histogram2dcontour": [
           {
            "colorbar": {
             "outlinewidth": 1,
             "tickcolor": "rgb(36,36,36)",
             "ticks": "outside"
            },
            "colorscale": [
             [
              0,
              "#440154"
             ],
             [
              0.1111111111111111,
              "#482878"
             ],
             [
              0.2222222222222222,
              "#3e4989"
             ],
             [
              0.3333333333333333,
              "#31688e"
             ],
             [
              0.4444444444444444,
              "#26828e"
             ],
             [
              0.5555555555555556,
              "#1f9e89"
             ],
             [
              0.6666666666666666,
              "#35b779"
             ],
             [
              0.7777777777777778,
              "#6ece58"
             ],
             [
              0.8888888888888888,
              "#b5de2b"
             ],
             [
              1,
              "#fde725"
             ]
            ],
            "type": "histogram2dcontour"
           }
          ],
          "mesh3d": [
           {
            "colorbar": {
             "outlinewidth": 1,
             "tickcolor": "rgb(36,36,36)",
             "ticks": "outside"
            },
            "type": "mesh3d"
           }
          ],
          "parcoords": [
           {
            "line": {
             "colorbar": {
              "outlinewidth": 1,
              "tickcolor": "rgb(36,36,36)",
              "ticks": "outside"
             }
            },
            "type": "parcoords"
           }
          ],
          "pie": [
           {
            "automargin": true,
            "type": "pie"
           }
          ],
          "scatter": [
           {
            "fillpattern": {
             "fillmode": "overlay",
             "size": 10,
             "solidity": 0.2
            },
            "type": "scatter"
           }
          ],
          "scatter3d": [
           {
            "line": {
             "colorbar": {
              "outlinewidth": 1,
              "tickcolor": "rgb(36,36,36)",
              "ticks": "outside"
             }
            },
            "marker": {
             "colorbar": {
              "outlinewidth": 1,
              "tickcolor": "rgb(36,36,36)",
              "ticks": "outside"
             }
            },
            "type": "scatter3d"
           }
          ],
          "scattercarpet": [
           {
            "marker": {
             "colorbar": {
              "outlinewidth": 1,
              "tickcolor": "rgb(36,36,36)",
              "ticks": "outside"
             }
            },
            "type": "scattercarpet"
           }
          ],
          "scattergeo": [
           {
            "marker": {
             "colorbar": {
              "outlinewidth": 1,
              "tickcolor": "rgb(36,36,36)",
              "ticks": "outside"
             }
            },
            "type": "scattergeo"
           }
          ],
          "scattergl": [
           {
            "marker": {
             "colorbar": {
              "outlinewidth": 1,
              "tickcolor": "rgb(36,36,36)",
              "ticks": "outside"
             }
            },
            "type": "scattergl"
           }
          ],
          "scattermap": [
           {
            "marker": {
             "colorbar": {
              "outlinewidth": 1,
              "tickcolor": "rgb(36,36,36)",
              "ticks": "outside"
             }
            },
            "type": "scattermap"
           }
          ],
          "scattermapbox": [
           {
            "marker": {
             "colorbar": {
              "outlinewidth": 1,
              "tickcolor": "rgb(36,36,36)",
              "ticks": "outside"
             }
            },
            "type": "scattermapbox"
           }
          ],
          "scatterpolar": [
           {
            "marker": {
             "colorbar": {
              "outlinewidth": 1,
              "tickcolor": "rgb(36,36,36)",
              "ticks": "outside"
             }
            },
            "type": "scatterpolar"
           }
          ],
          "scatterpolargl": [
           {
            "marker": {
             "colorbar": {
              "outlinewidth": 1,
              "tickcolor": "rgb(36,36,36)",
              "ticks": "outside"
             }
            },
            "type": "scatterpolargl"
           }
          ],
          "scatterternary": [
           {
            "marker": {
             "colorbar": {
              "outlinewidth": 1,
              "tickcolor": "rgb(36,36,36)",
              "ticks": "outside"
             }
            },
            "type": "scatterternary"
           }
          ],
          "surface": [
           {
            "colorbar": {
             "outlinewidth": 1,
             "tickcolor": "rgb(36,36,36)",
             "ticks": "outside"
            },
            "colorscale": [
             [
              0,
              "#440154"
             ],
             [
              0.1111111111111111,
              "#482878"
             ],
             [
              0.2222222222222222,
              "#3e4989"
             ],
             [
              0.3333333333333333,
              "#31688e"
             ],
             [
              0.4444444444444444,
              "#26828e"
             ],
             [
              0.5555555555555556,
              "#1f9e89"
             ],
             [
              0.6666666666666666,
              "#35b779"
             ],
             [
              0.7777777777777778,
              "#6ece58"
             ],
             [
              0.8888888888888888,
              "#b5de2b"
             ],
             [
              1,
              "#fde725"
             ]
            ],
            "type": "surface"
           }
          ],
          "table": [
           {
            "cells": {
             "fill": {
              "color": "rgb(237,237,237)"
             },
             "line": {
              "color": "white"
             }
            },
            "header": {
             "fill": {
              "color": "rgb(217,217,217)"
             },
             "line": {
              "color": "white"
             }
            },
            "type": "table"
           }
          ]
         },
         "layout": {
          "annotationdefaults": {
           "arrowhead": 0,
           "arrowwidth": 1
          },
          "autotypenumbers": "strict",
          "coloraxis": {
           "colorbar": {
            "outlinewidth": 1,
            "tickcolor": "rgb(36,36,36)",
            "ticks": "outside"
           }
          },
          "colorscale": {
           "diverging": [
            [
             0,
             "rgb(103,0,31)"
            ],
            [
             0.1,
             "rgb(178,24,43)"
            ],
            [
             0.2,
             "rgb(214,96,77)"
            ],
            [
             0.3,
             "rgb(244,165,130)"
            ],
            [
             0.4,
             "rgb(253,219,199)"
            ],
            [
             0.5,
             "rgb(247,247,247)"
            ],
            [
             0.6,
             "rgb(209,229,240)"
            ],
            [
             0.7,
             "rgb(146,197,222)"
            ],
            [
             0.8,
             "rgb(67,147,195)"
            ],
            [
             0.9,
             "rgb(33,102,172)"
            ],
            [
             1,
             "rgb(5,48,97)"
            ]
           ],
           "sequential": [
            [
             0,
             "#440154"
            ],
            [
             0.1111111111111111,
             "#482878"
            ],
            [
             0.2222222222222222,
             "#3e4989"
            ],
            [
             0.3333333333333333,
             "#31688e"
            ],
            [
             0.4444444444444444,
             "#26828e"
            ],
            [
             0.5555555555555556,
             "#1f9e89"
            ],
            [
             0.6666666666666666,
             "#35b779"
            ],
            [
             0.7777777777777778,
             "#6ece58"
            ],
            [
             0.8888888888888888,
             "#b5de2b"
            ],
            [
             1,
             "#fde725"
            ]
           ],
           "sequentialminus": [
            [
             0,
             "#440154"
            ],
            [
             0.1111111111111111,
             "#482878"
            ],
            [
             0.2222222222222222,
             "#3e4989"
            ],
            [
             0.3333333333333333,
             "#31688e"
            ],
            [
             0.4444444444444444,
             "#26828e"
            ],
            [
             0.5555555555555556,
             "#1f9e89"
            ],
            [
             0.6666666666666666,
             "#35b779"
            ],
            [
             0.7777777777777778,
             "#6ece58"
            ],
            [
             0.8888888888888888,
             "#b5de2b"
            ],
            [
             1,
             "#fde725"
            ]
           ]
          },
          "colorway": [
           "#1F77B4",
           "#FF7F0E",
           "#2CA02C",
           "#D62728",
           "#9467BD",
           "#8C564B",
           "#E377C2",
           "#7F7F7F",
           "#BCBD22",
           "#17BECF"
          ],
          "font": {
           "color": "rgb(36,36,36)"
          },
          "geo": {
           "bgcolor": "white",
           "lakecolor": "white",
           "landcolor": "white",
           "showlakes": true,
           "showland": true,
           "subunitcolor": "white"
          },
          "hoverlabel": {
           "align": "left"
          },
          "hovermode": "closest",
          "mapbox": {
           "style": "light"
          },
          "paper_bgcolor": "white",
          "plot_bgcolor": "white",
          "polar": {
           "angularaxis": {
            "gridcolor": "rgb(232,232,232)",
            "linecolor": "rgb(36,36,36)",
            "showgrid": false,
            "showline": true,
            "ticks": "outside"
           },
           "bgcolor": "white",
           "radialaxis": {
            "gridcolor": "rgb(232,232,232)",
            "linecolor": "rgb(36,36,36)",
            "showgrid": false,
            "showline": true,
            "ticks": "outside"
           }
          },
          "scene": {
           "xaxis": {
            "backgroundcolor": "white",
            "gridcolor": "rgb(232,232,232)",
            "gridwidth": 2,
            "linecolor": "rgb(36,36,36)",
            "showbackground": true,
            "showgrid": false,
            "showline": true,
            "ticks": "outside",
            "zeroline": false,
            "zerolinecolor": "rgb(36,36,36)"
           },
           "yaxis": {
            "backgroundcolor": "white",
            "gridcolor": "rgb(232,232,232)",
            "gridwidth": 2,
            "linecolor": "rgb(36,36,36)",
            "showbackground": true,
            "showgrid": false,
            "showline": true,
            "ticks": "outside",
            "zeroline": false,
            "zerolinecolor": "rgb(36,36,36)"
           },
           "zaxis": {
            "backgroundcolor": "white",
            "gridcolor": "rgb(232,232,232)",
            "gridwidth": 2,
            "linecolor": "rgb(36,36,36)",
            "showbackground": true,
            "showgrid": false,
            "showline": true,
            "ticks": "outside",
            "zeroline": false,
            "zerolinecolor": "rgb(36,36,36)"
           }
          },
          "shapedefaults": {
           "fillcolor": "black",
           "line": {
            "width": 0
           },
           "opacity": 0.3
          },
          "ternary": {
           "aaxis": {
            "gridcolor": "rgb(232,232,232)",
            "linecolor": "rgb(36,36,36)",
            "showgrid": false,
            "showline": true,
            "ticks": "outside"
           },
           "baxis": {
            "gridcolor": "rgb(232,232,232)",
            "linecolor": "rgb(36,36,36)",
            "showgrid": false,
            "showline": true,
            "ticks": "outside"
           },
           "bgcolor": "white",
           "caxis": {
            "gridcolor": "rgb(232,232,232)",
            "linecolor": "rgb(36,36,36)",
            "showgrid": false,
            "showline": true,
            "ticks": "outside"
           }
          },
          "title": {
           "x": 0.05
          },
          "xaxis": {
           "automargin": true,
           "gridcolor": "rgb(232,232,232)",
           "linecolor": "rgb(36,36,36)",
           "showgrid": false,
           "showline": true,
           "ticks": "outside",
           "title": {
            "standoff": 15
           },
           "zeroline": false,
           "zerolinecolor": "rgb(36,36,36)"
          },
          "yaxis": {
           "automargin": true,
           "gridcolor": "rgb(232,232,232)",
           "linecolor": "rgb(36,36,36)",
           "showgrid": false,
           "showline": true,
           "ticks": "outside",
           "title": {
            "standoff": 15
           },
           "zeroline": false,
           "zerolinecolor": "rgb(36,36,36)"
          }
         }
        },
        "title": {
         "text": "Cooccurence Network for TAG"
        },
        "xaxis": {
         "range": [
          -1.5,
          1.5
         ],
         "showgrid": false,
         "showticklabels": false,
         "ticks": "",
         "visible": false
        },
        "yaxis": {
         "range": [
          -6.556708243010684e-8,
          7.430936008745441e-8
         ],
         "showgrid": false,
         "showticklabels": false,
         "ticks": "",
         "visible": false
        }
       }
      }
     },
     "metadata": {},
     "output_type": "display_data"
    }
   ],
   "source": [
    "# TODO Evtl. an Demo Projekt anpassen \n",
    "my_project.ac_dict[my_annotation_collection].cooccurrence_network(\n",
    "    character_distance=50,\n",
    "    included_tags=['process_event', 'stative_event'],\n",
    "    excluded_tags=None\n",
    ")"
   ]
  },
  {
   "cell_type": "markdown",
   "id": "f4cd8bcc",
   "metadata": {},
   "source": [
    "### Annotation collection as Pandas DataFrame"
   ]
  },
  {
   "cell_type": "code",
   "execution_count": 18,
   "id": "dfe69180",
   "metadata": {},
   "outputs": [
    {
     "data": {
      "text/html": [
       "<div>\n",
       "<style scoped>\n",
       "    .dataframe tbody tr th:only-of-type {\n",
       "        vertical-align: middle;\n",
       "    }\n",
       "\n",
       "    .dataframe tbody tr th {\n",
       "        vertical-align: top;\n",
       "    }\n",
       "\n",
       "    .dataframe thead th {\n",
       "        text-align: right;\n",
       "    }\n",
       "</style>\n",
       "<table border=\"1\" class=\"dataframe\">\n",
       "  <thead>\n",
       "    <tr style=\"text-align: right;\">\n",
       "      <th></th>\n",
       "      <th>document</th>\n",
       "      <th>annotation collection</th>\n",
       "      <th>annotator</th>\n",
       "      <th>tag</th>\n",
       "      <th>tag_path</th>\n",
       "      <th>left_context</th>\n",
       "      <th>annotation</th>\n",
       "      <th>right_context</th>\n",
       "      <th>start_point</th>\n",
       "      <th>end_point</th>\n",
       "      <th>date</th>\n",
       "      <th>prop:representation_type</th>\n",
       "    </tr>\n",
       "  </thead>\n",
       "  <tbody>\n",
       "    <tr>\n",
       "      <th>0</th>\n",
       "      <td>The Metamorphosis</td>\n",
       "      <td>ac_2</td>\n",
       "      <td>mvgoogle</td>\n",
       "      <td>process_event</td>\n",
       "      <td>/process_event</td>\n",
       "      <td></td>\n",
       "      <td>One morning, as Gregor Samsa was waking up fro...</td>\n",
       "      <td>, he discovered that in bed he had been change...</td>\n",
       "      <td>0</td>\n",
       "      <td>62</td>\n",
       "      <td>2023-08-03 13:29:00.085000+02:00</td>\n",
       "      <td>narrator_speech</td>\n",
       "    </tr>\n",
       "    <tr>\n",
       "      <th>1</th>\n",
       "      <td>The Metamorphosis</td>\n",
       "      <td>ac_2</td>\n",
       "      <td>mvgoogle</td>\n",
       "      <td>change_of_state</td>\n",
       "      <td>/change_of_state</td>\n",
       "      <td>s Gregor Samsa was waking up from anxious drea...</td>\n",
       "      <td>he discovered that in bed he had been changed ...</td>\n",
       "      <td>. He lay on his armour-hard back and saw, as h...</td>\n",
       "      <td>64</td>\n",
       "      <td>140</td>\n",
       "      <td>2023-08-03 13:29:53.994000+02:00</td>\n",
       "      <td>narrator_speech</td>\n",
       "    </tr>\n",
       "    <tr>\n",
       "      <th>2</th>\n",
       "      <td>The Metamorphosis</td>\n",
       "      <td>ac_2</td>\n",
       "      <td>mvgoogle</td>\n",
       "      <td>stative_event</td>\n",
       "      <td>/stative_event</td>\n",
       "      <td>had been changed into a monstrous verminous b...</td>\n",
       "      <td>He lay on his armour-hard back</td>\n",
       "      <td>and saw, as he lifted his head up a little, h...</td>\n",
       "      <td>142</td>\n",
       "      <td>172</td>\n",
       "      <td>2023-08-03 13:30:39.524000+02:00</td>\n",
       "      <td>narrator_speech</td>\n",
       "    </tr>\n",
       "    <tr>\n",
       "      <th>3</th>\n",
       "      <td>The Metamorphosis</td>\n",
       "      <td>ac_2</td>\n",
       "      <td>mvgoogle</td>\n",
       "      <td>process_event</td>\n",
       "      <td>/process_event</td>\n",
       "      <td>ous verminous bug. He lay on his armour-hard b...</td>\n",
       "      <td>and saw his brown, arched abdomen divided up i...</td>\n",
       "      <td>. From this height the blanket, just about rea...</td>\n",
       "      <td>173</td>\n",
       "      <td>282</td>\n",
       "      <td>2023-08-03 13:31:05.450000+02:00</td>\n",
       "      <td>narrator_speech</td>\n",
       "    </tr>\n",
       "    <tr>\n",
       "      <th>4</th>\n",
       "      <td>The Metamorphosis</td>\n",
       "      <td>ac_2</td>\n",
       "      <td>mvgoogle</td>\n",
       "      <td>process_event</td>\n",
       "      <td>/process_event</td>\n",
       "      <td>nous bug. He lay on his armour-hard back and s...</td>\n",
       "      <td>as he lifted his head up a little</td>\n",
       "      <td>, his brown, arched abdomen divided up into ri...</td>\n",
       "      <td>182</td>\n",
       "      <td>215</td>\n",
       "      <td>2023-08-03 13:31:24.227000+02:00</td>\n",
       "      <td>narrator_speech</td>\n",
       "    </tr>\n",
       "    <tr>\n",
       "      <th>5</th>\n",
       "      <td>The Metamorphosis</td>\n",
       "      <td>ac_2</td>\n",
       "      <td>mvgoogle</td>\n",
       "      <td>stative_event</td>\n",
       "      <td>/stative_event</td>\n",
       "      <td>abdomen divided up into rigid bow-like sectio...</td>\n",
       "      <td>From this height the blanket, just about ready...</td>\n",
       "      <td>. His numerous legs, pitifully thin in compari...</td>\n",
       "      <td>284</td>\n",
       "      <td>382</td>\n",
       "      <td>2023-08-03 13:31:54.828000+02:00</td>\n",
       "      <td>narrator_speech</td>\n",
       "    </tr>\n",
       "    <tr>\n",
       "      <th>6</th>\n",
       "      <td>The Metamorphosis</td>\n",
       "      <td>ac_2</td>\n",
       "      <td>mvgoogle</td>\n",
       "      <td>stative_event</td>\n",
       "      <td>/stative_event</td>\n",
       "      <td>slide off completely, could hardly stay in pla...</td>\n",
       "      <td>His numerous legs, pitifully thin in compariso...</td>\n",
       "      <td>. \"What's happened to me,\" he thought. It was no</td>\n",
       "      <td>384</td>\n",
       "      <td>502</td>\n",
       "      <td>2023-08-03 13:32:32.568000+02:00</td>\n",
       "      <td>narrator_speech</td>\n",
       "    </tr>\n",
       "    <tr>\n",
       "      <th>7</th>\n",
       "      <td>The Metamorphosis</td>\n",
       "      <td>ac_2</td>\n",
       "      <td>mvgoogle</td>\n",
       "      <td>non_event</td>\n",
       "      <td>/non_event</td>\n",
       "      <td>mference, flickered helplessly before his eyes. \"</td>\n",
       "      <td>What's happened to me</td>\n",
       "      <td>,\" he thought. It was no dream. His room, a pr...</td>\n",
       "      <td>506</td>\n",
       "      <td>527</td>\n",
       "      <td>2023-08-03 13:32:45.089000+02:00</td>\n",
       "      <td>thought_representation</td>\n",
       "    </tr>\n",
       "    <tr>\n",
       "      <th>8</th>\n",
       "      <td>The Metamorphosis</td>\n",
       "      <td>ac_2</td>\n",
       "      <td>mvgoogle</td>\n",
       "      <td>process_event</td>\n",
       "      <td>/process_event</td>\n",
       "      <td>lessly before his eyes. \"What's happened to me,\"</td>\n",
       "      <td>he thought</td>\n",
       "      <td>. It was no dream. His room, a proper room for...</td>\n",
       "      <td>530</td>\n",
       "      <td>540</td>\n",
       "      <td>2023-08-03 13:32:57.159000+02:00</td>\n",
       "      <td>narrator_speech</td>\n",
       "    </tr>\n",
       "    <tr>\n",
       "      <th>9</th>\n",
       "      <td>The Metamorphosis</td>\n",
       "      <td>ac_2</td>\n",
       "      <td>mvgoogle</td>\n",
       "      <td>non_event</td>\n",
       "      <td>/non_event</td>\n",
       "      <td>e his eyes. \"What's happened to me,\" he thought.</td>\n",
       "      <td>It was no dream</td>\n",
       "      <td>. His room, a proper room for a human being, o...</td>\n",
       "      <td>542</td>\n",
       "      <td>557</td>\n",
       "      <td>2023-08-03 13:33:33.958000+02:00</td>\n",
       "      <td>narrator_speech</td>\n",
       "    </tr>\n",
       "    <tr>\n",
       "      <th>10</th>\n",
       "      <td>The Metamorphosis</td>\n",
       "      <td>ac_2</td>\n",
       "      <td>mvgoogle</td>\n",
       "      <td>stative_event</td>\n",
       "      <td>/stative_event</td>\n",
       "      <td>t's happened to me,\" he thought. It was no dre...</td>\n",
       "      <td>His room, a proper room for a human being, onl...</td>\n",
       "      <td>. Above the table, on which an unpacked collec...</td>\n",
       "      <td>559</td>\n",
       "      <td>672</td>\n",
       "      <td>2023-08-03 13:34:18.956000+02:00</td>\n",
       "      <td>narrator_speech</td>\n",
       "    </tr>\n",
       "    <tr>\n",
       "      <th>11</th>\n",
       "      <td>The Metamorphosis</td>\n",
       "      <td>ac_2</td>\n",
       "      <td>mvgoogle</td>\n",
       "      <td>stative_event</td>\n",
       "      <td>/stative_event</td>\n",
       "      <td>l, lay quietly between the four well-known wal...</td>\n",
       "      <td>Above the table, on which an unpacked collecti...</td>\n",
       "      <td>which he had cut out of an illustrated magazi...</td>\n",
       "      <td>674</td>\n",
       "      <td>808</td>\n",
       "      <td>2023-08-03 13:35:17.744000+02:00</td>\n",
       "      <td>narrator_speech</td>\n",
       "    </tr>\n",
       "    <tr>\n",
       "      <th>12</th>\n",
       "      <td>The Metamorphosis</td>\n",
       "      <td>ac_2</td>\n",
       "      <td>mvgoogle</td>\n",
       "      <td>stative_event</td>\n",
       "      <td>/stative_event</td>\n",
       "      <td>d collection of sample cloth goods was spread ...</td>\n",
       "      <td>Samsa was a travelling salesman</td>\n",
       "      <td>—hung the picture which he had cut out of an i...</td>\n",
       "      <td>760</td>\n",
       "      <td>791</td>\n",
       "      <td>2023-08-03 13:35:33.034000+02:00</td>\n",
       "      <td>narrator_speech</td>\n",
       "    </tr>\n",
       "    <tr>\n",
       "      <th>13</th>\n",
       "      <td>The Metamorphosis</td>\n",
       "      <td>ac_2</td>\n",
       "      <td>mvgoogle</td>\n",
       "      <td>process_event</td>\n",
       "      <td>/process_event</td>\n",
       "      <td>—Samsa was a travelling salesman—hung the pict...</td>\n",
       "      <td>which he had cut out of an illustrated magazin...</td>\n",
       "      <td>and set in a pretty gilt frame. It was a pict...</td>\n",
       "      <td>809</td>\n",
       "      <td>875</td>\n",
       "      <td>2023-08-03 13:35:48.722000+02:00</td>\n",
       "      <td>narrator_speech</td>\n",
       "    </tr>\n",
       "    <tr>\n",
       "      <th>14</th>\n",
       "      <td>The Metamorphosis</td>\n",
       "      <td>ac_2</td>\n",
       "      <td>mvgoogle</td>\n",
       "      <td>process_event</td>\n",
       "      <td>/process_event</td>\n",
       "      <td>out of an illustrated magazine a little while ...</td>\n",
       "      <td>and set in a pretty gilt frame</td>\n",
       "      <td>. It was a picture of a woman with a fur hat a...</td>\n",
       "      <td>876</td>\n",
       "      <td>906</td>\n",
       "      <td>2023-08-03 13:35:58.512000+02:00</td>\n",
       "      <td>narrator_speech</td>\n",
       "    </tr>\n",
       "    <tr>\n",
       "      <th>15</th>\n",
       "      <td>The Metamorphosis</td>\n",
       "      <td>ac_2</td>\n",
       "      <td>mvgoogle</td>\n",
       "      <td>stative_event</td>\n",
       "      <td>/stative_event</td>\n",
       "      <td>little while ago and set in a pretty gilt fra...</td>\n",
       "      <td>It was a picture of a woman with a fur hat and...</td>\n",
       "      <td>. She sat erect there, lifting up in the direc...</td>\n",
       "      <td>908</td>\n",
       "      <td>964</td>\n",
       "      <td>2023-08-03 13:36:30.218000+02:00</td>\n",
       "      <td>narrator_speech</td>\n",
       "    </tr>\n",
       "    <tr>\n",
       "      <th>16</th>\n",
       "      <td>The Metamorphosis</td>\n",
       "      <td>ac_2</td>\n",
       "      <td>mvgoogle</td>\n",
       "      <td>stative_event</td>\n",
       "      <td>/stative_event</td>\n",
       "      <td>picture of a woman with a fur hat and a fur b...</td>\n",
       "      <td>She sat erect there</td>\n",
       "      <td>, lifting up in the direction of the viewer a ...</td>\n",
       "      <td>966</td>\n",
       "      <td>985</td>\n",
       "      <td>2023-08-03 13:36:47.769000+02:00</td>\n",
       "      <td>narrator_speech</td>\n",
       "    </tr>\n",
       "    <tr>\n",
       "      <th>17</th>\n",
       "      <td>The Metamorphosis</td>\n",
       "      <td>ac_2</td>\n",
       "      <td>mvgoogle</td>\n",
       "      <td>stative_event</td>\n",
       "      <td>/stative_event</td>\n",
       "      <td>ith a fur hat and a fur boa. She sat erect the...</td>\n",
       "      <td>lifting up in the direction of the viewer a so...</td>\n",
       "      <td>into which her entire forearm had disappeared. G</td>\n",
       "      <td>987</td>\n",
       "      <td>1045</td>\n",
       "      <td>2023-08-03 13:37:00.236000+02:00</td>\n",
       "      <td>narrator_speech</td>\n",
       "    </tr>\n",
       "    <tr>\n",
       "      <th>18</th>\n",
       "      <td>The Metamorphosis</td>\n",
       "      <td>ac_2</td>\n",
       "      <td>mvgoogle</td>\n",
       "      <td>stative_event</td>\n",
       "      <td>/stative_event</td>\n",
       "      <td>p in the direction of the viewer a solid fur m...</td>\n",
       "      <td>into which her entire forearm had disappeared</td>\n",
       "      <td>. Gregor's glance then turned to the window. The</td>\n",
       "      <td>1046</td>\n",
       "      <td>1091</td>\n",
       "      <td>2023-08-03 13:37:13.986000+02:00</td>\n",
       "      <td>narrator_speech</td>\n",
       "    </tr>\n",
       "  </tbody>\n",
       "</table>\n",
       "</div>"
      ],
      "text/plain": [
       "             document annotation collection annotator              tag  \\\n",
       "0   The Metamorphosis                  ac_2  mvgoogle    process_event   \n",
       "1   The Metamorphosis                  ac_2  mvgoogle  change_of_state   \n",
       "2   The Metamorphosis                  ac_2  mvgoogle    stative_event   \n",
       "3   The Metamorphosis                  ac_2  mvgoogle    process_event   \n",
       "4   The Metamorphosis                  ac_2  mvgoogle    process_event   \n",
       "5   The Metamorphosis                  ac_2  mvgoogle    stative_event   \n",
       "6   The Metamorphosis                  ac_2  mvgoogle    stative_event   \n",
       "7   The Metamorphosis                  ac_2  mvgoogle        non_event   \n",
       "8   The Metamorphosis                  ac_2  mvgoogle    process_event   \n",
       "9   The Metamorphosis                  ac_2  mvgoogle        non_event   \n",
       "10  The Metamorphosis                  ac_2  mvgoogle    stative_event   \n",
       "11  The Metamorphosis                  ac_2  mvgoogle    stative_event   \n",
       "12  The Metamorphosis                  ac_2  mvgoogle    stative_event   \n",
       "13  The Metamorphosis                  ac_2  mvgoogle    process_event   \n",
       "14  The Metamorphosis                  ac_2  mvgoogle    process_event   \n",
       "15  The Metamorphosis                  ac_2  mvgoogle    stative_event   \n",
       "16  The Metamorphosis                  ac_2  mvgoogle    stative_event   \n",
       "17  The Metamorphosis                  ac_2  mvgoogle    stative_event   \n",
       "18  The Metamorphosis                  ac_2  mvgoogle    stative_event   \n",
       "\n",
       "            tag_path                                       left_context  \\\n",
       "0     /process_event                                                      \n",
       "1   /change_of_state  s Gregor Samsa was waking up from anxious drea...   \n",
       "2     /stative_event   had been changed into a monstrous verminous b...   \n",
       "3     /process_event  ous verminous bug. He lay on his armour-hard b...   \n",
       "4     /process_event  nous bug. He lay on his armour-hard back and s...   \n",
       "5     /stative_event   abdomen divided up into rigid bow-like sectio...   \n",
       "6     /stative_event  slide off completely, could hardly stay in pla...   \n",
       "7         /non_event  mference, flickered helplessly before his eyes. \"   \n",
       "8     /process_event  lessly before his eyes. \"What's happened to me,\"    \n",
       "9         /non_event  e his eyes. \"What's happened to me,\" he thought.    \n",
       "10    /stative_event  t's happened to me,\" he thought. It was no dre...   \n",
       "11    /stative_event  l, lay quietly between the four well-known wal...   \n",
       "12    /stative_event  d collection of sample cloth goods was spread ...   \n",
       "13    /process_event  —Samsa was a travelling salesman—hung the pict...   \n",
       "14    /process_event  out of an illustrated magazine a little while ...   \n",
       "15    /stative_event   little while ago and set in a pretty gilt fra...   \n",
       "16    /stative_event   picture of a woman with a fur hat and a fur b...   \n",
       "17    /stative_event  ith a fur hat and a fur boa. She sat erect the...   \n",
       "18    /stative_event  p in the direction of the viewer a solid fur m...   \n",
       "\n",
       "                                           annotation  \\\n",
       "0   One morning, as Gregor Samsa was waking up fro...   \n",
       "1   he discovered that in bed he had been changed ...   \n",
       "2                      He lay on his armour-hard back   \n",
       "3   and saw his brown, arched abdomen divided up i...   \n",
       "4                   as he lifted his head up a little   \n",
       "5   From this height the blanket, just about ready...   \n",
       "6   His numerous legs, pitifully thin in compariso...   \n",
       "7                               What's happened to me   \n",
       "8                                          he thought   \n",
       "9                                     It was no dream   \n",
       "10  His room, a proper room for a human being, onl...   \n",
       "11  Above the table, on which an unpacked collecti...   \n",
       "12                    Samsa was a travelling salesman   \n",
       "13  which he had cut out of an illustrated magazin...   \n",
       "14                     and set in a pretty gilt frame   \n",
       "15  It was a picture of a woman with a fur hat and...   \n",
       "16                                She sat erect there   \n",
       "17  lifting up in the direction of the viewer a so...   \n",
       "18      into which her entire forearm had disappeared   \n",
       "\n",
       "                                        right_context  start_point  end_point  \\\n",
       "0   , he discovered that in bed he had been change...            0         62   \n",
       "1   . He lay on his armour-hard back and saw, as h...           64        140   \n",
       "2    and saw, as he lifted his head up a little, h...          142        172   \n",
       "3   . From this height the blanket, just about rea...          173        282   \n",
       "4   , his brown, arched abdomen divided up into ri...          182        215   \n",
       "5   . His numerous legs, pitifully thin in compari...          284        382   \n",
       "6   . \"What's happened to me,\" he thought. It was no           384        502   \n",
       "7   ,\" he thought. It was no dream. His room, a pr...          506        527   \n",
       "8   . It was no dream. His room, a proper room for...          530        540   \n",
       "9   . His room, a proper room for a human being, o...          542        557   \n",
       "10  . Above the table, on which an unpacked collec...          559        672   \n",
       "11   which he had cut out of an illustrated magazi...          674        808   \n",
       "12  —hung the picture which he had cut out of an i...          760        791   \n",
       "13   and set in a pretty gilt frame. It was a pict...          809        875   \n",
       "14  . It was a picture of a woman with a fur hat a...          876        906   \n",
       "15  . She sat erect there, lifting up in the direc...          908        964   \n",
       "16  , lifting up in the direction of the viewer a ...          966        985   \n",
       "17   into which her entire forearm had disappeared. G          987       1045   \n",
       "18  . Gregor's glance then turned to the window. The          1046       1091   \n",
       "\n",
       "                               date prop:representation_type  \n",
       "0  2023-08-03 13:29:00.085000+02:00          narrator_speech  \n",
       "1  2023-08-03 13:29:53.994000+02:00          narrator_speech  \n",
       "2  2023-08-03 13:30:39.524000+02:00          narrator_speech  \n",
       "3  2023-08-03 13:31:05.450000+02:00          narrator_speech  \n",
       "4  2023-08-03 13:31:24.227000+02:00          narrator_speech  \n",
       "5  2023-08-03 13:31:54.828000+02:00          narrator_speech  \n",
       "6  2023-08-03 13:32:32.568000+02:00          narrator_speech  \n",
       "7  2023-08-03 13:32:45.089000+02:00   thought_representation  \n",
       "8  2023-08-03 13:32:57.159000+02:00          narrator_speech  \n",
       "9  2023-08-03 13:33:33.958000+02:00          narrator_speech  \n",
       "10 2023-08-03 13:34:18.956000+02:00          narrator_speech  \n",
       "11 2023-08-03 13:35:17.744000+02:00          narrator_speech  \n",
       "12 2023-08-03 13:35:33.034000+02:00          narrator_speech  \n",
       "13 2023-08-03 13:35:48.722000+02:00          narrator_speech  \n",
       "14 2023-08-03 13:35:58.512000+02:00          narrator_speech  \n",
       "15 2023-08-03 13:36:30.218000+02:00          narrator_speech  \n",
       "16 2023-08-03 13:36:47.769000+02:00          narrator_speech  \n",
       "17 2023-08-03 13:37:00.236000+02:00          narrator_speech  \n",
       "18 2023-08-03 13:37:13.986000+02:00          narrator_speech  "
      ]
     },
     "execution_count": 18,
     "metadata": {},
     "output_type": "execute_result"
    }
   ],
   "source": [
    "my_project.ac_dict[my_annotation_collection].df"
   ]
  },
  {
   "cell_type": "markdown",
   "id": "77087a32",
   "metadata": {},
   "source": [
    "## Annotation stats by tags\n",
    "\n",
    "The `tag_stats()` method counts, for each tag:\n",
    "\n",
    "- the number of annotations\n",
    "- the full text span annotated by the tag\n",
    "- the average text span of the annotations\n",
    "- the most frequent tokens (here, it is possible to define a stopword list)"
   ]
  },
  {
   "cell_type": "code",
   "execution_count": 19,
   "id": "40b9aa8d",
   "metadata": {},
   "outputs": [
    {
     "data": {
      "text/html": [
       "<div>\n",
       "<style scoped>\n",
       "    .dataframe tbody tr th:only-of-type {\n",
       "        vertical-align: middle;\n",
       "    }\n",
       "\n",
       "    .dataframe tbody tr th {\n",
       "        vertical-align: top;\n",
       "    }\n",
       "\n",
       "    .dataframe thead th {\n",
       "        text-align: right;\n",
       "    }\n",
       "</style>\n",
       "<table border=\"1\" class=\"dataframe\">\n",
       "  <thead>\n",
       "    <tr style=\"text-align: right;\">\n",
       "      <th></th>\n",
       "      <th>annotations</th>\n",
       "      <th>text_span</th>\n",
       "      <th>text_span_mean</th>\n",
       "      <th>token1</th>\n",
       "      <th>token2</th>\n",
       "      <th>token3</th>\n",
       "      <th>token4</th>\n",
       "      <th>token5</th>\n",
       "    </tr>\n",
       "  </thead>\n",
       "  <tbody>\n",
       "    <tr>\n",
       "      <th>process_event</th>\n",
       "      <td>6</td>\n",
       "      <td>310</td>\n",
       "      <td>51.666667</td>\n",
       "      <td>up: 3</td>\n",
       "      <td>he: 3</td>\n",
       "      <td>a: 3</td>\n",
       "      <td>as: 2</td>\n",
       "      <td>and: 2</td>\n",
       "    </tr>\n",
       "    <tr>\n",
       "      <th>change_of_state</th>\n",
       "      <td>1</td>\n",
       "      <td>76</td>\n",
       "      <td>76.0</td>\n",
       "      <td>he: 2</td>\n",
       "      <td>discovered: 1</td>\n",
       "      <td>that: 1</td>\n",
       "      <td>in: 1</td>\n",
       "      <td>bed: 1</td>\n",
       "    </tr>\n",
       "    <tr>\n",
       "      <th>stative_event</th>\n",
       "      <td>10</td>\n",
       "      <td>702</td>\n",
       "      <td>70.2</td>\n",
       "      <td>a: 8</td>\n",
       "      <td>the: 7</td>\n",
       "      <td>of: 4</td>\n",
       "      <td>his: 3</td>\n",
       "      <td>in: 3</td>\n",
       "    </tr>\n",
       "    <tr>\n",
       "      <th>non_event</th>\n",
       "      <td>2</td>\n",
       "      <td>36</td>\n",
       "      <td>18.0</td>\n",
       "      <td>Whats: 1</td>\n",
       "      <td>happened: 1</td>\n",
       "      <td>to: 1</td>\n",
       "      <td>me: 1</td>\n",
       "      <td>It: 1</td>\n",
       "    </tr>\n",
       "  </tbody>\n",
       "</table>\n",
       "</div>"
      ],
      "text/plain": [
       "                annotations text_span text_span_mean    token1         token2  \\\n",
       "process_event             6       310      51.666667     up: 3          he: 3   \n",
       "change_of_state           1        76           76.0     he: 2  discovered: 1   \n",
       "stative_event            10       702           70.2      a: 8         the: 7   \n",
       "non_event                 2        36           18.0  Whats: 1    happened: 1   \n",
       "\n",
       "                  token3  token4  token5  \n",
       "process_event       a: 3   as: 2  and: 2  \n",
       "change_of_state  that: 1   in: 1  bed: 1  \n",
       "stative_event      of: 4  his: 3   in: 3  \n",
       "non_event          to: 1   me: 1   It: 1  "
      ]
     },
     "execution_count": 19,
     "metadata": {},
     "output_type": "execute_result"
    }
   ],
   "source": [
    "my_project.ac_dict[my_annotation_collection].tag_stats(ranking=5)"
   ]
  },
  {
   "cell_type": "markdown",
   "id": "bf7c289d",
   "metadata": {},
   "source": [
    "Additionally, you can use the method for properties (if you used any in the annotation process) and different annotators:"
   ]
  },
  {
   "cell_type": "code",
   "execution_count": 20,
   "id": "30515364",
   "metadata": {},
   "outputs": [
    {
     "data": {
      "text/html": [
       "<div>\n",
       "<style scoped>\n",
       "    .dataframe tbody tr th:only-of-type {\n",
       "        vertical-align: middle;\n",
       "    }\n",
       "\n",
       "    .dataframe tbody tr th {\n",
       "        vertical-align: top;\n",
       "    }\n",
       "\n",
       "    .dataframe thead th {\n",
       "        text-align: right;\n",
       "    }\n",
       "</style>\n",
       "<table border=\"1\" class=\"dataframe\">\n",
       "  <thead>\n",
       "    <tr style=\"text-align: right;\">\n",
       "      <th></th>\n",
       "      <th>annotations</th>\n",
       "      <th>text_span</th>\n",
       "      <th>text_span_mean</th>\n",
       "      <th>token1</th>\n",
       "      <th>token2</th>\n",
       "      <th>token3</th>\n",
       "    </tr>\n",
       "  </thead>\n",
       "  <tbody>\n",
       "    <tr>\n",
       "      <th>narrator_speech</th>\n",
       "      <td>18</td>\n",
       "      <td>1103</td>\n",
       "      <td>61.277778</td>\n",
       "      <td>was: 5</td>\n",
       "      <td>he: 5</td>\n",
       "      <td>in: 5</td>\n",
       "    </tr>\n",
       "    <tr>\n",
       "      <th>thought_representation</th>\n",
       "      <td>1</td>\n",
       "      <td>21</td>\n",
       "      <td>21.0</td>\n",
       "      <td>Whats: 1</td>\n",
       "      <td>happened: 1</td>\n",
       "      <td>me: 1</td>\n",
       "    </tr>\n",
       "  </tbody>\n",
       "</table>\n",
       "</div>"
      ],
      "text/plain": [
       "                       annotations text_span text_span_mean    token1  \\\n",
       "narrator_speech                 18      1103      61.277778    was: 5   \n",
       "thought_representation           1        21           21.0  Whats: 1   \n",
       "\n",
       "                             token2 token3  \n",
       "narrator_speech               he: 5  in: 5  \n",
       "thought_representation  happened: 1  me: 1  "
      ]
     },
     "execution_count": 20,
     "metadata": {},
     "output_type": "execute_result"
    }
   ],
   "source": [
    "my_project.ac_dict[my_annotation_collection].tag_stats(tag_col='prop:representation_type', ranking=3, stopwords=['a', 'to', 'the'])"
   ]
  },
  {
   "cell_type": "markdown",
   "id": "5994c620",
   "metadata": {},
   "source": [
    "Above, every row shows the data for the different property values."
   ]
  },
  {
   "cell_type": "code",
   "execution_count": 21,
   "id": "35ad606a",
   "metadata": {},
   "outputs": [
    {
     "data": {
      "text/html": [
       "<div>\n",
       "<style scoped>\n",
       "    .dataframe tbody tr th:only-of-type {\n",
       "        vertical-align: middle;\n",
       "    }\n",
       "\n",
       "    .dataframe tbody tr th {\n",
       "        vertical-align: top;\n",
       "    }\n",
       "\n",
       "    .dataframe thead th {\n",
       "        text-align: right;\n",
       "    }\n",
       "</style>\n",
       "<table border=\"1\" class=\"dataframe\">\n",
       "  <thead>\n",
       "    <tr style=\"text-align: right;\">\n",
       "      <th></th>\n",
       "      <th>annotations</th>\n",
       "      <th>text_span</th>\n",
       "      <th>text_span_mean</th>\n",
       "      <th>token1</th>\n",
       "      <th>token2</th>\n",
       "      <th>token3</th>\n",
       "    </tr>\n",
       "  </thead>\n",
       "  <tbody>\n",
       "    <tr>\n",
       "      <th>mvgoogle</th>\n",
       "      <td>19</td>\n",
       "      <td>1124</td>\n",
       "      <td>59.157895</td>\n",
       "      <td>a: 12</td>\n",
       "      <td>the: 7</td>\n",
       "      <td>was: 5</td>\n",
       "    </tr>\n",
       "  </tbody>\n",
       "</table>\n",
       "</div>"
      ],
      "text/plain": [
       "         annotations text_span text_span_mean token1  token2  token3\n",
       "mvgoogle          19      1124      59.157895  a: 12  the: 7  was: 5"
      ]
     },
     "execution_count": 21,
     "metadata": {},
     "output_type": "execute_result"
    }
   ],
   "source": [
    "my_project.ac_dict[my_annotation_collection].tag_stats(tag_col='annotator', ranking=3)"
   ]
  },
  {
   "cell_type": "markdown",
   "id": "f6f5c386",
   "metadata": {},
   "source": [
    "Above, every row shows the data for the different annotators."
   ]
  },
  {
   "cell_type": "markdown",
   "id": "148d3610",
   "metadata": {},
   "source": [
    "## Inter Annotator Agreement (IAA) with gitma\n",
    "\n",
    "### `get_iaa`\n",
    "\n",
    "For every annotation in annotation collection 1 (ac1_name_or_inst) the get_iaa method searches for the best matching annotation in annotation collection 2 (ac2_name_or_inst) with respect to its annotation text span.\n",
    "\n",
    "First, we will take look at both annotation collections by comparing the annotation spans."
   ]
  },
  {
   "cell_type": "code",
   "execution_count": 22,
   "id": "0011516b",
   "metadata": {},
   "outputs": [
    {
     "data": {
      "application/vnd.plotly.v1+json": {
       "config": {
        "plotlyServerURL": "https://plot.ly"
       },
       "data": [
        {
         "legendgroup": "change_of_state",
         "marker": {
          "color": "#093658"
         },
         "mode": "lines+markers",
         "name": "change_of_state",
         "showlegend": true,
         "text": "<I><br>One morning, as Gregor Samsa was waking up from anxious<br>dreams<br></I>",
         "type": "scatter",
         "x": [
          0,
          62
         ],
         "y": [
          "ac_1",
          "ac_1"
         ]
        },
        {
         "legendgroup": "process_event",
         "marker": {
          "color": "#A64B21"
         },
         "mode": "lines+markers",
         "name": "process_event",
         "showlegend": true,
         "text": "<I><br>he discovered that in bed he had been changed into<br>a monstrous verminous bug<br></I>",
         "type": "scatter",
         "x": [
          64,
          140
         ],
         "y": [
          "ac_1",
          "ac_1"
         ]
        },
        {
         "legendgroup": "stative_event",
         "marker": {
          "color": "#A68500"
         },
         "mode": "lines+markers",
         "name": "stative_event",
         "showlegend": true,
         "text": "<I><br>He lay on his armour-hard back<br></I>",
         "type": "scatter",
         "x": [
          142,
          172
         ],
         "y": [
          "ac_1",
          "ac_1"
         ]
        },
        {
         "legendgroup": "process_event",
         "marker": {
          "color": "#A64B21"
         },
         "mode": "lines+markers",
         "name": "process_event",
         "showlegend": false,
         "text": "<I><br>and saw his brown, arched abdomen divided up into rigid<br>bow-like sections<br></I>",
         "type": "scatter",
         "x": [
          173,
          282
         ],
         "y": [
          "ac_1",
          "ac_1"
         ]
        },
        {
         "legendgroup": "process_event",
         "marker": {
          "color": "#A64B21"
         },
         "mode": "lines+markers",
         "name": "process_event",
         "showlegend": false,
         "text": "<I><br>as he lifted his head up a little<br></I>",
         "type": "scatter",
         "x": [
          182,
          215
         ],
         "y": [
          "ac_1",
          "ac_1"
         ]
        },
        {
         "legendgroup": "stative_event",
         "marker": {
          "color": "#A68500"
         },
         "mode": "lines+markers",
         "name": "stative_event",
         "showlegend": false,
         "text": "<I><br>From this height the blanket, just about ready to slide<br>off completely, could hardly stay in place<br></I>",
         "type": "scatter",
         "x": [
          284,
          382
         ],
         "y": [
          "ac_1",
          "ac_1"
         ]
        },
        {
         "legendgroup": "process_event",
         "marker": {
          "color": "#A64B21"
         },
         "mode": "lines+markers",
         "name": "process_event",
         "showlegend": false,
         "text": "<I><br>His numerous legs, pitifully thin in comparison to the rest<br>of his circumference, flickered helplessly before his eyes<br></I>",
         "type": "scatter",
         "x": [
          384,
          502
         ],
         "y": [
          "ac_1",
          "ac_1"
         ]
        },
        {
         "legendgroup": "non_event",
         "marker": {
          "color": "#843AF2"
         },
         "mode": "lines+markers",
         "name": "non_event",
         "showlegend": true,
         "text": "<I><br>What's happened to me<br></I>",
         "type": "scatter",
         "x": [
          506,
          527
         ],
         "y": [
          "ac_1",
          "ac_1"
         ]
        },
        {
         "legendgroup": "process_event",
         "marker": {
          "color": "#A64B21"
         },
         "mode": "lines+markers",
         "name": "process_event",
         "showlegend": false,
         "text": "<I><br>he thought<br></I>",
         "type": "scatter",
         "x": [
          530,
          540
         ],
         "y": [
          "ac_1",
          "ac_1"
         ]
        },
        {
         "legendgroup": "non_event",
         "marker": {
          "color": "#843AF2"
         },
         "mode": "lines+markers",
         "name": "non_event",
         "showlegend": false,
         "text": "<I><br>It was no dream<br></I>",
         "type": "scatter",
         "x": [
          542,
          557
         ],
         "y": [
          "ac_1",
          "ac_1"
         ]
        },
        {
         "legendgroup": "stative_event",
         "marker": {
          "color": "#A68500"
         },
         "mode": "lines+markers",
         "name": "stative_event",
         "showlegend": false,
         "text": "<I><br>His room, a proper room for a human being, only<br>somewhat too small, lay quietly between the four well-known walls<br></I>",
         "type": "scatter",
         "x": [
          559,
          672
         ],
         "y": [
          "ac_1",
          "ac_1"
         ]
        },
        {
         "legendgroup": "stative_event",
         "marker": {
          "color": "#A68500"
         },
         "mode": "lines+markers",
         "name": "stative_event",
         "showlegend": false,
         "text": "<I><br>Above the table hung the picture<br></I>",
         "type": "scatter",
         "x": [
          674,
          808
         ],
         "y": [
          "ac_1",
          "ac_1"
         ]
        },
        {
         "legendgroup": "stative_event",
         "marker": {
          "color": "#A68500"
         },
         "mode": "lines+markers",
         "name": "stative_event",
         "showlegend": false,
         "text": "<I><br>on which an unpacked collection of sample cloth goods was<br>spread out<br></I>",
         "type": "scatter",
         "x": [
          691,
          759
         ],
         "y": [
          "ac_1",
          "ac_1"
         ]
        },
        {
         "legendgroup": "stative_event",
         "marker": {
          "color": "#A68500"
         },
         "mode": "lines+markers",
         "name": "stative_event",
         "showlegend": false,
         "text": "<I><br>Samsa was a travelling salesman<br></I>",
         "type": "scatter",
         "x": [
          760,
          791
         ],
         "y": [
          "ac_1",
          "ac_1"
         ]
        },
        {
         "legendgroup": "process_event",
         "marker": {
          "color": "#A64B21"
         },
         "mode": "lines+markers",
         "name": "process_event",
         "showlegend": false,
         "text": "<I><br>which he had cut out of an illustrated magazine a<br>little while ago<br></I>",
         "type": "scatter",
         "x": [
          809,
          875
         ],
         "y": [
          "ac_1",
          "ac_1"
         ]
        },
        {
         "legendgroup": "process_event",
         "marker": {
          "color": "#A64B21"
         },
         "mode": "lines+markers",
         "name": "process_event",
         "showlegend": false,
         "text": "<I><br>and set in a pretty gilt frame<br></I>",
         "type": "scatter",
         "x": [
          876,
          906
         ],
         "y": [
          "ac_1",
          "ac_1"
         ]
        },
        {
         "legendgroup": "stative_event",
         "marker": {
          "color": "#A68500"
         },
         "mode": "lines+markers",
         "name": "stative_event",
         "showlegend": false,
         "text": "<I><br>It was a picture of a woman with a fur<br>hat and a fur boa<br></I>",
         "type": "scatter",
         "x": [
          908,
          964
         ],
         "y": [
          "ac_1",
          "ac_1"
         ]
        },
        {
         "legendgroup": "stative_event",
         "marker": {
          "color": "#A68500"
         },
         "mode": "lines+markers",
         "name": "stative_event",
         "showlegend": false,
         "text": "<I><br>She sat erect there<br></I>",
         "type": "scatter",
         "x": [
          966,
          985
         ],
         "y": [
          "ac_1",
          "ac_1"
         ]
        },
        {
         "legendgroup": "stative_event",
         "marker": {
          "color": "#A68500"
         },
         "mode": "lines+markers",
         "name": "stative_event",
         "showlegend": false,
         "text": "<I><br>lifting up in the direction of the viewer a solid<br>fur muff<br></I>",
         "type": "scatter",
         "x": [
          987,
          1045
         ],
         "y": [
          "ac_1",
          "ac_1"
         ]
        },
        {
         "legendgroup": "stative_event",
         "marker": {
          "color": "#A68500"
         },
         "mode": "lines+markers",
         "name": "stative_event",
         "showlegend": false,
         "text": "<I><br>into which her entire forearm had disappeared<br></I>",
         "type": "scatter",
         "x": [
          1046,
          1091
         ],
         "y": [
          "ac_1",
          "ac_1"
         ]
        },
        {
         "legendgroup": "process_event",
         "marker": {
          "color": "#A64B21"
         },
         "mode": "lines+markers",
         "name": "process_event",
         "showlegend": false,
         "text": "<I><br>One morning, as Gregor Samsa was waking up from anxious<br>dreams<br></I>",
         "type": "scatter",
         "x": [
          0,
          62
         ],
         "y": [
          "ac_2",
          "ac_2"
         ]
        },
        {
         "legendgroup": "change_of_state",
         "marker": {
          "color": "#093658"
         },
         "mode": "lines+markers",
         "name": "change_of_state",
         "showlegend": false,
         "text": "<I><br>he discovered that in bed he had been changed into<br>a monstrous verminous bug<br></I>",
         "type": "scatter",
         "x": [
          64,
          140
         ],
         "y": [
          "ac_2",
          "ac_2"
         ]
        },
        {
         "legendgroup": "stative_event",
         "marker": {
          "color": "#A68500"
         },
         "mode": "lines+markers",
         "name": "stative_event",
         "showlegend": false,
         "text": "<I><br>He lay on his armour-hard back<br></I>",
         "type": "scatter",
         "x": [
          142,
          172
         ],
         "y": [
          "ac_2",
          "ac_2"
         ]
        },
        {
         "legendgroup": "process_event",
         "marker": {
          "color": "#A64B21"
         },
         "mode": "lines+markers",
         "name": "process_event",
         "showlegend": false,
         "text": "<I><br>and saw his brown, arched abdomen divided up into rigid<br>bow-like sections<br></I>",
         "type": "scatter",
         "x": [
          173,
          282
         ],
         "y": [
          "ac_2",
          "ac_2"
         ]
        },
        {
         "legendgroup": "process_event",
         "marker": {
          "color": "#A64B21"
         },
         "mode": "lines+markers",
         "name": "process_event",
         "showlegend": false,
         "text": "<I><br>as he lifted his head up a little<br></I>",
         "type": "scatter",
         "x": [
          182,
          215
         ],
         "y": [
          "ac_2",
          "ac_2"
         ]
        },
        {
         "legendgroup": "stative_event",
         "marker": {
          "color": "#A68500"
         },
         "mode": "lines+markers",
         "name": "stative_event",
         "showlegend": false,
         "text": "<I><br>From this height the blanket, just about ready to slide<br>off completely, could hardly stay in place<br></I>",
         "type": "scatter",
         "x": [
          284,
          382
         ],
         "y": [
          "ac_2",
          "ac_2"
         ]
        },
        {
         "legendgroup": "stative_event",
         "marker": {
          "color": "#A68500"
         },
         "mode": "lines+markers",
         "name": "stative_event",
         "showlegend": false,
         "text": "<I><br>His numerous legs, pitifully thin in comparison to the rest<br>of his circumference, flickered helplessly before his eyes<br></I>",
         "type": "scatter",
         "x": [
          384,
          502
         ],
         "y": [
          "ac_2",
          "ac_2"
         ]
        },
        {
         "legendgroup": "non_event",
         "marker": {
          "color": "#843AF2"
         },
         "mode": "lines+markers",
         "name": "non_event",
         "showlegend": false,
         "text": "<I><br>What's happened to me<br></I>",
         "type": "scatter",
         "x": [
          506,
          527
         ],
         "y": [
          "ac_2",
          "ac_2"
         ]
        },
        {
         "legendgroup": "process_event",
         "marker": {
          "color": "#A64B21"
         },
         "mode": "lines+markers",
         "name": "process_event",
         "showlegend": false,
         "text": "<I><br>he thought<br></I>",
         "type": "scatter",
         "x": [
          530,
          540
         ],
         "y": [
          "ac_2",
          "ac_2"
         ]
        },
        {
         "legendgroup": "non_event",
         "marker": {
          "color": "#843AF2"
         },
         "mode": "lines+markers",
         "name": "non_event",
         "showlegend": false,
         "text": "<I><br>It was no dream<br></I>",
         "type": "scatter",
         "x": [
          542,
          557
         ],
         "y": [
          "ac_2",
          "ac_2"
         ]
        },
        {
         "legendgroup": "stative_event",
         "marker": {
          "color": "#A68500"
         },
         "mode": "lines+markers",
         "name": "stative_event",
         "showlegend": false,
         "text": "<I><br>His room, a proper room for a human being, only<br>somewhat too small, lay quietly between the four well-known walls<br></I>",
         "type": "scatter",
         "x": [
          559,
          672
         ],
         "y": [
          "ac_2",
          "ac_2"
         ]
        },
        {
         "legendgroup": "stative_event",
         "marker": {
          "color": "#A68500"
         },
         "mode": "lines+markers",
         "name": "stative_event",
         "showlegend": false,
         "text": "<I><br>Above the table, on which an unpacked collection of sample<br>cloth goods was spread out hung the picture<br></I>",
         "type": "scatter",
         "x": [
          674,
          808
         ],
         "y": [
          "ac_2",
          "ac_2"
         ]
        },
        {
         "legendgroup": "stative_event",
         "marker": {
          "color": "#A68500"
         },
         "mode": "lines+markers",
         "name": "stative_event",
         "showlegend": false,
         "text": "<I><br>Samsa was a travelling salesman<br></I>",
         "type": "scatter",
         "x": [
          760,
          791
         ],
         "y": [
          "ac_2",
          "ac_2"
         ]
        },
        {
         "legendgroup": "process_event",
         "marker": {
          "color": "#A64B21"
         },
         "mode": "lines+markers",
         "name": "process_event",
         "showlegend": false,
         "text": "<I><br>which he had cut out of an illustrated magazine a<br>little while ago<br></I>",
         "type": "scatter",
         "x": [
          809,
          875
         ],
         "y": [
          "ac_2",
          "ac_2"
         ]
        },
        {
         "legendgroup": "process_event",
         "marker": {
          "color": "#A64B21"
         },
         "mode": "lines+markers",
         "name": "process_event",
         "showlegend": false,
         "text": "<I><br>and set in a pretty gilt frame<br></I>",
         "type": "scatter",
         "x": [
          876,
          906
         ],
         "y": [
          "ac_2",
          "ac_2"
         ]
        },
        {
         "legendgroup": "stative_event",
         "marker": {
          "color": "#A68500"
         },
         "mode": "lines+markers",
         "name": "stative_event",
         "showlegend": false,
         "text": "<I><br>It was a picture of a woman with a fur<br>hat and a fur boa<br></I>",
         "type": "scatter",
         "x": [
          908,
          964
         ],
         "y": [
          "ac_2",
          "ac_2"
         ]
        },
        {
         "legendgroup": "stative_event",
         "marker": {
          "color": "#A68500"
         },
         "mode": "lines+markers",
         "name": "stative_event",
         "showlegend": false,
         "text": "<I><br>She sat erect there<br></I>",
         "type": "scatter",
         "x": [
          966,
          985
         ],
         "y": [
          "ac_2",
          "ac_2"
         ]
        },
        {
         "legendgroup": "stative_event",
         "marker": {
          "color": "#A68500"
         },
         "mode": "lines+markers",
         "name": "stative_event",
         "showlegend": false,
         "text": "<I><br>lifting up in the direction of the viewer a solid<br>fur muff<br></I>",
         "type": "scatter",
         "x": [
          987,
          1045
         ],
         "y": [
          "ac_2",
          "ac_2"
         ]
        },
        {
         "legendgroup": "stative_event",
         "marker": {
          "color": "#A68500"
         },
         "mode": "lines+markers",
         "name": "stative_event",
         "showlegend": false,
         "text": "<I><br>into which her entire forearm had disappeared<br></I>",
         "type": "scatter",
         "x": [
          1046,
          1091
         ],
         "y": [
          "ac_2",
          "ac_2"
         ]
        }
       ],
       "layout": {
        "height": 240,
        "legend": {
         "font": {
          "color": "#5A98A1",
          "size": 10
         },
         "orientation": "h",
         "x": 1,
         "xanchor": "right",
         "y": 1.02,
         "yanchor": "bottom"
        },
        "template": {
         "data": {
          "bar": [
           {
            "error_x": {
             "color": "#2a3f5f"
            },
            "error_y": {
             "color": "#2a3f5f"
            },
            "marker": {
             "line": {
              "color": "white",
              "width": 0.5
             },
             "pattern": {
              "fillmode": "overlay",
              "size": 10,
              "solidity": 0.2
             }
            },
            "type": "bar"
           }
          ],
          "barpolar": [
           {
            "marker": {
             "line": {
              "color": "white",
              "width": 0.5
             },
             "pattern": {
              "fillmode": "overlay",
              "size": 10,
              "solidity": 0.2
             }
            },
            "type": "barpolar"
           }
          ],
          "carpet": [
           {
            "aaxis": {
             "endlinecolor": "#2a3f5f",
             "gridcolor": "#C8D4E3",
             "linecolor": "#C8D4E3",
             "minorgridcolor": "#C8D4E3",
             "startlinecolor": "#2a3f5f"
            },
            "baxis": {
             "endlinecolor": "#2a3f5f",
             "gridcolor": "#C8D4E3",
             "linecolor": "#C8D4E3",
             "minorgridcolor": "#C8D4E3",
             "startlinecolor": "#2a3f5f"
            },
            "type": "carpet"
           }
          ],
          "choropleth": [
           {
            "colorbar": {
             "outlinewidth": 0,
             "ticks": ""
            },
            "type": "choropleth"
           }
          ],
          "contour": [
           {
            "colorbar": {
             "outlinewidth": 0,
             "ticks": ""
            },
            "colorscale": [
             [
              0,
              "#0d0887"
             ],
             [
              0.1111111111111111,
              "#46039f"
             ],
             [
              0.2222222222222222,
              "#7201a8"
             ],
             [
              0.3333333333333333,
              "#9c179e"
             ],
             [
              0.4444444444444444,
              "#bd3786"
             ],
             [
              0.5555555555555556,
              "#d8576b"
             ],
             [
              0.6666666666666666,
              "#ed7953"
             ],
             [
              0.7777777777777778,
              "#fb9f3a"
             ],
             [
              0.8888888888888888,
              "#fdca26"
             ],
             [
              1,
              "#f0f921"
             ]
            ],
            "type": "contour"
           }
          ],
          "contourcarpet": [
           {
            "colorbar": {
             "outlinewidth": 0,
             "ticks": ""
            },
            "type": "contourcarpet"
           }
          ],
          "heatmap": [
           {
            "colorbar": {
             "outlinewidth": 0,
             "ticks": ""
            },
            "colorscale": [
             [
              0,
              "#0d0887"
             ],
             [
              0.1111111111111111,
              "#46039f"
             ],
             [
              0.2222222222222222,
              "#7201a8"
             ],
             [
              0.3333333333333333,
              "#9c179e"
             ],
             [
              0.4444444444444444,
              "#bd3786"
             ],
             [
              0.5555555555555556,
              "#d8576b"
             ],
             [
              0.6666666666666666,
              "#ed7953"
             ],
             [
              0.7777777777777778,
              "#fb9f3a"
             ],
             [
              0.8888888888888888,
              "#fdca26"
             ],
             [
              1,
              "#f0f921"
             ]
            ],
            "type": "heatmap"
           }
          ],
          "histogram": [
           {
            "marker": {
             "pattern": {
              "fillmode": "overlay",
              "size": 10,
              "solidity": 0.2
             }
            },
            "type": "histogram"
           }
          ],
          "histogram2d": [
           {
            "colorbar": {
             "outlinewidth": 0,
             "ticks": ""
            },
            "colorscale": [
             [
              0,
              "#0d0887"
             ],
             [
              0.1111111111111111,
              "#46039f"
             ],
             [
              0.2222222222222222,
              "#7201a8"
             ],
             [
              0.3333333333333333,
              "#9c179e"
             ],
             [
              0.4444444444444444,
              "#bd3786"
             ],
             [
              0.5555555555555556,
              "#d8576b"
             ],
             [
              0.6666666666666666,
              "#ed7953"
             ],
             [
              0.7777777777777778,
              "#fb9f3a"
             ],
             [
              0.8888888888888888,
              "#fdca26"
             ],
             [
              1,
              "#f0f921"
             ]
            ],
            "type": "histogram2d"
           }
          ],
          "histogram2dcontour": [
           {
            "colorbar": {
             "outlinewidth": 0,
             "ticks": ""
            },
            "colorscale": [
             [
              0,
              "#0d0887"
             ],
             [
              0.1111111111111111,
              "#46039f"
             ],
             [
              0.2222222222222222,
              "#7201a8"
             ],
             [
              0.3333333333333333,
              "#9c179e"
             ],
             [
              0.4444444444444444,
              "#bd3786"
             ],
             [
              0.5555555555555556,
              "#d8576b"
             ],
             [
              0.6666666666666666,
              "#ed7953"
             ],
             [
              0.7777777777777778,
              "#fb9f3a"
             ],
             [
              0.8888888888888888,
              "#fdca26"
             ],
             [
              1,
              "#f0f921"
             ]
            ],
            "type": "histogram2dcontour"
           }
          ],
          "mesh3d": [
           {
            "colorbar": {
             "outlinewidth": 0,
             "ticks": ""
            },
            "type": "mesh3d"
           }
          ],
          "parcoords": [
           {
            "line": {
             "colorbar": {
              "outlinewidth": 0,
              "ticks": ""
             }
            },
            "type": "parcoords"
           }
          ],
          "pie": [
           {
            "automargin": true,
            "type": "pie"
           }
          ],
          "scatter": [
           {
            "fillpattern": {
             "fillmode": "overlay",
             "size": 10,
             "solidity": 0.2
            },
            "type": "scatter"
           }
          ],
          "scatter3d": [
           {
            "line": {
             "colorbar": {
              "outlinewidth": 0,
              "ticks": ""
             }
            },
            "marker": {
             "colorbar": {
              "outlinewidth": 0,
              "ticks": ""
             }
            },
            "type": "scatter3d"
           }
          ],
          "scattercarpet": [
           {
            "marker": {
             "colorbar": {
              "outlinewidth": 0,
              "ticks": ""
             }
            },
            "type": "scattercarpet"
           }
          ],
          "scattergeo": [
           {
            "marker": {
             "colorbar": {
              "outlinewidth": 0,
              "ticks": ""
             }
            },
            "type": "scattergeo"
           }
          ],
          "scattergl": [
           {
            "marker": {
             "colorbar": {
              "outlinewidth": 0,
              "ticks": ""
             }
            },
            "type": "scattergl"
           }
          ],
          "scattermap": [
           {
            "marker": {
             "colorbar": {
              "outlinewidth": 0,
              "ticks": ""
             }
            },
            "type": "scattermap"
           }
          ],
          "scattermapbox": [
           {
            "marker": {
             "colorbar": {
              "outlinewidth": 0,
              "ticks": ""
             }
            },
            "type": "scattermapbox"
           }
          ],
          "scatterpolar": [
           {
            "marker": {
             "colorbar": {
              "outlinewidth": 0,
              "ticks": ""
             }
            },
            "type": "scatterpolar"
           }
          ],
          "scatterpolargl": [
           {
            "marker": {
             "colorbar": {
              "outlinewidth": 0,
              "ticks": ""
             }
            },
            "type": "scatterpolargl"
           }
          ],
          "scatterternary": [
           {
            "marker": {
             "colorbar": {
              "outlinewidth": 0,
              "ticks": ""
             }
            },
            "type": "scatterternary"
           }
          ],
          "surface": [
           {
            "colorbar": {
             "outlinewidth": 0,
             "ticks": ""
            },
            "colorscale": [
             [
              0,
              "#0d0887"
             ],
             [
              0.1111111111111111,
              "#46039f"
             ],
             [
              0.2222222222222222,
              "#7201a8"
             ],
             [
              0.3333333333333333,
              "#9c179e"
             ],
             [
              0.4444444444444444,
              "#bd3786"
             ],
             [
              0.5555555555555556,
              "#d8576b"
             ],
             [
              0.6666666666666666,
              "#ed7953"
             ],
             [
              0.7777777777777778,
              "#fb9f3a"
             ],
             [
              0.8888888888888888,
              "#fdca26"
             ],
             [
              1,
              "#f0f921"
             ]
            ],
            "type": "surface"
           }
          ],
          "table": [
           {
            "cells": {
             "fill": {
              "color": "#EBF0F8"
             },
             "line": {
              "color": "white"
             }
            },
            "header": {
             "fill": {
              "color": "#C8D4E3"
             },
             "line": {
              "color": "white"
             }
            },
            "type": "table"
           }
          ]
         },
         "layout": {
          "annotationdefaults": {
           "arrowcolor": "#2a3f5f",
           "arrowhead": 0,
           "arrowwidth": 1
          },
          "autotypenumbers": "strict",
          "coloraxis": {
           "colorbar": {
            "outlinewidth": 0,
            "ticks": ""
           }
          },
          "colorscale": {
           "diverging": [
            [
             0,
             "#8e0152"
            ],
            [
             0.1,
             "#c51b7d"
            ],
            [
             0.2,
             "#de77ae"
            ],
            [
             0.3,
             "#f1b6da"
            ],
            [
             0.4,
             "#fde0ef"
            ],
            [
             0.5,
             "#f7f7f7"
            ],
            [
             0.6,
             "#e6f5d0"
            ],
            [
             0.7,
             "#b8e186"
            ],
            [
             0.8,
             "#7fbc41"
            ],
            [
             0.9,
             "#4d9221"
            ],
            [
             1,
             "#276419"
            ]
           ],
           "sequential": [
            [
             0,
             "#0d0887"
            ],
            [
             0.1111111111111111,
             "#46039f"
            ],
            [
             0.2222222222222222,
             "#7201a8"
            ],
            [
             0.3333333333333333,
             "#9c179e"
            ],
            [
             0.4444444444444444,
             "#bd3786"
            ],
            [
             0.5555555555555556,
             "#d8576b"
            ],
            [
             0.6666666666666666,
             "#ed7953"
            ],
            [
             0.7777777777777778,
             "#fb9f3a"
            ],
            [
             0.8888888888888888,
             "#fdca26"
            ],
            [
             1,
             "#f0f921"
            ]
           ],
           "sequentialminus": [
            [
             0,
             "#0d0887"
            ],
            [
             0.1111111111111111,
             "#46039f"
            ],
            [
             0.2222222222222222,
             "#7201a8"
            ],
            [
             0.3333333333333333,
             "#9c179e"
            ],
            [
             0.4444444444444444,
             "#bd3786"
            ],
            [
             0.5555555555555556,
             "#d8576b"
            ],
            [
             0.6666666666666666,
             "#ed7953"
            ],
            [
             0.7777777777777778,
             "#fb9f3a"
            ],
            [
             0.8888888888888888,
             "#fdca26"
            ],
            [
             1,
             "#f0f921"
            ]
           ]
          },
          "colorway": [
           "#636efa",
           "#EF553B",
           "#00cc96",
           "#ab63fa",
           "#FFA15A",
           "#19d3f3",
           "#FF6692",
           "#B6E880",
           "#FF97FF",
           "#FECB52"
          ],
          "font": {
           "color": "#2a3f5f"
          },
          "geo": {
           "bgcolor": "white",
           "lakecolor": "white",
           "landcolor": "white",
           "showlakes": true,
           "showland": true,
           "subunitcolor": "#C8D4E3"
          },
          "hoverlabel": {
           "align": "left"
          },
          "hovermode": "closest",
          "mapbox": {
           "style": "light"
          },
          "paper_bgcolor": "white",
          "plot_bgcolor": "white",
          "polar": {
           "angularaxis": {
            "gridcolor": "#EBF0F8",
            "linecolor": "#EBF0F8",
            "ticks": ""
           },
           "bgcolor": "white",
           "radialaxis": {
            "gridcolor": "#EBF0F8",
            "linecolor": "#EBF0F8",
            "ticks": ""
           }
          },
          "scene": {
           "xaxis": {
            "backgroundcolor": "white",
            "gridcolor": "#DFE8F3",
            "gridwidth": 2,
            "linecolor": "#EBF0F8",
            "showbackground": true,
            "ticks": "",
            "zerolinecolor": "#EBF0F8"
           },
           "yaxis": {
            "backgroundcolor": "white",
            "gridcolor": "#DFE8F3",
            "gridwidth": 2,
            "linecolor": "#EBF0F8",
            "showbackground": true,
            "ticks": "",
            "zerolinecolor": "#EBF0F8"
           },
           "zaxis": {
            "backgroundcolor": "white",
            "gridcolor": "#DFE8F3",
            "gridwidth": 2,
            "linecolor": "#EBF0F8",
            "showbackground": true,
            "ticks": "",
            "zerolinecolor": "#EBF0F8"
           }
          },
          "shapedefaults": {
           "line": {
            "color": "#2a3f5f"
           }
          },
          "ternary": {
           "aaxis": {
            "gridcolor": "#DFE8F3",
            "linecolor": "#A2B1C6",
            "ticks": ""
           },
           "baxis": {
            "gridcolor": "#DFE8F3",
            "linecolor": "#A2B1C6",
            "ticks": ""
           },
           "bgcolor": "white",
           "caxis": {
            "gridcolor": "#DFE8F3",
            "linecolor": "#A2B1C6",
            "ticks": ""
           }
          },
          "title": {
           "x": 0.05
          },
          "xaxis": {
           "automargin": true,
           "gridcolor": "#EBF0F8",
           "linecolor": "#EBF0F8",
           "ticks": "",
           "title": {
            "standoff": 15
           },
           "zerolinecolor": "#EBF0F8",
           "zerolinewidth": 2
          },
          "yaxis": {
           "automargin": true,
           "gridcolor": "#EBF0F8",
           "linecolor": "#EBF0F8",
           "ticks": "",
           "title": {
            "standoff": 15
           },
           "zerolinecolor": "#EBF0F8",
           "zerolinewidth": 2
          }
         }
        },
        "title": {
         "text": "Annotation Comparison by Text Span"
        }
       }
      }
     },
     "metadata": {},
     "output_type": "display_data"
    }
   ],
   "source": [
    "# compare the annotation collections by start point\n",
    "my_project.compare_annotation_collections(\n",
    "    annotation_collections=['ac_1', 'ac_2']\n",
    ")"
   ]
  },
  {
   "cell_type": "markdown",
   "id": "0e44d04a",
   "metadata": {},
   "source": [
    "As the line plot shows, every annotation in annotation collection 'ac_1' has a matching annotation in annotation collection 'ac_2'.\n",
    "\n",
    "Now, let's compute the IAA for all matching annotations:"
   ]
  },
  {
   "cell_type": "code",
   "execution_count": 23,
   "id": "adb2e1f2",
   "metadata": {},
   "outputs": [
    {
     "name": "stdout",
     "output_type": "stream",
     "text": [
      "\n",
      "==============================================\n",
      "==============================================\n",
      "Finished search for matching annotations in:\n",
      "- ac_1\n",
      "- ac_2\n",
      "20 annotation(s) could be matched.\n",
      "Average overlap is 97.54%.\n",
      "Couldn't match 0 annotation(s) in the first annotation collection.\n",
      "\n",
      "[(Annotation(Author: MVauth, Tag: Tag(Name: change_of_state, Properties: [Property(Name: representation_type), Default Values: ['narrator_speech', 'character_speech', 'thought_representation'])]), Properties: {'representation_type': ['narrator_speech']}, Start Point: 0, End Point: 62, Text: One morning, as Gregor Samsa was waking up from anxious dreams, ), Annotation(Author: mvgoogle, Tag: Tag(Name: process_event, Properties: [Property(Name: representation_type), Default Values: ['narrator_speech', 'character_speech', 'thought_representation'])]), Properties: {'representation_type': ['narrator_speech']}, Start Point: 0, End Point: 62, Text: One morning, as Gregor Samsa was waking up from anxious dreams, )), (Annotation(Author: MVauth, Tag: Tag(Name: process_event, Properties: [Property(Name: representation_type), Default Values: ['narrator_speech', 'character_speech', 'thought_representation'])]), Properties: {'representation_type': ['narrator_speech']}, Start Point: 64, End Point: 140, Text: he discovered that in bed he  had been changed into a monstrous verminous bug, ), Annotation(Author: mvgoogle, Tag: Tag(Name: change_of_state, Properties: [Property(Name: representation_type), Default Values: ['narrator_speech', 'character_speech', 'thought_representation'])]), Properties: {'representation_type': ['narrator_speech']}, Start Point: 64, End Point: 140, Text: he discovered that in  bed he had been changed into a monstrous verminous bug, )), (Annotation(Author: MVauth, Tag: Tag(Name: stative_event, Properties: [Property(Name: representation_type), Default Values: ['narrator_speech', 'character_speech', 'thought_representation'])]), Properties: {'representation_type': ['narrator_speech']}, Start Point: 142, End Point: 172, Text: He lay on his armour-hard back, ), Annotation(Author: mvgoogle, Tag: Tag(Name: stative_event, Properties: [Property(Name: representation_type), Default Values: ['narrator_speech', 'character_speech', 'thought_representation'])]), Properties: {'representation_type': ['narrator_speech']}, Start Point: 142, End Point: 172, Text: He lay on his armour-hard back, )), (Annotation(Author: MVauth, Tag: Tag(Name: process_event, Properties: [Property(Name: representation_type), Default Values: ['narrator_speech', 'character_speech', 'thought_representation'])]), Properties: {'representation_type': ['narrator_speech']}, Start Point: 173, End Point: 282, Text: and saw his brown, arched abdomen divided up into rigid bow-like  sections, ), Annotation(Author: mvgoogle, Tag: Tag(Name: process_event, Properties: [Property(Name: representation_type), Default Values: ['narrator_speech', 'character_speech', 'thought_representation'])]), Properties: {'representation_type': ['narrator_speech']}, Start Point: 173, End Point: 282, Text: and saw his brown, arched abdomen divided up into  rigid bow-like sections, )), (Annotation(Author: MVauth, Tag: Tag(Name: process_event, Properties: [Property(Name: representation_type), Default Values: ['narrator_speech', 'character_speech', 'thought_representation'])]), Properties: {'representation_type': ['narrator_speech']}, Start Point: 182, End Point: 215, Text: as  he lifted his head up a little, ), Annotation(Author: mvgoogle, Tag: Tag(Name: process_event, Properties: [Property(Name: representation_type), Default Values: ['narrator_speech', 'character_speech', 'thought_representation'])]), Properties: {'representation_type': ['narrator_speech']}, Start Point: 182, End Point: 215, Text: as he lifted his head up a little, )), (Annotation(Author: MVauth, Tag: Tag(Name: stative_event, Properties: [Property(Name: representation_type), Default Values: ['narrator_speech', 'character_speech', 'thought_representation'])]), Properties: {'representation_type': ['narrator_speech']}, Start Point: 284, End Point: 382, Text: From this height the blanket, just about ready to slide off completely, could  hardly stay in place, ), Annotation(Author: mvgoogle, Tag: Tag(Name: stative_event, Properties: [Property(Name: representation_type), Default Values: ['narrator_speech', 'character_speech', 'thought_representation'])]), Properties: {'representation_type': ['narrator_speech']}, Start Point: 284, End Point: 382, Text: From this height the blanket, just about ready to slide off  completely, could hardly stay in place, )), (Annotation(Author: MVauth, Tag: Tag(Name: process_event, Properties: [Property(Name: representation_type), Default Values: ['narrator_speech', 'character_speech', 'thought_representation'])]), Properties: {'representation_type': ['narrator_speech']}, Start Point: 384, End Point: 502, Text: His numerous legs, pitifully thin in comparison to the rest of his  circumference, flickered helplessly before his eyes, ), Annotation(Author: mvgoogle, Tag: Tag(Name: stative_event, Properties: [Property(Name: representation_type), Default Values: ['narrator_speech', 'character_speech', 'thought_representation'])]), Properties: {'representation_type': ['narrator_speech']}, Start Point: 384, End Point: 502, Text: His numerous legs, pitifully thin in comparison  to the rest of his circumference, flickered helplessly before his eyes, )), (Annotation(Author: MVauth, Tag: Tag(Name: non_event, Properties: [Property(Name: representation_type), Default Values: ['narrator_speech', 'character_speech', 'thought_representation'])]), Properties: {'representation_type': ['character_speech']}, Start Point: 506, End Point: 527, Text: What's happened to me, ), Annotation(Author: mvgoogle, Tag: Tag(Name: non_event, Properties: [Property(Name: representation_type), Default Values: ['narrator_speech', 'character_speech', 'thought_representation'])]), Properties: {'representation_type': ['thought_representation']}, Start Point: 506, End Point: 527, Text: What's happened to me, )), (Annotation(Author: MVauth, Tag: Tag(Name: process_event, Properties: [Property(Name: representation_type), Default Values: ['narrator_speech', 'character_speech', 'thought_representation'])]), Properties: {'representation_type': ['narrator_speech']}, Start Point: 530, End Point: 540, Text: he thought, ), Annotation(Author: mvgoogle, Tag: Tag(Name: process_event, Properties: [Property(Name: representation_type), Default Values: ['narrator_speech', 'character_speech', 'thought_representation'])]), Properties: {'representation_type': ['narrator_speech']}, Start Point: 530, End Point: 540, Text: he thought, )), (Annotation(Author: MVauth, Tag: Tag(Name: non_event, Properties: [Property(Name: representation_type), Default Values: ['narrator_speech', 'character_speech', 'thought_representation'])]), Properties: {'representation_type': ['narrator_speech', 'thought_representation']}, Start Point: 542, End Point: 557, Text: It was no dream, ), Annotation(Author: mvgoogle, Tag: Tag(Name: non_event, Properties: [Property(Name: representation_type), Default Values: ['narrator_speech', 'character_speech', 'thought_representation'])]), Properties: {'representation_type': ['narrator_speech']}, Start Point: 542, End Point: 557, Text: It was no dream, )), (Annotation(Author: MVauth, Tag: Tag(Name: stative_event, Properties: [Property(Name: representation_type), Default Values: ['narrator_speech', 'character_speech', 'thought_representation'])]), Properties: {'representation_type': ['narrator_speech']}, Start Point: 559, End Point: 672, Text: His room, a proper room for a human  being, only somewhat too small, lay quietly between the four well-known walls, ), Annotation(Author: mvgoogle, Tag: Tag(Name: stative_event, Properties: [Property(Name: representation_type), Default Values: ['narrator_speech', 'character_speech', 'thought_representation'])]), Properties: {'representation_type': ['narrator_speech']}, Start Point: 559, End Point: 672, Text: His room, a proper room for a  human being, only somewhat too small, lay quietly between the four well-known walls, )), (Annotation(Author: MVauth, Tag: Tag(Name: stative_event, Properties: [Property(Name: representation_type), Default Values: ['narrator_speech', 'character_speech', 'thought_representation'])]), Properties: {'representation_type': ['narrator_speech']}, Start Point: 674, End Point: 808, Text: Above the  table hung the picture, ), Annotation(Author: mvgoogle, Tag: Tag(Name: stative_event, Properties: [Property(Name: representation_type), Default Values: ['narrator_speech', 'character_speech', 'thought_representation'])]), Properties: {'representation_type': ['narrator_speech']}, Start Point: 674, End Point: 808, Text: Above the table, on which an unpacked collection of sample cloth goods was spread  out hung the picture, )), (Annotation(Author: MVauth, Tag: Tag(Name: stative_event, Properties: [Property(Name: representation_type), Default Values: ['narrator_speech', 'character_speech', 'thought_representation'])]), Properties: {'representation_type': ['narrator_speech']}, Start Point: 691, End Point: 759, Text: on which an unpacked collection of sample cloth goods was spread out, ), Annotation(Author: mvgoogle, Tag: Tag(Name: stative_event, Properties: [Property(Name: representation_type), Default Values: ['narrator_speech', 'character_speech', 'thought_representation'])]), Properties: {'representation_type': ['narrator_speech']}, Start Point: 674, End Point: 808, Text: Above the table, on which an unpacked collection of sample cloth goods was spread  out hung the picture, )), (Annotation(Author: MVauth, Tag: Tag(Name: stative_event, Properties: [Property(Name: representation_type), Default Values: ['narrator_speech', 'character_speech', 'thought_representation'])]), Properties: {'representation_type': ['narrator_speech']}, Start Point: 760, End Point: 791, Text: Samsa was a  travelling salesman, ), Annotation(Author: mvgoogle, Tag: Tag(Name: stative_event, Properties: [Property(Name: representation_type), Default Values: ['narrator_speech', 'character_speech', 'thought_representation'])]), Properties: {'representation_type': ['narrator_speech']}, Start Point: 760, End Point: 791, Text: Samsa was a travelling salesman, )), (Annotation(Author: MVauth, Tag: Tag(Name: process_event, Properties: [Property(Name: representation_type), Default Values: ['narrator_speech', 'character_speech', 'thought_representation'])]), Properties: {'representation_type': ['narrator_speech']}, Start Point: 809, End Point: 875, Text: which he had cut out of an illustrated magazine a  little while ago, ), Annotation(Author: mvgoogle, Tag: Tag(Name: process_event, Properties: [Property(Name: representation_type), Default Values: ['narrator_speech', 'character_speech', 'thought_representation'])]), Properties: {'representation_type': ['narrator_speech']}, Start Point: 809, End Point: 875, Text: which he had cut out of an  illustrated magazine a little while ago, )), (Annotation(Author: MVauth, Tag: Tag(Name: process_event, Properties: [Property(Name: representation_type), Default Values: ['narrator_speech', 'character_speech', 'thought_representation'])]), Properties: {'representation_type': ['narrator_speech']}, Start Point: 876, End Point: 906, Text: and set in a pretty gilt frame, ), Annotation(Author: mvgoogle, Tag: Tag(Name: process_event, Properties: [Property(Name: representation_type), Default Values: ['narrator_speech', 'character_speech', 'thought_representation'])]), Properties: {'representation_type': ['narrator_speech']}, Start Point: 876, End Point: 906, Text: and set in a pretty gilt frame, )), (Annotation(Author: MVauth, Tag: Tag(Name: stative_event, Properties: [Property(Name: representation_type), Default Values: ['narrator_speech', 'character_speech', 'thought_representation'])]), Properties: {'representation_type': ['narrator_speech']}, Start Point: 908, End Point: 964, Text: It was a picture of a woman with a fur hat  and a fur boa, ), Annotation(Author: mvgoogle, Tag: Tag(Name: stative_event, Properties: [Property(Name: representation_type), Default Values: ['narrator_speech', 'character_speech', 'thought_representation'])]), Properties: {'representation_type': ['narrator_speech']}, Start Point: 908, End Point: 964, Text: It was a  picture of a woman with a fur hat and a fur boa, )), (Annotation(Author: MVauth, Tag: Tag(Name: stative_event, Properties: [Property(Name: representation_type), Default Values: ['narrator_speech', 'character_speech', 'thought_representation'])]), Properties: {'representation_type': ['narrator_speech']}, Start Point: 966, End Point: 985, Text: She sat erect there, ), Annotation(Author: mvgoogle, Tag: Tag(Name: stative_event, Properties: [Property(Name: representation_type), Default Values: ['narrator_speech', 'character_speech', 'thought_representation'])]), Properties: {'representation_type': ['narrator_speech']}, Start Point: 966, End Point: 985, Text: She sat erect there, )), (Annotation(Author: MVauth, Tag: Tag(Name: stative_event, Properties: [Property(Name: representation_type), Default Values: ['narrator_speech', 'character_speech', 'thought_representation'])]), Properties: {'representation_type': ['narrator_speech']}, Start Point: 987, End Point: 1045, Text: lifting up in the direction of the viewer a solid fur  muff, ), Annotation(Author: mvgoogle, Tag: Tag(Name: stative_event, Properties: [Property(Name: representation_type), Default Values: ['narrator_speech', 'character_speech', 'thought_representation'])]), Properties: {'representation_type': ['narrator_speech']}, Start Point: 987, End Point: 1045, Text: lifting up in the  direction of the viewer a solid fur muff, )), (Annotation(Author: MVauth, Tag: Tag(Name: stative_event, Properties: [Property(Name: representation_type), Default Values: ['narrator_speech', 'character_speech', 'thought_representation'])]), Properties: {'representation_type': ['narrator_speech']}, Start Point: 1046, End Point: 1091, Text: into which her entire forearm had disappeared, ), Annotation(Author: mvgoogle, Tag: Tag(Name: stative_event, Properties: [Property(Name: representation_type), Default Values: ['narrator_speech', 'character_speech', 'thought_representation'])]), Properties: {'representation_type': ['narrator_speech']}, Start Point: 1046, End Point: 1091, Text: into which her entire forearm had  disappeared, ))]\n",
      "\n",
      "Results for \"tag\"\n",
      "-----------------\n",
      "Scott's Pi:          0.7525773195876289\n",
      "Cohen's Kappa:       0.7530864197530864\n",
      "Krippendorf's Alpha: 0.7587628865979381\n",
      "===============================================\n",
      "\n",
      "Confusion Matrix\n",
      "                    -------\n",
      "\n"
     ]
    },
    {
     "data": {
      "text/html": [
       "<div>\n",
       "<style scoped>\n",
       "    .dataframe tbody tr th:only-of-type {\n",
       "        vertical-align: middle;\n",
       "    }\n",
       "\n",
       "    .dataframe tbody tr th {\n",
       "        vertical-align: top;\n",
       "    }\n",
       "\n",
       "    .dataframe thead th {\n",
       "        text-align: right;\n",
       "    }\n",
       "</style>\n",
       "<table border=\"1\" class=\"dataframe\">\n",
       "  <thead>\n",
       "    <tr style=\"text-align: right;\">\n",
       "      <th></th>\n",
       "      <th>change_of_state</th>\n",
       "      <th>process_event</th>\n",
       "      <th>stative_event</th>\n",
       "      <th>non_event</th>\n",
       "    </tr>\n",
       "  </thead>\n",
       "  <tbody>\n",
       "    <tr>\n",
       "      <th>change_of_state</th>\n",
       "      <td>0</td>\n",
       "      <td>1</td>\n",
       "      <td>0</td>\n",
       "      <td>0</td>\n",
       "    </tr>\n",
       "    <tr>\n",
       "      <th>process_event</th>\n",
       "      <td>1</td>\n",
       "      <td>5</td>\n",
       "      <td>0</td>\n",
       "      <td>0</td>\n",
       "    </tr>\n",
       "    <tr>\n",
       "      <th>stative_event</th>\n",
       "      <td>0</td>\n",
       "      <td>1</td>\n",
       "      <td>10</td>\n",
       "      <td>0</td>\n",
       "    </tr>\n",
       "    <tr>\n",
       "      <th>non_event</th>\n",
       "      <td>0</td>\n",
       "      <td>0</td>\n",
       "      <td>0</td>\n",
       "      <td>2</td>\n",
       "    </tr>\n",
       "  </tbody>\n",
       "</table>\n",
       "</div>"
      ],
      "text/plain": [
       "                 change_of_state  process_event  stative_event  non_event\n",
       "change_of_state                0              1              0          0\n",
       "process_event                  1              5              0          0\n",
       "stative_event                  0              1             10          0\n",
       "non_event                      0              0              0          2"
      ]
     },
     "execution_count": 23,
     "metadata": {},
     "output_type": "execute_result"
    }
   ],
   "source": [
    "my_project.get_iaa(\n",
    "    ac1_name_or_inst='ac_1',\n",
    "    ac2_name_or_inst='ac_2'\n",
    ")"
   ]
  },
  {
   "cell_type": "markdown",
   "id": "cefbba6b",
   "metadata": {},
   "source": [
    "The get_iaa method not only returns 3 different agreement scores, but also reports the number of annotation pairs considered when computing the IAA scores and the average overlap of the annotation pairs. Additionally, the method returns a confusion matrix to give an insight into the relation between the tags. As you can see in the matrix, in 2 cases an annotation with the tag 'non_event' in annotation collection 1 has a best match in annotation collection 2 with the same tag. Compare this with the line plot above."
   ]
  },
  {
   "cell_type": "markdown",
   "id": "8d419d5b",
   "metadata": {},
   "source": [
    "### Filter by tags\n",
    "\n",
    "There may occur cases in which you don't want to include all annotations in the computing of the IAA scores. In those cases just use the tag_filter parameter, which expects a list of tag names."
   ]
  },
  {
   "cell_type": "code",
   "execution_count": 24,
   "id": "6202efd0",
   "metadata": {},
   "outputs": [
    {
     "name": "stdout",
     "output_type": "stream",
     "text": [
      "\n",
      "==============================================\n",
      "==============================================\n",
      "Finished search for matching annotations in:\n",
      "- ac_1\n",
      "- ac_2\n",
      "7 annotation(s) could be matched.\n",
      "Average overlap is 100.0%.\n",
      "Couldn't match 0 annotation(s) in the first annotation collection.\n",
      "\n",
      "[(Annotation(Author: MVauth, Tag: Tag(Name: process_event, Properties: [Property(Name: representation_type), Default Values: ['narrator_speech', 'character_speech', 'thought_representation'])]), Properties: {'representation_type': ['narrator_speech']}, Start Point: 64, End Point: 140, Text: he discovered that in bed he  had been changed into a monstrous verminous bug, ), Annotation(Author: mvgoogle, Tag: Tag(Name: change_of_state, Properties: [Property(Name: representation_type), Default Values: ['narrator_speech', 'character_speech', 'thought_representation'])]), Properties: {'representation_type': ['narrator_speech']}, Start Point: 64, End Point: 140, Text: he discovered that in  bed he had been changed into a monstrous verminous bug, )), (Annotation(Author: MVauth, Tag: Tag(Name: process_event, Properties: [Property(Name: representation_type), Default Values: ['narrator_speech', 'character_speech', 'thought_representation'])]), Properties: {'representation_type': ['narrator_speech']}, Start Point: 173, End Point: 282, Text: and saw his brown, arched abdomen divided up into rigid bow-like  sections, ), Annotation(Author: mvgoogle, Tag: Tag(Name: process_event, Properties: [Property(Name: representation_type), Default Values: ['narrator_speech', 'character_speech', 'thought_representation'])]), Properties: {'representation_type': ['narrator_speech']}, Start Point: 173, End Point: 282, Text: and saw his brown, arched abdomen divided up into  rigid bow-like sections, )), (Annotation(Author: MVauth, Tag: Tag(Name: process_event, Properties: [Property(Name: representation_type), Default Values: ['narrator_speech', 'character_speech', 'thought_representation'])]), Properties: {'representation_type': ['narrator_speech']}, Start Point: 182, End Point: 215, Text: as  he lifted his head up a little, ), Annotation(Author: mvgoogle, Tag: Tag(Name: process_event, Properties: [Property(Name: representation_type), Default Values: ['narrator_speech', 'character_speech', 'thought_representation'])]), Properties: {'representation_type': ['narrator_speech']}, Start Point: 182, End Point: 215, Text: as he lifted his head up a little, )), (Annotation(Author: MVauth, Tag: Tag(Name: process_event, Properties: [Property(Name: representation_type), Default Values: ['narrator_speech', 'character_speech', 'thought_representation'])]), Properties: {'representation_type': ['narrator_speech']}, Start Point: 384, End Point: 502, Text: His numerous legs, pitifully thin in comparison to the rest of his  circumference, flickered helplessly before his eyes, ), Annotation(Author: mvgoogle, Tag: Tag(Name: stative_event, Properties: [Property(Name: representation_type), Default Values: ['narrator_speech', 'character_speech', 'thought_representation'])]), Properties: {'representation_type': ['narrator_speech']}, Start Point: 384, End Point: 502, Text: His numerous legs, pitifully thin in comparison  to the rest of his circumference, flickered helplessly before his eyes, )), (Annotation(Author: MVauth, Tag: Tag(Name: process_event, Properties: [Property(Name: representation_type), Default Values: ['narrator_speech', 'character_speech', 'thought_representation'])]), Properties: {'representation_type': ['narrator_speech']}, Start Point: 530, End Point: 540, Text: he thought, ), Annotation(Author: mvgoogle, Tag: Tag(Name: process_event, Properties: [Property(Name: representation_type), Default Values: ['narrator_speech', 'character_speech', 'thought_representation'])]), Properties: {'representation_type': ['narrator_speech']}, Start Point: 530, End Point: 540, Text: he thought, )), (Annotation(Author: MVauth, Tag: Tag(Name: process_event, Properties: [Property(Name: representation_type), Default Values: ['narrator_speech', 'character_speech', 'thought_representation'])]), Properties: {'representation_type': ['narrator_speech']}, Start Point: 809, End Point: 875, Text: which he had cut out of an illustrated magazine a  little while ago, ), Annotation(Author: mvgoogle, Tag: Tag(Name: process_event, Properties: [Property(Name: representation_type), Default Values: ['narrator_speech', 'character_speech', 'thought_representation'])]), Properties: {'representation_type': ['narrator_speech']}, Start Point: 809, End Point: 875, Text: which he had cut out of an  illustrated magazine a little while ago, )), (Annotation(Author: MVauth, Tag: Tag(Name: process_event, Properties: [Property(Name: representation_type), Default Values: ['narrator_speech', 'character_speech', 'thought_representation'])]), Properties: {'representation_type': ['narrator_speech']}, Start Point: 876, End Point: 906, Text: and set in a pretty gilt frame, ), Annotation(Author: mvgoogle, Tag: Tag(Name: process_event, Properties: [Property(Name: representation_type), Default Values: ['narrator_speech', 'character_speech', 'thought_representation'])]), Properties: {'representation_type': ['narrator_speech']}, Start Point: 876, End Point: 906, Text: and set in a pretty gilt frame, ))]\n",
      "\n",
      "Results for \"tag\"\n",
      "-----------------\n",
      "Scott's Pi:          -0.12000000000000016\n",
      "Cohen's Kappa:       0.0\n",
      "Krippendorf's Alpha: -0.039999999999999813\n",
      "===============================================\n",
      "\n",
      "Confusion Matrix\n",
      "                    -------\n",
      "\n"
     ]
    },
    {
     "data": {
      "text/html": [
       "<div>\n",
       "<style scoped>\n",
       "    .dataframe tbody tr th:only-of-type {\n",
       "        vertical-align: middle;\n",
       "    }\n",
       "\n",
       "    .dataframe tbody tr th {\n",
       "        vertical-align: top;\n",
       "    }\n",
       "\n",
       "    .dataframe thead th {\n",
       "        text-align: right;\n",
       "    }\n",
       "</style>\n",
       "<table border=\"1\" class=\"dataframe\">\n",
       "  <thead>\n",
       "    <tr style=\"text-align: right;\">\n",
       "      <th></th>\n",
       "      <th>change_of_state</th>\n",
       "      <th>process_event</th>\n",
       "      <th>stative_event</th>\n",
       "    </tr>\n",
       "  </thead>\n",
       "  <tbody>\n",
       "    <tr>\n",
       "      <th>change_of_state</th>\n",
       "      <td>0</td>\n",
       "      <td>1</td>\n",
       "      <td>0</td>\n",
       "    </tr>\n",
       "    <tr>\n",
       "      <th>process_event</th>\n",
       "      <td>0</td>\n",
       "      <td>5</td>\n",
       "      <td>0</td>\n",
       "    </tr>\n",
       "    <tr>\n",
       "      <th>stative_event</th>\n",
       "      <td>0</td>\n",
       "      <td>1</td>\n",
       "      <td>0</td>\n",
       "    </tr>\n",
       "  </tbody>\n",
       "</table>\n",
       "</div>"
      ],
      "text/plain": [
       "                 change_of_state  process_event  stative_event\n",
       "change_of_state                0              1              0\n",
       "process_event                  0              5              0\n",
       "stative_event                  0              1              0"
      ]
     },
     "execution_count": 24,
     "metadata": {},
     "output_type": "execute_result"
    }
   ],
   "source": [
    "my_project.get_iaa(\n",
    "    ac1_name_or_inst='ac_1',\n",
    "    ac2_name_or_inst='ac_2',\n",
    "    tag_filter=['process_event']\n",
    ")"
   ]
  },
  {
   "cell_type": "markdown",
   "id": "569fbf62",
   "metadata": {},
   "source": [
    "### Compare annotation properties\n",
    "\n",
    "The tag is only one level of CATMA annotations. If you want to compare annotations by their properties this is possible too. In the demo project the annotations have the property 'representation_type' to evaluate if a speech or mental event is referenced in the text:"
   ]
  },
  {
   "cell_type": "code",
   "execution_count": 25,
   "id": "95b9d9ec",
   "metadata": {},
   "outputs": [
    {
     "data": {
      "application/vnd.plotly.v1+json": {
       "config": {
        "plotlyServerURL": "https://plot.ly"
       },
       "data": [
        {
         "legendgroup": "narrator_speech",
         "marker": {
          "color": "#093658"
         },
         "mode": "lines+markers",
         "name": "narrator_speech",
         "showlegend": true,
         "text": "<I><br>One morning, as Gregor Samsa was waking up from anxious<br>dreams<br></I>",
         "type": "scatter",
         "x": [
          0,
          62
         ],
         "y": [
          "ac_1",
          "ac_1"
         ]
        },
        {
         "legendgroup": "narrator_speech",
         "marker": {
          "color": "#093658"
         },
         "mode": "lines+markers",
         "name": "narrator_speech",
         "showlegend": false,
         "text": "<I><br>he discovered that in bed he had been changed into<br>a monstrous verminous bug<br></I>",
         "type": "scatter",
         "x": [
          64,
          140
         ],
         "y": [
          "ac_1",
          "ac_1"
         ]
        },
        {
         "legendgroup": "narrator_speech",
         "marker": {
          "color": "#093658"
         },
         "mode": "lines+markers",
         "name": "narrator_speech",
         "showlegend": false,
         "text": "<I><br>He lay on his armour-hard back<br></I>",
         "type": "scatter",
         "x": [
          142,
          172
         ],
         "y": [
          "ac_1",
          "ac_1"
         ]
        },
        {
         "legendgroup": "narrator_speech",
         "marker": {
          "color": "#093658"
         },
         "mode": "lines+markers",
         "name": "narrator_speech",
         "showlegend": false,
         "text": "<I><br>and saw his brown, arched abdomen divided up into rigid<br>bow-like sections<br></I>",
         "type": "scatter",
         "x": [
          173,
          282
         ],
         "y": [
          "ac_1",
          "ac_1"
         ]
        },
        {
         "legendgroup": "narrator_speech",
         "marker": {
          "color": "#093658"
         },
         "mode": "lines+markers",
         "name": "narrator_speech",
         "showlegend": false,
         "text": "<I><br>as he lifted his head up a little<br></I>",
         "type": "scatter",
         "x": [
          182,
          215
         ],
         "y": [
          "ac_1",
          "ac_1"
         ]
        },
        {
         "legendgroup": "narrator_speech",
         "marker": {
          "color": "#093658"
         },
         "mode": "lines+markers",
         "name": "narrator_speech",
         "showlegend": false,
         "text": "<I><br>From this height the blanket, just about ready to slide<br>off completely, could hardly stay in place<br></I>",
         "type": "scatter",
         "x": [
          284,
          382
         ],
         "y": [
          "ac_1",
          "ac_1"
         ]
        },
        {
         "legendgroup": "narrator_speech",
         "marker": {
          "color": "#093658"
         },
         "mode": "lines+markers",
         "name": "narrator_speech",
         "showlegend": false,
         "text": "<I><br>His numerous legs, pitifully thin in comparison to the rest<br>of his circumference, flickered helplessly before his eyes<br></I>",
         "type": "scatter",
         "x": [
          384,
          502
         ],
         "y": [
          "ac_1",
          "ac_1"
         ]
        },
        {
         "legendgroup": "character_speech",
         "marker": {
          "color": "#A64B21"
         },
         "mode": "lines+markers",
         "name": "character_speech",
         "showlegend": true,
         "text": "<I><br>What's happened to me<br></I>",
         "type": "scatter",
         "x": [
          506,
          527
         ],
         "y": [
          "ac_1",
          "ac_1"
         ]
        },
        {
         "legendgroup": "narrator_speech",
         "marker": {
          "color": "#093658"
         },
         "mode": "lines+markers",
         "name": "narrator_speech",
         "showlegend": false,
         "text": "<I><br>he thought<br></I>",
         "type": "scatter",
         "x": [
          530,
          540
         ],
         "y": [
          "ac_1",
          "ac_1"
         ]
        },
        {
         "legendgroup": "narrator_speech",
         "marker": {
          "color": "#093658"
         },
         "mode": "lines+markers",
         "name": "narrator_speech",
         "showlegend": false,
         "text": "<I><br>It was no dream<br></I>",
         "type": "scatter",
         "x": [
          542,
          557
         ],
         "y": [
          "ac_1",
          "ac_1"
         ]
        },
        {
         "legendgroup": "thought_representation",
         "marker": {
          "color": "#A68500"
         },
         "mode": "lines+markers",
         "name": "thought_representation",
         "showlegend": true,
         "text": "<I><br>It was no dream<br></I>",
         "type": "scatter",
         "x": [
          542,
          557
         ],
         "y": [
          "ac_1",
          "ac_1"
         ]
        },
        {
         "legendgroup": "narrator_speech",
         "marker": {
          "color": "#093658"
         },
         "mode": "lines+markers",
         "name": "narrator_speech",
         "showlegend": false,
         "text": "<I><br>His room, a proper room for a human being, only<br>somewhat too small, lay quietly between the four well-known walls<br></I>",
         "type": "scatter",
         "x": [
          559,
          672
         ],
         "y": [
          "ac_1",
          "ac_1"
         ]
        },
        {
         "legendgroup": "narrator_speech",
         "marker": {
          "color": "#093658"
         },
         "mode": "lines+markers",
         "name": "narrator_speech",
         "showlegend": false,
         "text": "<I><br>Above the table hung the picture<br></I>",
         "type": "scatter",
         "x": [
          674,
          808
         ],
         "y": [
          "ac_1",
          "ac_1"
         ]
        },
        {
         "legendgroup": "narrator_speech",
         "marker": {
          "color": "#093658"
         },
         "mode": "lines+markers",
         "name": "narrator_speech",
         "showlegend": false,
         "text": "<I><br>on which an unpacked collection of sample cloth goods was<br>spread out<br></I>",
         "type": "scatter",
         "x": [
          691,
          759
         ],
         "y": [
          "ac_1",
          "ac_1"
         ]
        },
        {
         "legendgroup": "narrator_speech",
         "marker": {
          "color": "#093658"
         },
         "mode": "lines+markers",
         "name": "narrator_speech",
         "showlegend": false,
         "text": "<I><br>Samsa was a travelling salesman<br></I>",
         "type": "scatter",
         "x": [
          760,
          791
         ],
         "y": [
          "ac_1",
          "ac_1"
         ]
        },
        {
         "legendgroup": "narrator_speech",
         "marker": {
          "color": "#093658"
         },
         "mode": "lines+markers",
         "name": "narrator_speech",
         "showlegend": false,
         "text": "<I><br>which he had cut out of an illustrated magazine a<br>little while ago<br></I>",
         "type": "scatter",
         "x": [
          809,
          875
         ],
         "y": [
          "ac_1",
          "ac_1"
         ]
        },
        {
         "legendgroup": "narrator_speech",
         "marker": {
          "color": "#093658"
         },
         "mode": "lines+markers",
         "name": "narrator_speech",
         "showlegend": false,
         "text": "<I><br>and set in a pretty gilt frame<br></I>",
         "type": "scatter",
         "x": [
          876,
          906
         ],
         "y": [
          "ac_1",
          "ac_1"
         ]
        },
        {
         "legendgroup": "narrator_speech",
         "marker": {
          "color": "#093658"
         },
         "mode": "lines+markers",
         "name": "narrator_speech",
         "showlegend": false,
         "text": "<I><br>It was a picture of a woman with a fur<br>hat and a fur boa<br></I>",
         "type": "scatter",
         "x": [
          908,
          964
         ],
         "y": [
          "ac_1",
          "ac_1"
         ]
        },
        {
         "legendgroup": "narrator_speech",
         "marker": {
          "color": "#093658"
         },
         "mode": "lines+markers",
         "name": "narrator_speech",
         "showlegend": false,
         "text": "<I><br>She sat erect there<br></I>",
         "type": "scatter",
         "x": [
          966,
          985
         ],
         "y": [
          "ac_1",
          "ac_1"
         ]
        },
        {
         "legendgroup": "narrator_speech",
         "marker": {
          "color": "#093658"
         },
         "mode": "lines+markers",
         "name": "narrator_speech",
         "showlegend": false,
         "text": "<I><br>lifting up in the direction of the viewer a solid<br>fur muff<br></I>",
         "type": "scatter",
         "x": [
          987,
          1045
         ],
         "y": [
          "ac_1",
          "ac_1"
         ]
        },
        {
         "legendgroup": "narrator_speech",
         "marker": {
          "color": "#093658"
         },
         "mode": "lines+markers",
         "name": "narrator_speech",
         "showlegend": false,
         "text": "<I><br>into which her entire forearm had disappeared<br></I>",
         "type": "scatter",
         "x": [
          1046,
          1091
         ],
         "y": [
          "ac_1",
          "ac_1"
         ]
        },
        {
         "legendgroup": "narrator_speech",
         "marker": {
          "color": "#093658"
         },
         "mode": "lines+markers",
         "name": "narrator_speech",
         "showlegend": false,
         "text": "<I><br>One morning, as Gregor Samsa was waking up from anxious<br>dreams<br></I>",
         "type": "scatter",
         "x": [
          0,
          62
         ],
         "y": [
          "ac_2",
          "ac_2"
         ]
        },
        {
         "legendgroup": "narrator_speech",
         "marker": {
          "color": "#093658"
         },
         "mode": "lines+markers",
         "name": "narrator_speech",
         "showlegend": false,
         "text": "<I><br>he discovered that in bed he had been changed into<br>a monstrous verminous bug<br></I>",
         "type": "scatter",
         "x": [
          64,
          140
         ],
         "y": [
          "ac_2",
          "ac_2"
         ]
        },
        {
         "legendgroup": "narrator_speech",
         "marker": {
          "color": "#093658"
         },
         "mode": "lines+markers",
         "name": "narrator_speech",
         "showlegend": false,
         "text": "<I><br>He lay on his armour-hard back<br></I>",
         "type": "scatter",
         "x": [
          142,
          172
         ],
         "y": [
          "ac_2",
          "ac_2"
         ]
        },
        {
         "legendgroup": "narrator_speech",
         "marker": {
          "color": "#093658"
         },
         "mode": "lines+markers",
         "name": "narrator_speech",
         "showlegend": false,
         "text": "<I><br>and saw his brown, arched abdomen divided up into rigid<br>bow-like sections<br></I>",
         "type": "scatter",
         "x": [
          173,
          282
         ],
         "y": [
          "ac_2",
          "ac_2"
         ]
        },
        {
         "legendgroup": "narrator_speech",
         "marker": {
          "color": "#093658"
         },
         "mode": "lines+markers",
         "name": "narrator_speech",
         "showlegend": false,
         "text": "<I><br>as he lifted his head up a little<br></I>",
         "type": "scatter",
         "x": [
          182,
          215
         ],
         "y": [
          "ac_2",
          "ac_2"
         ]
        },
        {
         "legendgroup": "narrator_speech",
         "marker": {
          "color": "#093658"
         },
         "mode": "lines+markers",
         "name": "narrator_speech",
         "showlegend": false,
         "text": "<I><br>From this height the blanket, just about ready to slide<br>off completely, could hardly stay in place<br></I>",
         "type": "scatter",
         "x": [
          284,
          382
         ],
         "y": [
          "ac_2",
          "ac_2"
         ]
        },
        {
         "legendgroup": "narrator_speech",
         "marker": {
          "color": "#093658"
         },
         "mode": "lines+markers",
         "name": "narrator_speech",
         "showlegend": false,
         "text": "<I><br>His numerous legs, pitifully thin in comparison to the rest<br>of his circumference, flickered helplessly before his eyes<br></I>",
         "type": "scatter",
         "x": [
          384,
          502
         ],
         "y": [
          "ac_2",
          "ac_2"
         ]
        },
        {
         "legendgroup": "thought_representation",
         "marker": {
          "color": "#A68500"
         },
         "mode": "lines+markers",
         "name": "thought_representation",
         "showlegend": false,
         "text": "<I><br>What's happened to me<br></I>",
         "type": "scatter",
         "x": [
          506,
          527
         ],
         "y": [
          "ac_2",
          "ac_2"
         ]
        },
        {
         "legendgroup": "narrator_speech",
         "marker": {
          "color": "#093658"
         },
         "mode": "lines+markers",
         "name": "narrator_speech",
         "showlegend": false,
         "text": "<I><br>he thought<br></I>",
         "type": "scatter",
         "x": [
          530,
          540
         ],
         "y": [
          "ac_2",
          "ac_2"
         ]
        },
        {
         "legendgroup": "narrator_speech",
         "marker": {
          "color": "#093658"
         },
         "mode": "lines+markers",
         "name": "narrator_speech",
         "showlegend": false,
         "text": "<I><br>It was no dream<br></I>",
         "type": "scatter",
         "x": [
          542,
          557
         ],
         "y": [
          "ac_2",
          "ac_2"
         ]
        },
        {
         "legendgroup": "narrator_speech",
         "marker": {
          "color": "#093658"
         },
         "mode": "lines+markers",
         "name": "narrator_speech",
         "showlegend": false,
         "text": "<I><br>His room, a proper room for a human being, only<br>somewhat too small, lay quietly between the four well-known walls<br></I>",
         "type": "scatter",
         "x": [
          559,
          672
         ],
         "y": [
          "ac_2",
          "ac_2"
         ]
        },
        {
         "legendgroup": "narrator_speech",
         "marker": {
          "color": "#093658"
         },
         "mode": "lines+markers",
         "name": "narrator_speech",
         "showlegend": false,
         "text": "<I><br>Above the table, on which an unpacked collection of sample<br>cloth goods was spread out hung the picture<br></I>",
         "type": "scatter",
         "x": [
          674,
          808
         ],
         "y": [
          "ac_2",
          "ac_2"
         ]
        },
        {
         "legendgroup": "narrator_speech",
         "marker": {
          "color": "#093658"
         },
         "mode": "lines+markers",
         "name": "narrator_speech",
         "showlegend": false,
         "text": "<I><br>Samsa was a travelling salesman<br></I>",
         "type": "scatter",
         "x": [
          760,
          791
         ],
         "y": [
          "ac_2",
          "ac_2"
         ]
        },
        {
         "legendgroup": "narrator_speech",
         "marker": {
          "color": "#093658"
         },
         "mode": "lines+markers",
         "name": "narrator_speech",
         "showlegend": false,
         "text": "<I><br>which he had cut out of an illustrated magazine a<br>little while ago<br></I>",
         "type": "scatter",
         "x": [
          809,
          875
         ],
         "y": [
          "ac_2",
          "ac_2"
         ]
        },
        {
         "legendgroup": "narrator_speech",
         "marker": {
          "color": "#093658"
         },
         "mode": "lines+markers",
         "name": "narrator_speech",
         "showlegend": false,
         "text": "<I><br>and set in a pretty gilt frame<br></I>",
         "type": "scatter",
         "x": [
          876,
          906
         ],
         "y": [
          "ac_2",
          "ac_2"
         ]
        },
        {
         "legendgroup": "narrator_speech",
         "marker": {
          "color": "#093658"
         },
         "mode": "lines+markers",
         "name": "narrator_speech",
         "showlegend": false,
         "text": "<I><br>It was a picture of a woman with a fur<br>hat and a fur boa<br></I>",
         "type": "scatter",
         "x": [
          908,
          964
         ],
         "y": [
          "ac_2",
          "ac_2"
         ]
        },
        {
         "legendgroup": "narrator_speech",
         "marker": {
          "color": "#093658"
         },
         "mode": "lines+markers",
         "name": "narrator_speech",
         "showlegend": false,
         "text": "<I><br>She sat erect there<br></I>",
         "type": "scatter",
         "x": [
          966,
          985
         ],
         "y": [
          "ac_2",
          "ac_2"
         ]
        },
        {
         "legendgroup": "narrator_speech",
         "marker": {
          "color": "#093658"
         },
         "mode": "lines+markers",
         "name": "narrator_speech",
         "showlegend": false,
         "text": "<I><br>lifting up in the direction of the viewer a solid<br>fur muff<br></I>",
         "type": "scatter",
         "x": [
          987,
          1045
         ],
         "y": [
          "ac_2",
          "ac_2"
         ]
        },
        {
         "legendgroup": "narrator_speech",
         "marker": {
          "color": "#093658"
         },
         "mode": "lines+markers",
         "name": "narrator_speech",
         "showlegend": false,
         "text": "<I><br>into which her entire forearm had disappeared<br></I>",
         "type": "scatter",
         "x": [
          1046,
          1091
         ],
         "y": [
          "ac_2",
          "ac_2"
         ]
        }
       ],
       "layout": {
        "height": 240,
        "legend": {
         "font": {
          "color": "#5A98A1",
          "size": 10
         },
         "orientation": "h",
         "x": 1,
         "xanchor": "right",
         "y": 1.02,
         "yanchor": "bottom"
        },
        "template": {
         "data": {
          "bar": [
           {
            "error_x": {
             "color": "#2a3f5f"
            },
            "error_y": {
             "color": "#2a3f5f"
            },
            "marker": {
             "line": {
              "color": "white",
              "width": 0.5
             },
             "pattern": {
              "fillmode": "overlay",
              "size": 10,
              "solidity": 0.2
             }
            },
            "type": "bar"
           }
          ],
          "barpolar": [
           {
            "marker": {
             "line": {
              "color": "white",
              "width": 0.5
             },
             "pattern": {
              "fillmode": "overlay",
              "size": 10,
              "solidity": 0.2
             }
            },
            "type": "barpolar"
           }
          ],
          "carpet": [
           {
            "aaxis": {
             "endlinecolor": "#2a3f5f",
             "gridcolor": "#C8D4E3",
             "linecolor": "#C8D4E3",
             "minorgridcolor": "#C8D4E3",
             "startlinecolor": "#2a3f5f"
            },
            "baxis": {
             "endlinecolor": "#2a3f5f",
             "gridcolor": "#C8D4E3",
             "linecolor": "#C8D4E3",
             "minorgridcolor": "#C8D4E3",
             "startlinecolor": "#2a3f5f"
            },
            "type": "carpet"
           }
          ],
          "choropleth": [
           {
            "colorbar": {
             "outlinewidth": 0,
             "ticks": ""
            },
            "type": "choropleth"
           }
          ],
          "contour": [
           {
            "colorbar": {
             "outlinewidth": 0,
             "ticks": ""
            },
            "colorscale": [
             [
              0,
              "#0d0887"
             ],
             [
              0.1111111111111111,
              "#46039f"
             ],
             [
              0.2222222222222222,
              "#7201a8"
             ],
             [
              0.3333333333333333,
              "#9c179e"
             ],
             [
              0.4444444444444444,
              "#bd3786"
             ],
             [
              0.5555555555555556,
              "#d8576b"
             ],
             [
              0.6666666666666666,
              "#ed7953"
             ],
             [
              0.7777777777777778,
              "#fb9f3a"
             ],
             [
              0.8888888888888888,
              "#fdca26"
             ],
             [
              1,
              "#f0f921"
             ]
            ],
            "type": "contour"
           }
          ],
          "contourcarpet": [
           {
            "colorbar": {
             "outlinewidth": 0,
             "ticks": ""
            },
            "type": "contourcarpet"
           }
          ],
          "heatmap": [
           {
            "colorbar": {
             "outlinewidth": 0,
             "ticks": ""
            },
            "colorscale": [
             [
              0,
              "#0d0887"
             ],
             [
              0.1111111111111111,
              "#46039f"
             ],
             [
              0.2222222222222222,
              "#7201a8"
             ],
             [
              0.3333333333333333,
              "#9c179e"
             ],
             [
              0.4444444444444444,
              "#bd3786"
             ],
             [
              0.5555555555555556,
              "#d8576b"
             ],
             [
              0.6666666666666666,
              "#ed7953"
             ],
             [
              0.7777777777777778,
              "#fb9f3a"
             ],
             [
              0.8888888888888888,
              "#fdca26"
             ],
             [
              1,
              "#f0f921"
             ]
            ],
            "type": "heatmap"
           }
          ],
          "histogram": [
           {
            "marker": {
             "pattern": {
              "fillmode": "overlay",
              "size": 10,
              "solidity": 0.2
             }
            },
            "type": "histogram"
           }
          ],
          "histogram2d": [
           {
            "colorbar": {
             "outlinewidth": 0,
             "ticks": ""
            },
            "colorscale": [
             [
              0,
              "#0d0887"
             ],
             [
              0.1111111111111111,
              "#46039f"
             ],
             [
              0.2222222222222222,
              "#7201a8"
             ],
             [
              0.3333333333333333,
              "#9c179e"
             ],
             [
              0.4444444444444444,
              "#bd3786"
             ],
             [
              0.5555555555555556,
              "#d8576b"
             ],
             [
              0.6666666666666666,
              "#ed7953"
             ],
             [
              0.7777777777777778,
              "#fb9f3a"
             ],
             [
              0.8888888888888888,
              "#fdca26"
             ],
             [
              1,
              "#f0f921"
             ]
            ],
            "type": "histogram2d"
           }
          ],
          "histogram2dcontour": [
           {
            "colorbar": {
             "outlinewidth": 0,
             "ticks": ""
            },
            "colorscale": [
             [
              0,
              "#0d0887"
             ],
             [
              0.1111111111111111,
              "#46039f"
             ],
             [
              0.2222222222222222,
              "#7201a8"
             ],
             [
              0.3333333333333333,
              "#9c179e"
             ],
             [
              0.4444444444444444,
              "#bd3786"
             ],
             [
              0.5555555555555556,
              "#d8576b"
             ],
             [
              0.6666666666666666,
              "#ed7953"
             ],
             [
              0.7777777777777778,
              "#fb9f3a"
             ],
             [
              0.8888888888888888,
              "#fdca26"
             ],
             [
              1,
              "#f0f921"
             ]
            ],
            "type": "histogram2dcontour"
           }
          ],
          "mesh3d": [
           {
            "colorbar": {
             "outlinewidth": 0,
             "ticks": ""
            },
            "type": "mesh3d"
           }
          ],
          "parcoords": [
           {
            "line": {
             "colorbar": {
              "outlinewidth": 0,
              "ticks": ""
             }
            },
            "type": "parcoords"
           }
          ],
          "pie": [
           {
            "automargin": true,
            "type": "pie"
           }
          ],
          "scatter": [
           {
            "fillpattern": {
             "fillmode": "overlay",
             "size": 10,
             "solidity": 0.2
            },
            "type": "scatter"
           }
          ],
          "scatter3d": [
           {
            "line": {
             "colorbar": {
              "outlinewidth": 0,
              "ticks": ""
             }
            },
            "marker": {
             "colorbar": {
              "outlinewidth": 0,
              "ticks": ""
             }
            },
            "type": "scatter3d"
           }
          ],
          "scattercarpet": [
           {
            "marker": {
             "colorbar": {
              "outlinewidth": 0,
              "ticks": ""
             }
            },
            "type": "scattercarpet"
           }
          ],
          "scattergeo": [
           {
            "marker": {
             "colorbar": {
              "outlinewidth": 0,
              "ticks": ""
             }
            },
            "type": "scattergeo"
           }
          ],
          "scattergl": [
           {
            "marker": {
             "colorbar": {
              "outlinewidth": 0,
              "ticks": ""
             }
            },
            "type": "scattergl"
           }
          ],
          "scattermap": [
           {
            "marker": {
             "colorbar": {
              "outlinewidth": 0,
              "ticks": ""
             }
            },
            "type": "scattermap"
           }
          ],
          "scattermapbox": [
           {
            "marker": {
             "colorbar": {
              "outlinewidth": 0,
              "ticks": ""
             }
            },
            "type": "scattermapbox"
           }
          ],
          "scatterpolar": [
           {
            "marker": {
             "colorbar": {
              "outlinewidth": 0,
              "ticks": ""
             }
            },
            "type": "scatterpolar"
           }
          ],
          "scatterpolargl": [
           {
            "marker": {
             "colorbar": {
              "outlinewidth": 0,
              "ticks": ""
             }
            },
            "type": "scatterpolargl"
           }
          ],
          "scatterternary": [
           {
            "marker": {
             "colorbar": {
              "outlinewidth": 0,
              "ticks": ""
             }
            },
            "type": "scatterternary"
           }
          ],
          "surface": [
           {
            "colorbar": {
             "outlinewidth": 0,
             "ticks": ""
            },
            "colorscale": [
             [
              0,
              "#0d0887"
             ],
             [
              0.1111111111111111,
              "#46039f"
             ],
             [
              0.2222222222222222,
              "#7201a8"
             ],
             [
              0.3333333333333333,
              "#9c179e"
             ],
             [
              0.4444444444444444,
              "#bd3786"
             ],
             [
              0.5555555555555556,
              "#d8576b"
             ],
             [
              0.6666666666666666,
              "#ed7953"
             ],
             [
              0.7777777777777778,
              "#fb9f3a"
             ],
             [
              0.8888888888888888,
              "#fdca26"
             ],
             [
              1,
              "#f0f921"
             ]
            ],
            "type": "surface"
           }
          ],
          "table": [
           {
            "cells": {
             "fill": {
              "color": "#EBF0F8"
             },
             "line": {
              "color": "white"
             }
            },
            "header": {
             "fill": {
              "color": "#C8D4E3"
             },
             "line": {
              "color": "white"
             }
            },
            "type": "table"
           }
          ]
         },
         "layout": {
          "annotationdefaults": {
           "arrowcolor": "#2a3f5f",
           "arrowhead": 0,
           "arrowwidth": 1
          },
          "autotypenumbers": "strict",
          "coloraxis": {
           "colorbar": {
            "outlinewidth": 0,
            "ticks": ""
           }
          },
          "colorscale": {
           "diverging": [
            [
             0,
             "#8e0152"
            ],
            [
             0.1,
             "#c51b7d"
            ],
            [
             0.2,
             "#de77ae"
            ],
            [
             0.3,
             "#f1b6da"
            ],
            [
             0.4,
             "#fde0ef"
            ],
            [
             0.5,
             "#f7f7f7"
            ],
            [
             0.6,
             "#e6f5d0"
            ],
            [
             0.7,
             "#b8e186"
            ],
            [
             0.8,
             "#7fbc41"
            ],
            [
             0.9,
             "#4d9221"
            ],
            [
             1,
             "#276419"
            ]
           ],
           "sequential": [
            [
             0,
             "#0d0887"
            ],
            [
             0.1111111111111111,
             "#46039f"
            ],
            [
             0.2222222222222222,
             "#7201a8"
            ],
            [
             0.3333333333333333,
             "#9c179e"
            ],
            [
             0.4444444444444444,
             "#bd3786"
            ],
            [
             0.5555555555555556,
             "#d8576b"
            ],
            [
             0.6666666666666666,
             "#ed7953"
            ],
            [
             0.7777777777777778,
             "#fb9f3a"
            ],
            [
             0.8888888888888888,
             "#fdca26"
            ],
            [
             1,
             "#f0f921"
            ]
           ],
           "sequentialminus": [
            [
             0,
             "#0d0887"
            ],
            [
             0.1111111111111111,
             "#46039f"
            ],
            [
             0.2222222222222222,
             "#7201a8"
            ],
            [
             0.3333333333333333,
             "#9c179e"
            ],
            [
             0.4444444444444444,
             "#bd3786"
            ],
            [
             0.5555555555555556,
             "#d8576b"
            ],
            [
             0.6666666666666666,
             "#ed7953"
            ],
            [
             0.7777777777777778,
             "#fb9f3a"
            ],
            [
             0.8888888888888888,
             "#fdca26"
            ],
            [
             1,
             "#f0f921"
            ]
           ]
          },
          "colorway": [
           "#636efa",
           "#EF553B",
           "#00cc96",
           "#ab63fa",
           "#FFA15A",
           "#19d3f3",
           "#FF6692",
           "#B6E880",
           "#FF97FF",
           "#FECB52"
          ],
          "font": {
           "color": "#2a3f5f"
          },
          "geo": {
           "bgcolor": "white",
           "lakecolor": "white",
           "landcolor": "white",
           "showlakes": true,
           "showland": true,
           "subunitcolor": "#C8D4E3"
          },
          "hoverlabel": {
           "align": "left"
          },
          "hovermode": "closest",
          "mapbox": {
           "style": "light"
          },
          "paper_bgcolor": "white",
          "plot_bgcolor": "white",
          "polar": {
           "angularaxis": {
            "gridcolor": "#EBF0F8",
            "linecolor": "#EBF0F8",
            "ticks": ""
           },
           "bgcolor": "white",
           "radialaxis": {
            "gridcolor": "#EBF0F8",
            "linecolor": "#EBF0F8",
            "ticks": ""
           }
          },
          "scene": {
           "xaxis": {
            "backgroundcolor": "white",
            "gridcolor": "#DFE8F3",
            "gridwidth": 2,
            "linecolor": "#EBF0F8",
            "showbackground": true,
            "ticks": "",
            "zerolinecolor": "#EBF0F8"
           },
           "yaxis": {
            "backgroundcolor": "white",
            "gridcolor": "#DFE8F3",
            "gridwidth": 2,
            "linecolor": "#EBF0F8",
            "showbackground": true,
            "ticks": "",
            "zerolinecolor": "#EBF0F8"
           },
           "zaxis": {
            "backgroundcolor": "white",
            "gridcolor": "#DFE8F3",
            "gridwidth": 2,
            "linecolor": "#EBF0F8",
            "showbackground": true,
            "ticks": "",
            "zerolinecolor": "#EBF0F8"
           }
          },
          "shapedefaults": {
           "line": {
            "color": "#2a3f5f"
           }
          },
          "ternary": {
           "aaxis": {
            "gridcolor": "#DFE8F3",
            "linecolor": "#A2B1C6",
            "ticks": ""
           },
           "baxis": {
            "gridcolor": "#DFE8F3",
            "linecolor": "#A2B1C6",
            "ticks": ""
           },
           "bgcolor": "white",
           "caxis": {
            "gridcolor": "#DFE8F3",
            "linecolor": "#A2B1C6",
            "ticks": ""
           }
          },
          "title": {
           "x": 0.05
          },
          "xaxis": {
           "automargin": true,
           "gridcolor": "#EBF0F8",
           "linecolor": "#EBF0F8",
           "ticks": "",
           "title": {
            "standoff": 15
           },
           "zerolinecolor": "#EBF0F8",
           "zerolinewidth": 2
          },
          "yaxis": {
           "automargin": true,
           "gridcolor": "#EBF0F8",
           "linecolor": "#EBF0F8",
           "ticks": "",
           "title": {
            "standoff": 15
           },
           "zerolinecolor": "#EBF0F8",
           "zerolinewidth": 2
          }
         }
        },
        "title": {
         "text": "Annotation Comparison by Text Span"
        }
       }
      }
     },
     "metadata": {},
     "output_type": "display_data"
    }
   ],
   "source": [
    "my_project.compare_annotation_collections(\n",
    "    annotation_collections=['ac_1', 'ac_2'],\n",
    "    color_col='prop:representation_type'\n",
    ")"
   ]
  },
  {
   "cell_type": "markdown",
   "id": "8bd57d9c",
   "metadata": {},
   "source": [
    "To compute the agreement of annotation properties you just need to use the level parameter:"
   ]
  },
  {
   "cell_type": "code",
   "execution_count": 26,
   "id": "d47ce1f9",
   "metadata": {},
   "outputs": [
    {
     "name": "stdout",
     "output_type": "stream",
     "text": [
      "\n",
      "==============================================\n",
      "==============================================\n",
      "Finished search for matching annotations in:\n",
      "- ac_1\n",
      "- ac_2\n",
      "20 annotation(s) could be matched.\n",
      "Average overlap is 97.54%.\n",
      "Couldn't match 0 annotation(s) in the first annotation collection.\n",
      "\n",
      "[(Annotation(Author: MVauth, Tag: Tag(Name: change_of_state, Properties: [Property(Name: representation_type), Default Values: ['narrator_speech', 'character_speech', 'thought_representation'])]), Properties: {'representation_type': ['narrator_speech']}, Start Point: 0, End Point: 62, Text: One morning, as Gregor Samsa was waking up from anxious dreams, ), Annotation(Author: mvgoogle, Tag: Tag(Name: process_event, Properties: [Property(Name: representation_type), Default Values: ['narrator_speech', 'character_speech', 'thought_representation'])]), Properties: {'representation_type': ['narrator_speech']}, Start Point: 0, End Point: 62, Text: One morning, as Gregor Samsa was waking up from anxious dreams, )), (Annotation(Author: MVauth, Tag: Tag(Name: process_event, Properties: [Property(Name: representation_type), Default Values: ['narrator_speech', 'character_speech', 'thought_representation'])]), Properties: {'representation_type': ['narrator_speech']}, Start Point: 64, End Point: 140, Text: he discovered that in bed he  had been changed into a monstrous verminous bug, ), Annotation(Author: mvgoogle, Tag: Tag(Name: change_of_state, Properties: [Property(Name: representation_type), Default Values: ['narrator_speech', 'character_speech', 'thought_representation'])]), Properties: {'representation_type': ['narrator_speech']}, Start Point: 64, End Point: 140, Text: he discovered that in  bed he had been changed into a monstrous verminous bug, )), (Annotation(Author: MVauth, Tag: Tag(Name: stative_event, Properties: [Property(Name: representation_type), Default Values: ['narrator_speech', 'character_speech', 'thought_representation'])]), Properties: {'representation_type': ['narrator_speech']}, Start Point: 142, End Point: 172, Text: He lay on his armour-hard back, ), Annotation(Author: mvgoogle, Tag: Tag(Name: stative_event, Properties: [Property(Name: representation_type), Default Values: ['narrator_speech', 'character_speech', 'thought_representation'])]), Properties: {'representation_type': ['narrator_speech']}, Start Point: 142, End Point: 172, Text: He lay on his armour-hard back, )), (Annotation(Author: MVauth, Tag: Tag(Name: process_event, Properties: [Property(Name: representation_type), Default Values: ['narrator_speech', 'character_speech', 'thought_representation'])]), Properties: {'representation_type': ['narrator_speech']}, Start Point: 173, End Point: 282, Text: and saw his brown, arched abdomen divided up into rigid bow-like  sections, ), Annotation(Author: mvgoogle, Tag: Tag(Name: process_event, Properties: [Property(Name: representation_type), Default Values: ['narrator_speech', 'character_speech', 'thought_representation'])]), Properties: {'representation_type': ['narrator_speech']}, Start Point: 173, End Point: 282, Text: and saw his brown, arched abdomen divided up into  rigid bow-like sections, )), (Annotation(Author: MVauth, Tag: Tag(Name: process_event, Properties: [Property(Name: representation_type), Default Values: ['narrator_speech', 'character_speech', 'thought_representation'])]), Properties: {'representation_type': ['narrator_speech']}, Start Point: 182, End Point: 215, Text: as  he lifted his head up a little, ), Annotation(Author: mvgoogle, Tag: Tag(Name: process_event, Properties: [Property(Name: representation_type), Default Values: ['narrator_speech', 'character_speech', 'thought_representation'])]), Properties: {'representation_type': ['narrator_speech']}, Start Point: 182, End Point: 215, Text: as he lifted his head up a little, )), (Annotation(Author: MVauth, Tag: Tag(Name: stative_event, Properties: [Property(Name: representation_type), Default Values: ['narrator_speech', 'character_speech', 'thought_representation'])]), Properties: {'representation_type': ['narrator_speech']}, Start Point: 284, End Point: 382, Text: From this height the blanket, just about ready to slide off completely, could  hardly stay in place, ), Annotation(Author: mvgoogle, Tag: Tag(Name: stative_event, Properties: [Property(Name: representation_type), Default Values: ['narrator_speech', 'character_speech', 'thought_representation'])]), Properties: {'representation_type': ['narrator_speech']}, Start Point: 284, End Point: 382, Text: From this height the blanket, just about ready to slide off  completely, could hardly stay in place, )), (Annotation(Author: MVauth, Tag: Tag(Name: process_event, Properties: [Property(Name: representation_type), Default Values: ['narrator_speech', 'character_speech', 'thought_representation'])]), Properties: {'representation_type': ['narrator_speech']}, Start Point: 384, End Point: 502, Text: His numerous legs, pitifully thin in comparison to the rest of his  circumference, flickered helplessly before his eyes, ), Annotation(Author: mvgoogle, Tag: Tag(Name: stative_event, Properties: [Property(Name: representation_type), Default Values: ['narrator_speech', 'character_speech', 'thought_representation'])]), Properties: {'representation_type': ['narrator_speech']}, Start Point: 384, End Point: 502, Text: His numerous legs, pitifully thin in comparison  to the rest of his circumference, flickered helplessly before his eyes, )), (Annotation(Author: MVauth, Tag: Tag(Name: non_event, Properties: [Property(Name: representation_type), Default Values: ['narrator_speech', 'character_speech', 'thought_representation'])]), Properties: {'representation_type': ['character_speech']}, Start Point: 506, End Point: 527, Text: What's happened to me, ), Annotation(Author: mvgoogle, Tag: Tag(Name: non_event, Properties: [Property(Name: representation_type), Default Values: ['narrator_speech', 'character_speech', 'thought_representation'])]), Properties: {'representation_type': ['thought_representation']}, Start Point: 506, End Point: 527, Text: What's happened to me, )), (Annotation(Author: MVauth, Tag: Tag(Name: process_event, Properties: [Property(Name: representation_type), Default Values: ['narrator_speech', 'character_speech', 'thought_representation'])]), Properties: {'representation_type': ['narrator_speech']}, Start Point: 530, End Point: 540, Text: he thought, ), Annotation(Author: mvgoogle, Tag: Tag(Name: process_event, Properties: [Property(Name: representation_type), Default Values: ['narrator_speech', 'character_speech', 'thought_representation'])]), Properties: {'representation_type': ['narrator_speech']}, Start Point: 530, End Point: 540, Text: he thought, )), (Annotation(Author: MVauth, Tag: Tag(Name: non_event, Properties: [Property(Name: representation_type), Default Values: ['narrator_speech', 'character_speech', 'thought_representation'])]), Properties: {'representation_type': ['narrator_speech', 'thought_representation']}, Start Point: 542, End Point: 557, Text: It was no dream, ), Annotation(Author: mvgoogle, Tag: Tag(Name: non_event, Properties: [Property(Name: representation_type), Default Values: ['narrator_speech', 'character_speech', 'thought_representation'])]), Properties: {'representation_type': ['narrator_speech']}, Start Point: 542, End Point: 557, Text: It was no dream, )), (Annotation(Author: MVauth, Tag: Tag(Name: stative_event, Properties: [Property(Name: representation_type), Default Values: ['narrator_speech', 'character_speech', 'thought_representation'])]), Properties: {'representation_type': ['narrator_speech']}, Start Point: 559, End Point: 672, Text: His room, a proper room for a human  being, only somewhat too small, lay quietly between the four well-known walls, ), Annotation(Author: mvgoogle, Tag: Tag(Name: stative_event, Properties: [Property(Name: representation_type), Default Values: ['narrator_speech', 'character_speech', 'thought_representation'])]), Properties: {'representation_type': ['narrator_speech']}, Start Point: 559, End Point: 672, Text: His room, a proper room for a  human being, only somewhat too small, lay quietly between the four well-known walls, )), (Annotation(Author: MVauth, Tag: Tag(Name: stative_event, Properties: [Property(Name: representation_type), Default Values: ['narrator_speech', 'character_speech', 'thought_representation'])]), Properties: {'representation_type': ['narrator_speech']}, Start Point: 674, End Point: 808, Text: Above the  table hung the picture, ), Annotation(Author: mvgoogle, Tag: Tag(Name: stative_event, Properties: [Property(Name: representation_type), Default Values: ['narrator_speech', 'character_speech', 'thought_representation'])]), Properties: {'representation_type': ['narrator_speech']}, Start Point: 674, End Point: 808, Text: Above the table, on which an unpacked collection of sample cloth goods was spread  out hung the picture, )), (Annotation(Author: MVauth, Tag: Tag(Name: stative_event, Properties: [Property(Name: representation_type), Default Values: ['narrator_speech', 'character_speech', 'thought_representation'])]), Properties: {'representation_type': ['narrator_speech']}, Start Point: 691, End Point: 759, Text: on which an unpacked collection of sample cloth goods was spread out, ), Annotation(Author: mvgoogle, Tag: Tag(Name: stative_event, Properties: [Property(Name: representation_type), Default Values: ['narrator_speech', 'character_speech', 'thought_representation'])]), Properties: {'representation_type': ['narrator_speech']}, Start Point: 674, End Point: 808, Text: Above the table, on which an unpacked collection of sample cloth goods was spread  out hung the picture, )), (Annotation(Author: MVauth, Tag: Tag(Name: stative_event, Properties: [Property(Name: representation_type), Default Values: ['narrator_speech', 'character_speech', 'thought_representation'])]), Properties: {'representation_type': ['narrator_speech']}, Start Point: 760, End Point: 791, Text: Samsa was a  travelling salesman, ), Annotation(Author: mvgoogle, Tag: Tag(Name: stative_event, Properties: [Property(Name: representation_type), Default Values: ['narrator_speech', 'character_speech', 'thought_representation'])]), Properties: {'representation_type': ['narrator_speech']}, Start Point: 760, End Point: 791, Text: Samsa was a travelling salesman, )), (Annotation(Author: MVauth, Tag: Tag(Name: process_event, Properties: [Property(Name: representation_type), Default Values: ['narrator_speech', 'character_speech', 'thought_representation'])]), Properties: {'representation_type': ['narrator_speech']}, Start Point: 809, End Point: 875, Text: which he had cut out of an illustrated magazine a  little while ago, ), Annotation(Author: mvgoogle, Tag: Tag(Name: process_event, Properties: [Property(Name: representation_type), Default Values: ['narrator_speech', 'character_speech', 'thought_representation'])]), Properties: {'representation_type': ['narrator_speech']}, Start Point: 809, End Point: 875, Text: which he had cut out of an  illustrated magazine a little while ago, )), (Annotation(Author: MVauth, Tag: Tag(Name: process_event, Properties: [Property(Name: representation_type), Default Values: ['narrator_speech', 'character_speech', 'thought_representation'])]), Properties: {'representation_type': ['narrator_speech']}, Start Point: 876, End Point: 906, Text: and set in a pretty gilt frame, ), Annotation(Author: mvgoogle, Tag: Tag(Name: process_event, Properties: [Property(Name: representation_type), Default Values: ['narrator_speech', 'character_speech', 'thought_representation'])]), Properties: {'representation_type': ['narrator_speech']}, Start Point: 876, End Point: 906, Text: and set in a pretty gilt frame, )), (Annotation(Author: MVauth, Tag: Tag(Name: stative_event, Properties: [Property(Name: representation_type), Default Values: ['narrator_speech', 'character_speech', 'thought_representation'])]), Properties: {'representation_type': ['narrator_speech']}, Start Point: 908, End Point: 964, Text: It was a picture of a woman with a fur hat  and a fur boa, ), Annotation(Author: mvgoogle, Tag: Tag(Name: stative_event, Properties: [Property(Name: representation_type), Default Values: ['narrator_speech', 'character_speech', 'thought_representation'])]), Properties: {'representation_type': ['narrator_speech']}, Start Point: 908, End Point: 964, Text: It was a  picture of a woman with a fur hat and a fur boa, )), (Annotation(Author: MVauth, Tag: Tag(Name: stative_event, Properties: [Property(Name: representation_type), Default Values: ['narrator_speech', 'character_speech', 'thought_representation'])]), Properties: {'representation_type': ['narrator_speech']}, Start Point: 966, End Point: 985, Text: She sat erect there, ), Annotation(Author: mvgoogle, Tag: Tag(Name: stative_event, Properties: [Property(Name: representation_type), Default Values: ['narrator_speech', 'character_speech', 'thought_representation'])]), Properties: {'representation_type': ['narrator_speech']}, Start Point: 966, End Point: 985, Text: She sat erect there, )), (Annotation(Author: MVauth, Tag: Tag(Name: stative_event, Properties: [Property(Name: representation_type), Default Values: ['narrator_speech', 'character_speech', 'thought_representation'])]), Properties: {'representation_type': ['narrator_speech']}, Start Point: 987, End Point: 1045, Text: lifting up in the direction of the viewer a solid fur  muff, ), Annotation(Author: mvgoogle, Tag: Tag(Name: stative_event, Properties: [Property(Name: representation_type), Default Values: ['narrator_speech', 'character_speech', 'thought_representation'])]), Properties: {'representation_type': ['narrator_speech']}, Start Point: 987, End Point: 1045, Text: lifting up in the  direction of the viewer a solid fur muff, )), (Annotation(Author: MVauth, Tag: Tag(Name: stative_event, Properties: [Property(Name: representation_type), Default Values: ['narrator_speech', 'character_speech', 'thought_representation'])]), Properties: {'representation_type': ['narrator_speech']}, Start Point: 1046, End Point: 1091, Text: into which her entire forearm had disappeared, ), Annotation(Author: mvgoogle, Tag: Tag(Name: stative_event, Properties: [Property(Name: representation_type), Default Values: ['narrator_speech', 'character_speech', 'thought_representation'])]), Properties: {'representation_type': ['narrator_speech']}, Start Point: 1046, End Point: 1091, Text: into which her entire forearm had  disappeared, ))]\n",
      "\n",
      "Results for \"prop:representation_type\"\n",
      "--------------------------------------\n",
      "Scott's Pi:          0.4805194805194798\n",
      "Cohen's Kappa:       0.4871794871794869\n",
      "Krippendorf's Alpha: 0.49350649350649345\n",
      "===============================================\n",
      "\n",
      "Confusion Matrix\n",
      "                    -------\n",
      "\n"
     ]
    },
    {
     "data": {
      "text/html": [
       "<div>\n",
       "<style scoped>\n",
       "    .dataframe tbody tr th:only-of-type {\n",
       "        vertical-align: middle;\n",
       "    }\n",
       "\n",
       "    .dataframe tbody tr th {\n",
       "        vertical-align: top;\n",
       "    }\n",
       "\n",
       "    .dataframe thead th {\n",
       "        text-align: right;\n",
       "    }\n",
       "</style>\n",
       "<table border=\"1\" class=\"dataframe\">\n",
       "  <thead>\n",
       "    <tr style=\"text-align: right;\">\n",
       "      <th></th>\n",
       "      <th>thought_representation</th>\n",
       "      <th>character_speech</th>\n",
       "      <th>narrator_speech</th>\n",
       "    </tr>\n",
       "  </thead>\n",
       "  <tbody>\n",
       "    <tr>\n",
       "      <th>thought_representation</th>\n",
       "      <td>0</td>\n",
       "      <td>1</td>\n",
       "      <td>0</td>\n",
       "    </tr>\n",
       "    <tr>\n",
       "      <th>character_speech</th>\n",
       "      <td>0</td>\n",
       "      <td>0</td>\n",
       "      <td>0</td>\n",
       "    </tr>\n",
       "    <tr>\n",
       "      <th>narrator_speech</th>\n",
       "      <td>0</td>\n",
       "      <td>0</td>\n",
       "      <td>19</td>\n",
       "    </tr>\n",
       "  </tbody>\n",
       "</table>\n",
       "</div>"
      ],
      "text/plain": [
       "                        thought_representation  character_speech  \\\n",
       "thought_representation                       0                 1   \n",
       "character_speech                             0                 0   \n",
       "narrator_speech                              0                 0   \n",
       "\n",
       "                        narrator_speech  \n",
       "thought_representation                0  \n",
       "character_speech                      0  \n",
       "narrator_speech                      19  "
      ]
     },
     "execution_count": 26,
     "metadata": {},
     "output_type": "execute_result"
    }
   ],
   "source": [
    "my_project.get_iaa(\n",
    "    ac1_name_or_inst='ac_1',\n",
    "    ac2_name_or_inst='ac_2',\n",
    "    level='prop:representation_type'\n",
    ")"
   ]
  }
 ],
 "metadata": {
  "kernelspec": {
   "display_name": ".venv",
   "language": "python",
   "name": "python3"
  },
  "language_info": {
   "codemirror_mode": {
    "name": "ipython",
    "version": 3
   },
   "file_extension": ".py",
   "mimetype": "text/x-python",
   "name": "python",
   "nbconvert_exporter": "python",
   "pygments_lexer": "ipython3",
   "version": "3.9.13"
  }
 },
 "nbformat": 4,
 "nbformat_minor": 5
}
