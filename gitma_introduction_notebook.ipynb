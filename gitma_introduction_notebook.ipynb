{
 "cells": [
  {
   "cell_type": "markdown",
   "id": "ff4f4ff2",
   "metadata": {},
   "source": [
    "# Inter Annotator Agreement with GitMA\n",
    "\n",
    "In the following Notebook, you will learn how to import and process your CATMA Annotations with the Python package Gitma. The focus lays on calculating Inter Annotator Agreement (IAA) Scores. \n",
    "\n"
   ]
  },
  {
   "cell_type": "markdown",
   "id": "7f6d17ca",
   "metadata": {},
   "source": [
    "## Table of Contents\n",
    "\n",
    "1. [Get a Catma access token](#1-get-a-catma-access-token)\n",
    "2. [Import the `Catma` class and load your CATMA profile](#2-import-the-catma-class-and-load-your-catma-profile)\n",
    "3. [Clone and load a CATMA project](#3-clone-and-load-a-catma-project)\n",
    "4. [General project stats](#4-general-project-stats)\n",
    "5. [A few examples on how to look at your annotations](#5-a-few-examples-on-how-to-look-at-your-annotations)\n",
    "   1. [Plot all annotations](#51-plot-all-annotations)\n",
    "   2. [5.2 Plot annotations for a specified annotation collection](#52-plot-annotations-for-a-specified-annotation-collection)\n",
    "   3. [Cooccurrence network](#53-cooccurrence-network)\n",
    "   4. [Annotation collection as Pandas DataFrame](#54-annotation-collection-as-pandas-dataframe)\n",
    "6. [Inter Annotator Agreement (IAA) with gitma](#6-inter-annotator-agreement-iaa-with-gitma)\n",
    "   1. [Set annotation collections](#61-set-annotation-collcections)\n",
    "   2. [`get_iaa`](#62-get_iaa)\n",
    "   3. [Filter by tags](#63-filter-by-tags)\n",
    "   4. [Gamma Agreement](#64-gamma-agreement)\n",
    "   "
   ]
  },
  {
   "cell_type": "markdown",
   "id": "b73ad6b2",
   "metadata": {},
   "source": [
    "## 1. Get a Catma access token\n",
    "\n",
    "To get access to your annotations on Catma you need to get a personal access Token. You can get this token on the CATMA Website after logging into your account. \n",
    "\n",
    "![Get access token](img/access_token_ui.png)"
   ]
  },
  {
   "cell_type": "markdown",
   "id": "9ae312cd",
   "metadata": {},
   "source": [
    "## 2. Import the `Catma` class and load your CATMA profile"
   ]
  },
  {
   "cell_type": "code",
   "execution_count": null,
   "id": "51123159",
   "metadata": {},
   "outputs": [],
   "source": [
    "\n",
    "from gitma import Catma\n",
    "\n",
    "my_access_token = 'insert your access token here'\n",
    "my_catma = Catma(gitlab_access_token=my_access_token)"
   ]
  },
  {
   "cell_type": "markdown",
   "id": "aae96679",
   "metadata": {},
   "source": [
    "First, let's look at your CATMA projects. "
   ]
  },
  {
   "cell_type": "code",
   "execution_count": null,
   "id": "9259eb69",
   "metadata": {},
   "outputs": [],
   "source": [
    "my_catma.project_name_list"
   ]
  },
  {
   "cell_type": "markdown",
   "id": "8a430f74",
   "metadata": {},
   "source": [
    "\n",
    "## 3. Clone and load a CATMA project\n",
    "\n",
    "The `Catma` class instance can be used to clone and load a CATMA project. The only neccessary argument is the project's name. Optionally, a different destination directory can be specified.\n"
   ]
  },
  {
   "cell_type": "code",
   "execution_count": null,
   "id": "e6634110",
   "metadata": {},
   "outputs": [],
   "source": [
    "\n",
    "my_project_name = 'GitMA_Demo_Project' # Replace with the name of your project\n",
    "\n",
    "my_catma.load_project_from_gitlab(\n",
    "    project_name=my_project_name, \n",
    "    backup_directory='projects/'\n",
    ")"
   ]
  },
  {
   "cell_type": "markdown",
   "id": "6ee5c6da",
   "metadata": {},
   "source": [
    "If a project was previously loaded from CATMA's GitLab backend, and you try to do so again, the operation will fail because the project already exists in the destination directory. If you want to fetch a fresh copy (that is, clone the project again) you need to delete or rename the existing project directory. Once you got your project from GitLab you can load it as a CatmaProject as shown below."
   ]
  },
  {
   "cell_type": "code",
   "execution_count": null,
   "id": "0394fce7",
   "metadata": {},
   "outputs": [],
   "source": [
    "from gitma import CatmaProject\n",
    "\n",
    "my_project = CatmaProject(\n",
    "    projects_directory='projects/',\n",
    "    project_name=my_project_name\n",
    ")"
   ]
  },
  {
   "cell_type": "markdown",
   "id": "9bd4f126",
   "metadata": {},
   "source": [
    "## 4. General project stats\n",
    "\n",
    "The `stats()` method shows you some metadata about your annotation collections."
   ]
  },
  {
   "cell_type": "code",
   "execution_count": null,
   "id": "a9a34561",
   "metadata": {},
   "outputs": [],
   "source": [
    "my_project.stats()"
   ]
  },
  {
   "cell_type": "markdown",
   "id": "99353c66",
   "metadata": {},
   "source": [
    "\n",
    "## 5. A few examples on how to look at your annotations\n",
    "\n",
    "Using the method `plot_annotations()` the annotations of each annotation collection and each document are plotted as a single subplot.\n",
    "By clicking on the legend entries you can deactivate specific annotation collections within the plot. By hovering over the scatter point every annotation can be explored.\n"
   ]
  },
  {
   "cell_type": "markdown",
   "id": "c8f253c4",
   "metadata": {},
   "source": [
    "### 5.1 Plot all annotations\n",
    "\n",
    "Using the method `plot_annotations()` the annotations of each annotation collection and each document are plotted as a single subplot.\n",
    "By clicking on the legend entries you can deactivate specific annotation collections within the plot. By hovering over the scatter point every annotation can be explored."
   ]
  },
  {
   "cell_type": "code",
   "execution_count": null,
   "id": "ccb2d706",
   "metadata": {},
   "outputs": [],
   "source": [
    "my_project.plot_annotations()"
   ]
  },
  {
   "cell_type": "markdown",
   "id": "eeb04748",
   "metadata": {},
   "source": [
    "\n",
    "### 5.2 Plot annotations for a specified annotation collection\n",
    "\n",
    "For this we need to specify one annotation collection. To get an overview over all annotation collections in our project we can use the `annotation_collections`attribute of the CatmaProject class that contains a list of all annotation collections. We inspect the list as schown below."
   ]
  },
  {
   "cell_type": "code",
   "execution_count": null,
   "id": "d5eea912",
   "metadata": {},
   "outputs": [],
   "source": [
    "for ac in my_project.annotation_collections:\n",
    "    print(ac.name)"
   ]
  },
  {
   "cell_type": "markdown",
   "id": "86151063",
   "metadata": {},
   "source": [
    "We can now specify the annotation collection that we want to inspect... "
   ]
  },
  {
   "cell_type": "code",
   "execution_count": null,
   "id": "f9e9d6db",
   "metadata": {},
   "outputs": [],
   "source": [
    "my_annotation_collection = 'ac_2'"
   ]
  },
  {
   "cell_type": "markdown",
   "id": "e3d157ba",
   "metadata": {},
   "source": [
    "... and plot it (e.g. as a scatter plot)."
   ]
  },
  {
   "cell_type": "code",
   "execution_count": null,
   "id": "38ee37ec",
   "metadata": {},
   "outputs": [],
   "source": [
    "my_project.ac_dict[my_annotation_collection].plot_annotations()"
   ]
  },
  {
   "cell_type": "markdown",
   "id": "666db007",
   "metadata": {},
   "source": [
    "### 5.3 Cooccurrence network\n",
    "\n",
    "An alternative way to visualize annotation collections is using networks. They can be used to get an insight into the cooccurrence of annotations."
   ]
  },
  {
   "cell_type": "code",
   "execution_count": null,
   "id": "a7490353",
   "metadata": {},
   "outputs": [],
   "source": [
    "my_project.ac_dict[my_annotation_collection].cooccurrence_network()"
   ]
  },
  {
   "cell_type": "code",
   "execution_count": null,
   "id": "e3e9582c",
   "metadata": {},
   "outputs": [],
   "source": [
    "my_project.ac_dict[my_annotation_collection].cooccurrence_network(\n",
    "    character_distance=50,\n",
    ")"
   ]
  },
  {
   "cell_type": "markdown",
   "id": "f4cd8bcc",
   "metadata": {},
   "source": [
    "### 5.4 Annotation collection as Pandas DataFrame"
   ]
  },
  {
   "cell_type": "code",
   "execution_count": null,
   "id": "dfe69180",
   "metadata": {},
   "outputs": [],
   "source": [
    "my_project.ac_dict[my_annotation_collection].df"
   ]
  },
  {
   "cell_type": "markdown",
   "id": "148d3610",
   "metadata": {},
   "source": [
    "## 6. Inter Annotator Agreement (IAA) with gitma\n",
    "\n",
    "### 6.1 Set annotation collcections\n",
    "\n",
    "First we need to specify the two annotation collections for wich the inter annotator agreement should be calculated. For this we first take a look at alle annotation collections in our project. \n"
   ]
  },
  {
   "cell_type": "code",
   "execution_count": null,
   "id": "f1dc6694",
   "metadata": {},
   "outputs": [],
   "source": [
    "for ac in my_project.annotation_collections:\n",
    "    print(ac.name)"
   ]
  },
  {
   "cell_type": "markdown",
   "id": "be6a9da9",
   "metadata": {},
   "source": [
    "Now we can choose the two annotation collections and place their names in the following two variables. "
   ]
  },
  {
   "cell_type": "code",
   "execution_count": null,
   "id": "02ef9202",
   "metadata": {},
   "outputs": [],
   "source": [
    "annotation_collection_1 ='ac_1' # 'Name of the first collection'\n",
    "annotation_collection_2 ='ac_2' # 'Name of the second collection'"
   ]
  },
  {
   "cell_type": "markdown",
   "id": "a0323429",
   "metadata": {},
   "source": [
    "\n",
    "### 6.2 `get_iaa`\n",
    "\n",
    "For every annotation in annotation collection 1 the get_iaa method searches for the best matching annotation in annotation collection 2 with respect to its annotation text span."
   ]
  },
  {
   "cell_type": "code",
   "execution_count": null,
   "id": "adb2e1f2",
   "metadata": {},
   "outputs": [],
   "source": [
    "my_project.get_iaa(\n",
    "    ac1_name_or_inst=annotation_collection_1,\n",
    "    ac2_name_or_inst=annotation_collection_2\n",
    ")"
   ]
  },
  {
   "cell_type": "markdown",
   "id": "cefbba6b",
   "metadata": {},
   "source": [
    "The get_iaa method not only returns 3 different agreement scores, but also reports the number of annotation pairs considered when computing the IAA scores and the average overlap of the annotation pairs. Additionally, the method returns a confusion matrix to give an insight into the relation between the tags. "
   ]
  },
  {
   "cell_type": "markdown",
   "id": "8d419d5b",
   "metadata": {},
   "source": [
    "### 6.3 Filter by tags\n",
    "\n",
    "There may occur cases in which you don't want to include all annotations in the computing of the IAA scores. In those cases just use the tag_filter parameter, which expects a list of tag names. "
   ]
  },
  {
   "cell_type": "code",
   "execution_count": null,
   "id": "6202efd0",
   "metadata": {},
   "outputs": [],
   "source": [
    "my_project.get_iaa(\n",
    "    ac1_name_or_inst=annotation_collection_1,\n",
    "    ac2_name_or_inst=annotation_collection_2,\n",
    "    tag_filter=['stative_event'] # Put the tag names to include in the IAA calculation in this list\n",
    ")"
   ]
  },
  {
   "cell_type": "markdown",
   "id": "76fa60d0",
   "metadata": {},
   "source": [
    "### 6.4 Gamma Agreement\n",
    "\n",
    "To compute the gamma agreement, in addition to the annotation collections, 5 further parameters have to be defined. The alpha, beta and delta_empty parameters are necessary to compute the CombinedCategoricalDissimilarity. The n_samples and the precision_level values are used in the `compute_gamma()` method."
   ]
  },
  {
   "cell_type": "code",
   "execution_count": null,
   "id": "5bc3ce62",
   "metadata": {},
   "outputs": [],
   "source": [
    "# gamma agreement with default settings\n",
    "my_project.gamma_agreement(\n",
    "    annotation_collections=[annotation_collection_1, annotation_collection_2],\n",
    "    alpha=3,\n",
    "    beta=1,\n",
    "    delta_empty=0.01,\n",
    "    n_samples=30,\n",
    "    precision_level=0.01\n",
    ")"
   ]
  }
 ],
 "metadata": {
  "kernelspec": {
   "display_name": ".venv",
   "language": "python",
   "name": "python3"
  },
  "language_info": {
   "codemirror_mode": {
    "name": "ipython",
    "version": 3
   },
   "file_extension": ".py",
   "mimetype": "text/x-python",
   "name": "python",
   "nbconvert_exporter": "python",
   "pygments_lexer": "ipython3",
   "version": "3.9.13"
  }
 },
 "nbformat": 4,
 "nbformat_minor": 5
}
